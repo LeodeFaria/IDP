{
  "nbformat": 4,
  "nbformat_minor": 0,
  "metadata": {
    "colab": {
      "name": "1 Aula de Estatística - Exercícios Extras.ipynb",
      "provenance": [],
      "collapsed_sections": [],
      "toc_visible": true,
      "include_colab_link": true
    },
    "kernelspec": {
      "name": "python3",
      "display_name": "Python 3"
    },
    "language_info": {
      "name": "python"
    }
  },
  "cells": [
    {
      "cell_type": "markdown",
      "metadata": {
        "id": "view-in-github",
        "colab_type": "text"
      },
      "source": [
        "<a href=\"https://colab.research.google.com/github/LeodeFaria/IDP/blob/main/1_Aula_de_Estat%C3%ADstica_Exerc%C3%ADcios_Extras.ipynb\" target=\"_parent\"><img src=\"https://colab.research.google.com/assets/colab-badge.svg\" alt=\"Open In Colab\"/></a>"
      ]
    },
    {
      "cell_type": "markdown",
      "metadata": {
        "id": "LuTuuvoH1r6C"
      },
      "source": [
        "# Exercícios Extras\n",
        "\n"
      ]
    },
    {
      "cell_type": "code",
      "metadata": {
        "id": "oi4SWpArezYC"
      },
      "source": [
        "#@title Init Cell - Execute-me!!!\n",
        "import sys\n",
        "from datetime import datetime\n",
        "import requests\n",
        "import time\n",
        "from requests.utils import quote\n",
        "url = 'https://docs.google.com/forms/d/e/1FAIpQLSebn3-Y5ICQoStAW49xYB3lkd87FyKcfdfu6QxsVzahOw8CMA/formResponse?usp=pp_url&entry.346515457=mbaidp&entry.1423913446=2021&entry.1225936334=EstatisticaAplicadaPython'\n",
        "\n",
        "def format_values(values):\n",
        "    return {\n",
        "        \"entry.1228263462\": values['student_id'],\n",
        "        \"entry.14389688\": str(values['exercise_number']).replace(\".\", \"_\"),\n",
        "        \"entry.1427055401\": values['exercise_score'],\n",
        "        \"entry.967700948\": values['exercise_extra'],\n",
        "        \"entry.517103524\": values['id']\n",
        "    }\n",
        "\n",
        "def send_attendance(url, data):\n",
        "    count = 0\n",
        "    while count < 3:\n",
        "        count += 1\n",
        "        try:\n",
        "          r = requests.post(url, data=data)\n",
        "          break\n",
        "        except:\n",
        "          print(\"Error Occured!\")\n",
        "          time.sleep(2)\n",
        "\n",
        "def validate(current_question_output, exercise_number, exercise_extra):\n",
        "  student_email=!gcloud config get-value account\n",
        "  if not student_email or 'unset' in student_email[0]:\n",
        "    !gcloud auth login\n",
        "    student_email=!gcloud config get-value account\n",
        "  \n",
        "  if current_question_output:\n",
        "      exercise_score = True\n",
        "      print(\"Parabéns\")\n",
        "  else:\n",
        "      exercise_score = False\n",
        "      print(\"Resposta incorreta.\")\n",
        "  values = {\"exercise_number\": exercise_number, \"student_id\": student_email[0],\n",
        "            \"exercise_points\": 1, \"exercise_score\": exercise_score, \n",
        "            \"exercise_extra\": exercise_extra,\n",
        "            \"id\": f\"{student_email[0]}_{exercise_number}\"}\n",
        "  final_data = format_values(values)\n",
        "  send_attendance(f\"{url}&emailAddress={quote(str(student_email[0]))}\", final_data)"
      ],
      "execution_count": 25,
      "outputs": []
    },
    {
      "cell_type": "markdown",
      "metadata": {
        "id": "Xk-2ub0fxRAi"
      },
      "source": [
        "# Início\n"
      ]
    },
    {
      "cell_type": "code",
      "metadata": {
        "id": "XQ4wNz7psDtd"
      },
      "source": [
        "# Link com o csv a ser utilizado\n",
        "# https://drive.google.com/file/d/1D2NAnKk6XPbaQlPc6f6m1Q0rsjTVMXCx/view?usp=sharing\n",
        "\n",
        "# importando pandas e numpy\n",
        "import pandas as pd\n",
        "import numpy as np\n",
        "\n",
        "# Lembre sempre printe a base de dados para entender como ela é organizada\n"
      ],
      "execution_count": 2,
      "outputs": []
    },
    {
      "cell_type": "code",
      "metadata": {
        "id": "H13NUjxY5q98",
        "colab": {
          "base_uri": "https://localhost:8080/",
          "height": 419
        },
        "outputId": "d976be72-5ca9-40b0-fc48-37cdac08988f"
      },
      "source": [
        "df = pd.read_csv('/content/food_consumption.csv')\n",
        "df"
      ],
      "execution_count": 19,
      "outputs": [
        {
          "output_type": "execute_result",
          "data": {
            "text/html": [
              "<div>\n",
              "<style scoped>\n",
              "    .dataframe tbody tr th:only-of-type {\n",
              "        vertical-align: middle;\n",
              "    }\n",
              "\n",
              "    .dataframe tbody tr th {\n",
              "        vertical-align: top;\n",
              "    }\n",
              "\n",
              "    .dataframe thead th {\n",
              "        text-align: right;\n",
              "    }\n",
              "</style>\n",
              "<table border=\"1\" class=\"dataframe\">\n",
              "  <thead>\n",
              "    <tr style=\"text-align: right;\">\n",
              "      <th></th>\n",
              "      <th>Unnamed: 0</th>\n",
              "      <th>country</th>\n",
              "      <th>food_category</th>\n",
              "      <th>consumption</th>\n",
              "      <th>co2_emission</th>\n",
              "    </tr>\n",
              "  </thead>\n",
              "  <tbody>\n",
              "    <tr>\n",
              "      <th>0</th>\n",
              "      <td>1</td>\n",
              "      <td>Argentina</td>\n",
              "      <td>pork</td>\n",
              "      <td>10.51</td>\n",
              "      <td>37.20</td>\n",
              "    </tr>\n",
              "    <tr>\n",
              "      <th>1</th>\n",
              "      <td>2</td>\n",
              "      <td>Argentina</td>\n",
              "      <td>poultry</td>\n",
              "      <td>38.66</td>\n",
              "      <td>41.53</td>\n",
              "    </tr>\n",
              "    <tr>\n",
              "      <th>2</th>\n",
              "      <td>3</td>\n",
              "      <td>Argentina</td>\n",
              "      <td>beef</td>\n",
              "      <td>55.48</td>\n",
              "      <td>1712.00</td>\n",
              "    </tr>\n",
              "    <tr>\n",
              "      <th>3</th>\n",
              "      <td>4</td>\n",
              "      <td>Argentina</td>\n",
              "      <td>lamb_goat</td>\n",
              "      <td>1.56</td>\n",
              "      <td>54.63</td>\n",
              "    </tr>\n",
              "    <tr>\n",
              "      <th>4</th>\n",
              "      <td>5</td>\n",
              "      <td>Argentina</td>\n",
              "      <td>fish</td>\n",
              "      <td>4.36</td>\n",
              "      <td>6.96</td>\n",
              "    </tr>\n",
              "    <tr>\n",
              "      <th>...</th>\n",
              "      <td>...</td>\n",
              "      <td>...</td>\n",
              "      <td>...</td>\n",
              "      <td>...</td>\n",
              "      <td>...</td>\n",
              "    </tr>\n",
              "    <tr>\n",
              "      <th>1425</th>\n",
              "      <td>1426</td>\n",
              "      <td>Bangladesh</td>\n",
              "      <td>dairy</td>\n",
              "      <td>21.91</td>\n",
              "      <td>31.21</td>\n",
              "    </tr>\n",
              "    <tr>\n",
              "      <th>1426</th>\n",
              "      <td>1427</td>\n",
              "      <td>Bangladesh</td>\n",
              "      <td>wheat</td>\n",
              "      <td>17.47</td>\n",
              "      <td>3.33</td>\n",
              "    </tr>\n",
              "    <tr>\n",
              "      <th>1427</th>\n",
              "      <td>1428</td>\n",
              "      <td>Bangladesh</td>\n",
              "      <td>rice</td>\n",
              "      <td>171.73</td>\n",
              "      <td>219.76</td>\n",
              "    </tr>\n",
              "    <tr>\n",
              "      <th>1428</th>\n",
              "      <td>1429</td>\n",
              "      <td>Bangladesh</td>\n",
              "      <td>soybeans</td>\n",
              "      <td>0.61</td>\n",
              "      <td>0.27</td>\n",
              "    </tr>\n",
              "    <tr>\n",
              "      <th>1429</th>\n",
              "      <td>1430</td>\n",
              "      <td>Bangladesh</td>\n",
              "      <td>nuts</td>\n",
              "      <td>0.72</td>\n",
              "      <td>1.27</td>\n",
              "    </tr>\n",
              "  </tbody>\n",
              "</table>\n",
              "<p>1430 rows × 5 columns</p>\n",
              "</div>"
            ],
            "text/plain": [
              "      Unnamed: 0     country food_category  consumption  co2_emission\n",
              "0              1   Argentina          pork        10.51         37.20\n",
              "1              2   Argentina       poultry        38.66         41.53\n",
              "2              3   Argentina          beef        55.48       1712.00\n",
              "3              4   Argentina     lamb_goat         1.56         54.63\n",
              "4              5   Argentina          fish         4.36          6.96\n",
              "...          ...         ...           ...          ...           ...\n",
              "1425        1426  Bangladesh         dairy        21.91         31.21\n",
              "1426        1427  Bangladesh         wheat        17.47          3.33\n",
              "1427        1428  Bangladesh          rice       171.73        219.76\n",
              "1428        1429  Bangladesh      soybeans         0.61          0.27\n",
              "1429        1430  Bangladesh          nuts         0.72          1.27\n",
              "\n",
              "[1430 rows x 5 columns]"
            ]
          },
          "metadata": {
            "tags": []
          },
          "execution_count": 19
        }
      ]
    },
    {
      "cell_type": "markdown",
      "metadata": {
        "id": "_pxUOVww6-Eq"
      },
      "source": [
        "## 1.1 Calcule a média(mean) consumo na Bélgica(Belgium)\n"
      ]
    },
    {
      "cell_type": "code",
      "metadata": {
        "id": "ESl3EpxE-fPB"
      },
      "source": [
        "  def media_consumo_belgica():\n",
        "    \"\"\"retorne a media do consumo na belgica\n",
        "    \"\"\"\n",
        "    ### BEGIN SOLUTION\n",
        "    belgian_mean = df[['country','consumption']] \n",
        "    belgian_mean = belgian_mean.loc[belgian_mean['country'] == 'Belgium']\n",
        "    media = belgian_mean.mean()\n",
        "    ### END SOLUTION\n",
        "    return media"
      ],
      "execution_count": 24,
      "outputs": []
    },
    {
      "cell_type": "code",
      "metadata": {
        "id": "fGnpIDmOhjNY",
        "colab": {
          "base_uri": "https://localhost:8080/"
        },
        "outputId": "83179918-c4a9-4287-dd4c-d19fa1770543"
      },
      "source": [
        "## Faça seus testes aqui\n",
        "belgian_mean = df[['country','consumption']]\n",
        "belgian_mean = belgian_mean.loc[belgian_mean['country'] == 'Belgium']\n",
        "belgian_mean.mean()"
      ],
      "execution_count": 23,
      "outputs": [
        {
          "output_type": "execute_result",
          "data": {
            "text/plain": [
              "consumption    42.132727\n",
              "dtype: float64"
            ]
          },
          "metadata": {
            "tags": []
          },
          "execution_count": 23
        }
      ]
    },
    {
      "cell_type": "code",
      "metadata": {
        "id": "GEBkwzMDhkNg"
      },
      "source": [
        "# Validação\n",
        "resultado = media_consumo_belgica() == 42.132727272727266\n",
        "current_question_output = resultado\n",
        "validate(current_question_output, \"1.1\", True)"
      ],
      "execution_count": null,
      "outputs": []
    },
    {
      "cell_type": "markdown",
      "metadata": {
        "id": "IjGotln9hsTh"
      },
      "source": [
        "## 1.2 Calcule a mediana(median) do consumo na Bélgica(Belgium)"
      ]
    },
    {
      "cell_type": "code",
      "metadata": {
        "id": "wpSw6Rd8hYrj"
      },
      "source": [
        "  def mediana_consumo_belgica():\n",
        "    \"\"\"retorne a mediana do consumo na belgica\n",
        "    \"\"\"\n",
        "    ### BEGIN SOLUTION\n",
        "    belgian_median = df[['country','consumption']]\n",
        "    belgian_median = belgian_mean.loc[belgian_mean['country'] == 'Belgium']\n",
        "    mediana = belgian_median.median()\n",
        "    ### END SOLUTION\n",
        "    return mediana"
      ],
      "execution_count": 28,
      "outputs": []
    },
    {
      "cell_type": "code",
      "metadata": {
        "id": "JGkx2TLEhjkh",
        "colab": {
          "base_uri": "https://localhost:8080/"
        },
        "outputId": "06f7af35-4236-4997-f24a-7bbeafe43e55"
      },
      "source": [
        "## Faça seus testes aqui\n",
        "belgian_median = df[['country','consumption']]\n",
        "belgian_median = belgian_mean.loc[belgian_mean['country'] == 'Belgium']\n",
        "belgian_median.median()\n"
      ],
      "execution_count": 27,
      "outputs": [
        {
          "output_type": "execute_result",
          "data": {
            "text/plain": [
              "consumption    12.59\n",
              "dtype: float64"
            ]
          },
          "metadata": {
            "tags": []
          },
          "execution_count": 27
        }
      ]
    },
    {
      "cell_type": "code",
      "metadata": {
        "id": "eQvPYudUhkry"
      },
      "source": [
        "# Validação\n",
        "resultado = mediana_consumo_belgica() == 12.59\n",
        "current_question_output = resultado\n",
        "validate(current_question_output, \"1.2\", True)"
      ],
      "execution_count": null,
      "outputs": []
    },
    {
      "cell_type": "markdown",
      "metadata": {
        "id": "2COXpIugiDvV"
      },
      "source": [
        "## 1.3 Calcule a média(mean) consumo nos Estado Unidos(USA)\n"
      ]
    },
    {
      "cell_type": "code",
      "metadata": {
        "id": "jyJShXFxiDvW"
      },
      "source": [
        "def media_consumo_eua():\n",
        "    \"\"\"retorne a media do consumo nos eua\n",
        "    \"\"\"\n",
        "    ### BEGIN SOLUTION\n",
        "\n",
        "    ### END SOLUTION\n",
        "    return"
      ],
      "execution_count": null,
      "outputs": []
    },
    {
      "cell_type": "code",
      "metadata": {
        "id": "n5bKoWxJiDvW"
      },
      "source": [
        "## Faça seus testes aqui"
      ],
      "execution_count": null,
      "outputs": []
    },
    {
      "cell_type": "code",
      "metadata": {
        "id": "lpp-C90GiDvW"
      },
      "source": [
        "# Validação\n",
        "resultado = media_consumo_eua() == 44.650000000000006\n",
        "current_question_output = resultado\n",
        "validate(current_question_output, \"1.3\", True)"
      ],
      "execution_count": null,
      "outputs": []
    },
    {
      "cell_type": "markdown",
      "metadata": {
        "id": "RRhx3ZbkiDvW"
      },
      "source": [
        "## 1.4 Calcule a mediana(median) do consumo nos Estado Unidos(USA)"
      ]
    },
    {
      "cell_type": "code",
      "metadata": {
        "id": "GGtmISXbiDvX"
      },
      "source": [
        "def mediana_consumo_eua():\n",
        "    \"\"\"retorne a mediana do consumo nos eua\n",
        "    \"\"\"\n",
        "    ### BEGIN SOLUTION\n",
        "\n",
        "    ### END SOLUTION\n",
        "    return"
      ],
      "execution_count": null,
      "outputs": []
    },
    {
      "cell_type": "code",
      "metadata": {
        "id": "TBqE_IijiDvX"
      },
      "source": [
        "## Faça seus testes aqui"
      ],
      "execution_count": null,
      "outputs": []
    },
    {
      "cell_type": "code",
      "metadata": {
        "id": "GQAM4ymciDvX"
      },
      "source": [
        "# Validação\n",
        "resultado = mediana_consumo_eua() == 14.58\n",
        "current_question_output = resultado\n",
        "validate(current_question_output, \"1.4\", True)"
      ],
      "execution_count": null,
      "outputs": []
    },
    {
      "cell_type": "markdown",
      "metadata": {
        "id": "ozAKQTwVjXBE"
      },
      "source": [
        "## 1.5 Faça um Subset que contenha os dados dos EUA e da Belgica e agrupe por paises e selecione o consumo e calcule a média e a mediana de cada país\n",
        "\n",
        "Utilize .agg"
      ]
    },
    {
      "cell_type": "code",
      "metadata": {
        "id": "CPd2_tUpjVXt"
      },
      "source": [
        "def subset_eua_belgica():\n",
        "    \"\"\"retorne o dataframe\n",
        "    \"\"\"\n",
        "    ### BEGIN SOLUTION\n",
        "\n",
        "    ### END SOLUTION\n",
        "    return"
      ],
      "execution_count": null,
      "outputs": []
    },
    {
      "cell_type": "code",
      "metadata": {
        "id": "dxXTnCVejVu8"
      },
      "source": [
        "## Faça seus testes aqui\n",
        "\n",
        "# Resultado esperado\n",
        "#               mean  median\n",
        "# country                   \n",
        "# Belgium  42.132727   12.59\n",
        "# USA      44.650000   14.58\n"
      ],
      "execution_count": null,
      "outputs": []
    },
    {
      "cell_type": "code",
      "metadata": {
        "id": "uhBU98ucjV1_"
      },
      "source": [
        "# Validação\n",
        "\n",
        "df = pd.DataFrame({'mean': [42.13 , 44.65],\n",
        "                   'median': [12.59, 14.58]}, index=['Belgium', 'USA'])\n",
        "df.index.name = 'country'\n",
        "df = df.applymap(\"{0:.2f}\".format)\n",
        "\n",
        "resultado = subset_eua_belgica()\n",
        "resultado = resultado.applymap(\"{0:.2f}\".format)\n",
        "current_question_output = df.equals(test)\n",
        "validate(current_question_output, \"1.5\", True)\n"
      ],
      "execution_count": null,
      "outputs": []
    },
    {
      "cell_type": "markdown",
      "metadata": {
        "id": "nesq08Ci_Tor"
      },
      "source": [
        "#FIM!"
      ]
    }
  ]
}