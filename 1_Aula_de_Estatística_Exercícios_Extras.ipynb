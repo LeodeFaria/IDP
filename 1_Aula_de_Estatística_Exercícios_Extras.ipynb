{
  "nbformat": 4,
  "nbformat_minor": 0,
  "metadata": {
    "colab": {
      "name": "1 Aula de Estatística - Exercícios Extras.ipynb",
      "provenance": [],
      "collapsed_sections": []
    },
    "kernelspec": {
      "name": "python3",
      "display_name": "Python 3"
    },
    "language_info": {
      "name": "python"
    }
  },
  "cells": [
    {
      "cell_type": "markdown",
      "metadata": {
        "id": "LuTuuvoH1r6C"
      },
      "source": [
        "# Exercícios Extras\n",
        "\n"
      ]
    },
    {
      "cell_type": "code",
      "metadata": {
        "id": "oi4SWpArezYC"
      },
      "source": [
        "#@title Init Cell - Execute-me!!!\n",
        "import sys\n",
        "from datetime import datetime\n",
        "import requests\n",
        "import time\n",
        "from requests.utils import quote\n",
        "url = 'https://docs.google.com/forms/d/e/1FAIpQLSebn3-Y5ICQoStAW49xYB3lkd87FyKcfdfu6QxsVzahOw8CMA/formResponse?usp=pp_url&entry.346515457=mbaidp&entry.1423913446=2021&entry.1225936334=EstatisticaAplicadaPython'\n",
        "\n",
        "def format_values(values):\n",
        "    return {\n",
        "        \"entry.1228263462\": values['student_id'],\n",
        "        \"entry.14389688\": str(values['exercise_number']).replace(\".\", \"_\"),\n",
        "        \"entry.1427055401\": values['exercise_score'],\n",
        "        \"entry.967700948\": values['exercise_extra'],\n",
        "        \"entry.517103524\": values['id']\n",
        "    }\n",
        "\n",
        "def send_attendance(url, data):\n",
        "    count = 0\n",
        "    while count < 3:\n",
        "        count += 1\n",
        "        try:\n",
        "          r = requests.post(url, data=data)\n",
        "          break\n",
        "        except:\n",
        "          print(\"Error Occured!\")\n",
        "          time.sleep(2)\n",
        "\n",
        "def validate(current_question_output, exercise_number, exercise_extra):\n",
        "  student_email=!gcloud config get-value account\n",
        "  if not student_email or 'unset' in student_email[0]:\n",
        "    !gcloud auth login\n",
        "    student_email=!gcloud config get-value account\n",
        "  \n",
        "  if current_question_output:\n",
        "      exercise_score = True\n",
        "      print(\"Parabéns\")\n",
        "  else:\n",
        "      exercise_score = False\n",
        "      print(\"Resposta incorreta.\")\n",
        "  values = {\"exercise_number\": exercise_number, \"student_id\": student_email[0],\n",
        "            \"exercise_points\": 1, \"exercise_score\": exercise_score, \n",
        "            \"exercise_extra\": exercise_extra,\n",
        "            \"id\": f\"{student_email[0]}_{exercise_number}\"}\n",
        "  final_data = format_values(values)\n",
        "  send_attendance(f\"{url}&emailAddress={quote(str(student_email[0]))}\", final_data)"
      ],
      "execution_count": null,
      "outputs": []
    },
    {
      "cell_type": "markdown",
      "metadata": {
        "id": "Xk-2ub0fxRAi"
      },
      "source": [
        "# Início\n"
      ]
    },
    {
      "cell_type": "code",
      "metadata": {
        "id": "XQ4wNz7psDtd"
      },
      "source": [
        "# Link com o csv a ser utilizado\n",
        "# https://drive.google.com/file/d/1D2NAnKk6XPbaQlPc6f6m1Q0rsjTVMXCx/view?usp=sharing\n",
        "\n",
        "# importando pandas e numpy\n",
        "import pandas as pd\n",
        "import numpy as np\n",
        "\n",
        "# Lembre sempre printe a base de dados para entender como ela é organizada\n"
      ],
      "execution_count": null,
      "outputs": []
    },
    {
      "cell_type": "code",
      "metadata": {
        "id": "H13NUjxY5q98"
      },
      "source": [
        "df = pd.read_csv('/content/food_consumption.csv')\n",
        "df"
      ],
      "execution_count": null,
      "outputs": []
    },
    {
      "cell_type": "markdown",
      "metadata": {
        "id": "_pxUOVww6-Eq"
      },
      "source": [
        "## 1.1 Calcule a média(mean) consumo na Bélgica(Belgium)\n"
      ]
    },
    {
      "cell_type": "code",
      "metadata": {
        "id": "ESl3EpxE-fPB"
      },
      "source": [
        "  def media_consumo_belgica():\n",
        "    \"\"\"retorne a media do consumo na belgica\n",
        "    \"\"\"\n",
        "    ### BEGIN SOLUTION\n",
        "    belgian_mean = df[['country','consumption']] \n",
        "    belgian_mean = belgian_mean.loc[belgian_mean['country'] == 'Belgium']\n",
        "    b_media = belgian_mean.mean().values\n",
        "    ### END SOLUTION\n",
        "    return b_media"
      ],
      "execution_count": null,
      "outputs": []
    },
    {
      "cell_type": "code",
      "metadata": {
        "id": "fGnpIDmOhjNY"
      },
      "source": [
        "## Faça seus testes aqui\n",
        "belgian_mean = df[['country','consumption']]\n",
        "belgian_mean = belgian_mean.loc[belgian_mean['country'] == 'Belgium']\n",
        "belgian_mean.mean()"
      ],
      "execution_count": null,
      "outputs": []
    },
    {
      "cell_type": "code",
      "metadata": {
        "id": "GEBkwzMDhkNg"
      },
      "source": [
        "# Validação\n",
        "resultado = media_consumo_belgica() == 42.132727272727266\n",
        "current_question_output = resultado\n",
        "validate(current_question_output, \"1.1\", True)"
      ],
      "execution_count": null,
      "outputs": []
    },
    {
      "cell_type": "markdown",
      "metadata": {
        "id": "IjGotln9hsTh"
      },
      "source": [
        "## 1.2 Calcule a mediana(median) do consumo na Bélgica(Belgium)"
      ]
    },
    {
      "cell_type": "code",
      "metadata": {
        "id": "wpSw6Rd8hYrj"
      },
      "source": [
        "  def mediana_consumo_belgica():\n",
        "    \"\"\"retorne a mediana do consumo na belgica\n",
        "    \"\"\"\n",
        "    ### BEGIN SOLUTION\n",
        "    belgian_median = df[['country','consumption']]\n",
        "    belgian_median = belgian_mean.loc[belgian_mean['country'] == 'Belgium']\n",
        "    mediana = belgian_median.median().values\n",
        "    ### END SOLUTION\n",
        "    return mediana"
      ],
      "execution_count": null,
      "outputs": []
    },
    {
      "cell_type": "code",
      "metadata": {
        "id": "JGkx2TLEhjkh"
      },
      "source": [
        "## Faça seus testes aqui\n",
        "belgian_median = df[['country','consumption']]\n",
        "belgian_median = belgian_mean.loc[belgian_mean['country'] == 'Belgium']\n",
        "belgian_median.median()\n"
      ],
      "execution_count": null,
      "outputs": []
    },
    {
      "cell_type": "code",
      "metadata": {
        "id": "eQvPYudUhkry"
      },
      "source": [
        "# Validação\n",
        "resultado = mediana_consumo_belgica() == 12.59\n",
        "current_question_output = resultado\n",
        "validate(current_question_output, \"1.2\", True)"
      ],
      "execution_count": null,
      "outputs": []
    },
    {
      "cell_type": "markdown",
      "metadata": {
        "id": "2COXpIugiDvV"
      },
      "source": [
        "## 1.3 Calcule a média(mean) consumo nos Estado Unidos(USA)\n"
      ]
    },
    {
      "cell_type": "code",
      "metadata": {
        "id": "jyJShXFxiDvW"
      },
      "source": [
        "def media_consumo_eua():\n",
        "    \"\"\"retorne a media do consumo nos eua\n",
        "    \"\"\"\n",
        "    ### BEGIN SOLUTION\n",
        "    USA_mean = df[['country','consumption']] \n",
        "    USA_mean = USA_mean.loc[USA_mean['country'] == 'USA']\n",
        "    media = USA_mean.mean().values\n",
        "    ### END SOLUTION\n",
        "    return media"
      ],
      "execution_count": null,
      "outputs": []
    },
    {
      "cell_type": "code",
      "metadata": {
        "id": "n5bKoWxJiDvW"
      },
      "source": [
        "## Faça seus testes aqui\n",
        "belgian_mean = df[['country','consumption']]\n",
        "belgian_mean = belgian_mean.loc[belgian_mean['country'] == 'USA']\n",
        "belgian_mean.mean()"
      ],
      "execution_count": null,
      "outputs": []
    },
    {
      "cell_type": "code",
      "metadata": {
        "id": "lpp-C90GiDvW"
      },
      "source": [
        "# Validação\n",
        "resultado = media_consumo_eua() == 44.650000000000006\n",
        "current_question_output = resultado\n",
        "validate(current_question_output, \"1.3\", True)"
      ],
      "execution_count": null,
      "outputs": []
    },
    {
      "cell_type": "markdown",
      "metadata": {
        "id": "RRhx3ZbkiDvW"
      },
      "source": [
        "## 1.4 Calcule a mediana(median) do consumo nos Estado Unidos(USA)"
      ]
    },
    {
      "cell_type": "code",
      "metadata": {
        "id": "GGtmISXbiDvX"
      },
      "source": [
        "def mediana_consumo_eua():\n",
        "    \"\"\"retorne a mediana do consumo nos eua\n",
        "    \"\"\"\n",
        "    ### BEGIN SOLUTION\n",
        "    USA_median = df[['country','consumption']]\n",
        "    USA_median = USA_median.loc[USA_median['country'] == 'USA']\n",
        "    mediana = USA_median.median().values\n",
        "    ### END SOLUTION\n",
        "    return mediana"
      ],
      "execution_count": null,
      "outputs": []
    },
    {
      "cell_type": "code",
      "metadata": {
        "id": "TBqE_IijiDvX"
      },
      "source": [
        "    USA_median = df[['country','consumption']]\n",
        "    USA_median = USA_median.loc[USA_median['country'] == 'USA']\n",
        "    mediana = USA_median.median().values\n",
        "    print(mediana)"
      ],
      "execution_count": null,
      "outputs": []
    },
    {
      "cell_type": "code",
      "metadata": {
        "id": "GQAM4ymciDvX"
      },
      "source": [
        "# Validação\n",
        "resultado = mediana_consumo_eua() == 14.58\n",
        "current_question_output = resultado\n",
        "validate(current_question_output, \"1.4\", True)"
      ],
      "execution_count": null,
      "outputs": []
    },
    {
      "cell_type": "markdown",
      "metadata": {
        "id": "ozAKQTwVjXBE"
      },
      "source": [
        "## 1.5 Faça um Subset que contenha os dados dos EUA e da Belgica e agrupe por paises e selecione o consumo e calcule a média e a mediana de cada país\n",
        "\n",
        "Utilize .agg"
      ]
    },
    {
      "cell_type": "code",
      "metadata": {
        "id": "CPd2_tUpjVXt"
      },
      "source": [
        "def subset_eua_belgica():\n",
        "    \"\"\"retorne o dataframe\n",
        "    \"\"\"\n",
        "    ### BEGIN SOLUTION\n",
        "    paises_agg = df[['country','consumption']]\n",
        "    paises_agg = paises_agg.loc[paises_agg['country'].isin(['Belgium','USA'])]\n",
        "\n",
        "    paises_agg = paises_agg.groupby(['country'])['consumption'].agg({'mean', 'median'})\n",
        "    \n",
        "    ### END SOLUTION\n",
        "    return paises_agg"
      ],
      "execution_count": null,
      "outputs": []
    },
    {
      "cell_type": "code",
      "metadata": {
        "id": "dxXTnCVejVu8"
      },
      "source": [
        "## Faça seus testes aqui\n",
        "\n",
        "# Resultado esperado\n",
        "#               mean  median\n",
        "# country                   \n",
        "# Belgium  42.132727   12.59\n",
        "# USA      44.650000   14.58\n",
        "\n",
        "\n",
        "paises_agg = df[['country','consumption']]\n",
        "paises_agg = paises_agg.loc[paises_agg['country'].isin(['Belgium','USA'])]\n",
        "\n",
        "paises_agg = paises_agg.groupby(['country'])['consumption'].agg({'mean', 'median'})\n",
        "\n",
        "\n",
        "\n",
        "# paises = paises.loc[paises['country'].isin(['Belgium','USA'])]\n",
        "# paises1 = paises.groupby('country').mean()\n",
        "# paises1.rename(columns={'consumption':'mean'},inplace=True)\n",
        "# paises1['median']= paises.groupby('country').median()\n",
        "paises_agg"
      ],
      "execution_count": null,
      "outputs": []
    },
    {
      "cell_type": "code",
      "metadata": {
        "id": "uhBU98ucjV1_"
      },
      "source": [
        "# Validação\n",
        "\n",
        "asd_resultado = pd.DataFrame({'mean': [42.13 , 44.65],\n",
        "                   'median': [12.59, 14.58]}, index=['Belgium', 'USA'])\n",
        "asd_resultado.index.name = 'country'\n",
        "asd_resultado = asd_resultado.applymap(\"{0:.2f}\".format)\n",
        "resultado = subset_eua_belgica()\n",
        "resultado = resultado.applymap(\"{0:.2f}\".format)\n",
        "current_question_output = np.array_equal(asd_resultado.values, resultado.values)\n",
        "validate(current_question_output, \"1.5\", True)"
      ],
      "execution_count": null,
      "outputs": []
    },
    {
      "cell_type": "markdown",
      "metadata": {
        "id": "nesq08Ci_Tor"
      },
      "source": [
        "#FIM!"
      ]
    }
  ]
}