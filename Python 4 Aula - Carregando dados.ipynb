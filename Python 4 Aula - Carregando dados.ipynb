{
 "cells": [
  {
   "cell_type": "code",
   "execution_count": null,
   "metadata": {},
   "outputs": [],
   "source": [
    "import pandas as pd"
   ]
  },
  {
   "cell_type": "code",
   "execution_count": null,
   "metadata": {},
   "outputs": [],
   "source": [
    "df2 = pd.read_csv('./files/pasta1.csv',\n",
    "                delimiter=';', decimal=',',encoding='utf8')\n",
    "\n",
    "senado = pd.read_csv('./files/SF_ConsultaRemuneracaoServidoresParlamentares_202103.csv',\n",
    "                delimiter=';', decimal=',',encoding='ISO-8859-1')"
   ]
  },
  {
   "cell_type": "code",
   "execution_count": null,
   "metadata": {},
   "outputs": [],
   "source": [
    "senado.columns"
   ]
  },
  {
   "cell_type": "code",
   "execution_count": null,
   "metadata": {},
   "outputs": [],
   "source": [
    "senado.head()"
   ]
  },
  {
   "cell_type": "code",
   "execution_count": null,
   "metadata": {},
   "outputs": [],
   "source": [
    "categoria = senado[['CATEGORIA','REM_LIQUIDA']]\n",
    "\n",
    "a = categoria.groupby('CATEGORIA').sum()\n",
    "a['Qtd_SERIDORES'] = categoria.groupby('CATEGORIA').count()\n",
    "a['Pct_SERIDORES'] = ((a['Qtd_SERIDORES']/a['Qtd_SERIDORES'].sum())*100).round(2).astype(str) + '%'\n",
    "a['Pct_GASTO']     = ((a['REM_LIQUIDA']/a['REM_LIQUIDA'].sum())*100).round(2).astype(str) + '%'\n",
    "a\n",
    "# Queria a linha de total\n"
   ]
  },
  {
   "cell_type": "code",
   "execution_count": null,
   "metadata": {},
   "outputs": [],
   "source": [
    "consolidado = senado[['VÍNCULO','REM_LIQUIDA']].groupby('VÍNCULO').count()\n",
    "consolidado.rename(columns = {'REM_LIQUIDA' : 'TOTAL_VINCULO'}, inplace = True)\n",
    "consolidado['PORCENTAGEM_VINCULO'] = ((consolidado['TOTAL_VINCULO']/consolidado['TOTAL_VINCULO'].sum())*100).round(2).astype(str) + '%'\n",
    "consolidado['REM_LIQUIDA_TOTAL'] = senado[['VÍNCULO','REM_LIQUIDA']].groupby('VÍNCULO').sum()['REM_LIQUIDA'].round(2)\n",
    "consolidado['PORCENTAGEM_REM_LIQUIDA'] = ((consolidado['REM_LIQUIDA_TOTAL']/consolidado['REM_LIQUIDA_TOTAL'].sum())*100).round(2).astype(str) + '%'\n",
    "consolidado"
   ]
  },
  {
   "cell_type": "code",
   "execution_count": 63,
   "metadata": {},
   "outputs": [
    {
     "data": {
      "text/plain": [
       "0             Gabinete do Senador Veneziano Vital do Rêgo\n",
       "2       Escritório de Apoio nº 02 do Senador Acir Gurgacz\n",
       "3                          Gabinete do Senador Paulo Paim\n",
       "4             Gabinete da complemento Senador Kátia Abreu\n",
       "6                        Gabinete do Senador Acir Gurgacz\n",
       "                              ...                        \n",
       "6109                Gabinete do Senador Fabiano Contarato\n",
       "6110        Gabinete da complemento Senador Eliziane Gama\n",
       "6111                    Gabinete do Senador Jaques Wagner\n",
       "6112                    Gabinete do Senador Carlos Fávaro\n",
       "6113                  Gabinete do Senador Carlos Portinho\n",
       "Name: LOTAÇÃO EXERCÍCIO, Length: 3174, dtype: object"
      ]
     },
     "execution_count": 63,
     "metadata": {},
     "output_type": "execute_result"
    }
   ],
   "source": [
    "lotacao = senado[['LOTAÇÃO EXERCÍCIO','REM_LIQUIDA']]\n",
    "\n",
    "lotacao = lotacao[lotacao['LOTAÇÃO EXERCÍCIO'].str.contains('Senador')]\n",
    "\n",
    "lotacao = lotacao['LOTAÇÃO EXERCÍCIO'].str.replace('Senadora','complemento Senador')\n",
    "\n",
    "lotacao\n",
    "\n",
    "#new = lotacao['LOTAÇÃO EXERCÍCIO'].str.split('Senador ', n=1, expand = True)\n",
    "\n",
    "#new"
   ]
  },
  {
   "cell_type": "code",
   "execution_count": null,
   "metadata": {},
   "outputs": [],
   "source": [
    "\n",
    "# importing pandas module \n",
    "import pandas as pd\n",
    "   \n",
    "# reading csv file from url \n",
    "data = pd.read_csv(\"https://media.geeksforgeeks.org/wp-content/uploads/nba.csv\")\n",
    "  \n",
    "# dropping null value columns to avoid errors\n",
    "data.dropna(inplace = True)\n",
    "  \n",
    "# new data frame with split value columns\n",
    "new = data[\"Name\"].str.split(\" \", n = 1, expand = True)\n",
    "  \n",
    "# making separate first name column from new data frame\n",
    "data[\"First Name\"]= new[0]\n",
    "  \n",
    "# making separate last name column from new data frame\n",
    "data[\"Last Name\"]= new[1]\n",
    "  \n",
    "# Dropping old Name columns\n",
    "data.drop(columns =[\"Name\"], inplace = True)\n",
    "  \n",
    "# df display\n",
    "data"
   ]
  },
  {
   "cell_type": "code",
   "execution_count": null,
   "metadata": {},
   "outputs": [],
   "source": [
    "lotacao['LOTAÇÃO EXERCÍCIO'] = lotacao['LOTAÇÃO EXERCÍCIO'].map(lambda x: x.lstrip('Escritório Apoio 1 do Senador '))\n",
    "lotacao['LOTAÇÃO EXERCÍCIO'] = lotacao['LOTAÇÃO EXERCÍCIO'].map(lambda x: x.lstrip('Escritório Apoio 2 do Senador '))\n",
    "lotacao['LOTAÇÃO EXERCÍCIO'] = lotacao['LOTAÇÃO EXERCÍCIO'].map(lambda x: x.lstrip('Escritório Apoio 1 da Senadora '))\n",
    "lotacao['LOTAÇÃO EXERCÍCIO'] = lotacao['LOTAÇÃO EXERCÍCIO'].map(lambda x: x.lstrip('Escritório Apoio 2 da Senadora '))\n",
    "lotacao['LOTAÇÃO EXERCÍCIO'] = lotacao['LOTAÇÃO EXERCÍCIO'].map(lambda x: x.lstrip('Gabinete do Senador '))\n",
    "lotacao['LOTAÇÃO EXERCÍCIO'] = lotacao['LOTAÇÃO EXERCÍCIO'].map(lambda x: x.lstrip('Gabinete da Senadora '))\n",
    "\n",
    "\n",
    "lotacao['LOTAÇÃO EXERCÍCIO'] = lotacao['LOTAÇÃO EXERCÍCIO'].map(lambda x: x.lstrip('º 2 do Senador '))\n",
    "lotacao['LOTAÇÃO EXERCÍCIO'] = lotacao['LOTAÇÃO EXERCÍCIO'].map(lambda x: x.lstrip('º1 do Senador '))\n",
    "\n",
    "lotacao['LOTAÇÃO EXERCÍCIO'] = lotacao['LOTAÇÃO EXERCÍCIO'].map(lambda x: x.lstrip('01 da Senadora '))\n",
    "lotacao['LOTAÇÃO EXERCÍCIO'] = lotacao['LOTAÇÃO EXERCÍCIO'].map(lambda x: x.lstrip('02 do Senador '))\n",
    "\n",
    "lotacao['LOTAÇÃO EXERCÍCIO'] = lotacao['LOTAÇÃO EXERCÍCIO'].str.strip()\n",
    "\n",
    "lotacao.groupby('LOTAÇÃO EXERCÍCIO').count().sort_values('LOTAÇÃO EXERCÍCIO')"
   ]
  },
  {
   "cell_type": "code",
   "execution_count": null,
   "metadata": {},
   "outputs": [],
   "source": []
  },
  {
   "cell_type": "code",
   "execution_count": null,
   "metadata": {},
   "outputs": [],
   "source": []
  }
 ],
 "metadata": {
  "kernelspec": {
   "display_name": "Python 3",
   "language": "python",
   "name": "python3"
  },
  "language_info": {
   "codemirror_mode": {
    "name": "ipython",
    "version": 3
   },
   "file_extension": ".py",
   "mimetype": "text/x-python",
   "name": "python",
   "nbconvert_exporter": "python",
   "pygments_lexer": "ipython3",
   "version": "3.8.5"
  }
 },
 "nbformat": 4,
 "nbformat_minor": 4
}
