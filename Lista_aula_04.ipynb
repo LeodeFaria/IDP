{
  "nbformat": 4,
  "nbformat_minor": 0,
  "metadata": {
    "colab": {
      "name": "Lista_aula_04.ipynb",
      "provenance": [],
      "collapsed_sections": [],
      "include_colab_link": true
    },
    "kernelspec": {
      "name": "python3",
      "display_name": "Python 3"
    },
    "language_info": {
      "name": "python"
    }
  },
  "cells": [
    {
      "cell_type": "markdown",
      "metadata": {
        "id": "view-in-github",
        "colab_type": "text"
      },
      "source": [
        "<a href=\"https://colab.research.google.com/github/LeodeFaria/IDP/blob/main/Lista_aula_04.ipynb\" target=\"_parent\"><img src=\"https://colab.research.google.com/assets/colab-badge.svg\" alt=\"Open In Colab\"/></a>"
      ]
    },
    {
      "cell_type": "markdown",
      "metadata": {
        "id": "0n1OR0TbzEKU"
      },
      "source": [
        "## Lista de Exercícios - Aula 03"
      ]
    },
    {
      "cell_type": "markdown",
      "metadata": {
        "id": "9OR0jmFYw9bJ"
      },
      "source": [
        "### Explorando os dados com pandas"
      ]
    },
    {
      "cell_type": "code",
      "metadata": {
        "id": "7K4eFM7Nw_AI",
        "colab": {
          "base_uri": "https://localhost:8080/"
        },
        "outputId": "20412590-0de5-4cac-ebba-426acf9d921a"
      },
      "source": [
        "#importe as bibliotecas necessarias\n",
        "%ls\n",
        "%cd '\\gdrive\\'"
      ],
      "execution_count": null,
      "outputs": [
        {
          "output_type": "stream",
          "text": [
            "\u001b[0m\u001b[01;34msample_data\u001b[0m/\n",
            "[Errno 2] No such file or directory: '\\\\gdrive\\\\'\n",
            "/content\n"
          ],
          "name": "stdout"
        }
      ]
    },
    {
      "cell_type": "code",
      "metadata": {
        "id": "JIkr4RqQxClt"
      },
      "source": [
        "#monte o Drive"
      ],
      "execution_count": null,
      "outputs": []
    },
    {
      "cell_type": "code",
      "metadata": {
        "id": "C8Y9gjgVxIAb"
      },
      "source": [
        "#importe o dataset com os dados "
      ],
      "execution_count": null,
      "outputs": []
    },
    {
      "cell_type": "markdown",
      "metadata": {
        "id": "LPQTasLKxqLG"
      },
      "source": [
        "### Exercícios"
      ]
    },
    {
      "cell_type": "code",
      "metadata": {
        "id": "vrnpORsnxmM0"
      },
      "source": [
        "# importe as bibliotecas necessarias"
      ],
      "execution_count": null,
      "outputs": []
    },
    {
      "cell_type": "markdown",
      "metadata": {
        "id": "MZ-fNTKOXXPw"
      },
      "source": [
        "### 1) Trabalhando com variaveis categoricas, quais insights você consegue obter?\n",
        "\n",
        "1.   Por quantos projetos em média um colaborador é responsavel? \n",
        "\n",
        "2.   Quanto tempo em média o colaborador fica na empresa?\n",
        "3. Qual é o numero de empregados por setor? \n",
        "4. E o numero de empregados por média salarial?"
      ]
    },
    {
      "cell_type": "markdown",
      "metadata": {
        "id": "pb9joFXDXcvk"
      },
      "source": [
        "### 02) Quais são as características de quem sai da empresa? Ex: Tempo de empresa, numero de projetos, setor, salario e se recebeu promoçoes. Elabore suas conclusões.\n",
        "\n"
      ]
    },
    {
      "cell_type": "markdown",
      "metadata": {
        "id": "DhMGsQr7XiSR"
      },
      "source": [
        "### 3) E as caraterísticas de quem recebeu promoção?"
      ]
    },
    {
      "cell_type": "markdown",
      "metadata": {
        "id": "2CtUAJmcXk8q"
      },
      "source": [
        "### 04) Sobre o tempo médio trabalhado por mês, qual é a média por setor, range de salario, tempo de empresa e numero de projetos? Quem trabalha mais ganha mais? "
      ]
    }
  ]
}