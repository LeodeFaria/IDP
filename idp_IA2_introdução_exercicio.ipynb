{
  "nbformat": 4,
  "nbformat_minor": 0,
  "metadata": {
    "celltoolbar": "Create Assignment",
    "kernelspec": {
      "display_name": "Python 3",
      "language": "python",
      "name": "python3"
    },
    "language_info": {
      "codemirror_mode": {
        "name": "ipython",
        "version": 3
      },
      "file_extension": ".py",
      "mimetype": "text/x-python",
      "name": "python",
      "nbconvert_exporter": "python",
      "pygments_lexer": "ipython3",
      "version": "3.8.3"
    },
    "name": "_merged",
    "varInspector": {
      "cols": {
        "lenName": 16,
        "lenType": 16,
        "lenVar": 40
      },
      "kernels_config": {
        "python": {
          "delete_cmd_postfix": "",
          "delete_cmd_prefix": "del ",
          "library": "var_list.py",
          "varRefreshCmd": "print(var_dic_list())"
        },
        "r": {
          "delete_cmd_postfix": ") ",
          "delete_cmd_prefix": "rm(",
          "library": "var_list.r",
          "varRefreshCmd": "cat(var_dic_list()) "
        }
      },
      "types_to_exclude": [
        "module",
        "function",
        "builtin_function_or_method",
        "instance",
        "_Feature"
      ],
      "window_display": false
    },
    "colab": {
      "name": "idp - IA2 - introdução - exercicio.ipynb",
      "provenance": [],
      "collapsed_sections": [],
      "include_colab_link": true
    }
  },
  "cells": [
    {
      "cell_type": "markdown",
      "metadata": {
        "id": "view-in-github",
        "colab_type": "text"
      },
      "source": [
        "<a href=\"https://colab.research.google.com/github/LeodeFaria/IDP/blob/main/idp_IA2_introdu%C3%A7%C3%A3o_exercicio.ipynb\" target=\"_parent\"><img src=\"https://colab.research.google.com/assets/colab-badge.svg\" alt=\"Open In Colab\"/></a>"
      ]
    },
    {
      "cell_type": "markdown",
      "metadata": {
        "id": "l_IYVrQEia9F"
      },
      "source": [
        "# Aula 1 - Exercício - Decisão"
      ]
    },
    {
      "cell_type": "code",
      "metadata": {
        "id": "ulPQ-oHbV5ho",
        "outputId": "3990df2f-ad76-4139-df0a-572e6db81bb8",
        "colab": {
          "base_uri": "https://localhost:8080/",
          "height": 803
        }
      },
      "source": [
        "#@title Init Cell - Execute-me!!!\n",
        "pkg = !pip list | grep 'ipynb-autograde'\n",
        "if not pkg or pkg[0].replace('  ','').split(' ')[1]!='0.0.35':\n",
        "  !pip install ipynb_autograde==0.0.35\n",
        "%env  COURSE python_enap\n",
        "from ipynb_autograde.main import init_log, validate\n",
        "init_log()\n",
        "email_result=!gcloud config get-value account\n",
        "if not email_result or 'unset' in email_result[0]:\n",
        "  !gcloud auth login"
      ],
      "execution_count": 6,
      "outputs": [
        {
          "output_type": "stream",
          "name": "stdout",
          "text": [
            "Collecting ipynb_autograde==0.0.35\n",
            "  Downloading ipynb_autograde-0.0.35.tar.gz (233 kB)\n",
            "\u001b[K     |████████████████████████████████| 233 kB 5.0 MB/s \n",
            "\u001b[?25hRequirement already satisfied: setuptools>=57.0.0 in /usr/local/lib/python3.7/dist-packages (from ipynb_autograde==0.0.35) (57.4.0)\n",
            "Collecting requests>=2.25.1\n",
            "  Downloading requests-2.26.0-py2.py3-none-any.whl (62 kB)\n",
            "\u001b[K     |████████████████████████████████| 62 kB 845 kB/s \n",
            "\u001b[?25hRequirement already satisfied: numpy>=1.19.5 in /usr/local/lib/python3.7/dist-packages (from ipynb_autograde==0.0.35) (1.19.5)\n",
            "Requirement already satisfied: pandas>=1.1.5 in /usr/local/lib/python3.7/dist-packages (from ipynb_autograde==0.0.35) (1.1.5)\n",
            "Requirement already satisfied: python-dateutil>=2.7.3 in /usr/local/lib/python3.7/dist-packages (from pandas>=1.1.5->ipynb_autograde==0.0.35) (2.8.2)\n",
            "Requirement already satisfied: pytz>=2017.2 in /usr/local/lib/python3.7/dist-packages (from pandas>=1.1.5->ipynb_autograde==0.0.35) (2018.9)\n",
            "Requirement already satisfied: six>=1.5 in /usr/local/lib/python3.7/dist-packages (from python-dateutil>=2.7.3->pandas>=1.1.5->ipynb_autograde==0.0.35) (1.15.0)\n",
            "Requirement already satisfied: charset-normalizer~=2.0.0 in /usr/local/lib/python3.7/dist-packages (from requests>=2.25.1->ipynb_autograde==0.0.35) (2.0.4)\n",
            "Requirement already satisfied: certifi>=2017.4.17 in /usr/local/lib/python3.7/dist-packages (from requests>=2.25.1->ipynb_autograde==0.0.35) (2021.5.30)\n",
            "Requirement already satisfied: idna<4,>=2.5 in /usr/local/lib/python3.7/dist-packages (from requests>=2.25.1->ipynb_autograde==0.0.35) (2.10)\n",
            "Requirement already satisfied: urllib3<1.27,>=1.21.1 in /usr/local/lib/python3.7/dist-packages (from requests>=2.25.1->ipynb_autograde==0.0.35) (1.24.3)\n",
            "Building wheels for collected packages: ipynb-autograde\n",
            "  Building wheel for ipynb-autograde (setup.py) ... \u001b[?25l\u001b[?25hdone\n",
            "  Created wheel for ipynb-autograde: filename=ipynb_autograde-0.0.35-py3-none-any.whl size=934302 sha256=3c6fcbaeda258ea55e547a0281dc257d0a9b1f59c8aaf14a1713bf772671114d\n",
            "  Stored in directory: /root/.cache/pip/wheels/15/f6/e0/39a999df01215b860b10d1b7113af062126ece86501be3c7fc\n",
            "Successfully built ipynb-autograde\n",
            "Installing collected packages: requests, ipynb-autograde\n",
            "  Attempting uninstall: requests\n",
            "    Found existing installation: requests 2.23.0\n",
            "    Uninstalling requests-2.23.0:\n",
            "      Successfully uninstalled requests-2.23.0\n",
            "\u001b[31mERROR: pip's dependency resolver does not currently take into account all the packages that are installed. This behaviour is the source of the following dependency conflicts.\n",
            "google-colab 1.0.0 requires requests~=2.23.0, but you have requests 2.26.0 which is incompatible.\n",
            "datascience 0.10.6 requires folium==0.2.1, but you have folium 0.8.3 which is incompatible.\u001b[0m\n",
            "Successfully installed ipynb-autograde-0.0.35 requests-2.26.0\n"
          ]
        },
        {
          "output_type": "display_data",
          "data": {
            "application/vnd.colab-display-data+json": {
              "pip_warning": {
                "packages": [
                  "requests"
                ]
              }
            }
          },
          "metadata": {}
        },
        {
          "output_type": "stream",
          "name": "stdout",
          "text": [
            "env: COURSE=python_enap\n",
            "Go to the following link in your browser:\n",
            "\n",
            "    https://accounts.google.com/o/oauth2/auth?response_type=code&client_id=32555940559.apps.googleusercontent.com&redirect_uri=urn%3Aietf%3Awg%3Aoauth%3A2.0%3Aoob&scope=openid+https%3A%2F%2Fwww.googleapis.com%2Fauth%2Fuserinfo.email+https%3A%2F%2Fwww.googleapis.com%2Fauth%2Fcloud-platform+https%3A%2F%2Fwww.googleapis.com%2Fauth%2Fappengine.admin+https%3A%2F%2Fwww.googleapis.com%2Fauth%2Fcompute+https%3A%2F%2Fwww.googleapis.com%2Fauth%2Faccounts.reauth&state=DTWPo3m31dBkD3N6uDg3dCVnwextBU&prompt=consent&access_type=offline&code_challenge=oczdRPY1Sc089pJ15yZaWbTRx3GglgAiXiZpzCzo1tk&code_challenge_method=S256\n",
            "\n",
            "Enter verification code: 4/1AX4XfWiRHENlKCnTuDpfRHKmyUoueBA_dOugQRcu-YCY1WwppHnlLpRlD94\n",
            "\n",
            "You are now logged in as [leodefaria@gmail.com].\n",
            "Your current project is [None].  You can change this setting by running:\n",
            "  $ gcloud config set project PROJECT_ID\n"
          ]
        }
      ]
    },
    {
      "cell_type": "code",
      "metadata": {
        "id": "NQtwQ4GZilyr"
      },
      "source": [
        "# Faca o import das bibliotecas\n",
        "import ipynb_autograde\n",
        "import pandas as pd"
      ],
      "execution_count": 7,
      "outputs": []
    },
    {
      "cell_type": "markdown",
      "metadata": {
        "id": "-JHOmJX9ia9I"
      },
      "source": [
        "## 1.1 Escreva uma função que receba uma lista com 2 palavras:\n",
        "\n",
        "* 1 - 'chuva' ou 'ensolarado' \n",
        "* 2 - 'atrasado' ou 'horario'\n",
        "\n",
        "Dica: utilize os if-else\n",
        "\n",
        "#### Resultado esperado:\n",
        "'andando' ou 'bicicleta' ou 'onibus'"
      ]
    },
    {
      "cell_type": "code",
      "metadata": {
        "id": "yHIHsPIUia9J",
        "outputId": "a9b3ca6b-9db7-4fc1-aaa2-f503586082a9",
        "colab": {
          "base_uri": "https://localhost:8080/"
        }
      },
      "source": [
        "# Faca aqui seus testes do Exercício 1.1\n",
        "lista = ['chuva']\n",
        "if lista[0] == 'chuva':\n",
        "  print('chuva')\n"
      ],
      "execution_count": 8,
      "outputs": [
        {
          "output_type": "stream",
          "name": "stdout",
          "text": [
            "chuva\n"
          ]
        }
      ]
    },
    {
      "cell_type": "code",
      "metadata": {
        "nbgrader": {
          "grade": false,
          "grade_id": "cell-c705ab9d11473b9f9",
          "locked": false,
          "schema_version": 3,
          "solution": true,
          "task": false
        },
        "id": "vN3UGAtZia9J"
      },
      "source": [
        "# Faca aqui sua função do Exercício 1.1\n",
        "def going_work(list_params):\n",
        "    \"\"\"\n",
        "    Pega os parametros e da uma decisão\n",
        "    :param list of words:\n",
        "    :return decision:\n",
        "    \"\"\"\n",
        "    # condição 1\n",
        "    if list_params[0] == 'chuva':\n",
        "      var1 = 1\n",
        "    else:\n",
        "      var1 = 0\n",
        "    \n",
        "    #condição 2\n",
        "    if list_params[1] == 'atrasado':\n",
        "      var2 = 1\n",
        "    else:\n",
        "      var2 = 0\n",
        "\n",
        "    if var1 == 1:\n",
        "      return('onibus')\n",
        "    else:\n",
        "      if var2 == 1:\n",
        "        return('Bicicleta')\n",
        "      else:\n",
        "        return('A pé')\n",
        " "
      ],
      "execution_count": 13,
      "outputs": []
    },
    {
      "cell_type": "code",
      "metadata": {
        "nbgrader": {
          "grade": true,
          "grade_id": "cell-9ffdsa88d58e9282a",
          "locked": true,
          "points": 1,
          "schema_version": 3,
          "solution": false,
          "task": false
        },
        "id": "mjxS1S1oia9K",
        "outputId": "313bc225-7838-4c02-925f-d9aa1d776033",
        "colab": {
          "base_uri": "https://localhost:8080/"
        }
      },
      "source": [
        "# Faca aqui a validacao do Exercicio 1.1\n",
        "entradas = [[['chuva','atrasado']]]\n",
        "saidas = ['onibus']\n",
        "validate(going_work, entradas, lambda x: x, saidas, \"1.1\")"
      ],
      "execution_count": 14,
      "outputs": [
        {
          "output_type": "execute_result",
          "data": {
            "text/plain": [
              "(True, 'Parabéns!')"
            ]
          },
          "metadata": {},
          "execution_count": 14
        }
      ]
    }
  ]
}