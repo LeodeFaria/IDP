{
  "nbformat": 4,
  "nbformat_minor": 0,
  "metadata": {
    "kernelspec": {
      "display_name": "Python 3",
      "language": "python",
      "name": "python3"
    },
    "language_info": {
      "codemirror_mode": {
        "name": "ipython",
        "version": 3
      },
      "file_extension": ".py",
      "mimetype": "text/x-python",
      "name": "python",
      "nbconvert_exporter": "python",
      "pygments_lexer": "ipython3",
      "version": "3.7.6"
    },
    "colab": {
      "name": "3.2 aula - Segunda lista de exercícios (com desafios).ipynb",
      "provenance": [],
      "collapsed_sections": [],
      "include_colab_link": true
    }
  },
  "cells": [
    {
      "cell_type": "markdown",
      "metadata": {
        "id": "view-in-github",
        "colab_type": "text"
      },
      "source": [
        "<a href=\"https://colab.research.google.com/github/LeodeFaria/IDP/blob/main/3_2_aula_Segunda_lista_de_exerc%C3%ADcios_(com_desafios).ipynb\" target=\"_parent\"><img src=\"https://colab.research.google.com/assets/colab-badge.svg\" alt=\"Open In Colab\"/></a>"
      ]
    },
    {
      "cell_type": "markdown",
      "metadata": {
        "id": "F_nVZu51t_7J"
      },
      "source": [
        "# Bem-vindos ao nosso curso de Fundamentos de Python!\n",
        "\n",
        "\n"
      ]
    },
    {
      "cell_type": "markdown",
      "metadata": {
        "id": "KrA9gjRb9hee"
      },
      "source": [
        "\n",
        "## Esta é a sua segunda lista de exercícios para ser resolvida durante a aula.\n",
        "## Você vai encontrar conteúdos sobre estruturas de decisão e repetição, ou seja, condicionais e loops.\n",
        "Opcional para correção: Após terminar envie a sua lista com permissão de edição no slack para o canal #notebooks."
      ]
    },
    {
      "cell_type": "code",
      "metadata": {
        "id": "lRUHV770t_7J"
      },
      "source": [
        "# Exercício 1 - Crie uma estrutura que pergunte ao usuário qual o dia da semana. Se o dia for igual a Domingo ou \n",
        "# igual a sábado, imprima na tela \"Hoje é dia de descanso\", caso contrário imprima na tela \"Você precisa trabalhar!\""
      ],
      "execution_count": null,
      "outputs": []
    },
    {
      "cell_type": "code",
      "metadata": {
        "colab": {
          "base_uri": "https://localhost:8080/"
        },
        "id": "75aJKP5NtPeM",
        "outputId": "3534b450-48ca-4904-c7ff-34184e45fadf"
      },
      "source": [
        "diaSemana = {'Segunda':1,'Terça':2,'Quarta':3,'Quinta':4,'Sexta':5,'Sábado':6,'Domingo':7}\n",
        "print('Programa de teste')\n",
        "\n",
        "print('Escolha o NUMERO do dia da semana')\n",
        "print(diaSemana)\n",
        "\n",
        "dia = input()\n",
        "if dia in (6,7):\n",
        "  print('Hoje é dia de descanso')\n",
        "else:\n",
        "  print('Você precisa trabalhar!')\n"
      ],
      "execution_count": null,
      "outputs": [
        {
          "output_type": "stream",
          "text": [
            "Programa de teste\n",
            "Escolha o NUMERO do dia da semana\n",
            "{'Segunda': 1, 'Terça': 2, 'Quarta': 3, 'Quinta': 4, 'Sexta': 5, 'Sábado': 6, 'Domingo': 7}\n",
            "3\n",
            "Você precisa trabalhar!\n"
          ],
          "name": "stdout"
        }
      ]
    },
    {
      "cell_type": "code",
      "metadata": {
        "id": "jm3wg1aPt_7K"
      },
      "source": [
        "# Exercício 2 - Crie uma lista de 5 frutas e verifique se a fruta 'Morango' faz parte da lista"
      ],
      "execution_count": null,
      "outputs": []
    },
    {
      "cell_type": "code",
      "metadata": {
        "colab": {
          "base_uri": "https://localhost:8080/"
        },
        "id": "yJdOJuIt6gu5",
        "outputId": "d6ac23fe-0549-499c-9483-7b23f5d6624a"
      },
      "source": [
        "frutas = ['Jaca','Mangaba','Jabuticaba','Jambo','Genipapo']\n",
        "'Morango' in frutas"
      ],
      "execution_count": null,
      "outputs": [
        {
          "output_type": "execute_result",
          "data": {
            "text/plain": [
              "False"
            ]
          },
          "metadata": {
            "tags": []
          },
          "execution_count": 36
        }
      ]
    },
    {
      "cell_type": "code",
      "metadata": {
        "id": "7n4t-3bmt_7K"
      },
      "source": [
        "# Exercício 3 - Crie uma tupla de 4 elementos, multiplique cada elemento da tupla por 2 e guarde os resultados em uma \n",
        "# lista"
      ],
      "execution_count": null,
      "outputs": []
    },
    {
      "cell_type": "code",
      "metadata": {
        "colab": {
          "base_uri": "https://localhost:8080/"
        },
        "id": "YumPFOlx8-ME",
        "outputId": "03923aa3-0c3d-4f69-e7fe-ccf47b2ab086"
      },
      "source": [
        "tup = (1,2,3,4)\n",
        "lista = []\n",
        "for i in tup:\n",
        "  lista.insert(i,i*2)\n",
        "print(lista)"
      ],
      "execution_count": null,
      "outputs": [
        {
          "output_type": "stream",
          "text": [
            "[2, 4, 6, 8]\n"
          ],
          "name": "stdout"
        }
      ]
    },
    {
      "cell_type": "code",
      "metadata": {
        "id": "Fau1nz26t_7L"
      },
      "source": [
        "# Exercício 4 - Crie uma sequência de números pares entre 100 e 150 e imprima na tela"
      ],
      "execution_count": null,
      "outputs": []
    },
    {
      "cell_type": "code",
      "metadata": {
        "colab": {
          "base_uri": "https://localhost:8080/"
        },
        "id": "1LnXcyJ_-Z_y",
        "outputId": "c18787f9-d80b-4e06-c8d6-64c3842520e1"
      },
      "source": [
        "pares = []\n",
        "i = 100\n",
        "while True:\n",
        "  if i%2==0:\n",
        "    pares.insert(i,i)\n",
        "  i += 1\n",
        "  if i == 151:\n",
        "    print(pares)\n",
        "    break"
      ],
      "execution_count": null,
      "outputs": [
        {
          "output_type": "stream",
          "text": [
            "[100, 102, 104, 106, 108, 110, 112, 114, 116, 118, 120, 122, 124, 126, 128, 130, 132, 134, 136, 138, 140, 142, 144, 146, 148, 150]\n"
          ],
          "name": "stdout"
        }
      ]
    },
    {
      "cell_type": "code",
      "metadata": {
        "id": "J4E2pb2Jt_7L"
      },
      "source": [
        "# Exercício 5 - Crie uma variável chamada temperatura e atribua o valor 40. Enquanto temperatura for maior que 35, \n",
        "# imprima as temperaturas na tela"
      ],
      "execution_count": null,
      "outputs": []
    },
    {
      "cell_type": "code",
      "metadata": {
        "colab": {
          "base_uri": "https://localhost:8080/"
        },
        "id": "yIF2PY7JCBed",
        "outputId": "b52aa40e-6dce-4078-f0c4-19672f8ddcaf"
      },
      "source": [
        "temperatura = 40\n",
        "\n",
        "while temperatura > 35:\n",
        "  print(temperatura)\n",
        "  temperatura -= 1"
      ],
      "execution_count": null,
      "outputs": [
        {
          "output_type": "stream",
          "text": [
            "40\n",
            "39\n",
            "38\n",
            "37\n",
            "36\n"
          ],
          "name": "stdout"
        }
      ]
    },
    {
      "cell_type": "code",
      "metadata": {
        "id": "IaptORhht_7L"
      },
      "source": [
        "# Exercício 6 - Crie uma variável chamada contador = 0. Enquanto counter for menor que 100, imprima os valores na tela,\n",
        "# mas quando for encontrado o valor 23, interrompa a execução do programa"
      ],
      "execution_count": null,
      "outputs": []
    },
    {
      "cell_type": "code",
      "metadata": {
        "colab": {
          "base_uri": "https://localhost:8080/"
        },
        "id": "4K0ULQXoCceP",
        "outputId": "2fbae675-018e-4f36-d4b5-8ec0cfb833d5"
      },
      "source": [
        "contador = 0\n",
        "while contador < 100:\n",
        "  print(contador)\n",
        "  contador += 1\n",
        "  if contador == 23:\n",
        "    break"
      ],
      "execution_count": null,
      "outputs": [
        {
          "output_type": "stream",
          "text": [
            "0\n",
            "1\n",
            "2\n",
            "3\n",
            "4\n",
            "5\n",
            "6\n",
            "7\n",
            "8\n",
            "9\n",
            "10\n",
            "11\n",
            "12\n",
            "13\n",
            "14\n",
            "15\n",
            "16\n",
            "17\n",
            "18\n",
            "19\n",
            "20\n",
            "21\n",
            "22\n"
          ],
          "name": "stdout"
        }
      ]
    },
    {
      "cell_type": "code",
      "metadata": {
        "id": "YgtCGiddt_7L"
      },
      "source": [
        "# Exercício 7 - Crie uma lista vazia e uma variável com valor 4. Enquanto o valor da variável for menor ou igual a 20, \n",
        "# adicione à lista, apenas os valores pares e imprima a lista"
      ],
      "execution_count": null,
      "outputs": []
    },
    {
      "cell_type": "code",
      "metadata": {
        "colab": {
          "base_uri": "https://localhost:8080/"
        },
        "id": "WknTMWyfC-QJ",
        "outputId": "e2425a47-c735-41a2-aad0-cfda534c4d60"
      },
      "source": [
        "var = 4\n",
        "lista = []\n",
        "\n",
        "while var <= 20:\n",
        "  if var%2==0:\n",
        "    lista.append(var)\n",
        "  var +=1\n",
        "print(lista)"
      ],
      "execution_count": null,
      "outputs": [
        {
          "output_type": "stream",
          "text": [
            "[4, 6, 8, 10, 12, 14, 16, 18, 20]\n"
          ],
          "name": "stdout"
        }
      ]
    },
    {
      "cell_type": "code",
      "metadata": {
        "id": "aVcvOJVct_7M"
      },
      "source": [
        "# Exercício 8 - Transforme o resultado desta função range em uma lista: range(5, 45, 2)\n",
        "nums = range(5, 45, 2)"
      ],
      "execution_count": null,
      "outputs": []
    },
    {
      "cell_type": "code",
      "metadata": {
        "colab": {
          "base_uri": "https://localhost:8080/"
        },
        "id": "8HYb4kXyD9kF",
        "outputId": "26043bf7-558c-4b4f-a67f-1a75006794e0"
      },
      "source": [
        "\n",
        "\n"
      ],
      "execution_count": null,
      "outputs": [
        {
          "output_type": "stream",
          "text": [
            "range(5, 45, 2)\n"
          ],
          "name": "stdout"
        }
      ]
    },
    {
      "cell_type": "code",
      "metadata": {
        "id": "NPUHafULt_7M"
      },
      "source": [
        "# Exercício 9 - Faça a correção dos erros no código abaixo e execute o programa. Dica: são 3 erros.\n",
        "temperatura = float(input('Qual a temperatura? '))\n",
        "if temperatura > 30\n",
        "print('Vista roupas leves.')\n",
        "else\n",
        "    print('Busque seus casacos.')"
      ],
      "execution_count": null,
      "outputs": []
    },
    {
      "cell_type": "code",
      "metadata": {
        "colab": {
          "base_uri": "https://localhost:8080/"
        },
        "id": "xD6H1jfgEnc3",
        "outputId": "8cfe1354-fea8-4198-fbaa-82ad19f18a69"
      },
      "source": [
        "temperatura = float(input('Qual a temperatura? '))\n",
        "if temperatura > 30.0:\n",
        "  print('Vista roupas leves.')\n",
        "else:\n",
        "   print('Busque seus casacos.')"
      ],
      "execution_count": null,
      "outputs": [
        {
          "output_type": "stream",
          "text": [
            "Qual a temperatura? 56\n",
            "Vista roupas leves.\n"
          ],
          "name": "stdout"
        }
      ]
    },
    {
      "cell_type": "code",
      "metadata": {
        "id": "6t3ICsi1t_7M"
      },
      "source": [
        "# Exercício 10 - Faça um programa que conte quantas vezes a letra \"r\" aparece na frase abaixo. Use um placeholder na \n",
        "# sua instrução de impressão\n",
        "\n",
        "# “É melhor, muito melhor, contentar-se com a realidade; se ela não é tão brilhante como os sonhos, tem pelo menos a \n",
        "# vantagem de existir.” (Machado de Assis)\n",
        "\n",
        "frase = \"É melhor, muito melhor, contentar-se com a realidade; se ela não é tão brilhante como os sonhos, tem pelo menos a vantagem de existir.\" "
      ],
      "execution_count": null,
      "outputs": []
    },
    {
      "cell_type": "code",
      "metadata": {
        "colab": {
          "base_uri": "https://localhost:8080/"
        },
        "id": "9FQLe4PJE6ET",
        "outputId": "36c1922b-94cf-46eb-f9a3-fc0190830949"
      },
      "source": [
        "frase = \"É melhor, muito melhor, contentar-se com a realidade; se ela não é tão brilhante como os sonhos, tem pelo menos a vantagem de existir.\" \n",
        "\n",
        "numRs = frase.count('r')\n",
        "\n",
        "print(\"Tem {} r's na frase\".format(numRs))"
      ],
      "execution_count": null,
      "outputs": [
        {
          "output_type": "stream",
          "text": [
            "Tem 6 r's na frase\n"
          ],
          "name": "stdout"
        }
      ]
    },
    {
      "cell_type": "markdown",
      "metadata": {
        "id": "BOPQyYtMt_7N"
      },
      "source": [
        "# Yes, Fim!"
      ]
    }
  ]
}