{
  "nbformat": 4,
  "nbformat_minor": 0,
  "metadata": {
    "kernelspec": {
      "display_name": "Python 3",
      "language": "python",
      "name": "python3"
    },
    "language_info": {
      "codemirror_mode": {
        "name": "ipython",
        "version": 3
      },
      "file_extension": ".py",
      "mimetype": "text/x-python",
      "name": "python",
      "nbconvert_exporter": "python",
      "pygments_lexer": "ipython3",
      "version": "3.7.6"
    },
    "colab": {
      "name": "3.1 aula - Primeira lista de exercícios (aquecimento).ipynb",
      "provenance": []
    }
  },
  "cells": [
    {
      "cell_type": "markdown",
      "metadata": {
        "id": "jOLojIThq4pX"
      },
      "source": [
        "# Bem-vindos ao pré-aquecimento do nosso curso de Fundamentos de Python!\n",
        "\n",
        "\n",
        "\n"
      ]
    },
    {
      "cell_type": "markdown",
      "metadata": {
        "id": "Qyg_5Knq8EgC"
      },
      "source": [
        "## Esta é a sua primeira lista de exercícios para ser resolvida durante a aula.\n",
        "Opcional para correção: Após terminar envie a sua lista com permissão de edição no slack para o canal #notebooks."
      ]
    },
    {
      "cell_type": "markdown",
      "metadata": {
        "id": "JsfCPXC38HqL"
      },
      "source": [
        "### Treino sobre **listas**.\n",
        "\n"
      ]
    },
    {
      "cell_type": "code",
      "metadata": {
        "id": "h8AdOfD2q4pX",
        "colab": {
          "base_uri": "https://localhost:8080/"
        },
        "outputId": "c1397401-84dc-4390-c66d-13a7aa600e00"
      },
      "source": [
        "# Exercício 1 - Imprima na tela os números de 1 a 10. Dica: use uma lista para armazenar os números.\n",
        "lista = [1,2,3,4,5,6,7,8,9,10]\n",
        "print(lista)"
      ],
      "execution_count": null,
      "outputs": [
        {
          "output_type": "stream",
          "text": [
            "[1, 2, 3, 4, 5, 6, 7, 8, 9, 10]\n"
          ],
          "name": "stdout"
        }
      ]
    },
    {
      "cell_type": "code",
      "metadata": {
        "id": "HtBESeX9q4pX",
        "colab": {
          "base_uri": "https://localhost:8080/"
        },
        "outputId": "6dc2e7fb-2f0b-4128-def5-184b6877f997"
      },
      "source": [
        "# Exercício 2 - Crie uma lista de 5 objetos e imprima na tela\n",
        "lista = [\"objeto1\",\"objeto2\",\"objeto3\",\"objeto4\",\"objeto5\"]\n",
        "for x in lista:\n",
        "  print(x)"
      ],
      "execution_count": null,
      "outputs": [
        {
          "output_type": "stream",
          "text": [
            "objeto1\n",
            "objeto2\n",
            "objeto3\n",
            "objeto4\n",
            "objeto5\n"
          ],
          "name": "stdout"
        }
      ]
    },
    {
      "cell_type": "markdown",
      "metadata": {
        "id": "F0f8t6px8Unn"
      },
      "source": [
        "### Treino sobre **strings**."
      ]
    },
    {
      "cell_type": "code",
      "metadata": {
        "id": "IvGl2nh6q4pX",
        "colab": {
          "base_uri": "https://localhost:8080/"
        },
        "outputId": "6e6c2016-195e-4b45-ff50-57e9e270ad37"
      },
      "source": [
        "# Exercício 3 - Crie duas strings e concatene as duas em uma terceira string\n",
        "string1 = \"Esta string \"\n",
        "string2 = \"está concatenada\"\n",
        "concatenacao = string1 + string2\n",
        "print(concatenacao)"
      ],
      "execution_count": null,
      "outputs": [
        {
          "output_type": "stream",
          "text": [
            "Esta string está concatenada\n"
          ],
          "name": "stdout"
        }
      ]
    },
    {
      "cell_type": "markdown",
      "metadata": {
        "id": "dIy3aTUi8ZxW"
      },
      "source": [
        "### Treino sobre **tuplas**."
      ]
    },
    {
      "cell_type": "code",
      "metadata": {
        "id": "Hxg6HG0Wq4pY",
        "colab": {
          "base_uri": "https://localhost:8080/"
        },
        "outputId": "e9758d64-0031-4006-f26a-61c30db68922"
      },
      "source": [
        "# Exercício 4 - Crie uma tupla com os seguintes elementos: 1, 2, 2, 3, 4, 4, 4, 5 e depois utilize a função count do \n",
        "# objeto tupla para verificar quantas vezes o número 4 aparece na tupla\n",
        "tupla = (1, 2, 2, 3, 4, 4, 4, 5)\n",
        "print(tupla.count(4))"
      ],
      "execution_count": null,
      "outputs": [
        {
          "output_type": "stream",
          "text": [
            "3\n"
          ],
          "name": "stdout"
        }
      ]
    },
    {
      "cell_type": "markdown",
      "metadata": {
        "id": "wjKraGhn8dsG"
      },
      "source": [
        "### Treino sobre **dicionários**.\n"
      ]
    },
    {
      "cell_type": "code",
      "metadata": {
        "id": "lC5UtAo2q4pY",
        "colab": {
          "base_uri": "https://localhost:8080/"
        },
        "outputId": "e6689058-d6ff-40ed-ba10-d996ffc6414c"
      },
      "source": [
        "# Exercício 5 - Crie um dicionário vazio e imprima na tela\n",
        "dicionario = {}\n",
        "print(dicionario)"
      ],
      "execution_count": null,
      "outputs": [
        {
          "output_type": "stream",
          "text": [
            "{}\n"
          ],
          "name": "stdout"
        }
      ]
    },
    {
      "cell_type": "code",
      "metadata": {
        "id": "NtINgtvyq4pY",
        "colab": {
          "base_uri": "https://localhost:8080/"
        },
        "outputId": "7ad29c76-fcfb-45e6-f44a-2072d8139b9f"
      },
      "source": [
        "# Exercício 6 - Crie um dicionário com 3 chaves e 3 valores e imprima na tela\n",
        "dicionario2 = {'cidade':'Recife','estado':'Pernambuco','país':'Brasil'}\n",
        "print(dicionario2)"
      ],
      "execution_count": null,
      "outputs": [
        {
          "output_type": "stream",
          "text": [
            "{'cidade': 'Recife', 'estado': 'Pernambuco', 'país': 'Brasil'}\n"
          ],
          "name": "stdout"
        }
      ]
    },
    {
      "cell_type": "code",
      "metadata": {
        "id": "JNm-vcWkq4pY",
        "colab": {
          "base_uri": "https://localhost:8080/"
        },
        "outputId": "6d2b5f62-0277-4ac9-dfab-573eabd2b6be"
      },
      "source": [
        "# Exercício 7 - Adicione mais um elemento ao dicionário criado no exercício anterior e imprima na tela\n",
        "dicionario2['populacao'] = 1800000\n",
        "print(dicionario2)"
      ],
      "execution_count": null,
      "outputs": [
        {
          "output_type": "stream",
          "text": [
            "{'cidade': 'Recife', 'estado': 'Pernambuco', 'país': 'Brasil', 'populacao': 1800000}\n"
          ],
          "name": "stdout"
        }
      ]
    },
    {
      "cell_type": "code",
      "metadata": {
        "id": "N5ChV2osq4pY",
        "colab": {
          "base_uri": "https://localhost:8080/"
        },
        "outputId": "1281fc3f-325b-42e7-d276-637a720bed2d"
      },
      "source": [
        "# Exercício 8 - Crie um dicionário com 3 chaves e 3 valores. Um dos valores deve ser uma lista de 2 elementos numéricos. \n",
        "# Imprima o dicionário na tela.\n",
        "dicionario3 = {'valores':[1,2],'produto':'sabão em pó','marca':'omo'}\n",
        "print(dicionario3)"
      ],
      "execution_count": null,
      "outputs": [
        {
          "output_type": "stream",
          "text": [
            "{'valores': [1, 2], 'produto': 'sabão em pó', 'marca': 'omo'}\n"
          ],
          "name": "stdout"
        }
      ]
    },
    {
      "cell_type": "markdown",
      "metadata": {
        "id": "0KZd0HVa8jhz"
      },
      "source": [
        "### Treino misto **listas, strings, dicionários, float, index**."
      ]
    },
    {
      "cell_type": "code",
      "metadata": {
        "id": "0xz6au5nq4pZ",
        "colab": {
          "base_uri": "https://localhost:8080/"
        },
        "outputId": "890f3bad-59e1-48e5-b6fd-af427c4d3b49"
      },
      "source": [
        "# Exercício 9 - Crie uma lista de 4 elementos. O primeiro elemento deve ser uma string, \n",
        "# o segundo uma tupla de 2 elementos, o terceiro um dicionário com 2 chaves e 2 valores e \n",
        "# o quarto elemento um valor do tipo float.\n",
        "# Imprima a lista na tela.\n",
        "lista = ['string',(1,2),{'chave1':'valor1','chave2':'valor2'},2.6]\n",
        "print(lista)"
      ],
      "execution_count": null,
      "outputs": [
        {
          "output_type": "stream",
          "text": [
            "['string', (1, 2), {'chave1': 'valor1', 'chave2': 'valor2'}, 2.6]\n"
          ],
          "name": "stdout"
        }
      ]
    },
    {
      "cell_type": "code",
      "metadata": {
        "id": "_aSMKU4wq4pZ",
        "colab": {
          "base_uri": "https://localhost:8080/"
        },
        "outputId": "697aec11-14d9-4f40-96bc-b6956057d3bc"
      },
      "source": [
        "# Exercício 10 - Considere a string abaixo. Imprima na tela apenas os caracteres da posição 1 a 18.\n",
        "frase = 'Cientista de Dados é o profissional mais sexy do século XXI'\n",
        "print(frase[1:18])"
      ],
      "execution_count": null,
      "outputs": [
        {
          "output_type": "stream",
          "text": [
            "ientista de Dados\n"
          ],
          "name": "stdout"
        }
      ]
    },
    {
      "cell_type": "markdown",
      "metadata": {
        "id": "egJfm3-2q4pZ"
      },
      "source": [
        "# Ufa, Fim!"
      ]
    }
  ]
}