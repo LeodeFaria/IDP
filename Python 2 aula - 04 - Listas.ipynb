{
 "cells": [
  {
   "cell_type": "markdown",
   "metadata": {
    "id": "GusnQhxAp9Uk"
   },
   "source": [
    "## Listas [ ]\n",
    "##### array ( )\n",
    "##### string ' ' ou \" \""
   ]
  },
  {
   "cell_type": "code",
   "execution_count": null,
   "metadata": {
    "executionInfo": {
     "elapsed": 638,
     "status": "ok",
     "timestamp": 1618532849784,
     "user": {
      "displayName": "Mauro Ribeiro",
      "photoUrl": "https://lh3.googleusercontent.com/a-/AOh14Gh4UCHXUwlgYaT16X3IiiIvVgOcuEx6z_La7Y9pjQ=s64",
      "userId": "06049500529385007077"
     },
     "user_tz": 180
    },
    "id": "ajiOAsO6p9Uk"
   },
   "outputs": [],
   "source": [
    "# Criando uma lista\n",
    "#listadomercado = \"ovos, farinha, leite, maças\"   -- string com 27 elementos\n",
    "#listadomercado = array([\"ovos, farinha, leite, maças\"])   -- array com 1 elemento\n",
    "#listadomercado = [\"ovos, farinha, leite, maças\"] -- Lista com 1 elemento\n",
    "listadomercado = \"ovos, farinha, leite, maças\"\n",
    "listadomercado = listadomercado.split(', ')"
   ]
  },
  {
   "cell_type": "code",
   "execution_count": null,
   "metadata": {
    "colab": {
     "base_uri": "https://localhost:8080/"
    },
    "executionInfo": {
     "elapsed": 877,
     "status": "ok",
     "timestamp": 1618532850886,
     "user": {
      "displayName": "Mauro Ribeiro",
      "photoUrl": "https://lh3.googleusercontent.com/a-/AOh14Gh4UCHXUwlgYaT16X3IiiIvVgOcuEx6z_La7Y9pjQ=s64",
      "userId": "06049500529385007077"
     },
     "user_tz": 180
    },
    "id": "ACThULuvp9Uk",
    "outputId": "609def73-a29c-4ea8-a152-2b384425560b"
   },
   "outputs": [],
   "source": [
    "# Imprimindo a lista\n",
    "print(listadomercado)"
   ]
  },
  {
   "cell_type": "code",
   "execution_count": null,
   "metadata": {
    "executionInfo": {
     "elapsed": 678,
     "status": "ok",
     "timestamp": 1618532874483,
     "user": {
      "displayName": "Mauro Ribeiro",
      "photoUrl": "https://lh3.googleusercontent.com/a-/AOh14Gh4UCHXUwlgYaT16X3IiiIvVgOcuEx6z_La7Y9pjQ=s64",
      "userId": "06049500529385007077"
     },
     "user_tz": 180
    },
    "id": "d_sWfOHZp9Ul"
   },
   "outputs": [],
   "source": [
    "# Criando outra lista\n",
    "listadomercado2 = [\"ovos\" , \"farinha\", \"leite\", \"maças\"]"
   ]
  },
  {
   "cell_type": "code",
   "execution_count": null,
   "metadata": {
    "colab": {
     "base_uri": "https://localhost:8080/"
    },
    "executionInfo": {
     "elapsed": 598,
     "status": "ok",
     "timestamp": 1618532882099,
     "user": {
      "displayName": "Mauro Ribeiro",
      "photoUrl": "https://lh3.googleusercontent.com/a-/AOh14Gh4UCHXUwlgYaT16X3IiiIvVgOcuEx6z_La7Y9pjQ=s64",
      "userId": "06049500529385007077"
     },
     "user_tz": 180
    },
    "id": "bnyAIkomp9Ul",
    "outputId": "4e3450e2-6e54-4e39-ab4d-65b948744615"
   },
   "outputs": [],
   "source": [
    "# Imprimindo a lista\n",
    "print(listadomercado2)"
   ]
  },
  {
   "cell_type": "code",
   "execution_count": null,
   "metadata": {
    "executionInfo": {
     "elapsed": 653,
     "status": "ok",
     "timestamp": 1618532911770,
     "user": {
      "displayName": "Mauro Ribeiro",
      "photoUrl": "https://lh3.googleusercontent.com/a-/AOh14Gh4UCHXUwlgYaT16X3IiiIvVgOcuEx6z_La7Y9pjQ=s64",
      "userId": "06049500529385007077"
     },
     "user_tz": 180
    },
    "id": "MnJLJv0-p9Ul"
   },
   "outputs": [],
   "source": [
    "# Criando lista\n",
    "lista3 = [12, 100, \"Universidade\"]"
   ]
  },
  {
   "cell_type": "code",
   "execution_count": null,
   "metadata": {
    "colab": {
     "base_uri": "https://localhost:8080/"
    },
    "executionInfo": {
     "elapsed": 609,
     "status": "ok",
     "timestamp": 1618532915816,
     "user": {
      "displayName": "Mauro Ribeiro",
      "photoUrl": "https://lh3.googleusercontent.com/a-/AOh14Gh4UCHXUwlgYaT16X3IiiIvVgOcuEx6z_La7Y9pjQ=s64",
      "userId": "06049500529385007077"
     },
     "user_tz": 180
    },
    "id": "FoJ4GnYvp9Um",
    "outputId": "99da05df-4ce2-4517-a46b-65b830f9b359"
   },
   "outputs": [],
   "source": [
    "# Imprimindo\n",
    "print(lista3)"
   ]
  },
  {
   "cell_type": "code",
   "execution_count": null,
   "metadata": {
    "executionInfo": {
     "elapsed": 619,
     "status": "ok",
     "timestamp": 1618533108870,
     "user": {
      "displayName": "Mauro Ribeiro",
      "photoUrl": "https://lh3.googleusercontent.com/a-/AOh14Gh4UCHXUwlgYaT16X3IiiIvVgOcuEx6z_La7Y9pjQ=s64",
      "userId": "06049500529385007077"
     },
     "user_tz": 180
    },
    "id": "4l_-6itZp9Um"
   },
   "outputs": [],
   "source": [
    "lista3 = [12, 100, \"Universidade\"]"
   ]
  },
  {
   "cell_type": "code",
   "execution_count": null,
   "metadata": {
    "executionInfo": {
     "elapsed": 969,
     "status": "ok",
     "timestamp": 1618533148630,
     "user": {
      "displayName": "Mauro Ribeiro",
      "photoUrl": "https://lh3.googleusercontent.com/a-/AOh14Gh4UCHXUwlgYaT16X3IiiIvVgOcuEx6z_La7Y9pjQ=s64",
      "userId": "06049500529385007077"
     },
     "user_tz": 180
    },
    "id": "TQX1Ubf0p9Um"
   },
   "outputs": [],
   "source": [
    "# Atribuindo cada valor da lista a uma variável.\n",
    "item1 = lista3[0]\n",
    "item2 = lista3[1]\n",
    "item3 = lista3[2]"
   ]
  },
  {
   "cell_type": "code",
   "execution_count": null,
   "metadata": {
    "colab": {
     "base_uri": "https://localhost:8080/"
    },
    "executionInfo": {
     "elapsed": 581,
     "status": "ok",
     "timestamp": 1618533171337,
     "user": {
      "displayName": "Mauro Ribeiro",
      "photoUrl": "https://lh3.googleusercontent.com/a-/AOh14Gh4UCHXUwlgYaT16X3IiiIvVgOcuEx6z_La7Y9pjQ=s64",
      "userId": "06049500529385007077"
     },
     "user_tz": 180
    },
    "id": "3aYB2W5np9Um",
    "outputId": "7ee2e05c-4a0b-4eaf-c5a2-c9c1d26bc379"
   },
   "outputs": [],
   "source": [
    "# Imprimindo as variáveis\n",
    "print(item1, item2, item3)\n",
    "print(item1)"
   ]
  },
  {
   "cell_type": "markdown",
   "metadata": {
    "id": "bqYX2c7fp9Un"
   },
   "source": [
    "### Atualizando um item da lista"
   ]
  },
  {
   "cell_type": "code",
   "execution_count": null,
   "metadata": {
    "colab": {
     "base_uri": "https://localhost:8080/"
    },
    "executionInfo": {
     "elapsed": 745,
     "status": "ok",
     "timestamp": 1618533200076,
     "user": {
      "displayName": "Mauro Ribeiro",
      "photoUrl": "https://lh3.googleusercontent.com/a-/AOh14Gh4UCHXUwlgYaT16X3IiiIvVgOcuEx6z_La7Y9pjQ=s64",
      "userId": "06049500529385007077"
     },
     "user_tz": 180
    },
    "id": "tOSR9OD7GKYi",
    "outputId": "915b1746-e007-402c-d4bd-9e03ab6479f9"
   },
   "outputs": [],
   "source": [
    "listadomercado2"
   ]
  },
  {
   "cell_type": "code",
   "execution_count": null,
   "metadata": {
    "colab": {
     "base_uri": "https://localhost:8080/",
     "height": 35
    },
    "executionInfo": {
     "elapsed": 611,
     "status": "ok",
     "timestamp": 1618533214649,
     "user": {
      "displayName": "Mauro Ribeiro",
      "photoUrl": "https://lh3.googleusercontent.com/a-/AOh14Gh4UCHXUwlgYaT16X3IiiIvVgOcuEx6z_La7Y9pjQ=s64",
      "userId": "06049500529385007077"
     },
     "user_tz": 180
    },
    "id": "ol6r2uump9Un",
    "outputId": "048fbf59-8365-4cd4-ac40-dde4aff1bbfa"
   },
   "outputs": [],
   "source": [
    "# Imprimindo um item da lista\n",
    "listadomercado2[2]"
   ]
  },
  {
   "cell_type": "code",
   "execution_count": null,
   "metadata": {
    "executionInfo": {
     "elapsed": 607,
     "status": "ok",
     "timestamp": 1618533228897,
     "user": {
      "displayName": "Mauro Ribeiro",
      "photoUrl": "https://lh3.googleusercontent.com/a-/AOh14Gh4UCHXUwlgYaT16X3IiiIvVgOcuEx6z_La7Y9pjQ=s64",
      "userId": "06049500529385007077"
     },
     "user_tz": 180
    },
    "id": "Zu5eskcop9Un"
   },
   "outputs": [],
   "source": [
    "# Atualizando um item da lista\n",
    "listadomercado2[2] = \"chocolate\""
   ]
  },
  {
   "cell_type": "code",
   "execution_count": null,
   "metadata": {
    "colab": {
     "base_uri": "https://localhost:8080/"
    },
    "executionInfo": {
     "elapsed": 574,
     "status": "ok",
     "timestamp": 1618533232434,
     "user": {
      "displayName": "Mauro Ribeiro",
      "photoUrl": "https://lh3.googleusercontent.com/a-/AOh14Gh4UCHXUwlgYaT16X3IiiIvVgOcuEx6z_La7Y9pjQ=s64",
      "userId": "06049500529385007077"
     },
     "user_tz": 180
    },
    "id": "2AiEn2iEp9Uo",
    "outputId": "e9841aaa-f54d-40fa-b14e-5c4b04d432d3"
   },
   "outputs": [],
   "source": [
    "# Imprimindo lista alterada\n",
    "listadomercado2"
   ]
  },
  {
   "cell_type": "markdown",
   "metadata": {
    "id": "ufQ-coy8p9Uo"
   },
   "source": [
    "### Deletando um item da lista"
   ]
  },
  {
   "cell_type": "code",
   "execution_count": null,
   "metadata": {
    "colab": {
     "base_uri": "https://localhost:8080/",
     "height": 179
    },
    "executionInfo": {
     "elapsed": 565,
     "status": "error",
     "timestamp": 1618533298237,
     "user": {
      "displayName": "Mauro Ribeiro",
      "photoUrl": "https://lh3.googleusercontent.com/a-/AOh14Gh4UCHXUwlgYaT16X3IiiIvVgOcuEx6z_La7Y9pjQ=s64",
      "userId": "06049500529385007077"
     },
     "user_tz": 180
    },
    "id": "QP7uRF_5p9Uo",
    "outputId": "f6b8592a-e6e9-4776-95f1-9f2d5faa780a"
   },
   "outputs": [],
   "source": [
    "# Out of index. Não é possível deletar um item que não existe na lista\n",
    "del listadomercado2[4]   "
   ]
  },
  {
   "cell_type": "code",
   "execution_count": null,
   "metadata": {
    "executionInfo": {
     "elapsed": 599,
     "status": "ok",
     "timestamp": 1618533306173,
     "user": {
      "displayName": "Mauro Ribeiro",
      "photoUrl": "https://lh3.googleusercontent.com/a-/AOh14Gh4UCHXUwlgYaT16X3IiiIvVgOcuEx6z_La7Y9pjQ=s64",
      "userId": "06049500529385007077"
     },
     "user_tz": 180
    },
    "id": "vJkFA4WMp9Uo"
   },
   "outputs": [],
   "source": [
    "# Deletando um item específico da lista\n",
    "del listadomercado2[3]"
   ]
  },
  {
   "cell_type": "code",
   "execution_count": null,
   "metadata": {
    "colab": {
     "base_uri": "https://localhost:8080/"
    },
    "executionInfo": {
     "elapsed": 613,
     "status": "ok",
     "timestamp": 1618533308838,
     "user": {
      "displayName": "Mauro Ribeiro",
      "photoUrl": "https://lh3.googleusercontent.com/a-/AOh14Gh4UCHXUwlgYaT16X3IiiIvVgOcuEx6z_La7Y9pjQ=s64",
      "userId": "06049500529385007077"
     },
     "user_tz": 180
    },
    "id": "b8NB9ihhp9Uo",
    "outputId": "1d66706a-e0ad-4e31-a28a-0a3fcf3dcaf5"
   },
   "outputs": [],
   "source": [
    "# Imprimindo o item com a lista alterada\n",
    "listadomercado2"
   ]
  },
  {
   "cell_type": "markdown",
   "metadata": {
    "id": "T78J29fPp9Up"
   },
   "source": [
    "### Listas de listas (Listas aninhadas)\n",
    "Listas de listas são matrizes em Python"
   ]
  },
  {
   "cell_type": "code",
   "execution_count": null,
   "metadata": {
    "executionInfo": {
     "elapsed": 786,
     "status": "ok",
     "timestamp": 1618533340762,
     "user": {
      "displayName": "Mauro Ribeiro",
      "photoUrl": "https://lh3.googleusercontent.com/a-/AOh14Gh4UCHXUwlgYaT16X3IiiIvVgOcuEx6z_La7Y9pjQ=s64",
      "userId": "06049500529385007077"
     },
     "user_tz": 180
    },
    "id": "2nF6s8brp9Up"
   },
   "outputs": [],
   "source": [
    "# Criando uma lista de listas\n",
    "listas = [[1,2,3], [10,15,14], [10.1,8.7,2.3]]"
   ]
  },
  {
   "cell_type": "code",
   "execution_count": null,
   "metadata": {
    "colab": {
     "base_uri": "https://localhost:8080/"
    },
    "executionInfo": {
     "elapsed": 652,
     "status": "ok",
     "timestamp": 1618533344613,
     "user": {
      "displayName": "Mauro Ribeiro",
      "photoUrl": "https://lh3.googleusercontent.com/a-/AOh14Gh4UCHXUwlgYaT16X3IiiIvVgOcuEx6z_La7Y9pjQ=s64",
      "userId": "06049500529385007077"
     },
     "user_tz": 180
    },
    "id": "kCLmPzlGp9Up",
    "outputId": "94499573-7a4c-4944-d42e-ed38e2cd5995"
   },
   "outputs": [],
   "source": [
    "# Imprimindo a lista\n",
    "listas"
   ]
  },
  {
   "cell_type": "code",
   "execution_count": null,
   "metadata": {
    "executionInfo": {
     "elapsed": 595,
     "status": "ok",
     "timestamp": 1618533380739,
     "user": {
      "displayName": "Mauro Ribeiro",
      "photoUrl": "https://lh3.googleusercontent.com/a-/AOh14Gh4UCHXUwlgYaT16X3IiiIvVgOcuEx6z_La7Y9pjQ=s64",
      "userId": "06049500529385007077"
     },
     "user_tz": 180
    },
    "id": "Guq1iBFGp9Up"
   },
   "outputs": [],
   "source": [
    "# Atribuindo um item da lista a uma variável\n",
    "a = listas[0]"
   ]
  },
  {
   "cell_type": "code",
   "execution_count": null,
   "metadata": {
    "colab": {
     "base_uri": "https://localhost:8080/"
    },
    "executionInfo": {
     "elapsed": 609,
     "status": "ok",
     "timestamp": 1618533385491,
     "user": {
      "displayName": "Mauro Ribeiro",
      "photoUrl": "https://lh3.googleusercontent.com/a-/AOh14Gh4UCHXUwlgYaT16X3IiiIvVgOcuEx6z_La7Y9pjQ=s64",
      "userId": "06049500529385007077"
     },
     "user_tz": 180
    },
    "id": "BSaugsuip9Uq",
    "outputId": "85805f01-b713-42b2-89ff-c7c5e7a7abe8"
   },
   "outputs": [],
   "source": [
    "a"
   ]
  },
  {
   "cell_type": "code",
   "execution_count": null,
   "metadata": {
    "executionInfo": {
     "elapsed": 730,
     "status": "ok",
     "timestamp": 1618533406082,
     "user": {
      "displayName": "Mauro Ribeiro",
      "photoUrl": "https://lh3.googleusercontent.com/a-/AOh14Gh4UCHXUwlgYaT16X3IiiIvVgOcuEx6z_La7Y9pjQ=s64",
      "userId": "06049500529385007077"
     },
     "user_tz": 180
    },
    "id": "aLa3Qfytp9Uq"
   },
   "outputs": [],
   "source": [
    "b = a[0]"
   ]
  },
  {
   "cell_type": "code",
   "execution_count": null,
   "metadata": {
    "colab": {
     "base_uri": "https://localhost:8080/"
    },
    "executionInfo": {
     "elapsed": 514,
     "status": "ok",
     "timestamp": 1618533406083,
     "user": {
      "displayName": "Mauro Ribeiro",
      "photoUrl": "https://lh3.googleusercontent.com/a-/AOh14Gh4UCHXUwlgYaT16X3IiiIvVgOcuEx6z_La7Y9pjQ=s64",
      "userId": "06049500529385007077"
     },
     "user_tz": 180
    },
    "id": "5oNJZV4Hp9Uq",
    "outputId": "f6856443-570d-4c83-f1b8-c3b5ba845e05"
   },
   "outputs": [],
   "source": [
    "b"
   ]
  },
  {
   "cell_type": "code",
   "execution_count": null,
   "metadata": {
    "executionInfo": {
     "elapsed": 675,
     "status": "ok",
     "timestamp": 1618533482499,
     "user": {
      "displayName": "Mauro Ribeiro",
      "photoUrl": "https://lh3.googleusercontent.com/a-/AOh14Gh4UCHXUwlgYaT16X3IiiIvVgOcuEx6z_La7Y9pjQ=s64",
      "userId": "06049500529385007077"
     },
     "user_tz": 180
    },
    "id": "EABIRZZyp9Uq"
   },
   "outputs": [],
   "source": [
    "list1 = listas[1]"
   ]
  },
  {
   "cell_type": "code",
   "execution_count": null,
   "metadata": {
    "colab": {
     "base_uri": "https://localhost:8080/"
    },
    "executionInfo": {
     "elapsed": 608,
     "status": "ok",
     "timestamp": 1618533485436,
     "user": {
      "displayName": "Mauro Ribeiro",
      "photoUrl": "https://lh3.googleusercontent.com/a-/AOh14Gh4UCHXUwlgYaT16X3IiiIvVgOcuEx6z_La7Y9pjQ=s64",
      "userId": "06049500529385007077"
     },
     "user_tz": 180
    },
    "id": "DMCzf2rlp9Uq",
    "outputId": "f8564eb5-8186-4412-8095-695602340631"
   },
   "outputs": [],
   "source": [
    "list1"
   ]
  },
  {
   "cell_type": "code",
   "execution_count": null,
   "metadata": {
    "executionInfo": {
     "elapsed": 619,
     "status": "ok",
     "timestamp": 1618533497345,
     "user": {
      "displayName": "Mauro Ribeiro",
      "photoUrl": "https://lh3.googleusercontent.com/a-/AOh14Gh4UCHXUwlgYaT16X3IiiIvVgOcuEx6z_La7Y9pjQ=s64",
      "userId": "06049500529385007077"
     },
     "user_tz": 180
    },
    "id": "VMhDRpVsp9Ur"
   },
   "outputs": [],
   "source": [
    "valor_1_0 = list1[0]"
   ]
  },
  {
   "cell_type": "code",
   "execution_count": null,
   "metadata": {
    "id": "IdnP6jFwp9Ur",
    "outputId": "c8f1b2d8-2046-4f3b-9bb9-cdc4f06f8e61"
   },
   "outputs": [],
   "source": [
    "valor_1_0"
   ]
  },
  {
   "cell_type": "code",
   "execution_count": null,
   "metadata": {
    "id": "6GqGVoo-p9Ur"
   },
   "outputs": [],
   "source": [
    "valor_1_2 = list1[2]"
   ]
  },
  {
   "cell_type": "code",
   "execution_count": null,
   "metadata": {
    "id": "IINbqrDwp9Ur",
    "outputId": "179f2925-c06a-4739-b0e1-fa7c42384017"
   },
   "outputs": [],
   "source": [
    "valor_1_2"
   ]
  },
  {
   "cell_type": "code",
   "execution_count": null,
   "metadata": {
    "id": "lGxrCsbop9Ur"
   },
   "outputs": [],
   "source": [
    "list2 = listas[2]"
   ]
  },
  {
   "cell_type": "code",
   "execution_count": null,
   "metadata": {
    "id": "JCExeqF2p9Ur"
   },
   "outputs": [],
   "source": [
    "list2"
   ]
  },
  {
   "cell_type": "code",
   "execution_count": null,
   "metadata": {
    "id": "qv3xES6hp9Us"
   },
   "outputs": [],
   "source": [
    "valor_2_0 = list2[0]"
   ]
  },
  {
   "cell_type": "code",
   "execution_count": null,
   "metadata": {
    "id": "mZSlSs25p9Us"
   },
   "outputs": [],
   "source": [
    "valor_2_0"
   ]
  },
  {
   "cell_type": "markdown",
   "metadata": {
    "id": "AxasY-vRp9Us"
   },
   "source": [
    "### Operações com listas"
   ]
  },
  {
   "cell_type": "code",
   "execution_count": null,
   "metadata": {
    "executionInfo": {
     "elapsed": 670,
     "status": "ok",
     "timestamp": 1618533512668,
     "user": {
      "displayName": "Mauro Ribeiro",
      "photoUrl": "https://lh3.googleusercontent.com/a-/AOh14Gh4UCHXUwlgYaT16X3IiiIvVgOcuEx6z_La7Y9pjQ=s64",
      "userId": "06049500529385007077"
     },
     "user_tz": 180
    },
    "id": "KtAfUgQLp9Us"
   },
   "outputs": [],
   "source": [
    "# Criando uma lista aninhada (lista de listas)\n",
    "listas = [[1,2,3], [10,15,14], [10.1,8.7,2.3]]"
   ]
  },
  {
   "cell_type": "code",
   "execution_count": null,
   "metadata": {
    "colab": {
     "base_uri": "https://localhost:8080/"
    },
    "executionInfo": {
     "elapsed": 688,
     "status": "ok",
     "timestamp": 1618533514773,
     "user": {
      "displayName": "Mauro Ribeiro",
      "photoUrl": "https://lh3.googleusercontent.com/a-/AOh14Gh4UCHXUwlgYaT16X3IiiIvVgOcuEx6z_La7Y9pjQ=s64",
      "userId": "06049500529385007077"
     },
     "user_tz": 180
    },
    "id": "TjkCIj4Wp9Us",
    "outputId": "e979981d-f63c-4032-916d-3970900278b5"
   },
   "outputs": [],
   "source": [
    "listas"
   ]
  },
  {
   "cell_type": "code",
   "execution_count": null,
   "metadata": {
    "executionInfo": {
     "elapsed": 606,
     "status": "ok",
     "timestamp": 1618533565447,
     "user": {
      "displayName": "Mauro Ribeiro",
      "photoUrl": "https://lh3.googleusercontent.com/a-/AOh14Gh4UCHXUwlgYaT16X3IiiIvVgOcuEx6z_La7Y9pjQ=s64",
      "userId": "06049500529385007077"
     },
     "user_tz": 180
    },
    "id": "4dG6IJw1p9Ut"
   },
   "outputs": [],
   "source": [
    "# Atribuindo à variável a, o primeiro valor da primeira lista\n",
    "a = listas[2][2]"
   ]
  },
  {
   "cell_type": "code",
   "execution_count": null,
   "metadata": {
    "colab": {
     "base_uri": "https://localhost:8080/"
    },
    "executionInfo": {
     "elapsed": 631,
     "status": "ok",
     "timestamp": 1618533568112,
     "user": {
      "displayName": "Mauro Ribeiro",
      "photoUrl": "https://lh3.googleusercontent.com/a-/AOh14Gh4UCHXUwlgYaT16X3IiiIvVgOcuEx6z_La7Y9pjQ=s64",
      "userId": "06049500529385007077"
     },
     "user_tz": 180
    },
    "id": "lUL89b7Tp9Ut",
    "outputId": "586998d2-4ec0-4ee5-99db-64b71272bc41"
   },
   "outputs": [],
   "source": [
    "a"
   ]
  },
  {
   "cell_type": "code",
   "execution_count": null,
   "metadata": {
    "id": "LT9q6G9Bp9Ut"
   },
   "outputs": [],
   "source": [
    "b = listas[1][2]"
   ]
  },
  {
   "cell_type": "code",
   "execution_count": null,
   "metadata": {
    "id": "VAvDee1-p9Ut",
    "outputId": "f1b96c9e-7b3b-462b-a4df-1492ae5b6aa7"
   },
   "outputs": [],
   "source": [
    "b"
   ]
  },
  {
   "cell_type": "code",
   "execution_count": null,
   "metadata": {
    "id": "dy0hrIE1p9Ut"
   },
   "outputs": [],
   "source": [
    "c = listas[0][2] + 10"
   ]
  },
  {
   "cell_type": "code",
   "execution_count": null,
   "metadata": {
    "id": "Js1Fk_r3p9Uu",
    "outputId": "9d82fa98-5933-4193-caac-83fcbf660094"
   },
   "outputs": [],
   "source": [
    "c"
   ]
  },
  {
   "cell_type": "code",
   "execution_count": null,
   "metadata": {
    "id": "SWd9pVQKp9Uu"
   },
   "outputs": [],
   "source": [
    "d = 10"
   ]
  },
  {
   "cell_type": "code",
   "execution_count": null,
   "metadata": {
    "id": "BoGXSur3p9Uu",
    "outputId": "cec2b895-ca5f-43bb-d42d-ab1639b41390"
   },
   "outputs": [],
   "source": [
    "d"
   ]
  },
  {
   "cell_type": "code",
   "execution_count": null,
   "metadata": {
    "id": "KWNogoUtp9Uu"
   },
   "outputs": [],
   "source": [
    "e = d * listas[2][0]"
   ]
  },
  {
   "cell_type": "code",
   "execution_count": null,
   "metadata": {
    "id": "pC2UNm2Hp9Uu",
    "outputId": "53aff8b0-3eac-4826-c5c3-f8f757c6c5e2"
   },
   "outputs": [],
   "source": [
    "e"
   ]
  },
  {
   "cell_type": "markdown",
   "metadata": {
    "id": "ZbPGmMnKp9Uu"
   },
   "source": [
    "### Concatenando listas"
   ]
  },
  {
   "cell_type": "code",
   "execution_count": null,
   "metadata": {
    "executionInfo": {
     "elapsed": 560,
     "status": "ok",
     "timestamp": 1618533652266,
     "user": {
      "displayName": "Mauro Ribeiro",
      "photoUrl": "https://lh3.googleusercontent.com/a-/AOh14Gh4UCHXUwlgYaT16X3IiiIvVgOcuEx6z_La7Y9pjQ=s64",
      "userId": "06049500529385007077"
     },
     "user_tz": 180
    },
    "id": "g86KdVL6p9Uv"
   },
   "outputs": [],
   "source": [
    "lista_s1 = [34, 51,32, 56]"
   ]
  },
  {
   "cell_type": "code",
   "execution_count": null,
   "metadata": {
    "colab": {
     "base_uri": "https://localhost:8080/"
    },
    "executionInfo": {
     "elapsed": 879,
     "status": "ok",
     "timestamp": 1618533653183,
     "user": {
      "displayName": "Mauro Ribeiro",
      "photoUrl": "https://lh3.googleusercontent.com/a-/AOh14Gh4UCHXUwlgYaT16X3IiiIvVgOcuEx6z_La7Y9pjQ=s64",
      "userId": "06049500529385007077"
     },
     "user_tz": 180
    },
    "id": "PmUwX80Xp9Uv",
    "outputId": "3b2f1e3e-41cf-4fba-8eb5-019c87cb9434"
   },
   "outputs": [],
   "source": [
    "lista_s1"
   ]
  },
  {
   "cell_type": "code",
   "execution_count": null,
   "metadata": {
    "executionInfo": {
     "elapsed": 661,
     "status": "ok",
     "timestamp": 1618533654617,
     "user": {
      "displayName": "Mauro Ribeiro",
      "photoUrl": "https://lh3.googleusercontent.com/a-/AOh14Gh4UCHXUwlgYaT16X3IiiIvVgOcuEx6z_La7Y9pjQ=s64",
      "userId": "06049500529385007077"
     },
     "user_tz": 180
    },
    "id": "GdtqLzJap9Uv"
   },
   "outputs": [],
   "source": [
    "lista_s2 = [21, 90, 51, 51]"
   ]
  },
  {
   "cell_type": "code",
   "execution_count": null,
   "metadata": {
    "colab": {
     "base_uri": "https://localhost:8080/"
    },
    "executionInfo": {
     "elapsed": 842,
     "status": "ok",
     "timestamp": 1618533655572,
     "user": {
      "displayName": "Mauro Ribeiro",
      "photoUrl": "https://lh3.googleusercontent.com/a-/AOh14Gh4UCHXUwlgYaT16X3IiiIvVgOcuEx6z_La7Y9pjQ=s64",
      "userId": "06049500529385007077"
     },
     "user_tz": 180
    },
    "id": "4ooIuUrzp9Uv",
    "outputId": "b3ba0956-0c00-4985-8d58-456a635825ed"
   },
   "outputs": [],
   "source": [
    "lista_s2"
   ]
  },
  {
   "cell_type": "code",
   "execution_count": null,
   "metadata": {
    "executionInfo": {
     "elapsed": 581,
     "status": "ok",
     "timestamp": 1618533656484,
     "user": {
      "displayName": "Mauro Ribeiro",
      "photoUrl": "https://lh3.googleusercontent.com/a-/AOh14Gh4UCHXUwlgYaT16X3IiiIvVgOcuEx6z_La7Y9pjQ=s64",
      "userId": "06049500529385007077"
     },
     "user_tz": 180
    },
    "id": "fXVJM5u9p9Uv"
   },
   "outputs": [],
   "source": [
    "# Concatenando listas\n",
    "lista_total = lista_s1 + lista_s2"
   ]
  },
  {
   "cell_type": "code",
   "execution_count": null,
   "metadata": {
    "colab": {
     "base_uri": "https://localhost:8080/"
    },
    "executionInfo": {
     "elapsed": 836,
     "status": "ok",
     "timestamp": 1618533657521,
     "user": {
      "displayName": "Mauro Ribeiro",
      "photoUrl": "https://lh3.googleusercontent.com/a-/AOh14Gh4UCHXUwlgYaT16X3IiiIvVgOcuEx6z_La7Y9pjQ=s64",
      "userId": "06049500529385007077"
     },
     "user_tz": 180
    },
    "id": "Tbf4g0UTp9Uv",
    "outputId": "4aed181f-e5c8-43d3-d481-5205d12fcb11"
   },
   "outputs": [],
   "source": [
    "lista_total"
   ]
  },
  {
   "cell_type": "markdown",
   "metadata": {
    "id": "h65vXN2xp9Uw"
   },
   "source": [
    "## Operador in"
   ]
  },
  {
   "cell_type": "code",
   "execution_count": null,
   "metadata": {
    "executionInfo": {
     "elapsed": 572,
     "status": "ok",
     "timestamp": 1618533690657,
     "user": {
      "displayName": "Mauro Ribeiro",
      "photoUrl": "https://lh3.googleusercontent.com/a-/AOh14Gh4UCHXUwlgYaT16X3IiiIvVgOcuEx6z_La7Y9pjQ=s64",
      "userId": "06049500529385007077"
     },
     "user_tz": 180
    },
    "id": "UwRI9V-5p9Uw"
   },
   "outputs": [],
   "source": [
    "# Criando uma lista\n",
    "lista_teste_op = [100, 2, -5, 3.4]"
   ]
  },
  {
   "cell_type": "code",
   "execution_count": null,
   "metadata": {
    "colab": {
     "base_uri": "https://localhost:8080/"
    },
    "executionInfo": {
     "elapsed": 672,
     "status": "ok",
     "timestamp": 1618533705820,
     "user": {
      "displayName": "Mauro Ribeiro",
      "photoUrl": "https://lh3.googleusercontent.com/a-/AOh14Gh4UCHXUwlgYaT16X3IiiIvVgOcuEx6z_La7Y9pjQ=s64",
      "userId": "06049500529385007077"
     },
     "user_tz": 180
    },
    "id": "QvuJqAdpp9Uw",
    "outputId": "0d52d213-c010-41cf-faa0-0162b6b70b4f"
   },
   "outputs": [],
   "source": [
    "# Verificando se o valor 10 pertence a lista\n",
    "print(10 in lista_teste_op)"
   ]
  },
  {
   "cell_type": "code",
   "execution_count": null,
   "metadata": {
    "colab": {
     "base_uri": "https://localhost:8080/"
    },
    "executionInfo": {
     "elapsed": 598,
     "status": "ok",
     "timestamp": 1618533713064,
     "user": {
      "displayName": "Mauro Ribeiro",
      "photoUrl": "https://lh3.googleusercontent.com/a-/AOh14Gh4UCHXUwlgYaT16X3IiiIvVgOcuEx6z_La7Y9pjQ=s64",
      "userId": "06049500529385007077"
     },
     "user_tz": 180
    },
    "id": "0gUs6HmQp9Uw",
    "outputId": "d778eb56-613c-4058-87fc-e3626e88fa91"
   },
   "outputs": [],
   "source": [
    "# Verificando se o valor 100 pertence a lista\n",
    "print(100 in lista_teste_op)"
   ]
  },
  {
   "cell_type": "code",
   "execution_count": null,
   "metadata": {
    "colab": {
     "base_uri": "https://localhost:8080/"
    },
    "executionInfo": {
     "elapsed": 583,
     "status": "ok",
     "timestamp": 1618533724403,
     "user": {
      "displayName": "Mauro Ribeiro",
      "photoUrl": "https://lh3.googleusercontent.com/a-/AOh14Gh4UCHXUwlgYaT16X3IiiIvVgOcuEx6z_La7Y9pjQ=s64",
      "userId": "06049500529385007077"
     },
     "user_tz": 180
    },
    "id": "MUb9ewlcIJwf",
    "outputId": "9272148b-f795-4862-9639-59e95f7b6dd5"
   },
   "outputs": [],
   "source": [
    "100 in lista_teste_op"
   ]
  },
  {
   "cell_type": "markdown",
   "metadata": {
    "id": "_tsCRKD0p9Ux"
   },
   "source": [
    "## Funções Built-in"
   ]
  },
  {
   "cell_type": "code",
   "execution_count": null,
   "metadata": {
    "colab": {
     "base_uri": "https://localhost:8080/"
    },
    "executionInfo": {
     "elapsed": 657,
     "status": "ok",
     "timestamp": 1618533753778,
     "user": {
      "displayName": "Mauro Ribeiro",
      "photoUrl": "https://lh3.googleusercontent.com/a-/AOh14Gh4UCHXUwlgYaT16X3IiiIvVgOcuEx6z_La7Y9pjQ=s64",
      "userId": "06049500529385007077"
     },
     "user_tz": 180
    },
    "id": "1gBLOSU-IRof",
    "outputId": "a326c486-855a-4511-b235-c664b1449771"
   },
   "outputs": [],
   "source": [
    "lista_teste_op"
   ]
  },
  {
   "cell_type": "code",
   "execution_count": null,
   "metadata": {
    "colab": {
     "base_uri": "https://localhost:8080/"
    },
    "executionInfo": {
     "elapsed": 607,
     "status": "ok",
     "timestamp": 1618533761746,
     "user": {
      "displayName": "Mauro Ribeiro",
      "photoUrl": "https://lh3.googleusercontent.com/a-/AOh14Gh4UCHXUwlgYaT16X3IiiIvVgOcuEx6z_La7Y9pjQ=s64",
      "userId": "06049500529385007077"
     },
     "user_tz": 180
    },
    "id": "_4LYIF0up9Ux",
    "outputId": "d3b66f73-7b7e-4c86-c053-087682df410d"
   },
   "outputs": [],
   "source": [
    "# Função len() retorna o comprimento da lista\n",
    "len(lista_teste_op)"
   ]
  },
  {
   "cell_type": "code",
   "execution_count": null,
   "metadata": {
    "colab": {
     "base_uri": "https://localhost:8080/"
    },
    "executionInfo": {
     "elapsed": 597,
     "status": "ok",
     "timestamp": 1618533767601,
     "user": {
      "displayName": "Mauro Ribeiro",
      "photoUrl": "https://lh3.googleusercontent.com/a-/AOh14Gh4UCHXUwlgYaT16X3IiiIvVgOcuEx6z_La7Y9pjQ=s64",
      "userId": "06049500529385007077"
     },
     "user_tz": 180
    },
    "id": "Wr_lr6HWp9Ux",
    "outputId": "fda8d174-71ca-4212-8c22-730cc4e642e3"
   },
   "outputs": [],
   "source": [
    "# Função max() retorna o valor máximo da lista\n",
    "max(lista_teste_op)"
   ]
  },
  {
   "cell_type": "code",
   "execution_count": null,
   "metadata": {
    "colab": {
     "base_uri": "https://localhost:8080/"
    },
    "executionInfo": {
     "elapsed": 622,
     "status": "ok",
     "timestamp": 1618533771403,
     "user": {
      "displayName": "Mauro Ribeiro",
      "photoUrl": "https://lh3.googleusercontent.com/a-/AOh14Gh4UCHXUwlgYaT16X3IiiIvVgOcuEx6z_La7Y9pjQ=s64",
      "userId": "06049500529385007077"
     },
     "user_tz": 180
    },
    "id": "oA50glK-p9Ux",
    "outputId": "9cbf6eb0-deb9-479c-d392-00119e0cec5d"
   },
   "outputs": [],
   "source": [
    "# Função min() retorna o valor mínimo da lista\n",
    "min(lista_teste_op)"
   ]
  },
  {
   "cell_type": "code",
   "execution_count": null,
   "metadata": {
    "executionInfo": {
     "elapsed": 645,
     "status": "ok",
     "timestamp": 1618533780610,
     "user": {
      "displayName": "Mauro Ribeiro",
      "photoUrl": "https://lh3.googleusercontent.com/a-/AOh14Gh4UCHXUwlgYaT16X3IiiIvVgOcuEx6z_La7Y9pjQ=s64",
      "userId": "06049500529385007077"
     },
     "user_tz": 180
    },
    "id": "PWjzLdbgp9Ux"
   },
   "outputs": [],
   "source": [
    "# Criando uma lista\n",
    "listadomercado2 = [\"ovos\", \"farinha\", \"leite\", \"maças\"]"
   ]
  },
  {
   "cell_type": "code",
   "execution_count": null,
   "metadata": {
    "executionInfo": {
     "elapsed": 724,
     "status": "ok",
     "timestamp": 1618533793742,
     "user": {
      "displayName": "Mauro Ribeiro",
      "photoUrl": "https://lh3.googleusercontent.com/a-/AOh14Gh4UCHXUwlgYaT16X3IiiIvVgOcuEx6z_La7Y9pjQ=s64",
      "userId": "06049500529385007077"
     },
     "user_tz": 180
    },
    "id": "dxmoB-Plp9Uy"
   },
   "outputs": [],
   "source": [
    "# Adicionando um item à lista\n",
    "listadomercado2.append(\"carne\")"
   ]
  },
  {
   "cell_type": "code",
   "execution_count": null,
   "metadata": {
    "colab": {
     "base_uri": "https://localhost:8080/"
    },
    "executionInfo": {
     "elapsed": 730,
     "status": "ok",
     "timestamp": 1618533805082,
     "user": {
      "displayName": "Mauro Ribeiro",
      "photoUrl": "https://lh3.googleusercontent.com/a-/AOh14Gh4UCHXUwlgYaT16X3IiiIvVgOcuEx6z_La7Y9pjQ=s64",
      "userId": "06049500529385007077"
     },
     "user_tz": 180
    },
    "id": "TsyoSlINp9Uy",
    "outputId": "cfc861e8-f896-42fe-b0dd-faa7f2b5e71f"
   },
   "outputs": [],
   "source": [
    "listadomercado2"
   ]
  },
  {
   "cell_type": "code",
   "execution_count": null,
   "metadata": {
    "executionInfo": {
     "elapsed": 631,
     "status": "ok",
     "timestamp": 1618533811290,
     "user": {
      "displayName": "Mauro Ribeiro",
      "photoUrl": "https://lh3.googleusercontent.com/a-/AOh14Gh4UCHXUwlgYaT16X3IiiIvVgOcuEx6z_La7Y9pjQ=s64",
      "userId": "06049500529385007077"
     },
     "user_tz": 180
    },
    "id": "NPa2c7JBp9Uy"
   },
   "outputs": [],
   "source": [
    "listadomercado2.append(\"carne\")"
   ]
  },
  {
   "cell_type": "code",
   "execution_count": null,
   "metadata": {
    "colab": {
     "base_uri": "https://localhost:8080/"
    },
    "executionInfo": {
     "elapsed": 707,
     "status": "ok",
     "timestamp": 1618533813594,
     "user": {
      "displayName": "Mauro Ribeiro",
      "photoUrl": "https://lh3.googleusercontent.com/a-/AOh14Gh4UCHXUwlgYaT16X3IiiIvVgOcuEx6z_La7Y9pjQ=s64",
      "userId": "06049500529385007077"
     },
     "user_tz": 180
    },
    "id": "1PIrbl6zp9Uy",
    "outputId": "5979f5a4-3e4e-4a87-81c8-850dc760d265"
   },
   "outputs": [],
   "source": [
    "listadomercado2"
   ]
  },
  {
   "cell_type": "code",
   "execution_count": null,
   "metadata": {
    "colab": {
     "base_uri": "https://localhost:8080/"
    },
    "executionInfo": {
     "elapsed": 680,
     "status": "ok",
     "timestamp": 1618533817358,
     "user": {
      "displayName": "Mauro Ribeiro",
      "photoUrl": "https://lh3.googleusercontent.com/a-/AOh14Gh4UCHXUwlgYaT16X3IiiIvVgOcuEx6z_La7Y9pjQ=s64",
      "userId": "06049500529385007077"
     },
     "user_tz": 180
    },
    "id": "rKxl6yfxp9Uy",
    "outputId": "c8b9e720-3f8e-461d-e1c7-818e43496044"
   },
   "outputs": [],
   "source": [
    "listadomercado2.count(\"carne\")"
   ]
  },
  {
   "cell_type": "code",
   "execution_count": null,
   "metadata": {
    "executionInfo": {
     "elapsed": 606,
     "status": "ok",
     "timestamp": 1618533855155,
     "user": {
      "displayName": "Mauro Ribeiro",
      "photoUrl": "https://lh3.googleusercontent.com/a-/AOh14Gh4UCHXUwlgYaT16X3IiiIvVgOcuEx6z_La7Y9pjQ=s64",
      "userId": "06049500529385007077"
     },
     "user_tz": 180
    },
    "id": "Q8gYZqdfp9Uy"
   },
   "outputs": [],
   "source": [
    "# Criando uma lista vazia\n",
    "a = []"
   ]
  },
  {
   "cell_type": "code",
   "execution_count": null,
   "metadata": {
    "colab": {
     "base_uri": "https://localhost:8080/"
    },
    "executionInfo": {
     "elapsed": 603,
     "status": "ok",
     "timestamp": 1618533862422,
     "user": {
      "displayName": "Mauro Ribeiro",
      "photoUrl": "https://lh3.googleusercontent.com/a-/AOh14Gh4UCHXUwlgYaT16X3IiiIvVgOcuEx6z_La7Y9pjQ=s64",
      "userId": "06049500529385007077"
     },
     "user_tz": 180
    },
    "id": "TXw3atABp9Uz",
    "outputId": "306f2b0c-3ff5-42ec-b54e-8573b0e39ce5"
   },
   "outputs": [],
   "source": [
    "print(a)"
   ]
  },
  {
   "cell_type": "code",
   "execution_count": null,
   "metadata": {
    "colab": {
     "base_uri": "https://localhost:8080/"
    },
    "executionInfo": {
     "elapsed": 749,
     "status": "ok",
     "timestamp": 1618533867283,
     "user": {
      "displayName": "Mauro Ribeiro",
      "photoUrl": "https://lh3.googleusercontent.com/a-/AOh14Gh4UCHXUwlgYaT16X3IiiIvVgOcuEx6z_La7Y9pjQ=s64",
      "userId": "06049500529385007077"
     },
     "user_tz": 180
    },
    "id": "YXjsR2_fp9Uz",
    "outputId": "072949ca-d407-4a02-af3b-91c877a74b27"
   },
   "outputs": [],
   "source": [
    "type(a)"
   ]
  },
  {
   "cell_type": "code",
   "execution_count": null,
   "metadata": {
    "executionInfo": {
     "elapsed": 741,
     "status": "ok",
     "timestamp": 1618533939187,
     "user": {
      "displayName": "Mauro Ribeiro",
      "photoUrl": "https://lh3.googleusercontent.com/a-/AOh14Gh4UCHXUwlgYaT16X3IiiIvVgOcuEx6z_La7Y9pjQ=s64",
      "userId": "06049500529385007077"
     },
     "user_tz": 180
    },
    "id": "mPcPMlilp9Uz"
   },
   "outputs": [],
   "source": [
    "a.append(10)"
   ]
  },
  {
   "cell_type": "code",
   "execution_count": null,
   "metadata": {
    "colab": {
     "base_uri": "https://localhost:8080/"
    },
    "executionInfo": {
     "elapsed": 957,
     "status": "ok",
     "timestamp": 1618533948102,
     "user": {
      "displayName": "Mauro Ribeiro",
      "photoUrl": "https://lh3.googleusercontent.com/a-/AOh14Gh4UCHXUwlgYaT16X3IiiIvVgOcuEx6z_La7Y9pjQ=s64",
      "userId": "06049500529385007077"
     },
     "user_tz": 180
    },
    "id": "HgR5iAV5p9Uz",
    "outputId": "5de776b4-7438-428a-a12f-bd891be53f71"
   },
   "outputs": [],
   "source": [
    "a"
   ]
  },
  {
   "cell_type": "code",
   "execution_count": null,
   "metadata": {
    "executionInfo": {
     "elapsed": 620,
     "status": "ok",
     "timestamp": 1618533951014,
     "user": {
      "displayName": "Mauro Ribeiro",
      "photoUrl": "https://lh3.googleusercontent.com/a-/AOh14Gh4UCHXUwlgYaT16X3IiiIvVgOcuEx6z_La7Y9pjQ=s64",
      "userId": "06049500529385007077"
     },
     "user_tz": 180
    },
    "id": "ZP1eGLvcp9Uz"
   },
   "outputs": [],
   "source": [
    "a.append(50)"
   ]
  },
  {
   "cell_type": "code",
   "execution_count": null,
   "metadata": {
    "colab": {
     "base_uri": "https://localhost:8080/"
    },
    "executionInfo": {
     "elapsed": 637,
     "status": "ok",
     "timestamp": 1618533953293,
     "user": {
      "displayName": "Mauro Ribeiro",
      "photoUrl": "https://lh3.googleusercontent.com/a-/AOh14Gh4UCHXUwlgYaT16X3IiiIvVgOcuEx6z_La7Y9pjQ=s64",
      "userId": "06049500529385007077"
     },
     "user_tz": 180
    },
    "id": "R--F5I1up9Uz",
    "outputId": "00c96a55-0b60-4055-c01c-a7250b4181c5"
   },
   "outputs": [],
   "source": [
    "a"
   ]
  },
  {
   "cell_type": "code",
   "execution_count": null,
   "metadata": {
    "executionInfo": {
     "elapsed": 731,
     "status": "ok",
     "timestamp": 1618533961666,
     "user": {
      "displayName": "Mauro Ribeiro",
      "photoUrl": "https://lh3.googleusercontent.com/a-/AOh14Gh4UCHXUwlgYaT16X3IiiIvVgOcuEx6z_La7Y9pjQ=s64",
      "userId": "06049500529385007077"
     },
     "user_tz": 180
    },
    "id": "YEkgBwtEp9U0"
   },
   "outputs": [],
   "source": [
    "old_list = [1,2,5,10]"
   ]
  },
  {
   "cell_type": "code",
   "execution_count": null,
   "metadata": {
    "executionInfo": {
     "elapsed": 598,
     "status": "ok",
     "timestamp": 1618534075298,
     "user": {
      "displayName": "Mauro Ribeiro",
      "photoUrl": "https://lh3.googleusercontent.com/a-/AOh14Gh4UCHXUwlgYaT16X3IiiIvVgOcuEx6z_La7Y9pjQ=s64",
      "userId": "06049500529385007077"
     },
     "user_tz": 180
    },
    "id": "J5IOd2gXp9U0"
   },
   "outputs": [],
   "source": [
    "new_list = []"
   ]
  },
  {
   "cell_type": "code",
   "execution_count": null,
   "metadata": {
    "executionInfo": {
     "elapsed": 593,
     "status": "ok",
     "timestamp": 1618534077076,
     "user": {
      "displayName": "Mauro Ribeiro",
      "photoUrl": "https://lh3.googleusercontent.com/a-/AOh14Gh4UCHXUwlgYaT16X3IiiIvVgOcuEx6z_La7Y9pjQ=s64",
      "userId": "06049500529385007077"
     },
     "user_tz": 180
    },
    "id": "2G49X2Mxp9U0"
   },
   "outputs": [],
   "source": [
    "# Copiando os itens de uma lista para outra\n",
    "for item in old_list:\n",
    "    new_list.append(item)"
   ]
  },
  {
   "cell_type": "code",
   "execution_count": null,
   "metadata": {
    "colab": {
     "base_uri": "https://localhost:8080/"
    },
    "executionInfo": {
     "elapsed": 610,
     "status": "ok",
     "timestamp": 1618534078496,
     "user": {
      "displayName": "Mauro Ribeiro",
      "photoUrl": "https://lh3.googleusercontent.com/a-/AOh14Gh4UCHXUwlgYaT16X3IiiIvVgOcuEx6z_La7Y9pjQ=s64",
      "userId": "06049500529385007077"
     },
     "user_tz": 180
    },
    "id": "L81hqn-Up9U0",
    "outputId": "79758c3e-c7d8-4520-a88d-180b3c5067dd"
   },
   "outputs": [],
   "source": [
    "new_list"
   ]
  },
  {
   "cell_type": "code",
   "execution_count": null,
   "metadata": {
    "executionInfo": {
     "elapsed": 652,
     "status": "ok",
     "timestamp": 1618534098532,
     "user": {
      "displayName": "Mauro Ribeiro",
      "photoUrl": "https://lh3.googleusercontent.com/a-/AOh14Gh4UCHXUwlgYaT16X3IiiIvVgOcuEx6z_La7Y9pjQ=s64",
      "userId": "06049500529385007077"
     },
     "user_tz": 180
    },
    "id": "xEuBmsgnp9U0"
   },
   "outputs": [],
   "source": [
    "c = [20,30]"
   ]
  },
  {
   "cell_type": "code",
   "execution_count": null,
   "metadata": {
    "executionInfo": {
     "elapsed": 585,
     "status": "ok",
     "timestamp": 1618534101042,
     "user": {
      "displayName": "Mauro Ribeiro",
      "photoUrl": "https://lh3.googleusercontent.com/a-/AOh14Gh4UCHXUwlgYaT16X3IiiIvVgOcuEx6z_La7Y9pjQ=s64",
      "userId": "06049500529385007077"
     },
     "user_tz": 180
    },
    "id": "j3uxBXFtp9U0"
   },
   "outputs": [],
   "source": [
    "c.append(60)"
   ]
  },
  {
   "cell_type": "code",
   "execution_count": null,
   "metadata": {
    "executionInfo": {
     "elapsed": 597,
     "status": "ok",
     "timestamp": 1618534106176,
     "user": {
      "displayName": "Mauro Ribeiro",
      "photoUrl": "https://lh3.googleusercontent.com/a-/AOh14Gh4UCHXUwlgYaT16X3IiiIvVgOcuEx6z_La7Y9pjQ=s64",
      "userId": "06049500529385007077"
     },
     "user_tz": 180
    },
    "id": "JdCwInmcp9U0"
   },
   "outputs": [],
   "source": [
    "c.append(70)"
   ]
  },
  {
   "cell_type": "code",
   "execution_count": null,
   "metadata": {
    "colab": {
     "base_uri": "https://localhost:8080/"
    },
    "executionInfo": {
     "elapsed": 707,
     "status": "ok",
     "timestamp": 1618534107218,
     "user": {
      "displayName": "Mauro Ribeiro",
      "photoUrl": "https://lh3.googleusercontent.com/a-/AOh14Gh4UCHXUwlgYaT16X3IiiIvVgOcuEx6z_La7Y9pjQ=s64",
      "userId": "06049500529385007077"
     },
     "user_tz": 180
    },
    "id": "YKufJmHSp9U1",
    "outputId": "593d8eb6-98e3-4451-ebb6-16c8b86135a8"
   },
   "outputs": [],
   "source": [
    "c"
   ]
  },
  {
   "cell_type": "code",
   "execution_count": null,
   "metadata": {
    "colab": {
     "base_uri": "https://localhost:8080/"
    },
    "executionInfo": {
     "elapsed": 603,
     "status": "ok",
     "timestamp": 1618534109372,
     "user": {
      "displayName": "Mauro Ribeiro",
      "photoUrl": "https://lh3.googleusercontent.com/a-/AOh14Gh4UCHXUwlgYaT16X3IiiIvVgOcuEx6z_La7Y9pjQ=s64",
      "userId": "06049500529385007077"
     },
     "user_tz": 180
    },
    "id": "zUKOx92xp9U1",
    "outputId": "9f3d6257-975e-4917-c3cb-750aa2ccdc1d"
   },
   "outputs": [],
   "source": [
    "c.count(20)"
   ]
  },
  {
   "cell_type": "code",
   "execution_count": null,
   "metadata": {
    "colab": {
     "base_uri": "https://localhost:8080/"
    },
    "executionInfo": {
     "elapsed": 1008,
     "status": "ok",
     "timestamp": 1618534203267,
     "user": {
      "displayName": "Mauro Ribeiro",
      "photoUrl": "https://lh3.googleusercontent.com/a-/AOh14Gh4UCHXUwlgYaT16X3IiiIvVgOcuEx6z_La7Y9pjQ=s64",
      "userId": "06049500529385007077"
     },
     "user_tz": 180
    },
    "id": "nrVXv1eYp9U1",
    "outputId": "75394769-34d0-478f-f44c-7fb08f4f3a32"
   },
   "outputs": [],
   "source": [
    "cidades = ['Recife', 'Manaus', 'Salvador']\n",
    "cidades.extend(['Fortaleza', 'Palmas'])\n",
    "print (cidades)"
   ]
  },
  {
   "cell_type": "code",
   "execution_count": null,
   "metadata": {
    "colab": {
     "base_uri": "https://localhost:8080/"
    },
    "executionInfo": {
     "elapsed": 597,
     "status": "ok",
     "timestamp": 1618534232753,
     "user": {
      "displayName": "Mauro Ribeiro",
      "photoUrl": "https://lh3.googleusercontent.com/a-/AOh14Gh4UCHXUwlgYaT16X3IiiIvVgOcuEx6z_La7Y9pjQ=s64",
      "userId": "06049500529385007077"
     },
     "user_tz": 180
    },
    "id": "lp1GxmY4p9U1",
    "outputId": "ae470028-0bbe-42f8-b5e8-f78dcabe4e7c"
   },
   "outputs": [],
   "source": [
    "cidades.index('Salvador')"
   ]
  },
  {
   "cell_type": "markdown",
   "metadata": {
    "id": "5mntWxR0p9U1"
   },
   "source": [
    "Lembre-se: em Python o índice começa por 0!"
   ]
  },
  {
   "cell_type": "code",
   "execution_count": null,
   "metadata": {
    "colab": {
     "base_uri": "https://localhost:8080/",
     "height": 162
    },
    "executionInfo": {
     "elapsed": 794,
     "status": "error",
     "timestamp": 1618534244691,
     "user": {
      "displayName": "Mauro Ribeiro",
      "photoUrl": "https://lh3.googleusercontent.com/a-/AOh14Gh4UCHXUwlgYaT16X3IiiIvVgOcuEx6z_La7Y9pjQ=s64",
      "userId": "06049500529385007077"
     },
     "user_tz": 180
    },
    "id": "YdezPz4Vp9U2",
    "outputId": "c3d44d72-a070-4d66-a512-b9251afcd6ea"
   },
   "outputs": [],
   "source": [
    "cidades.index('Rio de Janeiro')"
   ]
  },
  {
   "cell_type": "code",
   "execution_count": null,
   "metadata": {
    "colab": {
     "base_uri": "https://localhost:8080/"
    },
    "executionInfo": {
     "elapsed": 599,
     "status": "ok",
     "timestamp": 1618534250570,
     "user": {
      "displayName": "Mauro Ribeiro",
      "photoUrl": "https://lh3.googleusercontent.com/a-/AOh14Gh4UCHXUwlgYaT16X3IiiIvVgOcuEx6z_La7Y9pjQ=s64",
      "userId": "06049500529385007077"
     },
     "user_tz": 180
    },
    "id": "NEKwmVP0p9U2",
    "outputId": "d2a9baea-3520-449c-c7f8-7df8891b2246"
   },
   "outputs": [],
   "source": [
    "cidades"
   ]
  },
  {
   "cell_type": "code",
   "execution_count": null,
   "metadata": {
    "executionInfo": {
     "elapsed": 568,
     "status": "ok",
     "timestamp": 1618534305558,
     "user": {
      "displayName": "Mauro Ribeiro",
      "photoUrl": "https://lh3.googleusercontent.com/a-/AOh14Gh4UCHXUwlgYaT16X3IiiIvVgOcuEx6z_La7Y9pjQ=s64",
      "userId": "06049500529385007077"
     },
     "user_tz": 180
    },
    "id": "zjwiLWkOp9U2"
   },
   "outputs": [],
   "source": [
    "cidades.insert(2, 'Aramina')"
   ]
  },
  {
   "cell_type": "code",
   "execution_count": null,
   "metadata": {
    "colab": {
     "base_uri": "https://localhost:8080/"
    },
    "executionInfo": {
     "elapsed": 395,
     "status": "ok",
     "timestamp": 1618534308384,
     "user": {
      "displayName": "Mauro Ribeiro",
      "photoUrl": "https://lh3.googleusercontent.com/a-/AOh14Gh4UCHXUwlgYaT16X3IiiIvVgOcuEx6z_La7Y9pjQ=s64",
      "userId": "06049500529385007077"
     },
     "user_tz": 180
    },
    "id": "FaUsiS64p9U2",
    "outputId": "df2eef47-6f66-453f-85bc-2d34e4fd4cd7"
   },
   "outputs": [],
   "source": [
    "cidades"
   ]
  },
  {
   "cell_type": "code",
   "execution_count": null,
   "metadata": {
    "executionInfo": {
     "elapsed": 637,
     "status": "ok",
     "timestamp": 1618534314624,
     "user": {
      "displayName": "Mauro Ribeiro",
      "photoUrl": "https://lh3.googleusercontent.com/a-/AOh14Gh4UCHXUwlgYaT16X3IiiIvVgOcuEx6z_La7Y9pjQ=s64",
      "userId": "06049500529385007077"
     },
     "user_tz": 180
    },
    "id": "O-eBShE2p9U2"
   },
   "outputs": [],
   "source": [
    "# Remove um item da lista\n",
    "cidades.remove(110)"
   ]
  },
  {
   "cell_type": "code",
   "execution_count": null,
   "metadata": {
    "colab": {
     "base_uri": "https://localhost:8080/"
    },
    "executionInfo": {
     "elapsed": 958,
     "status": "ok",
     "timestamp": 1618534317603,
     "user": {
      "displayName": "Mauro Ribeiro",
      "photoUrl": "https://lh3.googleusercontent.com/a-/AOh14Gh4UCHXUwlgYaT16X3IiiIvVgOcuEx6z_La7Y9pjQ=s64",
      "userId": "06049500529385007077"
     },
     "user_tz": 180
    },
    "id": "QfVXSJk6p9U2",
    "outputId": "998bebff-e20b-4764-9eea-5cf7a3f3e5e5"
   },
   "outputs": [],
   "source": [
    "cidades"
   ]
  },
  {
   "cell_type": "code",
   "execution_count": null,
   "metadata": {
    "executionInfo": {
     "elapsed": 610,
     "status": "ok",
     "timestamp": 1618534320613,
     "user": {
      "displayName": "Mauro Ribeiro",
      "photoUrl": "https://lh3.googleusercontent.com/a-/AOh14Gh4UCHXUwlgYaT16X3IiiIvVgOcuEx6z_La7Y9pjQ=s64",
      "userId": "06049500529385007077"
     },
     "user_tz": 180
    },
    "id": "vGp7SZCUp9U3"
   },
   "outputs": [],
   "source": [
    "# Reverte a lista\n",
    "cidades.reverse()"
   ]
  },
  {
   "cell_type": "code",
   "execution_count": null,
   "metadata": {
    "colab": {
     "base_uri": "https://localhost:8080/"
    },
    "executionInfo": {
     "elapsed": 625,
     "status": "ok",
     "timestamp": 1618534322278,
     "user": {
      "displayName": "Mauro Ribeiro",
      "photoUrl": "https://lh3.googleusercontent.com/a-/AOh14Gh4UCHXUwlgYaT16X3IiiIvVgOcuEx6z_La7Y9pjQ=s64",
      "userId": "06049500529385007077"
     },
     "user_tz": 180
    },
    "id": "WYXEbq1Up9U3",
    "outputId": "5f2a6370-a79b-41d8-e2f0-8ede5bb16631"
   },
   "outputs": [],
   "source": [
    "# Imprime a lista\n",
    "cidades"
   ]
  },
  {
   "cell_type": "code",
   "execution_count": null,
   "metadata": {
    "executionInfo": {
     "elapsed": 701,
     "status": "ok",
     "timestamp": 1618534336957,
     "user": {
      "displayName": "Mauro Ribeiro",
      "photoUrl": "https://lh3.googleusercontent.com/a-/AOh14Gh4UCHXUwlgYaT16X3IiiIvVgOcuEx6z_La7Y9pjQ=s64",
      "userId": "06049500529385007077"
     },
     "user_tz": 180
    },
    "id": "7L8jZNytp9U3"
   },
   "outputs": [],
   "source": [
    "# Ordena a lista\n",
    "cidades.sort()"
   ]
  },
  {
   "cell_type": "code",
   "execution_count": null,
   "metadata": {
    "colab": {
     "base_uri": "https://localhost:8080/"
    },
    "executionInfo": {
     "elapsed": 634,
     "status": "ok",
     "timestamp": 1618534338232,
     "user": {
      "displayName": "Mauro Ribeiro",
      "photoUrl": "https://lh3.googleusercontent.com/a-/AOh14Gh4UCHXUwlgYaT16X3IiiIvVgOcuEx6z_La7Y9pjQ=s64",
      "userId": "06049500529385007077"
     },
     "user_tz": 180
    },
    "id": "4w4eq9nqp9U4",
    "outputId": "8a8c5aab-9fc5-4c38-a0c3-f12849d27e80"
   },
   "outputs": [],
   "source": [
    "cidades"
   ]
  },
  {
   "cell_type": "code",
   "execution_count": null,
   "metadata": {
    "executionInfo": {
     "elapsed": 566,
     "status": "ok",
     "timestamp": 1618534445133,
     "user": {
      "displayName": "Mauro Ribeiro",
      "photoUrl": "https://lh3.googleusercontent.com/a-/AOh14Gh4UCHXUwlgYaT16X3IiiIvVgOcuEx6z_La7Y9pjQ=s64",
      "userId": "06049500529385007077"
     },
     "user_tz": 180
    },
    "id": "7O0EOD6kKkrg"
   },
   "outputs": [],
   "source": [
    "y = [\"Tijolo\", \"Alfabeto\",\"Jose\",\"Maria\"]"
   ]
  },
  {
   "cell_type": "code",
   "execution_count": null,
   "metadata": {
    "colab": {
     "base_uri": "https://localhost:8080/"
    },
    "executionInfo": {
     "elapsed": 702,
     "status": "ok",
     "timestamp": 1618534446660,
     "user": {
      "displayName": "Mauro Ribeiro",
      "photoUrl": "https://lh3.googleusercontent.com/a-/AOh14Gh4UCHXUwlgYaT16X3IiiIvVgOcuEx6z_La7Y9pjQ=s64",
      "userId": "06049500529385007077"
     },
     "user_tz": 180
    },
    "id": "DpR6kvpfKnW2",
    "outputId": "e33a3574-d2a5-46c2-f7d6-a643c708a422"
   },
   "outputs": [],
   "source": [
    "print(y.sort())"
   ]
  },
  {
   "cell_type": "markdown",
   "metadata": {
    "id": "5jpJHrFDp9U4"
   },
   "source": [
    "# Fim"
   ]
  }
 ],
 "metadata": {
  "anaconda-cloud": {},
  "colab": {
   "name": "2 aula - 04 - Listas.ipynb",
   "provenance": [
    {
     "file_id": "https://github.com/dsacademybr/PythonFundamentos/blob/master/Cap02/Notebooks/DSA-Python-Cap02-04-Listas.ipynb",
     "timestamp": 1618509084660
    }
   ]
  },
  "kernelspec": {
   "display_name": "Python 3",
   "language": "python",
   "name": "python3"
  },
  "language_info": {
   "codemirror_mode": {
    "name": "ipython",
    "version": 3
   },
   "file_extension": ".py",
   "mimetype": "text/x-python",
   "name": "python",
   "nbconvert_exporter": "python",
   "pygments_lexer": "ipython3",
   "version": "3.8.5"
  }
 },
 "nbformat": 4,
 "nbformat_minor": 1
}
