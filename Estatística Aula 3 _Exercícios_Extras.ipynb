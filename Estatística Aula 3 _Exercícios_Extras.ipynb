{
  "nbformat": 4,
  "nbformat_minor": 0,
  "metadata": {
    "colab": {
      "name": "3 Aula de Estatística - Exercícios Extras.ipynb",
      "provenance": [],
      "collapsed_sections": []
    },
    "kernelspec": {
      "name": "python3",
      "display_name": "Python 3"
    },
    "language_info": {
      "name": "python"
    }
  },
  "cells": [
    {
      "cell_type": "markdown",
      "metadata": {
        "id": "LuTuuvoH1r6C"
      },
      "source": [
        "# Exercícios Extras\n",
        "\n"
      ]
    },
    {
      "cell_type": "code",
      "metadata": {
        "id": "oi4SWpArezYC"
      },
      "source": [
        "#@title Init Cell - Execute-me!!!\n",
        "import sys\n",
        "from datetime import datetime\n",
        "import requests\n",
        "import time\n",
        "from requests.utils import quote\n",
        "url = 'https://docs.google.com/forms/d/e/1FAIpQLSebn3-Y5ICQoStAW49xYB3lkd87FyKcfdfu6QxsVzahOw8CMA/formResponse?usp=pp_url&entry.346515457=mbaidp&entry.1423913446=2021&entry.1225936334=EstatisticaAplicadaPython'\n",
        "\n",
        "def format_values(values):\n",
        "    return {\n",
        "        \"entry.1228263462\": values['student_id'],\n",
        "        \"entry.14389688\": str(values['exercise_number']).replace(\".\", \"_\"),\n",
        "        \"entry.1427055401\": values['exercise_score'],\n",
        "        \"entry.967700948\": values['exercise_extra'],\n",
        "        \"entry.517103524\": values['id']\n",
        "    }\n",
        "\n",
        "def send_attendance(url, data):\n",
        "    count = 0\n",
        "    while count < 3:\n",
        "        count += 1\n",
        "        try:\n",
        "          r = requests.post(url, data=data)\n",
        "          break\n",
        "        except:\n",
        "          print(\"Error Occured!\")\n",
        "          time.sleep(2)\n",
        "\n",
        "def validate(current_question_output, exercise_number, exercise_extra):\n",
        "  student_email=!gcloud config get-value account\n",
        "  if not student_email or 'unset' in student_email[0]:\n",
        "    !gcloud auth login\n",
        "    student_email=!gcloud config get-value account\n",
        "  \n",
        "  if current_question_output:\n",
        "      exercise_score = True\n",
        "      print(\"Parabéns\")\n",
        "  else:\n",
        "      exercise_score = False\n",
        "      print(\"Resposta incorreta.\")\n",
        "  values = {\"exercise_number\": exercise_number, \"student_id\": student_email[0],\n",
        "            \"exercise_points\": 1, \"exercise_score\": exercise_score, \n",
        "            \"exercise_extra\": exercise_extra,\n",
        "            \"id\": f\"{student_email[0]}_{exercise_number}\"}\n",
        "  final_data = format_values(values)\n",
        "  send_attendance(f\"{url}&emailAddress={quote(str(student_email[0]))}\", final_data)"
      ],
      "execution_count": null,
      "outputs": []
    },
    {
      "cell_type": "markdown",
      "metadata": {
        "id": "Xk-2ub0fxRAi"
      },
      "source": [
        "# Início\n"
      ]
    },
    {
      "cell_type": "code",
      "metadata": {
        "id": "XQ4wNz7psDtd"
      },
      "source": [
        "# importando libs\n",
        "import pandas as pd\n",
        "import numpy as np\n",
        "import scipy.stats\n",
        "\n",
        "x = np.arange(10, 20)\n",
        "y = np.array([2, 1, 4, 5, 8, 12, 18, 25, 96, 48])"
      ],
      "execution_count": null,
      "outputs": []
    },
    {
      "cell_type": "markdown",
      "metadata": {
        "id": "_pxUOVww6-Eq"
      },
      "source": [
        "## 3.1 Calcule a correlação da matrix declarada em x e y utilizando o método de Kendall Tau.\n",
        "\n",
        "Dica 1: Utilize a função disponível em scipy.stats\n",
        "\n",
        "Dica 2: Retorne um float"
      ]
    },
    {
      "cell_type": "code",
      "metadata": {
        "id": "ESl3EpxE-fPB"
      },
      "source": [
        "  def cor_kendall():\n",
        "    ### BEGIN SOLUTION\n",
        "\n",
        "    ### END SOLUTION\n",
        "    return"
      ],
      "execution_count": null,
      "outputs": []
    },
    {
      "cell_type": "code",
      "metadata": {
        "id": "fGnpIDmOhjNY"
      },
      "source": [
        "## Faça seus testes aqui\n"
      ],
      "execution_count": null,
      "outputs": []
    },
    {
      "cell_type": "code",
      "metadata": {
        "id": "GEBkwzMDhkNg"
      },
      "source": [
        "# Validação\n",
        "resultado = cor_kendall() == 0.911111111111111\n",
        "current_question_output = resultado\n",
        "validate(current_question_output, \"3.1\", True)"
      ],
      "execution_count": null,
      "outputs": []
    },
    {
      "cell_type": "markdown",
      "metadata": {
        "id": "IjGotln9hsTh"
      },
      "source": [
        "## 3.2 Calcule a correlação da matrix declarada em x e y utilizando o método de Pearson.\n",
        "\n",
        "Dica 1: Utilize a função disponível em scipy.stats\n",
        "\n",
        "Dica 2: Retorne um float"
      ]
    },
    {
      "cell_type": "code",
      "metadata": {
        "id": "wpSw6Rd8hYrj"
      },
      "source": [
        "  def cor_pearson():\n",
        "    ### BEGIN SOLUTION\n",
        "\n",
        "    ### END SOLUTION\n",
        "    return "
      ],
      "execution_count": null,
      "outputs": []
    },
    {
      "cell_type": "code",
      "metadata": {
        "id": "JGkx2TLEhjkh"
      },
      "source": [
        "## Faça seus testes aqui"
      ],
      "execution_count": null,
      "outputs": []
    },
    {
      "cell_type": "code",
      "metadata": {
        "id": "eQvPYudUhkry"
      },
      "source": [
        "# Validação\n",
        "resultado = cor_pearson() == 0.7586402890911869\n",
        "current_question_output = resultado\n",
        "validate(current_question_output, \"3.2\", True)"
      ],
      "execution_count": null,
      "outputs": []
    },
    {
      "cell_type": "markdown",
      "metadata": {
        "id": "2COXpIugiDvV"
      },
      "source": [
        "## 3.3 Calcule a correlação da matrix declarada em x e y utilizando o método de Spearman.\n",
        "\n",
        "Dica 1: Utilize a função disponível em scipy.stats\n",
        "\n",
        "Dica 2: Retorne um float"
      ]
    },
    {
      "cell_type": "code",
      "metadata": {
        "id": "jyJShXFxiDvW"
      },
      "source": [
        "def cor_spearman():\n",
        "    ### BEGIN SOLUTION\n",
        "\n",
        "    ### END SOLUTION\n",
        "    return"
      ],
      "execution_count": null,
      "outputs": []
    },
    {
      "cell_type": "code",
      "metadata": {
        "id": "n5bKoWxJiDvW"
      },
      "source": [
        "## Faça seus testes aqui"
      ],
      "execution_count": null,
      "outputs": []
    },
    {
      "cell_type": "code",
      "metadata": {
        "id": "lpp-C90GiDvW"
      },
      "source": [
        "# Validação\n",
        "resultado = cor_spearman() == 0.9757575757575757\n",
        "current_question_output = resultado\n",
        "validate(current_question_output, \"3.3\", True)"
      ],
      "execution_count": null,
      "outputs": []
    },
    {
      "cell_type": "markdown",
      "metadata": {
        "id": "RRhx3ZbkiDvW"
      },
      "source": [
        "## 3.4 Calcule a correlação de x e y.\n",
        "\n",
        "Dica 1: Utilize a função disponível em scipy.stats\n",
        "\n",
        "Dica 2: Retorne um float"
      ]
    },
    {
      "cell_type": "code",
      "metadata": {
        "id": "GGtmISXbiDvX"
      },
      "source": [
        "def cor_np():\n",
        "    ### BEGIN SOLUTION\n",
        "\n",
        "    ### END SOLUTION\n",
        "    return  "
      ],
      "execution_count": null,
      "outputs": []
    },
    {
      "cell_type": "code",
      "metadata": {
        "id": "TBqE_IijiDvX"
      },
      "source": [
        "## Faça seus testes aqui"
      ],
      "execution_count": null,
      "outputs": []
    },
    {
      "cell_type": "code",
      "metadata": {
        "id": "GQAM4ymciDvX"
      },
      "source": [
        "# Validação\n",
        "resultado = cor_np() == 0.7586402890911867\n",
        "current_question_output = resultado\n",
        "validate(current_question_output, \"3.4\", True)"
      ],
      "execution_count": null,
      "outputs": []
    },
    {
      "cell_type": "markdown",
      "metadata": {
        "id": "ozAKQTwVjXBE"
      },
      "source": [
        "### 3.5 Carregue o arquivo do IDEB 2017 no formato de um DataFrame.  Crie uma função para calcular a média do IDEB de 2017 de todos os municípios de um determinado Estado. \n",
        "Remova os registros cujo valor na coluna REDE sejam Municipal, Estadual ou Federal. Deixe somente os registros cujos valores na coluna REDE sejam Pública.\n",
        "\n",
        "Dica 1: Antes de calcular, certifique-se de interpretar os valores '-' e 'ND' como NA durante o carregamento dos dados ou os substitua por np.nan (NA) com o metodo replace.\n",
        "\n",
        "Dica 2: Use a função loc para fazer o filtro de registros.\n",
        "\n",
        "Dica 3: Dentre várias maneiras possíveis, uma maneira bastante concisa é usar o operador & (and) para congregar dois critérios de filtro (seleção) de registros.\n",
        "\n",
        "path_ideb='https://github.com/alexlopespereira/enapespcd2021/raw/main/data/originais/ideb/ideb_municipios2017.xlsx'\n"
      ]
    },
    {
      "cell_type": "code",
      "metadata": {
        "id": "CPd2_tUpjVXt"
      },
      "source": [
        "def media_ideb(df, sigla_estado):\n",
        "    ### BEGIN SOLUTION\n",
        "\n",
        "    ### END SOLUTION\n",
        "    return "
      ],
      "execution_count": null,
      "outputs": []
    },
    {
      "cell_type": "code",
      "metadata": {
        "id": "dxXTnCVejVu8"
      },
      "source": [
        "## Faça seus testes aqui\n",
        "\n"
      ],
      "execution_count": null,
      "outputs": []
    },
    {
      "cell_type": "code",
      "metadata": {
        "id": "uhBU98ucjV1_"
      },
      "source": [
        "# Validação\n",
        "v1 = media_ideb(df_ideb, 'DF') == 3.4\n",
        "v2 = media_ideb(df_ideb, 'SP') == 4.0\n",
        "v3 = media_ideb(df_ideb, 'GO') == 4.2\n",
        "\n",
        "current_question_output = v1 and v2 and v3\n",
        "validate(current_question_output, \"3.5\", True)"
      ],
      "execution_count": null,
      "outputs": []
    },
    {
      "cell_type": "markdown",
      "metadata": {
        "id": "T1MCir2QwOuA"
      },
      "source": [
        "## 3.6 Utilizando o dataframe anterior calcule a correlação utilizando o método de Pearson entre a rede e o ideb.\n",
        "\n",
        "Dica 1: Utilize o corr() do pandas.\n",
        "\n",
        "Dica 2: Retorne um float.\n",
        "\n",
        "Dica 3: Pesquise sobre a utilização do astype('category')."
      ]
    },
    {
      "cell_type": "code",
      "metadata": {
        "id": "sN4G5NuLwOuD"
      },
      "source": [
        "def cor_ideb_rede():\n",
        "    ### BEGIN SOLUTION\n",
        "\n",
        "    ### END SOLUTION\n",
        "    return "
      ],
      "execution_count": null,
      "outputs": []
    },
    {
      "cell_type": "code",
      "metadata": {
        "id": "CzF_4yurwOuE"
      },
      "source": [
        "## Faça seus testes aqui\n",
        "\n"
      ],
      "execution_count": null,
      "outputs": []
    },
    {
      "cell_type": "code",
      "metadata": {
        "id": "XTVJd_FawOuE"
      },
      "source": [
        "# Validação\n",
        "resultado = cor_ideb_rede() == -0.006704502683270066\n",
        "current_question_output = resultado\n",
        "validate(current_question_output, \"3.6\", True)"
      ],
      "execution_count": null,
      "outputs": []
    },
    {
      "cell_type": "markdown",
      "metadata": {
        "id": "sTpmzLJ0wtej"
      },
      "source": [
        "## 3.7 Utilizando o dataframe anterior calcule a correlação utilizando o método de Pearson entre a UF e o ideb.\n",
        "\n",
        "Dica 1: Utilize o corr() do pandas.\n",
        "\n",
        "Dica 2: Retorne um float.\n",
        "\n",
        "Dica 3: Pesquise sobre a utilização do astype('category')."
      ]
    },
    {
      "cell_type": "code",
      "metadata": {
        "id": "zuUMGih1wtek"
      },
      "source": [
        "def cor_ideb_uf():\n",
        "    ### BEGIN SOLUTION\n",
        "\n",
        "    ### END SOLUTION\n",
        "    return "
      ],
      "execution_count": null,
      "outputs": []
    },
    {
      "cell_type": "code",
      "metadata": {
        "id": "1susJC0Ywtek"
      },
      "source": [
        "## Faça seus testes aqui\n",
        "\n"
      ],
      "execution_count": null,
      "outputs": []
    },
    {
      "cell_type": "code",
      "metadata": {
        "id": "6GlMPYqWwtel"
      },
      "source": [
        "# Validação\n",
        "resultado = cor_ideb_uf() == 0.18006487438473848\n",
        "current_question_output = resultado\n",
        "validate(current_question_output, \"3.7\", True)"
      ],
      "execution_count": null,
      "outputs": []
    },
    {
      "cell_type": "markdown",
      "metadata": {
        "id": "OKQmU5ttxKu0"
      },
      "source": [
        "## 3.8 Utilizando o dataframe anterior faça a matriz de correlação entre as seguintes colunas SG_UF, REDE, PB12_MAT17 e PB12_PORT17\n",
        "Dica 1: Utilize o corr() do pandas.\n",
        "\n",
        "Dica 2: Retorne um df.\n",
        "\n",
        "Dica 3: Pesquise sobre a utilização do astype('category')."
      ]
    },
    {
      "cell_type": "code",
      "metadata": {
        "id": "AOtIyAOHxKu1"
      },
      "source": [
        "def cor_matrix():\n",
        "    ### BEGIN SOLUTION\n",
        "\n",
        "    ### END SOLUTION\n",
        "    return "
      ],
      "execution_count": null,
      "outputs": []
    },
    {
      "cell_type": "code",
      "metadata": {
        "id": "z3YcwIjHxKu1"
      },
      "source": [
        "## Faça seus testes aqui\n",
        "\n",
        "\n",
        "# Resultado esperado\n",
        "#             SG_UF\t     REDE\t      PB12_MAT17\tPB12_PORT17\n",
        "# SG_UF\t      1.000000\t 0.001449\t  0.169537\t  0.157584\n",
        "# REDE\t      0.001449\t 1.000000   -0.010824\t  -0.010671\n",
        "# PB12_MAT17\t0.169537\t -0.010824  1.000000\t  0.934555\n",
        "# PB12_PORT17\t0.157584\t -0.010671  0.934555\t  1.000000"
      ],
      "execution_count": null,
      "outputs": []
    },
    {
      "cell_type": "code",
      "metadata": {
        "id": "zgWg0su1xKu1"
      },
      "source": [
        "# Validação\n",
        "import pandas as pd\n",
        "import numpy as np\n",
        "resultado = cor_matrix()\n",
        "teste_resultado = {'SG_UF': [1.000000, 0.001449, 0.169537, 0.157584],\n",
        "        'REDE': [0.001449, 1.000000, -0.010824, -0.010671],\n",
        "        'PB12_MAT17':[0.169537,-0.010824, 1.000000, 0.934555],\n",
        "        'PB12_PORT17':[0.157584, -0.010671, 0.934555, 1.000000]}\n",
        "\n",
        "# Create DataFrame  \n",
        "teste_resultado = pd.DataFrame(teste_resultado).applymap(\"{0:.2f}\".format)\n",
        "resultado = resultado.corr().applymap(\"{0:.2f}\".format)\n",
        "current_question_output = np.array_equal(teste_resultado.values, resultado.values)\n",
        "validate(current_question_output, \"3.8\", True)"
      ],
      "execution_count": null,
      "outputs": []
    },
    {
      "cell_type": "markdown",
      "metadata": {
        "id": "nesq08Ci_Tor"
      },
      "source": [
        "#FIM"
      ]
    }
  ]
}