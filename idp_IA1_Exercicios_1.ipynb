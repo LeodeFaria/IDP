{
  "nbformat": 4,
  "nbformat_minor": 0,
  "metadata": {
    "kernelspec": {
      "display_name": "Python 3",
      "language": "python",
      "name": "python3"
    },
    "language_info": {
      "name": "python",
      "version": "3.6.4",
      "mimetype": "text/x-python",
      "codemirror_mode": {
        "name": "ipython",
        "version": 3
      },
      "pygments_lexer": "ipython3",
      "nbconvert_exporter": "python",
      "file_extension": ".py"
    },
    "colab": {
      "name": "idp - IA1 - Exercicios 1.ipynb",
      "provenance": [],
      "collapsed_sections": [],
      "include_colab_link": true
    }
  },
  "cells": [
    {
      "cell_type": "markdown",
      "metadata": {
        "id": "view-in-github",
        "colab_type": "text"
      },
      "source": [
        "<a href=\"https://colab.research.google.com/github/LeodeFaria/IDP/blob/main/idp_IA1_Exercicios_1.ipynb\" target=\"_parent\"><img src=\"https://colab.research.google.com/assets/colab-badge.svg\" alt=\"Open In Colab\"/></a>"
      ]
    },
    {
      "cell_type": "markdown",
      "metadata": {
        "_cell_guid": "71f2a957-f15e-4169-9e2c-feb7ee96d708",
        "_uuid": "f1d7845ff30ee0a759ca65317fff69f9392ac7d6",
        "id": "uI8d-6M4zaV-"
      },
      "source": [
        "\n",
        "# **Teste de Hipótese e p-values**\n",
        "    \n",
        "   **Questões a serem respondidas**\n",
        "\n",
        "1. Estime a diferença da profundidade média do bico das amostras de G. scandens de 1975 e 2012 e com um intervalo de confiança de 95%.\n",
        "2. Teste de hipótese: os bicos são mais profundos em 2012?\n",
        "3. Teste de hipótese: o comprimento dos bicos está correlacionado com a profundidade?"
      ]
    },
    {
      "cell_type": "code",
      "metadata": {
        "_cell_guid": "b1076dfc-b9ad-4769-8c92-a6c4dae69d19",
        "_kg_hide-input": false,
        "_kg_hide-output": true,
        "_uuid": "8f2839f25d086af736a60e9eeb907d3b93b6e0e5",
        "collapsed": true,
        "trusted": true,
        "id": "YpuV9PsuzaWB"
      },
      "source": [
        "# Importando bibliotecas\n",
        "import numpy as np \n",
        "import pandas as pd \n",
        "import matplotlib.pyplot as plt \n",
        "import seaborn as sns \n",
        "\n",
        "sns.set() \n",
        "%matplotlib inline\n"
      ],
      "execution_count": null,
      "outputs": []
    },
    {
      "cell_type": "code",
      "metadata": {
        "_cell_guid": "b28ba265-838b-4bca-ae9a-e8e25bb432c3",
        "_uuid": "a2b543f3fa2be6d47ea16f25f2d8073c308552a4",
        "collapsed": true,
        "trusted": true,
        "id": "acwpoJ5VzaWC"
      },
      "source": [
        "# Lendo dados\n",
        "data_1975 = pd.read_csv('https://github.com/4tune-ai/IDP/blob/main/data/darwins/finch_beaks_1975.csv?raw=true')\n",
        "data_2012 = pd.read_csv('https://github.com/4tune-ai/IDP/blob/main/data/darwins/finch_beaks_2012.csv?raw=true')"
      ],
      "execution_count": null,
      "outputs": []
    },
    {
      "cell_type": "code",
      "metadata": {
        "_cell_guid": "3cd8b696-b7b4-43b0-8a96-975caf7d1ca5",
        "_kg_hide-input": true,
        "_kg_hide-output": true,
        "_uuid": "78fbb268d0ce6158ae36393e833f79b5de367fc6",
        "collapsed": true,
        "trusted": true,
        "id": "ADPbr9oCzaWE"
      },
      "source": [
        "# Funções auxiliares\n",
        "\n",
        "# Empirical Cumulative Distribution Function.  \n",
        "def ecdf(data):\n",
        "    \"\"\"\n",
        "    Compute ECDF for a one-dimensional array of measurements.\n",
        "    \n",
        "    It assigns a probability of to each datum (x axis), orders the data from smallest to largest in value, \n",
        "    and calculates the sum of the assigned probabilities up to and including each datum (x axis).\n",
        "    \"\"\"\n",
        "    \n",
        "    # Number of data points: n\n",
        "    n = len(data)\n",
        "    \n",
        "    # x-data for the ECDF: x\n",
        "    x = np.sort(data)\n",
        "    \n",
        "    # y-data for the ECDF: y\n",
        "    y = np.arange(1, n+1) / n\n",
        "    \n",
        "    return x, y\n",
        "\n",
        "def bootstrap_replicate_1d(data, func):\n",
        "    \"\"\"\n",
        "    Compute and return a bootstrap replicate, which is a statistical value according to parameter 'func'\n",
        "    on a randomized numpy array based on the given 'data'\n",
        "    \"\"\"\n",
        "    return func(np.random.choice(data, size=len(data)))\n",
        "\n",
        "def draw_bs_reps(data, func, size=1):\n",
        "    \"\"\"\n",
        "    Draw 'size' numbers of bootstrap replicates.\n",
        "    \"\"\"\n",
        "    \n",
        "    # Initialize array of replicates: bs_replicates\n",
        "    bs_replicates = np.empty(size)\n",
        "\n",
        "    # Generate replicates\n",
        "    for i in range(size):\n",
        "        bs_replicates[i] = bootstrap_replicate_1d(data, func)\n",
        "\n",
        "    return bs_replicates"
      ],
      "execution_count": null,
      "outputs": []
    },
    {
      "cell_type": "code",
      "metadata": {
        "_cell_guid": "aac74db7-3a5a-4905-9013-84cbf5f05bbc",
        "_uuid": "61ecfa043a7b2376434a6341ef9fdf0df7072922",
        "collapsed": true,
        "trusted": true,
        "id": "KiWQ_H4OzaWD"
      },
      "source": [
        "# Crie colunas para os anos\n",
        "\n",
        "# Separando a especie\n"
      ],
      "execution_count": null,
      "outputs": []
    },
    {
      "cell_type": "code",
      "metadata": {
        "_cell_guid": "f5bc0498-ee95-446b-8a13-3e412f237001",
        "_uuid": "6e1a74b521415b99f1544bceebb383747b196226",
        "trusted": true,
        "id": "BlYWmwdczaWD"
      },
      "source": [
        "# Plotando a distribuição scandens\n"
      ],
      "execution_count": null,
      "outputs": []
    },
    {
      "cell_type": "code",
      "metadata": {
        "_cell_guid": "66c07c22-02de-43a2-bd2b-64a1dfee26fd",
        "_uuid": "f2ebfb995a7ba197e5fc090d9d460ce4a193c91f",
        "trusted": true,
        "id": "V1dcgNaEzaWE"
      },
      "source": [
        "# Plotando a distribuição fortis\n"
      ],
      "execution_count": null,
      "outputs": []
    },
    {
      "cell_type": "code",
      "metadata": {
        "_cell_guid": "b94d5f0f-3dbe-43b8-b757-d8930cdb3987",
        "_uuid": "9ba45adf89476d7c560016bd7ca19131934c355c",
        "collapsed": true,
        "trusted": true,
        "id": "xUPgBR3dzaWF"
      },
      "source": [
        "# Plotando a ECDF para os anos de 1975 e 2012\n"
      ],
      "execution_count": null,
      "outputs": []
    },
    {
      "cell_type": "markdown",
      "metadata": {
        "_cell_guid": "f132e0b5-2228-4486-9c2f-5a8a0a823168",
        "_uuid": "5ce6509138b56fd81d4f05d5b8277502bb2492d4",
        "id": "iBEaNYNQzaWG"
      },
      "source": [
        "## 1. Estime a diferença da profundidade média do bico das amostras de G. scandens de 1975 e 2012 e com um intervalo de confiança de 95%."
      ]
    },
    {
      "cell_type": "code",
      "metadata": {
        "_cell_guid": "8f3288b5-50db-461d-97dc-ec518764898a",
        "_uuid": "87f0d914dbe619f9ab87a4033e138997086a936c",
        "collapsed": true,
        "trusted": true,
        "id": "mRIm-1FYzaWG"
      },
      "source": [
        ""
      ],
      "execution_count": null,
      "outputs": []
    },
    {
      "cell_type": "markdown",
      "metadata": {
        "_cell_guid": "fd734f53-0471-4113-bde3-2ab17b0ec8e8",
        "_uuid": "47fc5a1934e4a96e1e18431e4ac73a78b42b7ff0",
        "id": "XTkSXiJ7zaWH"
      },
      "source": [
        "#### Questão 2 - Teste de hipótese: os bicos são mais profundos em 2012?\n"
      ]
    },
    {
      "cell_type": "code",
      "metadata": {
        "_cell_guid": "02f1a757-1180-45e6-b192-ff1f2b0f1e3c",
        "_uuid": "3b2ca3878faced475deacdf41917822806efb73b",
        "collapsed": true,
        "trusted": true,
        "id": "nxNnbXwXzaWH"
      },
      "source": [
        ""
      ],
      "execution_count": null,
      "outputs": []
    },
    {
      "cell_type": "markdown",
      "metadata": {
        "_cell_guid": "5e86e265-0a9c-4fd0-9dc2-e5f24504c90d",
        "_uuid": "f37de3609c1fe294fab7d3aa7831905f48169e9b",
        "id": "h1lYWLeGzaWH"
      },
      "source": [
        "#### 3. Teste de hipótese: o comprimento dos bicos está correlacionado com a profundidade?"
      ]
    },
    {
      "cell_type": "code",
      "metadata": {
        "_cell_guid": "4b493460-aacf-41a0-b34a-cb9376fc85b0",
        "_uuid": "d702325735a7dc043734558092526d875706f928",
        "collapsed": true,
        "trusted": true,
        "id": "AdRTaNQ4zaWI"
      },
      "source": [
        "# Correlação de Pearson\n"
      ],
      "execution_count": null,
      "outputs": []
    },
    {
      "cell_type": "code",
      "metadata": {
        "_cell_guid": "d7ae3d23-c14f-43b1-813b-63de6d16d6f4",
        "_uuid": "d62c8ec8209eb2ee01b3b4022bc4d18d6cb89380",
        "collapsed": true,
        "trusted": true,
        "id": "Nt4DV9MkzaWI"
      },
      "source": [
        "# Cria vetor para colocar o vetor replicado\n",
        "perm_replicates = np.empty(10000)\n",
        "\n",
        "# Reamostra\n"
      ],
      "execution_count": null,
      "outputs": []
    }
  ]
}