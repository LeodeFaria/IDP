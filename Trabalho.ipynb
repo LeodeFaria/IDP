{
  "nbformat": 4,
  "nbformat_minor": 5,
  "metadata": {
    "kernelspec": {
      "display_name": "Python 3 (Spyder)",
      "language": "python3",
      "name": "python3"
    },
    "language_info": {
      "codemirror_mode": {
        "name": "ipython",
        "version": 3
      },
      "file_extension": ".py",
      "mimetype": "text/x-python",
      "name": "python",
      "nbconvert_exporter": "python",
      "pygments_lexer": "ipython3",
      "version": "3.8.8"
    },
    "colab": {
      "name": "Trabalho.ipynb",
      "provenance": []
    }
  },
  "cells": [
    {
      "cell_type": "code",
      "metadata": {
        "id": "b486423c"
      },
      "source": [
        "#!/usr/bin/env python3\n",
        "# -*- coding: utf-8 -*-\n",
        "\"\"\"\n",
        "Created on Sun Jun 13 18:59:45 2021\n",
        "\n",
        "@author: leodefaria\n",
        "\"\"\""
      ],
      "id": "b486423c",
      "execution_count": null,
      "outputs": []
    },
    {
      "cell_type": "markdown",
      "metadata": {
        "id": "5276f91a"
      },
      "source": [
        "## Importação de bibliotecas"
      ],
      "id": "5276f91a"
    },
    {
      "cell_type": "code",
      "metadata": {
        "id": "d98b928a"
      },
      "source": [
        "# from urllib.request import urlopen\n",
        "# from urllib.error import HTTPError\n",
        "# from urllib.error import URLError\n",
        "# import ssl\n",
        "import pandas as pd\n",
        "# from bs4 import BeautifulSoup\n",
        "import seaborn as sns\n",
        "import matplotlib.pyplot as plt\n",
        "import numpy as np"
      ],
      "id": "d98b928a",
      "execution_count": null,
      "outputs": []
    },
    {
      "cell_type": "markdown",
      "metadata": {
        "id": "8bb32f19"
      },
      "source": [
        "## Importação de dados"
      ],
      "id": "8bb32f19"
    },
    {
      "cell_type": "code",
      "metadata": {
        "id": "aNMDvQADkgJt"
      },
      "source": [
        "from google.colab import drive\n",
        "drive.mount('/content/drive')"
      ],
      "id": "aNMDvQADkgJt",
      "execution_count": null,
      "outputs": []
    },
    {
      "cell_type": "code",
      "metadata": {
        "id": "6c85b583"
      },
      "source": [
        "# Vacinados\n",
        "\n",
        "# base original: DADOS ABERTOS - Registros de Vacinação COVID19 - UF: DF\n",
        "# https://s3-sa-east-1.amazonaws.com/ckan.saude.gov.br/PNI/vacina/uf/2021-06-12/uf%3DDF/part-00000-e7b5a3a9-bb01-40f5-aa63-d3bd2cfe2507.c000.csv\n",
        "\n",
        "# df_vacina = pd.read_csv('/Users/leodefaria/Documents/IDP/dados/part-00000-e7b5a3a9-bb01-40f5-aa63-d3bd2cfe2507.c000.csv', sep=';')\n",
        "df_vacina_BaseBruta = pd.read_csv('/content/drive/MyDrive/Trabalho/part-00000-e7b5a3a9-bb01-40f5-aa63-d3bd2cfe2507.c000.csv', sep=';')\n"
      ],
      "id": "6c85b583",
      "execution_count": null,
      "outputs": []
    },
    {
      "cell_type": "code",
      "metadata": {
        "id": "f6af4157"
      },
      "source": [
        " df_vacina = df_vacina_BaseBruta"
      ],
      "id": "f6af4157",
      "execution_count": null,
      "outputs": []
    },
    {
      "cell_type": "code",
      "metadata": {
        "id": "dCijL05MnSqP"
      },
      "source": [
        "# Conferencias gerais\n",
        "\n",
        "# df_vacina.dtypes\n",
        "# df_vacina.shape\n",
        "# df_vacina.info()\n",
        "# df_vacina.isna()\n",
        "# df_vacina.describe()"
      ],
      "id": "dCijL05MnSqP",
      "execution_count": null,
      "outputs": []
    },
    {
      "cell_type": "code",
      "metadata": {
        "id": "397df138"
      },
      "source": [
        "# População por faixas\n",
        "\n",
        "# Base Original: IBGE - Projeção Municípios\n",
        "# https://www.ibge.gov.br/apps/populacao/projecao/index.html\n",
        "\n",
        "# df_IBGE_F = pd.read_csv('/Users/leodefaria/Documents/IDP/dados/DF - Fx_IdadeM.csv', sep=';')\n",
        "# df_IBGE_M = pd.read_csv('/Users/leodefaria/Documents/IDP/dados/DF - Fx_IdadeH.csv', sep=';')\n",
        "\n",
        "df_IBGE_F = pd.read_csv('/content/drive/MyDrive/Trabalho/DF - Fx_IdadeM.csv', sep=';')\n",
        "df_IBGE_M = pd.read_csv('/content/drive/MyDrive/Trabalho/DF - Fx_IdadeH.csv', sep=';')\n"
      ],
      "id": "397df138",
      "execution_count": null,
      "outputs": []
    },
    {
      "cell_type": "code",
      "metadata": {
        "id": "fVyMXn0smEzq"
      },
      "source": [
        "df_IBGE_M.shape"
      ],
      "id": "fVyMXn0smEzq",
      "execution_count": null,
      "outputs": []
    },
    {
      "cell_type": "markdown",
      "metadata": {
        "id": "f7b8ded0"
      },
      "source": [
        "## Ajuste IBGE"
      ],
      "id": "f7b8ded0"
    },
    {
      "cell_type": "code",
      "metadata": {
        "colab": {
          "base_uri": "https://localhost:8080/",
          "height": 204
        },
        "id": "9982e0f1",
        "outputId": "7360a24e-bb3c-4f43-ca10-1e4ade5ec3c8"
      },
      "source": [
        "# Separaçao dos dados de 2020 e 2021\n",
        "\n",
        "# Feminino\n",
        "df_IBGE_F.drop(df_IBGE_F.columns[1:12], inplace=True, axis=1)\n",
        "df_IBGE_F.drop(df_IBGE_F.columns[2:], inplace=True, axis=1)\n",
        "\n",
        "df_IBGE_F.rename(columns={'Faixa/Ano':'faixa',\n",
        "                         '2021':'Pop_DF'}, inplace=True)\n",
        "\n",
        "\n",
        "# Masculino\n",
        "df_IBGE_M.drop(df_IBGE_M.columns[1:12], inplace=True, axis=1)\n",
        "df_IBGE_M.drop(df_IBGE_M.columns[2:], inplace=True, axis=1)\n",
        "df_IBGE_M.rename(columns={'Faixa/Ano':'faixa',\n",
        "                         '2021':'Pop_DF'}, inplace=True)\n",
        "#df_IBGE_M.drop('Total')\n",
        "\n",
        "df_IBGE_M.head()\n"
      ],
      "id": "9982e0f1",
      "execution_count": 8,
      "outputs": [
        {
          "output_type": "execute_result",
          "data": {
            "text/html": [
              "<div>\n",
              "<style scoped>\n",
              "    .dataframe tbody tr th:only-of-type {\n",
              "        vertical-align: middle;\n",
              "    }\n",
              "\n",
              "    .dataframe tbody tr th {\n",
              "        vertical-align: top;\n",
              "    }\n",
              "\n",
              "    .dataframe thead th {\n",
              "        text-align: right;\n",
              "    }\n",
              "</style>\n",
              "<table border=\"1\" class=\"dataframe\">\n",
              "  <thead>\n",
              "    <tr style=\"text-align: right;\">\n",
              "      <th></th>\n",
              "      <th>faixa</th>\n",
              "      <th>Pop_DF</th>\n",
              "    </tr>\n",
              "  </thead>\n",
              "  <tbody>\n",
              "    <tr>\n",
              "      <th>0</th>\n",
              "      <td>Total</td>\n",
              "      <td>1485920</td>\n",
              "    </tr>\n",
              "    <tr>\n",
              "      <th>1</th>\n",
              "      <td>0-4</td>\n",
              "      <td>105742</td>\n",
              "    </tr>\n",
              "    <tr>\n",
              "      <th>2</th>\n",
              "      <td>5-9</td>\n",
              "      <td>98144</td>\n",
              "    </tr>\n",
              "    <tr>\n",
              "      <th>3</th>\n",
              "      <td>10-14</td>\n",
              "      <td>102450</td>\n",
              "    </tr>\n",
              "    <tr>\n",
              "      <th>4</th>\n",
              "      <td>15-19</td>\n",
              "      <td>120334</td>\n",
              "    </tr>\n",
              "  </tbody>\n",
              "</table>\n",
              "</div>"
            ],
            "text/plain": [
              "   faixa   Pop_DF\n",
              "0  Total  1485920\n",
              "1    0-4   105742\n",
              "2    5-9    98144\n",
              "3  10-14   102450\n",
              "4  15-19   120334"
            ]
          },
          "metadata": {
            "tags": []
          },
          "execution_count": 8
        }
      ]
    },
    {
      "cell_type": "markdown",
      "metadata": {
        "id": "f88fc503"
      },
      "source": [
        "## Ajustes VACINA"
      ],
      "id": "f88fc503"
    },
    {
      "cell_type": "code",
      "metadata": {
        "id": "734d9ab3"
      },
      "source": [
        "# apagando colunas desnecessárias para análise\n",
        "\n",
        "df_vacina.drop(df_vacina.columns[0:2], inplace=True, axis=1)    # Idade\n",
        "df_vacina.drop(df_vacina.columns[1], inplace=True, axis=1)      # sexo\n",
        "df_vacina.drop(df_vacina.columns[2:13], inplace=True, axis=1)   # local_vacina\n",
        "df_vacina.drop(df_vacina.columns[3:7], inplace=True, axis=1)    # grupoAtendimento\n",
        "df_vacina.drop(df_vacina.columns[4], inplace=True, axis=1)      # categoria\n",
        "df_vacina.drop(df_vacina.columns[5:9], inplace=True, axis=1)    # dose\n",
        "df_vacina.drop(df_vacina.columns[6], inplace=True, axis=1)      # vacina\n",
        "df_vacina.drop(df_vacina.columns[7:], inplace=True, axis=1)     # resto\n",
        "\n",
        "# Ajustando nomes colunas\n",
        "\n",
        "df_vacina.rename(columns={  'paciente_idade':'idade'\n",
        "                          , 'paciente_enumsexobiologico':'sexo'\n",
        "                          , 'estalecimento_nofantasia':'local_vacinacao'\n",
        "                          , 'vacina_grupoatendimento_nome':'grupo_atendimento'\n",
        "                          , 'vacina_categoria_nome':'vacina_categoria'\n",
        "                          , 'vacina_descricao_dose':'dose'}, inplace=True)"
      ],
      "id": "734d9ab3",
      "execution_count": 9,
      "outputs": []
    },
    {
      "cell_type": "code",
      "metadata": {
        "colab": {
          "base_uri": "https://localhost:8080/"
        },
        "id": "n8zVeNV7LLVC",
        "outputId": "c451b2b8-f336-41cb-e442-63e2cffe2109"
      },
      "source": [
        "# Verificação de NAN\n",
        "\n",
        "df_vacina.info()"
      ],
      "id": "n8zVeNV7LLVC",
      "execution_count": 10,
      "outputs": [
        {
          "output_type": "stream",
          "text": [
            "<class 'pandas.core.frame.DataFrame'>\n",
            "RangeIndex: 975480 entries, 0 to 975479\n",
            "Data columns (total 7 columns):\n",
            " #   Column             Non-Null Count   Dtype \n",
            "---  ------             --------------   ----- \n",
            " 0   idade              975480 non-null  int64 \n",
            " 1   sexo               975480 non-null  object\n",
            " 2   local_vacinacao    975480 non-null  object\n",
            " 3   grupo_atendimento  968588 non-null  object\n",
            " 4   vacina_categoria   965117 non-null  object\n",
            " 5   dose               975480 non-null  object\n",
            " 6   vacina_nome        975480 non-null  object\n",
            "dtypes: int64(1), object(6)\n",
            "memory usage: 52.1+ MB\n"
          ],
          "name": "stdout"
        }
      ]
    },
    {
      "cell_type": "code",
      "metadata": {
        "colab": {
          "base_uri": "https://localhost:8080/"
        },
        "id": "Ic119we8LxFx",
        "outputId": "415a9d18-d7e8-4657-e099-03b9a8302a2d"
      },
      "source": [
        "# Ajuste de NAN\n",
        "\n",
        "df_vacina['grupo_atendimento'].fillna('-',inplace=True)\n",
        "df_vacina['vacina_categoria'].fillna('-',inplace=True)\n",
        "df_vacina['vacina_nome'].fillna('-',inplace=True)\n",
        "\n",
        "df_vacina.info()"
      ],
      "id": "Ic119we8LxFx",
      "execution_count": 11,
      "outputs": [
        {
          "output_type": "stream",
          "text": [
            "<class 'pandas.core.frame.DataFrame'>\n",
            "RangeIndex: 975480 entries, 0 to 975479\n",
            "Data columns (total 7 columns):\n",
            " #   Column             Non-Null Count   Dtype \n",
            "---  ------             --------------   ----- \n",
            " 0   idade              975480 non-null  int64 \n",
            " 1   sexo               975480 non-null  object\n",
            " 2   local_vacinacao    975480 non-null  object\n",
            " 3   grupo_atendimento  975480 non-null  object\n",
            " 4   vacina_categoria   975480 non-null  object\n",
            " 5   dose               975480 non-null  object\n",
            " 6   vacina_nome        975480 non-null  object\n",
            "dtypes: int64(1), object(6)\n",
            "memory usage: 52.1+ MB\n"
          ],
          "name": "stdout"
        }
      ]
    },
    {
      "cell_type": "markdown",
      "metadata": {
        "id": "46d58667"
      },
      "source": [
        "## Separando DataFrame para 1ª análise: \n",
        "### Panorama de vacinação por faixa etária\n",
        "   "
      ],
      "id": "46d58667"
    },
    {
      "cell_type": "code",
      "metadata": {
        "colab": {
          "base_uri": "https://localhost:8080/"
        },
        "id": "29e3dab1",
        "outputId": "562f2398-2ac3-4d97-ab4a-ed54fa7aa734"
      },
      "source": [
        "# Separando dataframe para análise\n",
        "\n",
        "df_vacina_idade = df_vacina[['idade','sexo','dose']]\n",
        "\n",
        "# limpeza\n",
        "\n",
        "df_vacina_idade['dose'] = df_vacina_idade['dose'].str.strip() # campo cheio de tabs e espaços\n"
      ],
      "id": "29e3dab1",
      "execution_count": 12,
      "outputs": [
        {
          "output_type": "stream",
          "text": [
            "/usr/local/lib/python3.7/dist-packages/ipykernel_launcher.py:7: SettingWithCopyWarning: \n",
            "A value is trying to be set on a copy of a slice from a DataFrame.\n",
            "Try using .loc[row_indexer,col_indexer] = value instead\n",
            "\n",
            "See the caveats in the documentation: https://pandas.pydata.org/pandas-docs/stable/user_guide/indexing.html#returning-a-view-versus-a-copy\n",
            "  import sys\n"
          ],
          "name": "stderr"
        }
      ]
    },
    {
      "cell_type": "code",
      "metadata": {
        "colab": {
          "base_uri": "https://localhost:8080/",
          "height": 521
        },
        "id": "cd8bc971",
        "outputId": "ac77c996-b8d9-4c92-a4c5-247eceb165ad"
      },
      "source": [
        "# Inserindo no dataframe o Range de valores de distribuição do IBGE\n",
        "\n",
        "# ['0-4', '5-9', '10-14', '15-19', '20-24', '25-29', '30-34', '35-39', '40-44', '45-49', '50-54', '55-59', '60-64', '65-69', '70-74', '75-79', '80-84', '85-89', '90+']\n",
        "campos=labels= [\"{0}-{1}\".format(i, i + 4) for i in range(0, 95, 5)]\n",
        "campos[-1] = '90+'\n",
        "\n",
        "# linhas=[0,5,10,15,20,25,30,35,40,45,50,55,60,65,70,75,80,85,95,100]\n",
        "linhas = pd.Series(np.arange(0,100,5))   \n",
        "\n",
        "df_vacina_idade['faixa'] = pd.cut(x=df_vacina_idade['idade']\n",
        "                                  , bins=linhas\n",
        "                                  , labels=campos)\n",
        "\n",
        "\n",
        "df_vacina_idade#.head()#describe()"
      ],
      "id": "cd8bc971",
      "execution_count": 26,
      "outputs": [
        {
          "output_type": "stream",
          "text": [
            "/usr/local/lib/python3.7/dist-packages/ipykernel_launcher.py:12: SettingWithCopyWarning: \n",
            "A value is trying to be set on a copy of a slice from a DataFrame.\n",
            "Try using .loc[row_indexer,col_indexer] = value instead\n",
            "\n",
            "See the caveats in the documentation: https://pandas.pydata.org/pandas-docs/stable/user_guide/indexing.html#returning-a-view-versus-a-copy\n",
            "  if sys.path[0] == '':\n"
          ],
          "name": "stderr"
        },
        {
          "output_type": "execute_result",
          "data": {
            "text/html": [
              "<div>\n",
              "<style scoped>\n",
              "    .dataframe tbody tr th:only-of-type {\n",
              "        vertical-align: middle;\n",
              "    }\n",
              "\n",
              "    .dataframe tbody tr th {\n",
              "        vertical-align: top;\n",
              "    }\n",
              "\n",
              "    .dataframe thead th {\n",
              "        text-align: right;\n",
              "    }\n",
              "</style>\n",
              "<table border=\"1\" class=\"dataframe\">\n",
              "  <thead>\n",
              "    <tr style=\"text-align: right;\">\n",
              "      <th></th>\n",
              "      <th>idade</th>\n",
              "      <th>sexo</th>\n",
              "      <th>dose</th>\n",
              "      <th>faixa</th>\n",
              "    </tr>\n",
              "  </thead>\n",
              "  <tbody>\n",
              "    <tr>\n",
              "      <th>0</th>\n",
              "      <td>59</td>\n",
              "      <td>F</td>\n",
              "      <td>1ª Dose</td>\n",
              "      <td>55-59</td>\n",
              "    </tr>\n",
              "    <tr>\n",
              "      <th>1</th>\n",
              "      <td>47</td>\n",
              "      <td>F</td>\n",
              "      <td>1ª Dose</td>\n",
              "      <td>45-49</td>\n",
              "    </tr>\n",
              "    <tr>\n",
              "      <th>2</th>\n",
              "      <td>51</td>\n",
              "      <td>F</td>\n",
              "      <td>1ª Dose</td>\n",
              "      <td>50-54</td>\n",
              "    </tr>\n",
              "    <tr>\n",
              "      <th>3</th>\n",
              "      <td>45</td>\n",
              "      <td>F</td>\n",
              "      <td>1ª Dose</td>\n",
              "      <td>40-44</td>\n",
              "    </tr>\n",
              "    <tr>\n",
              "      <th>4</th>\n",
              "      <td>59</td>\n",
              "      <td>M</td>\n",
              "      <td>1ª Dose</td>\n",
              "      <td>55-59</td>\n",
              "    </tr>\n",
              "    <tr>\n",
              "      <th>...</th>\n",
              "      <td>...</td>\n",
              "      <td>...</td>\n",
              "      <td>...</td>\n",
              "      <td>...</td>\n",
              "    </tr>\n",
              "    <tr>\n",
              "      <th>975475</th>\n",
              "      <td>66</td>\n",
              "      <td>F</td>\n",
              "      <td>1ª Dose</td>\n",
              "      <td>65-69</td>\n",
              "    </tr>\n",
              "    <tr>\n",
              "      <th>975476</th>\n",
              "      <td>70</td>\n",
              "      <td>M</td>\n",
              "      <td>1ª Dose</td>\n",
              "      <td>65-69</td>\n",
              "    </tr>\n",
              "    <tr>\n",
              "      <th>975477</th>\n",
              "      <td>76</td>\n",
              "      <td>F</td>\n",
              "      <td>1ª Dose</td>\n",
              "      <td>75-79</td>\n",
              "    </tr>\n",
              "    <tr>\n",
              "      <th>975478</th>\n",
              "      <td>65</td>\n",
              "      <td>F</td>\n",
              "      <td>1ª Dose</td>\n",
              "      <td>60-64</td>\n",
              "    </tr>\n",
              "    <tr>\n",
              "      <th>975479</th>\n",
              "      <td>38</td>\n",
              "      <td>F</td>\n",
              "      <td>1ª Dose</td>\n",
              "      <td>35-39</td>\n",
              "    </tr>\n",
              "  </tbody>\n",
              "</table>\n",
              "<p>975480 rows × 4 columns</p>\n",
              "</div>"
            ],
            "text/plain": [
              "        idade sexo     dose  faixa\n",
              "0          59    F  1ª Dose  55-59\n",
              "1          47    F  1ª Dose  45-49\n",
              "2          51    F  1ª Dose  50-54\n",
              "3          45    F  1ª Dose  40-44\n",
              "4          59    M  1ª Dose  55-59\n",
              "...       ...  ...      ...    ...\n",
              "975475     66    F  1ª Dose  65-69\n",
              "975476     70    M  1ª Dose  65-69\n",
              "975477     76    F  1ª Dose  75-79\n",
              "975478     65    F  1ª Dose  60-64\n",
              "975479     38    F  1ª Dose  35-39\n",
              "\n",
              "[975480 rows x 4 columns]"
            ]
          },
          "metadata": {
            "tags": []
          },
          "execution_count": 26
        }
      ]
    },
    {
      "cell_type": "code",
      "metadata": {
        "id": "3b0578c3"
      },
      "source": [
        "# Campo do inferno que não \"pegava\" filtro de jeito nenhum\n",
        "\n",
        "# df_vacina_idade.dose[0]\n"
      ],
      "id": "3b0578c3",
      "execution_count": null,
      "outputs": []
    },
    {
      "cell_type": "code",
      "metadata": {
        "id": "YZBeq6i5icV0"
      },
      "source": [
        "# separando df por sexo\n",
        "\n",
        "df_vacina_idade_M = df_vacina_idade[df_vacina_idade['sexo']=='M']\n",
        "df_vacina_idade_F = df_vacina_idade[df_vacina_idade['sexo']=='F']\n",
        "\n",
        "\n",
        "del df_vacina_idade_M['sexo']\n",
        "del df_vacina_idade_F['sexo']"
      ],
      "id": "YZBeq6i5icV0",
      "execution_count": 34,
      "outputs": []
    },
    {
      "cell_type": "code",
      "metadata": {
        "id": "v1ZQTN-einma"
      },
      "source": [
        "#separando df por dose\n",
        "df_vacina_idade_M_1d = df_vacina_idade_M[df_vacina_idade_M['dose']=='1ª\\xa0Dose']\n",
        "df_vacina_idade_M_2d = df_vacina_idade_M[df_vacina_idade_M['dose']=='2ª\\xa0Dose']\n",
        "\n",
        "df_vacina_idade_F_1d = df_vacina_idade_F[df_vacina_idade_F['dose']=='1ª\\xa0Dose']\n",
        "df_vacina_idade_F_2d = df_vacina_idade_F[df_vacina_idade_F['dose']=='2ª\\xa0Dose']\n",
        "\n",
        "del df_vacina_idade_M_1d['dose']\n",
        "del df_vacina_idade_M_2d['dose']\n",
        "\n",
        "del df_vacina_idade_F_1d['dose']\n",
        "del df_vacina_idade_F_2d['dose']"
      ],
      "id": "v1ZQTN-einma",
      "execution_count": 35,
      "outputs": []
    },
    {
      "cell_type": "code",
      "metadata": {
        "id": "H6bnYHVZiv9Y"
      },
      "source": [
        "# Agregação por faixas (igualar com ibge)\n",
        "df_vacina_idade_M_1d_AGG = df_vacina_idade_M_1d.groupby(['faixa']).agg('count')\n",
        "df_vacina_idade_M_2d_AGG = df_vacina_idade_M_2d.groupby(['faixa']).agg('count') \n",
        "\n",
        "df_vacina_idade_F_1d_AGG = df_vacina_idade_F_1d.groupby(['faixa']).agg('count')\n",
        "df_vacina_idade_F_2d_AGG = df_vacina_idade_F_2d.groupby(['faixa']).agg('count') \n",
        "\n",
        "\n",
        "df_vacina_idade_M_1d_AGG.rename(columns={'idade':'Dose1'}, inplace=True)\n",
        "df_vacina_idade_M_2d_AGG.rename(columns={'idade':'Dose2'}, inplace=True)\n",
        "\n",
        "\n",
        "df_vacina_idade_F_1d_AGG.rename(columns={'idade':'Dose1'}, inplace=True)\n",
        "df_vacina_idade_F_2d_AGG.rename(columns={'idade':'Dose2'}, inplace=True)"
      ],
      "id": "H6bnYHVZiv9Y",
      "execution_count": 36,
      "outputs": []
    },
    {
      "cell_type": "code",
      "metadata": {
        "id": "Gb-15ivji3zO"
      },
      "source": [
        "# Merge dos dfs\n",
        "df_vacina_M = pd.merge(df_vacina_idade_M_1d_AGG, df_vacina_idade_M_2d_AGG, how = 'inner', on = 'faixa')\n",
        "df_vacina_M = pd.merge(df_vacina_M, df_IBGE_M, how = 'inner', on = 'faixa')\n",
        "\n",
        "df_vacina_F = pd.merge(df_vacina_idade_F_1d_AGG, df_vacina_idade_F_2d_AGG, how = 'inner', on = 'faixa')\n",
        "df_vacina_F = pd.merge(df_vacina_F, df_IBGE_F, how = 'inner', on = 'faixa')"
      ],
      "id": "Gb-15ivji3zO",
      "execution_count": 37,
      "outputs": []
    },
    {
      "cell_type": "code",
      "metadata": {
        "id": "aaf31b51"
      },
      "source": [
        "# Conversão do df M para valores negativos:\n",
        "\n",
        "df_vacina_M['Dose1'] = df_vacina_M['Dose1']* -1\n",
        "df_vacina_M['Dose2'] = df_vacina_M['Dose2']* -1\n",
        "df_vacina_M['Pop_DF'] = df_vacina_M['Pop_DF']* -1\n",
        "\n",
        "df_vacina_M.rename(columns={'Dose1':'Dose1_M'\n",
        "                          , 'Dose2':'Dose2_M'\n",
        "                          , 'Pop_DF':'Pop_DF_M'}, inplace=True)\n",
        "\n",
        "\n",
        "# Merge final\n",
        "\n",
        "df_vacina_Graf001 = pd.merge(df_vacina_M, df_vacina_F,  how = 'inner', on = 'faixa')"
      ],
      "id": "aaf31b51",
      "execution_count": 38,
      "outputs": []
    },
    {
      "cell_type": "code",
      "metadata": {
        "colab": {
          "base_uri": "https://localhost:8080/"
        },
        "id": "Cz2izMS9pm5m",
        "outputId": "bbe5d5a4-244f-4f63-aa13-71606e36776f"
      },
      "source": [
        "# % vacinado\n",
        "Total_Dose1 = df_vacina_Graf001['Dose1'].agg('sum') + df_vacina_Graf001['Dose1_M'].agg('sum') * -1\n",
        "Total_Dose2 = df_vacina_Graf001['Dose2'].agg('sum') + df_vacina_Graf001['Dose2_M'].agg('sum') * -1\n",
        "Total_Pop   = df_vacina_Graf001['Pop_DF'].agg('sum') + df_vacina_Graf001['Pop_DF_M'].agg('sum') * -1\n",
        "Percent_Vacinado = Total_Dose2 / Total_Pop * 100\n",
        "\n",
        "\n",
        "print('Dose 1 ')\n",
        "print(Total_Dose1)\n",
        "print('\\nDose 2 ')\n",
        "print(Total_Dose2)\n",
        "print('\\nPopulação ')\n",
        "print(Total_Pop)\n",
        "print('\\n% População ')\n",
        "print(Percent_Vacinado)\n"
      ],
      "id": "Cz2izMS9pm5m",
      "execution_count": 39,
      "outputs": [
        {
          "output_type": "stream",
          "text": [
            "Dose 1 \n",
            "665744\n",
            "\n",
            "Dose 2 \n",
            "307554\n",
            "\n",
            "População \n",
            "3091667\n",
            "\n",
            "% População \n",
            "9.94783720238952\n"
          ],
          "name": "stdout"
        }
      ]
    },
    {
      "cell_type": "markdown",
      "metadata": {
        "id": "7f66e1a1"
      },
      "source": [
        "## Gráficos"
      ],
      "id": "7f66e1a1"
    },
    {
      "cell_type": "code",
      "metadata": {
        "colab": {
          "base_uri": "https://localhost:8080/",
          "height": 605
        },
        "id": "GmKZtpvPP7L9",
        "outputId": "29ec3c1f-16ab-49ac-909f-d1bc8902b7e0"
      },
      "source": [
        "# df_vacina_Graf001\n",
        "\n",
        "plt.figure(figsize=(14,10))\n",
        "# Variáveis para plotagem\n",
        "\n",
        "faixa = df_vacina_Graf001['faixa']\n",
        "\n",
        "popF =  df_vacina_Graf001['Pop_DF']\n",
        "Dose1F = df_vacina_Graf001['Dose1']\n",
        "Dose2F = df_vacina_Graf001['Dose2']\n",
        "\n",
        "popM =  df_vacina_Graf001['Pop_DF_M']\n",
        "Dose1M = df_vacina_Graf001['Dose1_M']\n",
        "Dose2M = df_vacina_Graf001['Dose2_M']\n",
        "\n",
        "\n",
        "# definições das barras para plotagem\n",
        "plt.barh(faixa, Dose2F,color='navy')\n",
        "plt.barh(faixa, Dose1F,color='lightsteelblue', left = Dose2F)\n",
        "plt.barh(faixa, popF, color='lightgray', left = Dose2F + Dose1F)\n",
        "\n",
        "plt.barh(faixa, Dose2M,color='navy')\n",
        "plt.barh(faixa, Dose1M,color='lightsteelblue', left = Dose2M)\n",
        "plt.barh(faixa, popM, color='lightgray', left = Dose2M + Dose1M)\n",
        "\n",
        "\n",
        "# Plotagem\n",
        "plt.ylabel('Faixas Etárias')\n",
        "plt.xlabel('Homens               |               Mulheres')\n",
        "plt.title('Vacinação DF')\n",
        "plt.legend(('2 Dose','1 Dose','População do DF' ))\n",
        "plt.plot([0,0],[0,18])\n",
        "plt.xticks([])\n",
        "\n",
        "plt.show()"
      ],
      "id": "GmKZtpvPP7L9",
      "execution_count": 40,
      "outputs": [
        {
          "output_type": "display_data",
          "data": {
            "image/png": "[encoded data removed]",
            "text/plain": [
              "<Figure size 1008x720 with 1 Axes>"
            ]
          },
          "metadata": {
            "tags": [],
            "needs_background": "light"
          }
        }
      ]
    },
    {
      "cell_type": "code",
      "metadata": {
        "id": "6c4bd9fc"
      },
      "source": [
        "# # Gráfico Vacinaçao Feminino\n",
        "\n",
        "# plt.figure(figsize=(14,10))\n",
        "\n",
        "# faixa = df_vacina_F['faixa']\n",
        "# popM =  df_vacina_F['Pop_DF']\n",
        "# Dose1 = df_vacina_F['Dose1']\n",
        "# Dose2 = df_vacina_F['Dose2']\n",
        "\n",
        "# plt.bar(faixa, Dose2,color='navy')\n",
        "# plt.bar(faixa, Dose1,color='lightgray', bottom = Dose2)\n",
        "# plt.bar(faixa, popM, color='lightsteelblue', bottom = Dose2 + Dose1)\n",
        "\n",
        "# plt.xlabel('Faixas Etárias')\n",
        "# plt.ylabel('Qtd Pessoas')\n",
        "# plt.title('Vacinação DF Feminino')\n",
        "# plt.legend(('2 Dose','1 Dose','População do DF' ))\n",
        "\n",
        "# plt.show()"
      ],
      "id": "6c4bd9fc",
      "execution_count": null,
      "outputs": []
    },
    {
      "cell_type": "code",
      "metadata": {
        "id": "40026193"
      },
      "source": [
        "# # Gráfico Vacinaçao Masculino\n",
        "\n",
        "# plt.figure(figsize=(14,10))\n",
        "\n",
        "# faixa = df_vacina_M['faixa']\n",
        "# popM =  df_vacina_M['Pop_DF']\n",
        "# Dose1 = df_vacina_M['Dose1']\n",
        "# Dose2 = df_vacina_M['Dose2']\n",
        "\n",
        "# plt.bar(faixa, Dose2,color='navy')\n",
        "# plt.bar(faixa, Dose1,color='lightgray', bottom = Dose2)\n",
        "# plt.bar(faixa, popM, color='lightsteelblue', bottom = Dose2 + Dose1)\n",
        "\n",
        "# plt.xlabel('Faixas Etárias')\n",
        "# plt.ylabel('Qtd Pessoas')\n",
        "# plt.title('Vacinação DF Masculino')\n",
        "# plt.legend(('2 Dose','1 Dose','População do DF' ))\n",
        "\n",
        "# plt.show()"
      ],
      "id": "40026193",
      "execution_count": null,
      "outputs": []
    },
    {
      "cell_type": "markdown",
      "metadata": {
        "id": "e76803a8"
      },
      "source": [
        "## Demais correlações"
      ],
      "id": "e76803a8"
    },
    {
      "cell_type": "code",
      "metadata": {
        "colab": {
          "base_uri": "https://localhost:8080/",
          "height": 204
        },
        "id": "fb4795e3",
        "outputId": "617b0009-3601-41d5-a3e9-d73429655841"
      },
      "source": [
        "df_vacina.head()"
      ],
      "id": "fb4795e3",
      "execution_count": 41,
      "outputs": [
        {
          "output_type": "execute_result",
          "data": {
            "text/html": [
              "<div>\n",
              "<style scoped>\n",
              "    .dataframe tbody tr th:only-of-type {\n",
              "        vertical-align: middle;\n",
              "    }\n",
              "\n",
              "    .dataframe tbody tr th {\n",
              "        vertical-align: top;\n",
              "    }\n",
              "\n",
              "    .dataframe thead th {\n",
              "        text-align: right;\n",
              "    }\n",
              "</style>\n",
              "<table border=\"1\" class=\"dataframe\">\n",
              "  <thead>\n",
              "    <tr style=\"text-align: right;\">\n",
              "      <th></th>\n",
              "      <th>idade</th>\n",
              "      <th>sexo</th>\n",
              "      <th>local_vacinacao</th>\n",
              "      <th>grupo_atendimento</th>\n",
              "      <th>vacina_categoria</th>\n",
              "      <th>dose</th>\n",
              "      <th>vacina_nome</th>\n",
              "    </tr>\n",
              "  </thead>\n",
              "  <tbody>\n",
              "    <tr>\n",
              "      <th>0</th>\n",
              "      <td>59</td>\n",
              "      <td>F</td>\n",
              "      <td>UBS 2 SOBRADINHO II</td>\n",
              "      <td>Diabetes Mellitus</td>\n",
              "      <td>Comorbidades</td>\n",
              "      <td>1ª Dose</td>\n",
              "      <td>Vacina covid-19 - BNT162b2 - BioNTech/Fosun Ph...</td>\n",
              "    </tr>\n",
              "    <tr>\n",
              "      <th>1</th>\n",
              "      <td>47</td>\n",
              "      <td>F</td>\n",
              "      <td>POLICLINICA LAGO SUL</td>\n",
              "      <td>Psicólogo</td>\n",
              "      <td>Trabalhadores de Saúde</td>\n",
              "      <td>1ª Dose</td>\n",
              "      <td>Covid-19-Coronavac-Sinovac/Butantan</td>\n",
              "    </tr>\n",
              "    <tr>\n",
              "      <th>2</th>\n",
              "      <td>51</td>\n",
              "      <td>F</td>\n",
              "      <td>UBS 01 ASA SUL</td>\n",
              "      <td>Diabetes Mellitus</td>\n",
              "      <td>Comorbidades</td>\n",
              "      <td>1ª Dose</td>\n",
              "      <td>Vacina Covid-19 - Covishield</td>\n",
              "    </tr>\n",
              "    <tr>\n",
              "      <th>3</th>\n",
              "      <td>45</td>\n",
              "      <td>F</td>\n",
              "      <td>UBS 01 ASA SUL</td>\n",
              "      <td>Técnico de Enfermagem</td>\n",
              "      <td>Trabalhadores de Saúde</td>\n",
              "      <td>1ª Dose</td>\n",
              "      <td>Covid-19-Coronavac-Sinovac/Butantan</td>\n",
              "    </tr>\n",
              "    <tr>\n",
              "      <th>4</th>\n",
              "      <td>59</td>\n",
              "      <td>M</td>\n",
              "      <td>UBS 1 SOBRADINHO</td>\n",
              "      <td>Pneumopatias Crônicas Graves</td>\n",
              "      <td>Comorbidades</td>\n",
              "      <td>1ª Dose</td>\n",
              "      <td>Vacina Covid-19 - Covishield</td>\n",
              "    </tr>\n",
              "  </tbody>\n",
              "</table>\n",
              "</div>"
            ],
            "text/plain": [
              "   idade sexo  ...         dose                                        vacina_nome\n",
              "0     59    F  ...      1ª Dose  Vacina covid-19 - BNT162b2 - BioNTech/Fosun Ph...\n",
              "1     47    F  ...      1ª Dose                Covid-19-Coronavac-Sinovac/Butantan\n",
              "2     51    F  ...      1ª Dose                       Vacina Covid-19 - Covishield\n",
              "3     45    F  ...      1ª Dose                Covid-19-Coronavac-Sinovac/Butantan\n",
              "4     59    M  ...      1ª Dose                       Vacina Covid-19 - Covishield\n",
              "\n",
              "[5 rows x 7 columns]"
            ]
          },
          "metadata": {
            "tags": []
          },
          "execution_count": 41
        }
      ]
    },
    {
      "cell_type": "code",
      "metadata": {
        "colab": {
          "base_uri": "https://localhost:8080/",
          "height": 487
        },
        "id": "5668ad33",
        "outputId": "ba003461-e1f7-4747-e753-f65c0a03e6e7"
      },
      "source": [
        "# Apenas uma variável numérica, correlação numérica inexistente\n",
        "df_corr = df_vacina.corr()\n",
        "\n",
        "plt.figure(figsize=(12,8))\n",
        "sns.heatmap(df_corr, annot=True, annot_kws={\"size\": 12})\n",
        "plt.show()"
      ],
      "id": "5668ad33",
      "execution_count": 42,
      "outputs": [
        {
          "output_type": "display_data",
          "data": {
            "image/png": "[encoded data removed]",
            "text/plain": [
              "<Figure size 864x576 with 2 Axes>"
            ]
          },
          "metadata": {
            "tags": [],
            "needs_background": "light"
          }
        }
      ]
    },
    {
      "cell_type": "markdown",
      "metadata": {
        "id": "xm5v-mIC8Czb"
      },
      "source": [
        "### Preparando 2 análise\n"
      ],
      "id": "xm5v-mIC8Czb"
    },
    {
      "cell_type": "code",
      "metadata": {
        "colab": {
          "base_uri": "https://localhost:8080/"
        },
        "id": "Pd2AUjoY8BxT",
        "outputId": "198940f8-2f75-4541-9877-afe74558b5f8"
      },
      "source": [
        "# Limpando o nome da vacina\n",
        "df_vacina['vacina_nome'] = df_vacina['vacina_nome'].str.replace('Vacina ', '')\n",
        "df_vacina['vacina_nome'] = df_vacina['vacina_nome'].str.replace('covid-', '')\n",
        "df_vacina['vacina_nome'] = df_vacina['vacina_nome'].str.replace('Covid-', '')\n",
        "df_vacina['vacina_nome'] = df_vacina['vacina_nome'].str.replace('19-', '')\n",
        "df_vacina['vacina_nome'] = df_vacina['vacina_nome'].str.replace('19 - ', '')\n",
        "df_vacina['vacina_nome'] = df_vacina['vacina_nome'].str.replace('\t', '')\n",
        "\n",
        "\n",
        "df_vacina['vacina_nome'] = df_vacina['vacina_nome'].str.replace('-Sinovac/Butantan', '')\n",
        "df_vacina['vacina_nome'] = df_vacina['vacina_nome'].str.replace('BNT162b2 - BioNTech/Fosun Pharma/', '')\n",
        "\n",
        "df_vacina['vacina_nome']"
      ],
      "id": "Pd2AUjoY8BxT",
      "execution_count": 43,
      "outputs": [
        {
          "output_type": "execute_result",
          "data": {
            "text/plain": [
              "0              Pfizer\n",
              "1           Coronavac\n",
              "2          Covishield\n",
              "3           Coronavac\n",
              "4          Covishield\n",
              "             ...     \n",
              "975475     Covishield\n",
              "975476      Coronavac\n",
              "975477     Covishield\n",
              "975478    AstraZeneca\n",
              "975479      Coronavac\n",
              "Name: vacina_nome, Length: 975480, dtype: object"
            ]
          },
          "metadata": {
            "tags": []
          },
          "execution_count": 43
        }
      ]
    },
    {
      "cell_type": "code",
      "metadata": {
        "colab": {
          "base_uri": "https://localhost:8080/",
          "height": 204
        },
        "id": "f3393081",
        "outputId": "11302ef3-37bd-4304-8de3-e183504d6b92"
      },
      "source": [
        "df_vacinaAGG = df_vacina.groupby(['vacina_nome']).agg('count')\n",
        "df_vacinaAGG#.head(10)"
      ],
      "id": "f3393081",
      "execution_count": 44,
      "outputs": [
        {
          "output_type": "execute_result",
          "data": {
            "text/html": [
              "<div>\n",
              "<style scoped>\n",
              "    .dataframe tbody tr th:only-of-type {\n",
              "        vertical-align: middle;\n",
              "    }\n",
              "\n",
              "    .dataframe tbody tr th {\n",
              "        vertical-align: top;\n",
              "    }\n",
              "\n",
              "    .dataframe thead th {\n",
              "        text-align: right;\n",
              "    }\n",
              "</style>\n",
              "<table border=\"1\" class=\"dataframe\">\n",
              "  <thead>\n",
              "    <tr style=\"text-align: right;\">\n",
              "      <th></th>\n",
              "      <th>idade</th>\n",
              "      <th>sexo</th>\n",
              "      <th>local_vacinacao</th>\n",
              "      <th>grupo_atendimento</th>\n",
              "      <th>vacina_categoria</th>\n",
              "      <th>dose</th>\n",
              "    </tr>\n",
              "    <tr>\n",
              "      <th>vacina_nome</th>\n",
              "      <th></th>\n",
              "      <th></th>\n",
              "      <th></th>\n",
              "      <th></th>\n",
              "      <th></th>\n",
              "      <th></th>\n",
              "    </tr>\n",
              "  </thead>\n",
              "  <tbody>\n",
              "    <tr>\n",
              "      <th>AstraZeneca</th>\n",
              "      <td>44077</td>\n",
              "      <td>44077</td>\n",
              "      <td>44077</td>\n",
              "      <td>44077</td>\n",
              "      <td>44077</td>\n",
              "      <td>44077</td>\n",
              "    </tr>\n",
              "    <tr>\n",
              "      <th>Coronavac</th>\n",
              "      <td>518519</td>\n",
              "      <td>518519</td>\n",
              "      <td>518519</td>\n",
              "      <td>518519</td>\n",
              "      <td>518519</td>\n",
              "      <td>518519</td>\n",
              "    </tr>\n",
              "    <tr>\n",
              "      <th>Covishield</th>\n",
              "      <td>374413</td>\n",
              "      <td>374413</td>\n",
              "      <td>374413</td>\n",
              "      <td>374413</td>\n",
              "      <td>374413</td>\n",
              "      <td>374413</td>\n",
              "    </tr>\n",
              "    <tr>\n",
              "      <th>Pfizer</th>\n",
              "      <td>38471</td>\n",
              "      <td>38471</td>\n",
              "      <td>38471</td>\n",
              "      <td>38471</td>\n",
              "      <td>38471</td>\n",
              "      <td>38471</td>\n",
              "    </tr>\n",
              "  </tbody>\n",
              "</table>\n",
              "</div>"
            ],
            "text/plain": [
              "              idade    sexo  ...  vacina_categoria    dose\n",
              "vacina_nome                  ...                          \n",
              "AstraZeneca   44077   44077  ...             44077   44077\n",
              "Coronavac    518519  518519  ...            518519  518519\n",
              "Covishield   374413  374413  ...            374413  374413\n",
              "Pfizer        38471   38471  ...             38471   38471\n",
              "\n",
              "[4 rows x 6 columns]"
            ]
          },
          "metadata": {
            "tags": []
          },
          "execution_count": 44
        }
      ]
    },
    {
      "cell_type": "code",
      "metadata": {
        "colab": {
          "base_uri": "https://localhost:8080/",
          "height": 513
        },
        "id": "60n7iwvL-EjT",
        "outputId": "3f9a2cca-1899-4e6b-df78-9c257ab0dab1"
      },
      "source": [
        "plt.figure(figsize=(12,8))\n",
        "\n",
        "plt.bar(x=df_vacinaAGG.index\n",
        "            , height = df_vacinaAGG.idade)\n",
        "\n",
        "plt.xlabel('Vacinas')\n",
        "plt.ylabel('Qtde de aplicações')\n",
        "plt.title('Quantidade aplicações / vacina')\n",
        "plt.show()"
      ],
      "id": "60n7iwvL-EjT",
      "execution_count": 45,
      "outputs": [
        {
          "output_type": "display_data",
          "data": {
            "image/png": "[encoded data removed]",
            "text/plain": [
              "<Figure size 864x576 with 1 Axes>"
            ]
          },
          "metadata": {
            "tags": [],
            "needs_background": "light"
          }
        }
      ]
    },
    {
      "cell_type": "markdown",
      "metadata": {
        "id": "XqITG7GhjkzF"
      },
      "source": [
        "## Macro Categorias"
      ],
      "id": "XqITG7GhjkzF"
    },
    {
      "cell_type": "code",
      "metadata": {
        "colab": {
          "base_uri": "https://localhost:8080/",
          "height": 607
        },
        "id": "9325e572",
        "outputId": "da65f973-7cc5-4845-9a8b-527975f08fab"
      },
      "source": [
        "df_vacinaAGGcat = df_vacina.groupby(['vacina_categoria']).agg('count')\n",
        "df_vacinaAGGcat"
      ],
      "id": "9325e572",
      "execution_count": 46,
      "outputs": [
        {
          "output_type": "execute_result",
          "data": {
            "text/html": [
              "<div>\n",
              "<style scoped>\n",
              "    .dataframe tbody tr th:only-of-type {\n",
              "        vertical-align: middle;\n",
              "    }\n",
              "\n",
              "    .dataframe tbody tr th {\n",
              "        vertical-align: top;\n",
              "    }\n",
              "\n",
              "    .dataframe thead th {\n",
              "        text-align: right;\n",
              "    }\n",
              "</style>\n",
              "<table border=\"1\" class=\"dataframe\">\n",
              "  <thead>\n",
              "    <tr style=\"text-align: right;\">\n",
              "      <th></th>\n",
              "      <th>idade</th>\n",
              "      <th>sexo</th>\n",
              "      <th>local_vacinacao</th>\n",
              "      <th>grupo_atendimento</th>\n",
              "      <th>dose</th>\n",
              "      <th>vacina_nome</th>\n",
              "    </tr>\n",
              "    <tr>\n",
              "      <th>vacina_categoria</th>\n",
              "      <th></th>\n",
              "      <th></th>\n",
              "      <th></th>\n",
              "      <th></th>\n",
              "      <th></th>\n",
              "      <th></th>\n",
              "    </tr>\n",
              "  </thead>\n",
              "  <tbody>\n",
              "    <tr>\n",
              "      <th>-</th>\n",
              "      <td>10363</td>\n",
              "      <td>10363</td>\n",
              "      <td>10363</td>\n",
              "      <td>10363</td>\n",
              "      <td>10363</td>\n",
              "      <td>10363</td>\n",
              "    </tr>\n",
              "    <tr>\n",
              "      <th>Comorbidades</th>\n",
              "      <td>133608</td>\n",
              "      <td>133608</td>\n",
              "      <td>133608</td>\n",
              "      <td>133608</td>\n",
              "      <td>133608</td>\n",
              "      <td>133608</td>\n",
              "    </tr>\n",
              "    <tr>\n",
              "      <th>Faixa Etária</th>\n",
              "      <td>532444</td>\n",
              "      <td>532444</td>\n",
              "      <td>532444</td>\n",
              "      <td>532444</td>\n",
              "      <td>532444</td>\n",
              "      <td>532444</td>\n",
              "    </tr>\n",
              "    <tr>\n",
              "      <th>Forças Armadas (membros ativos)</th>\n",
              "      <td>3703</td>\n",
              "      <td>3703</td>\n",
              "      <td>3703</td>\n",
              "      <td>3703</td>\n",
              "      <td>3703</td>\n",
              "      <td>3703</td>\n",
              "    </tr>\n",
              "    <tr>\n",
              "      <th>Forças de Segurança e Salvamento</th>\n",
              "      <td>23112</td>\n",
              "      <td>23112</td>\n",
              "      <td>23112</td>\n",
              "      <td>23112</td>\n",
              "      <td>23112</td>\n",
              "      <td>23112</td>\n",
              "    </tr>\n",
              "    <tr>\n",
              "      <th>Funcionário do Sistema de Privação de Liberdade</th>\n",
              "      <td>1277</td>\n",
              "      <td>1277</td>\n",
              "      <td>1277</td>\n",
              "      <td>1277</td>\n",
              "      <td>1277</td>\n",
              "      <td>1277</td>\n",
              "    </tr>\n",
              "    <tr>\n",
              "      <th>Pessoas com Deficiência</th>\n",
              "      <td>8330</td>\n",
              "      <td>8330</td>\n",
              "      <td>8330</td>\n",
              "      <td>8330</td>\n",
              "      <td>8330</td>\n",
              "      <td>8330</td>\n",
              "    </tr>\n",
              "    <tr>\n",
              "      <th>Pessoas de 60 anos ou mais institucionalizadas</th>\n",
              "      <td>7632</td>\n",
              "      <td>7632</td>\n",
              "      <td>7632</td>\n",
              "      <td>7632</td>\n",
              "      <td>7632</td>\n",
              "      <td>7632</td>\n",
              "    </tr>\n",
              "    <tr>\n",
              "      <th>Pessoas em Situação de Rua</th>\n",
              "      <td>41</td>\n",
              "      <td>41</td>\n",
              "      <td>41</td>\n",
              "      <td>41</td>\n",
              "      <td>41</td>\n",
              "      <td>41</td>\n",
              "    </tr>\n",
              "    <tr>\n",
              "      <th>População Privada de Liberdade</th>\n",
              "      <td>42</td>\n",
              "      <td>42</td>\n",
              "      <td>42</td>\n",
              "      <td>42</td>\n",
              "      <td>42</td>\n",
              "      <td>42</td>\n",
              "    </tr>\n",
              "    <tr>\n",
              "      <th>Povos Indígenas</th>\n",
              "      <td>409</td>\n",
              "      <td>409</td>\n",
              "      <td>409</td>\n",
              "      <td>409</td>\n",
              "      <td>409</td>\n",
              "      <td>409</td>\n",
              "    </tr>\n",
              "    <tr>\n",
              "      <th>Povos e Comunidades Tradicionais</th>\n",
              "      <td>18</td>\n",
              "      <td>18</td>\n",
              "      <td>18</td>\n",
              "      <td>18</td>\n",
              "      <td>18</td>\n",
              "      <td>18</td>\n",
              "    </tr>\n",
              "    <tr>\n",
              "      <th>Trabalhadores Industriais</th>\n",
              "      <td>12</td>\n",
              "      <td>12</td>\n",
              "      <td>12</td>\n",
              "      <td>12</td>\n",
              "      <td>12</td>\n",
              "      <td>12</td>\n",
              "    </tr>\n",
              "    <tr>\n",
              "      <th>Trabalhadores Portuários</th>\n",
              "      <td>77</td>\n",
              "      <td>77</td>\n",
              "      <td>77</td>\n",
              "      <td>77</td>\n",
              "      <td>77</td>\n",
              "      <td>77</td>\n",
              "    </tr>\n",
              "    <tr>\n",
              "      <th>Trabalhadores da Educação</th>\n",
              "      <td>7731</td>\n",
              "      <td>7731</td>\n",
              "      <td>7731</td>\n",
              "      <td>7731</td>\n",
              "      <td>7731</td>\n",
              "      <td>7731</td>\n",
              "    </tr>\n",
              "    <tr>\n",
              "      <th>Trabalhadores de Saúde</th>\n",
              "      <td>243103</td>\n",
              "      <td>243103</td>\n",
              "      <td>243103</td>\n",
              "      <td>243103</td>\n",
              "      <td>243103</td>\n",
              "      <td>243103</td>\n",
              "    </tr>\n",
              "    <tr>\n",
              "      <th>Trabalhadores de Transporte</th>\n",
              "      <td>3578</td>\n",
              "      <td>3578</td>\n",
              "      <td>3578</td>\n",
              "      <td>3578</td>\n",
              "      <td>3578</td>\n",
              "      <td>3578</td>\n",
              "    </tr>\n",
              "  </tbody>\n",
              "</table>\n",
              "</div>"
            ],
            "text/plain": [
              "                                                  idade  ...  vacina_nome\n",
              "vacina_categoria                                         ...             \n",
              "-                                                 10363  ...        10363\n",
              "Comorbidades                                     133608  ...       133608\n",
              "Faixa Etária                                     532444  ...       532444\n",
              "Forças Armadas (membros ativos)                    3703  ...         3703\n",
              "Forças de Segurança e Salvamento                  23112  ...        23112\n",
              "Funcionário do Sistema de Privação de Liberdade    1277  ...         1277\n",
              "Pessoas com Deficiência                            8330  ...         8330\n",
              "Pessoas de 60 anos ou mais institucionalizadas     7632  ...         7632\n",
              "Pessoas em Situação de Rua                           41  ...           41\n",
              "População Privada de Liberdade                       42  ...           42\n",
              "Povos Indígenas                                     409  ...          409\n",
              "Povos e Comunidades Tradicionais                     18  ...           18\n",
              "Trabalhadores Industriais                            12  ...           12\n",
              "Trabalhadores Portuários                             77  ...           77\n",
              "Trabalhadores da Educação                          7731  ...         7731\n",
              "Trabalhadores de Saúde                           243103  ...       243103\n",
              "Trabalhadores de Transporte                        3578  ...         3578\n",
              "\n",
              "[17 rows x 6 columns]"
            ]
          },
          "metadata": {
            "tags": []
          },
          "execution_count": 46
        }
      ]
    },
    {
      "cell_type": "code",
      "metadata": {
        "colab": {
          "base_uri": "https://localhost:8080/",
          "height": 297
        },
        "id": "HKZkCnJ_IFV-",
        "outputId": "12fee2a5-ab58-458f-c59e-0b0ad62d5e2e"
      },
      "source": [
        "df_vacina_categoria = df_vacinaAGGcat.reset_index()\n",
        "\n",
        "df_vacina_categoria['mac_cat'] = df_vacina_categoria['vacina_categoria']\n",
        "\n",
        "df_vacina_categoria['mac_cat'] = df_vacina_categoria['mac_cat'].map({\n",
        "    '-':'Indefinidos',\n",
        "    'Comorbidades':'Comorbidades',\n",
        "    'Faixa Etária':'Faixa Etária',\n",
        "    'Trabalhadores de Saúde':'Trabalhadores de Saúde',\n",
        "    'Forças Armadas (membros ativos)':'Segurança Publica',\n",
        "    'Forças de Segurança e Salvamento':'Segurança Publica',\n",
        "    'Funcionário do Sistema de Privação de Liberdade':'Segurança Publica',\n",
        "    'Pessoas com Deficiência':'Especiais',\n",
        "    'Pessoas de 60 anos ou mais institucionalizadas':'Especiais',\n",
        "    'Pessoas em Situação de Rua':'Especiais',\n",
        "    'População Privada de Liberdade':'Especiais',\n",
        "    'Povos Indígenas':'Especiais',\n",
        "    'Povos e Comunidades Tradicionais':'Especiais',\n",
        "    'Trabalhadores Industriais':'Trabalhadores Gerais',\n",
        "    'Trabalhadores Portuários':'Trabalhadores Gerais',\n",
        "    'Trabalhadores da Educação':'Trabalhadores Gerais',\n",
        "    'Trabalhadores de Transporte':'Trabalhadores Gerais'})\n",
        "\n",
        "\n",
        "del df_vacina_categoria['vacina_categoria']\n",
        "del df_vacina_categoria['sexo'] \n",
        "del df_vacina_categoria['local_vacinacao']\n",
        "del df_vacina_categoria['grupo_atendimento']\n",
        "del df_vacina_categoria['dose']\n",
        "del df_vacina_categoria['vacina_nome']\n",
        "\n",
        "\n",
        "\n",
        "df_vacina_categoria.rename(columns={'idade':'Qtd_aplicacoes'}, inplace=True)\n",
        "\n",
        "df_vacina_categoria = df_vacina_categoria.groupby(['mac_cat']).agg('sum')\n",
        "\n",
        "\n",
        "df_vacina_categoria.head(10)#.describe()"
      ],
      "id": "HKZkCnJ_IFV-",
      "execution_count": 48,
      "outputs": [
        {
          "output_type": "execute_result",
          "data": {
            "text/html": [
              "<div>\n",
              "<style scoped>\n",
              "    .dataframe tbody tr th:only-of-type {\n",
              "        vertical-align: middle;\n",
              "    }\n",
              "\n",
              "    .dataframe tbody tr th {\n",
              "        vertical-align: top;\n",
              "    }\n",
              "\n",
              "    .dataframe thead th {\n",
              "        text-align: right;\n",
              "    }\n",
              "</style>\n",
              "<table border=\"1\" class=\"dataframe\">\n",
              "  <thead>\n",
              "    <tr style=\"text-align: right;\">\n",
              "      <th></th>\n",
              "      <th>Qtd_aplicacoes</th>\n",
              "    </tr>\n",
              "    <tr>\n",
              "      <th>mac_cat</th>\n",
              "      <th></th>\n",
              "    </tr>\n",
              "  </thead>\n",
              "  <tbody>\n",
              "    <tr>\n",
              "      <th>Comorbidades</th>\n",
              "      <td>133608</td>\n",
              "    </tr>\n",
              "    <tr>\n",
              "      <th>Especiais</th>\n",
              "      <td>16472</td>\n",
              "    </tr>\n",
              "    <tr>\n",
              "      <th>Faixa Etária</th>\n",
              "      <td>532444</td>\n",
              "    </tr>\n",
              "    <tr>\n",
              "      <th>Indefinidos</th>\n",
              "      <td>10363</td>\n",
              "    </tr>\n",
              "    <tr>\n",
              "      <th>Segurança Publica</th>\n",
              "      <td>28092</td>\n",
              "    </tr>\n",
              "    <tr>\n",
              "      <th>Trabalhadores Gerais</th>\n",
              "      <td>11398</td>\n",
              "    </tr>\n",
              "    <tr>\n",
              "      <th>Trabalhadores de Saúde</th>\n",
              "      <td>243103</td>\n",
              "    </tr>\n",
              "  </tbody>\n",
              "</table>\n",
              "</div>"
            ],
            "text/plain": [
              "                        Qtd_aplicacoes\n",
              "mac_cat                               \n",
              "Comorbidades                    133608\n",
              "Especiais                        16472\n",
              "Faixa Etária                    532444\n",
              "Indefinidos                      10363\n",
              "Segurança Publica                28092\n",
              "Trabalhadores Gerais             11398\n",
              "Trabalhadores de Saúde          243103"
            ]
          },
          "metadata": {
            "tags": []
          },
          "execution_count": 48
        }
      ]
    },
    {
      "cell_type": "code",
      "metadata": {
        "colab": {
          "base_uri": "https://localhost:8080/",
          "height": 595
        },
        "id": "YUOh-i88GtRv",
        "outputId": "6b95d28d-8583-46bf-ccae-62438c438717"
      },
      "source": [
        "plt.figure(figsize=(12,8))\n",
        "\n",
        "plt.bar(x=df_vacina_categoria.index\n",
        "        , height = df_vacina_categoria.Qtd_aplicacoes)\n",
        "\n",
        "\n",
        "plt.xticks(rotation=45)\n",
        "plt.xlabel('Macro Categorias')\n",
        "plt.ylabel('Qtde de aplicações')\n",
        "plt.title('Quantidade aplicações / vacina')\n",
        "plt.show()"
      ],
      "id": "YUOh-i88GtRv",
      "execution_count": 49,
      "outputs": [
        {
          "output_type": "display_data",
          "data": {
            "image/png": "[encoded data removed]",
            "text/plain": [
              "<Figure size 864x576 with 1 Axes>"
            ]
          },
          "metadata": {
            "tags": [],
            "needs_background": "light"
          }
        }
      ]
    }
  ]
}