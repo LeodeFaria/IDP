{
  "nbformat": 4,
  "nbformat_minor": 0,
  "metadata": {
    "kernelspec": {
      "display_name": "Python 3",
      "language": "python",
      "name": "python3"
    },
    "language_info": {
      "name": "python",
      "version": "3.6.4",
      "mimetype": "text/x-python",
      "codemirror_mode": {
        "name": "ipython",
        "version": 3
      },
      "pygments_lexer": "ipython3",
      "nbconvert_exporter": "python",
      "file_extension": ".py"
    },
    "colab": {
      "name": "idp - IA1 - Exercicios 2.ipynb",
      "provenance": [],
      "collapsed_sections": [],
      "include_colab_link": true
    }
  },
  "cells": [
    {
      "cell_type": "markdown",
      "metadata": {
        "id": "view-in-github",
        "colab_type": "text"
      },
      "source": [
        "<a href=\"https://colab.research.google.com/github/LeodeFaria/IDP/blob/main/idp_IA1_Exercicios_2.ipynb\" target=\"_parent\"><img src=\"https://colab.research.google.com/assets/colab-badge.svg\" alt=\"Open In Colab\"/></a>"
      ]
    },
    {
      "cell_type": "markdown",
      "metadata": {
        "_cell_guid": "71f2a957-f15e-4169-9e2c-feb7ee96d708",
        "_uuid": "f1d7845ff30ee0a759ca65317fff69f9392ac7d6",
        "id": "uI8d-6M4zaV-"
      },
      "source": [
        "\n",
        "# **Teste de Hipótese e p-values**\n",
        "    \n",
        "   **Questões a serem respondidas**\n",
        "\n",
        "1. Teste de hipótese: Ohayo e Pensilvania votaram igualmente no Trump? \n",
        "2. Teste de hipótese: A região sul e oeste votam igualmente no Trump?"
      ]
    },
    {
      "cell_type": "code",
      "metadata": {
        "_cell_guid": "b1076dfc-b9ad-4769-8c92-a6c4dae69d19",
        "_kg_hide-input": false,
        "_kg_hide-output": true,
        "_uuid": "8f2839f25d086af736a60e9eeb907d3b93b6e0e5",
        "collapsed": true,
        "trusted": true,
        "id": "YpuV9PsuzaWB"
      },
      "source": [
        "# Importando bibliotecas\n",
        "import numpy as np \n",
        "import pandas as pd \n",
        "import matplotlib.pyplot as plt \n",
        "import seaborn as sns \n",
        "\n",
        "sns.set() \n",
        "%matplotlib inline\n"
      ],
      "execution_count": null,
      "outputs": []
    },
    {
      "cell_type": "code",
      "metadata": {
        "_cell_guid": "b28ba265-838b-4bca-ae9a-e8e25bb432c3",
        "_uuid": "a2b543f3fa2be6d47ea16f25f2d8073c308552a4",
        "collapsed": true,
        "trusted": true,
        "id": "acwpoJ5VzaWC"
      },
      "source": [
        "# Lendo dados\n",
        "df = pd.read_csv('https://raw.githubusercontent.com/4tune-ai/IDP/main/data/countypres_2020.csv?raw=true')\n",
        "df_states = pd.read_csv('https://github.com/4tune-ai/IDP/blob/main/data/states.csv?raw=true')"
      ],
      "execution_count": null,
      "outputs": []
    },
    {
      "cell_type": "code",
      "metadata": {
        "_cell_guid": "3cd8b696-b7b4-43b0-8a96-975caf7d1ca5",
        "_kg_hide-input": true,
        "_kg_hide-output": true,
        "_uuid": "78fbb268d0ce6158ae36393e833f79b5de367fc6",
        "collapsed": true,
        "trusted": true,
        "id": "ADPbr9oCzaWE"
      },
      "source": [
        "# Funções auxiliares\n",
        "\n",
        "# Empirical Cumulative Distribution Function.  \n",
        "def ecdf(data):\n",
        "    \"\"\"\n",
        "    Compute ECDF for a one-dimensional array of measurements.\n",
        "    \n",
        "    It assigns a probability of to each datum (x axis), orders the data from smallest to largest in value, \n",
        "    and calculates the sum of the assigned probabilities up to and including each datum (x axis).\n",
        "    \"\"\"\n",
        "    \n",
        "    # Number of data points: n\n",
        "    n = len(data)\n",
        "    \n",
        "    # x-data for the ECDF: x\n",
        "    x = np.sort(data)\n",
        "    \n",
        "    # y-data for the ECDF: y\n",
        "    y = np.arange(1, n+1) / n\n",
        "    \n",
        "    return x, y\n",
        "\n",
        "def bootstrap_replicate_1d(data, func):\n",
        "    \"\"\"\n",
        "    Compute and return a bootstrap replicate, which is a statistical value according to parameter 'func'\n",
        "    on a randomized numpy array based on the given 'data'\n",
        "    \"\"\"\n",
        "    return func(np.random.choice(data, size=len(data)))\n",
        "\n",
        "def draw_bs_reps(data, func, size=1):\n",
        "    \"\"\"\n",
        "    Draw 'size' numbers of bootstrap replicates.\n",
        "    \"\"\"\n",
        "    \n",
        "    # Initialize array of replicates: bs_replicates\n",
        "    bs_replicates = np.empty(size)\n",
        "\n",
        "    # Generate replicates\n",
        "    for i in range(size):\n",
        "        bs_replicates[i] = bootstrap_replicate_1d(data, func)\n",
        "\n",
        "    return bs_replicates"
      ],
      "execution_count": null,
      "outputs": []
    },
    {
      "cell_type": "code",
      "metadata": {
        "_cell_guid": "aac74db7-3a5a-4905-9013-84cbf5f05bbc",
        "_uuid": "61ecfa043a7b2376434a6341ef9fdf0df7072922",
        "collapsed": true,
        "trusted": true,
        "id": "KiWQ_H4OzaWD"
      },
      "source": [
        "# Analise Exploratoria\n"
      ],
      "execution_count": null,
      "outputs": []
    },
    {
      "cell_type": "markdown",
      "metadata": {
        "_cell_guid": "fd734f53-0471-4113-bde3-2ab17b0ec8e8",
        "_uuid": "47fc5a1934e4a96e1e18431e4ac73a78b42b7ff0",
        "id": "XTkSXiJ7zaWH"
      },
      "source": [
        "#### Questão 1. Teste de hipótese: Ohayo e Pensilvania votaram igual?\n"
      ]
    },
    {
      "cell_type": "code",
      "metadata": {
        "_cell_guid": "02f1a757-1180-45e6-b192-ff1f2b0f1e3c",
        "_uuid": "3b2ca3878faced475deacdf41917822806efb73b",
        "collapsed": true,
        "trusted": true,
        "id": "nxNnbXwXzaWH"
      },
      "source": [
        ""
      ],
      "execution_count": null,
      "outputs": []
    },
    {
      "cell_type": "markdown",
      "metadata": {
        "_cell_guid": "f132e0b5-2228-4486-9c2f-5a8a0a823168",
        "_uuid": "5ce6509138b56fd81d4f05d5b8277502bb2492d4",
        "id": "iBEaNYNQzaWG"
      },
      "source": [
        "### Questão 2. Teste de hipótese: A região sul e oeste votam iguais?."
      ]
    },
    {
      "cell_type": "code",
      "metadata": {
        "_cell_guid": "8f3288b5-50db-461d-97dc-ec518764898a",
        "_uuid": "87f0d914dbe619f9ab87a4033e138997086a936c",
        "collapsed": true,
        "trusted": true,
        "id": "mRIm-1FYzaWG"
      },
      "source": [
        ""
      ],
      "execution_count": null,
      "outputs": []
    }
  ]
}