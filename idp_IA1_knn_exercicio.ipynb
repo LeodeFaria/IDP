{
  "nbformat": 4,
  "nbformat_minor": 0,
  "metadata": {
    "colab": {
      "name": "idp - IA1 - knn - exercicio.ipynb",
      "provenance": [],
      "collapsed_sections": [],
      "include_colab_link": true
    },
    "kernelspec": {
      "name": "python3",
      "display_name": "Python 3"
    },
    "language_info": {
      "name": "python"
    }
  },
  "cells": [
    {
      "cell_type": "markdown",
      "metadata": {
        "id": "view-in-github",
        "colab_type": "text"
      },
      "source": [
        "<a href=\"https://colab.research.google.com/github/LeodeFaria/IDP/blob/main/idp_IA1_knn_exercicio.ipynb\" target=\"_parent\"><img src=\"https://colab.research.google.com/assets/colab-badge.svg\" alt=\"Open In Colab\"/></a>"
      ]
    },
    {
      "cell_type": "markdown",
      "metadata": {
        "id": "E_kYURqAr75v"
      },
      "source": [
        "# Objetivo\n",
        "## Vamos classificar qual o esporte que as pessoas praticam de acordo com a altura e peso."
      ]
    },
    {
      "cell_type": "code",
      "metadata": {
        "id": "q93sDh5Z4gaW"
      },
      "source": [
        "# Importando as bibliotecas\n",
        " \n",
        "import pandas as pd\n",
        "import seaborn as sns\n",
        "import matplotlib.pyplot as plt\n",
        "import numpy as np\n",
        " \n",
        "from sklearn.preprocessing import StandardScaler\n",
        "from sklearn.model_selection import train_test_split\n",
        "from sklearn.neighbors import KNeighborsClassifier\n",
        "from sklearn.metrics import classification_report,confusion_matrix"
      ],
      "execution_count": null,
      "outputs": []
    },
    {
      "cell_type": "code",
      "metadata": {
        "id": "G7o6JX8o6iV-"
      },
      "source": [
        "# Lendo os dados\n",
        "url='https://github.com/4tune-ai/IDP/blob/main/data/athlete_events.csv?raw=true'\n",
        "\n",
        "athlete_df = pd.read_csv(url)"
      ],
      "execution_count": null,
      "outputs": []
    },
    {
      "cell_type": "code",
      "metadata": {
        "id": "4Wb1zsps7_34"
      },
      "source": [
        "# Vendo as colunas que serão utilizadas\n",
        "athlete_df"
      ],
      "execution_count": null,
      "outputs": []
    },
    {
      "cell_type": "code",
      "metadata": {
        "id": "T7TWMHPiD6gZ"
      },
      "source": [
        "# Removendo os dados nan\n"
      ],
      "execution_count": null,
      "outputs": []
    },
    {
      "cell_type": "code",
      "metadata": {
        "id": "vv_cwFRMGBgp"
      },
      "source": [
        "# Vendo a relação entre os pares \n"
      ],
      "execution_count": null,
      "outputs": []
    },
    {
      "cell_type": "code",
      "metadata": {
        "id": "HCZK-gSO6irk"
      },
      "source": [
        "# Fazendo o Scaling das features\n"
      ],
      "execution_count": null,
      "outputs": []
    },
    {
      "cell_type": "code",
      "metadata": {
        "id": "UZKZIg2b1H7R"
      },
      "source": [
        "# Dividindo em treino e teste\n"
      ],
      "execution_count": null,
      "outputs": []
    },
    {
      "cell_type": "code",
      "metadata": {
        "id": "VnzgfDInBOa2"
      },
      "source": [
        "# Criando o KNN\n"
      ],
      "execution_count": null,
      "outputs": []
    },
    {
      "cell_type": "code",
      "metadata": {
        "id": "yC78VVr-BfTM"
      },
      "source": [
        "# Escolhendo o melhor valor para o k pela taxa de erro\n"
      ],
      "execution_count": null,
      "outputs": []
    },
    {
      "cell_type": "code",
      "metadata": {
        "id": "HEwddMBrC47N"
      },
      "source": [
        "# Plotando a taxa de erro\n"
      ],
      "execution_count": null,
      "outputs": []
    },
    {
      "cell_type": "code",
      "metadata": {
        "id": "gJ18cF_iCosQ"
      },
      "source": [
        "# Posição do valor ideal\n"
      ],
      "execution_count": null,
      "outputs": []
    },
    {
      "cell_type": "code",
      "metadata": {
        "id": "it-PuvMGxZjf"
      },
      "source": [
        "# Knn ideal\n"
      ],
      "execution_count": null,
      "outputs": []
    }
  ]
}