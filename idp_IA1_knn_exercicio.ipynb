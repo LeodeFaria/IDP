{
  "nbformat": 4,
  "nbformat_minor": 0,
  "metadata": {
    "colab": {
      "name": "idp - IA1 - knn - exercicio.ipynb",
      "provenance": [],
      "collapsed_sections": [],
      "include_colab_link": true
    },
    "kernelspec": {
      "name": "python3",
      "display_name": "Python 3"
    },
    "language_info": {
      "name": "python"
    }
  },
  "cells": [
    {
      "cell_type": "markdown",
      "metadata": {
        "id": "view-in-github",
        "colab_type": "text"
      },
      "source": [
        "<a href=\"https://colab.research.google.com/github/LeodeFaria/IDP/blob/main/idp_IA1_knn_exercicio.ipynb\" target=\"_parent\"><img src=\"https://colab.research.google.com/assets/colab-badge.svg\" alt=\"Open In Colab\"/></a>"
      ]
    },
    {
      "cell_type": "markdown",
      "metadata": {
        "id": "RSm_d_IWz7hw"
      },
      "source": [
        "#Objetivo\n",
        "Vamos prever o peso das pessoas de acordo com a altura utilizando o knn."
      ]
    },
    {
      "cell_type": "markdown",
      "metadata": {
        "id": "v5Al9FOSzzXS"
      },
      "source": [
        "#Link para o dataset\n",
        "https://github.com/4tune-ai/IDP/blob/main/data/SOCR-HeightWeight.csv\n"
      ]
    },
    {
      "cell_type": "code",
      "metadata": {
        "id": "LQhfWerxv3pM"
      },
      "source": [
        "# Importando bibliotecas a serem utilizadas\n",
        "\n",
        "import numpy as np\n",
        "import pandas as pd\n",
        "\n",
        "import matplotlib.pyplot as plt \n",
        "import seaborn as sns"
      ],
      "execution_count": null,
      "outputs": []
    },
    {
      "cell_type": "code",
      "metadata": {
        "id": "rfaI18XZzxC5"
      },
      "source": [
        "# Lendo os dados\n",
        "url='https://github.com/4tune-ai/IDP/blob/main/data/SOCR-HeightWeight.csv?raw=true'\n",
        "\n",
        "height_weight_df = pd.read_csv(url)"
      ],
      "execution_count": null,
      "outputs": []
    },
    {
      "cell_type": "code",
      "metadata": {
        "id": "YW-PlLjxBvkW",
        "colab": {
          "base_uri": "https://localhost:8080/",
          "height": 417
        },
        "outputId": "abff53b9-17ad-4581-ff73-9fa1a98af84c"
      },
      "source": [
        "# Vendo as colunas que serão utilizadas\n",
        "height_weight_df"
      ],
      "execution_count": null,
      "outputs": [
        {
          "output_type": "execute_result",
          "data": {
            "text/html": [
              "<div>\n",
              "<style scoped>\n",
              "    .dataframe tbody tr th:only-of-type {\n",
              "        vertical-align: middle;\n",
              "    }\n",
              "\n",
              "    .dataframe tbody tr th {\n",
              "        vertical-align: top;\n",
              "    }\n",
              "\n",
              "    .dataframe thead th {\n",
              "        text-align: right;\n",
              "    }\n",
              "</style>\n",
              "<table border=\"1\" class=\"dataframe\">\n",
              "  <thead>\n",
              "    <tr style=\"text-align: right;\">\n",
              "      <th></th>\n",
              "      <th>Index</th>\n",
              "      <th>Height(Inches)</th>\n",
              "      <th>Weight(Pounds)</th>\n",
              "    </tr>\n",
              "  </thead>\n",
              "  <tbody>\n",
              "    <tr>\n",
              "      <th>0</th>\n",
              "      <td>1</td>\n",
              "      <td>65.78331</td>\n",
              "      <td>112.9925</td>\n",
              "    </tr>\n",
              "    <tr>\n",
              "      <th>1</th>\n",
              "      <td>2</td>\n",
              "      <td>71.51521</td>\n",
              "      <td>136.4873</td>\n",
              "    </tr>\n",
              "    <tr>\n",
              "      <th>2</th>\n",
              "      <td>3</td>\n",
              "      <td>69.39874</td>\n",
              "      <td>153.0269</td>\n",
              "    </tr>\n",
              "    <tr>\n",
              "      <th>3</th>\n",
              "      <td>4</td>\n",
              "      <td>68.21660</td>\n",
              "      <td>142.3354</td>\n",
              "    </tr>\n",
              "    <tr>\n",
              "      <th>4</th>\n",
              "      <td>5</td>\n",
              "      <td>67.78781</td>\n",
              "      <td>144.2971</td>\n",
              "    </tr>\n",
              "    <tr>\n",
              "      <th>...</th>\n",
              "      <td>...</td>\n",
              "      <td>...</td>\n",
              "      <td>...</td>\n",
              "    </tr>\n",
              "    <tr>\n",
              "      <th>24995</th>\n",
              "      <td>24996</td>\n",
              "      <td>69.50215</td>\n",
              "      <td>118.0312</td>\n",
              "    </tr>\n",
              "    <tr>\n",
              "      <th>24996</th>\n",
              "      <td>24997</td>\n",
              "      <td>64.54826</td>\n",
              "      <td>120.1932</td>\n",
              "    </tr>\n",
              "    <tr>\n",
              "      <th>24997</th>\n",
              "      <td>24998</td>\n",
              "      <td>64.69855</td>\n",
              "      <td>118.2655</td>\n",
              "    </tr>\n",
              "    <tr>\n",
              "      <th>24998</th>\n",
              "      <td>24999</td>\n",
              "      <td>67.52918</td>\n",
              "      <td>132.2682</td>\n",
              "    </tr>\n",
              "    <tr>\n",
              "      <th>24999</th>\n",
              "      <td>25000</td>\n",
              "      <td>68.87761</td>\n",
              "      <td>124.8742</td>\n",
              "    </tr>\n",
              "  </tbody>\n",
              "</table>\n",
              "<p>25000 rows × 3 columns</p>\n",
              "</div>"
            ],
            "text/plain": [
              "       Index  Height(Inches)  Weight(Pounds)\n",
              "0          1        65.78331        112.9925\n",
              "1          2        71.51521        136.4873\n",
              "2          3        69.39874        153.0269\n",
              "3          4        68.21660        142.3354\n",
              "4          5        67.78781        144.2971\n",
              "...      ...             ...             ...\n",
              "24995  24996        69.50215        118.0312\n",
              "24996  24997        64.54826        120.1932\n",
              "24997  24998        64.69855        118.2655\n",
              "24998  24999        67.52918        132.2682\n",
              "24999  25000        68.87761        124.8742\n",
              "\n",
              "[25000 rows x 3 columns]"
            ]
          },
          "metadata": {
            "tags": []
          },
          "execution_count": 3
        }
      ]
    },
    {
      "cell_type": "code",
      "metadata": {
        "id": "LWONa7dVEvaK"
      },
      "source": [
        "# Pré-processando os dados\n"
      ],
      "execution_count": null,
      "outputs": []
    },
    {
      "cell_type": "code",
      "metadata": {
        "id": "Ya_Ty_ZvFNNv"
      },
      "source": [
        "# Entendendo os dados\n"
      ],
      "execution_count": null,
      "outputs": []
    },
    {
      "cell_type": "code",
      "metadata": {
        "id": "WA1xWsKRFnGK"
      },
      "source": [
        "# Analisando outlier\n"
      ],
      "execution_count": null,
      "outputs": []
    },
    {
      "cell_type": "code",
      "metadata": {
        "id": "OcjCG8GpGihy"
      },
      "source": [
        "# Vamos ver como o peso e a altura se relacionam\n"
      ],
      "execution_count": null,
      "outputs": []
    },
    {
      "cell_type": "code",
      "metadata": {
        "id": "j6s1CGfbG0aW"
      },
      "source": [
        "# Vamos ver a correlação entre essas variaveis\n"
      ],
      "execution_count": null,
      "outputs": []
    },
    {
      "cell_type": "code",
      "metadata": {
        "id": "7N1o4QWf1iUT"
      },
      "source": [
        "# Fazendo o KNN\n"
      ],
      "execution_count": null,
      "outputs": []
    },
    {
      "cell_type": "code",
      "metadata": {
        "id": "UZKZIg2b1H7R"
      },
      "source": [
        "# Analisando o resultado\n",
        "\n",
        "\n",
        "\n",
        "# Dividindo em treino e teste\n"
      ],
      "execution_count": null,
      "outputs": []
    },
    {
      "cell_type": "code",
      "metadata": {
        "id": "pdcoRu-MLAyU"
      },
      "source": [
        "# Calcula MAE\n"
      ],
      "execution_count": null,
      "outputs": []
    },
    {
      "cell_type": "code",
      "metadata": {
        "id": "Jkd4FU7zLBQ7"
      },
      "source": [
        "# Calcula MSE\n"
      ],
      "execution_count": null,
      "outputs": []
    },
    {
      "cell_type": "code",
      "metadata": {
        "id": "9_DjUd6pLC2D"
      },
      "source": [
        "# Calcula RMSE\n"
      ],
      "execution_count": null,
      "outputs": []
    }
  ]
}