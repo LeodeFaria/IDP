{
  "nbformat": 4,
  "nbformat_minor": 0,
  "metadata": {
    "kernelspec": {
      "display_name": "Python 3",
      "language": "python",
      "name": "python3"
    },
    "language_info": {
      "codemirror_mode": {
        "name": "ipython",
        "version": 3
      },
      "file_extension": ".py",
      "mimetype": "text/x-python",
      "name": "python",
      "nbconvert_exporter": "python",
      "pygments_lexer": "ipython3",
      "version": "3.8.5"
    },
    "colab": {
      "name": "4 Aula - Carregando dados.ipynb",
      "provenance": []
    }
  },
  "cells": [
    {
      "cell_type": "code",
      "metadata": {
        "id": "UXPShPcHBHaX"
      },
      "source": [
        "import pandas as pd\n",
        "\n",
        "%load_ext google.colab.data_table"
      ],
      "execution_count": 21,
      "outputs": []
    },
    {
      "cell_type": "code",
      "metadata": {
        "id": "lseTQdrEBLWJ"
      },
      "source": [
        "from google.colab import drive\n",
        "drive.mount('/content/drive')"
      ],
      "execution_count": null,
      "outputs": []
    },
    {
      "cell_type": "code",
      "metadata": {
        "id": "9MzR9orOBHah"
      },
      "source": [
        "#df2 = pd.read_csv('./files/pasta1.csv',\n",
        "#                delimiter=';', decimal=',',encoding='utf8')\n",
        "\n",
        "#senado = pd.read_csv('./files/SF_ConsultaRemuneracaoServidoresParlamentares_202103.csv',\n",
        "#                delimiter=';', decimal=',',encoding='ISO-8859-1')\n",
        "\n",
        "senado = pd.read_csv('/content/drive/MyDrive/IDP -BigData/SF_ConsultaRemuneracaoServidoresParlamentares_202103.csv',\n",
        "                delimiter=';', decimal=',',encoding='ISO-8859-1')"
      ],
      "execution_count": null,
      "outputs": []
    },
    {
      "cell_type": "code",
      "metadata": {
        "id": "4l8rCOccBHai"
      },
      "source": [
        "senado.columns"
      ],
      "execution_count": null,
      "outputs": []
    },
    {
      "cell_type": "code",
      "metadata": {
        "id": "HuGvk031BHai"
      },
      "source": [
        "senado.head()"
      ],
      "execution_count": null,
      "outputs": []
    },
    {
      "cell_type": "code",
      "metadata": {
        "id": "zgQN312MBHai"
      },
      "source": [
        "categoria = senado[['CATEGORIA','REM_LIQUIDA']]\n",
        "\n",
        "a = categoria.groupby('CATEGORIA').sum()\n",
        "a['Qtd_SERIDORES'] = categoria.groupby('CATEGORIA').count()\n",
        "a['Pct_SERIDORES'] = ((a['Qtd_SERIDORES']/a['Qtd_SERIDORES'].sum())*100).round(2).astype(str) + '%'\n",
        "a['Pct_GASTO']     = ((a['REM_LIQUIDA']/a['REM_LIQUIDA'].sum())*100).round(2).astype(str) + '%'\n",
        "a\n",
        "# Queria a linha de total\n"
      ],
      "execution_count": null,
      "outputs": []
    },
    {
      "cell_type": "code",
      "metadata": {
        "id": "pSR1JfiPBHaj"
      },
      "source": [
        "consolidado = senado[['VÍNCULO','REM_LIQUIDA']].groupby('VÍNCULO').count()\n",
        "consolidado.rename(columns = {'REM_LIQUIDA' : 'TOTAL_VINCULO'}, inplace = True)\n",
        "consolidado['PORCENTAGEM_VINCULO'] = ((consolidado['TOTAL_VINCULO']/consolidado['TOTAL_VINCULO'].sum())*100).round(2).astype(str) + '%'\n",
        "consolidado['REM_LIQUIDA_TOTAL'] = senado[['VÍNCULO','REM_LIQUIDA']].groupby('VÍNCULO').sum()['REM_LIQUIDA'].round(2)\n",
        "consolidado['PORCENTAGEM_REM_LIQUIDA'] = ((consolidado['REM_LIQUIDA_TOTAL']/consolidado['REM_LIQUIDA_TOTAL'].sum())*100).round(2).astype(str) + '%'\n",
        "consolidado"
      ],
      "execution_count": null,
      "outputs": []
    },
    {
      "cell_type": "code",
      "metadata": {
        "id": "ifuXiDTsBHaj"
      },
      "source": [
        "#colocando o split não funciona\n",
        "lotacao = senado[['LOTAÇÃO EXERCÍCIO','REM_LIQUIDA']]\n",
        "\n",
        "lotacao = lotacao[lotacao['LOTAÇÃO EXERCÍCIO'].str.contains('Senador')]\n",
        "\n",
        "lotacao = lotacao['LOTAÇÃO EXERCÍCIO'].str.replace('Senadora','complemento Senador')\n",
        "\n",
        "lotacao\n",
        "\n",
        "#new = lotacao.values[2898]\n",
        "#new\n",
        "\n",
        "\n",
        "new = lotacao['LOTAÇÃO EXERCÍCIO'].str.split('Senador ', n=1, expand = True)\n",
        "\n",
        "new"
      ],
      "execution_count": null,
      "outputs": []
    },
    {
      "cell_type": "code",
      "metadata": {
        "colab": {
          "base_uri": "https://localhost:8080/",
          "height": 2087
        },
        "id": "ov6w2oQrBHak",
        "outputId": "8b17089e-6f93-4a14-9ff0-2cda8b30f827"
      },
      "source": [
        "lotacao = senado[['LOTAÇÃO EXERCÍCIO','REM_LIQUIDA']]\n",
        "\n",
        "lotacao = lotacao[lotacao['LOTAÇÃO EXERCÍCIO'].str.contains('Senador')]\n",
        "\n",
        "\n",
        "lotacao['LOTAÇÃO EXERCÍCIO'] = lotacao['LOTAÇÃO EXERCÍCIO'].map(lambda x: x.lstrip('Escritório Apoio 1 do Senador '))\n",
        "lotacao['LOTAÇÃO EXERCÍCIO'] = lotacao['LOTAÇÃO EXERCÍCIO'].map(lambda x: x.lstrip('Escritório Apoio 2 do Senador '))\n",
        "lotacao['LOTAÇÃO EXERCÍCIO'] = lotacao['LOTAÇÃO EXERCÍCIO'].map(lambda x: x.lstrip('Escritório Apoio 1 da Senadora '))\n",
        "lotacao['LOTAÇÃO EXERCÍCIO'] = lotacao['LOTAÇÃO EXERCÍCIO'].map(lambda x: x.lstrip('Escritório Apoio 2 da Senadora '))\n",
        "lotacao['LOTAÇÃO EXERCÍCIO'] = lotacao['LOTAÇÃO EXERCÍCIO'].map(lambda x: x.lstrip('Gabinete do Senador '))\n",
        "lotacao['LOTAÇÃO EXERCÍCIO'] = lotacao['LOTAÇÃO EXERCÍCIO'].map(lambda x: x.lstrip('Gabinete da Senadora '))\n",
        "\n",
        "\n",
        "lotacao['LOTAÇÃO EXERCÍCIO'] = lotacao['LOTAÇÃO EXERCÍCIO'].map(lambda x: x.lstrip('º 2 do Senador '))\n",
        "lotacao['LOTAÇÃO EXERCÍCIO'] = lotacao['LOTAÇÃO EXERCÍCIO'].map(lambda x: x.lstrip('º1 do Senador '))\n",
        "\n",
        "lotacao['LOTAÇÃO EXERCÍCIO'] = lotacao['LOTAÇÃO EXERCÍCIO'].map(lambda x: x.lstrip('01 da Senadora '))\n",
        "lotacao['LOTAÇÃO EXERCÍCIO'] = lotacao['LOTAÇÃO EXERCÍCIO'].map(lambda x: x.lstrip('02 do Senador '))\n",
        "\n",
        "lotacao['LOTAÇÃO EXERCÍCIO'] = lotacao['LOTAÇÃO EXERCÍCIO'].str.strip()\n",
        "\n",
        "lotacao.groupby('LOTAÇÃO EXERCÍCIO').count().sort_values('LOTAÇÃO EXERCÍCIO')\n"
      ],
      "execution_count": 22,
      "outputs": [
        {
          "output_type": "execute_result",
          "data": {
            "application/vnd.google.colaboratory.module+javascript": "\n      import \"https://ssl.gstatic.com/colaboratory/data_table/a6224c040fa35dcf/data_table.js\";\n\n      window.createDataTable({\n        data: [[\"Acir Gurgacz\",\n{\n            'v': 33,\n            'f': \"33\",\n        }],\n [\"Alessandro Vieira\",\n{\n            'v': 16,\n            'f': \"16\",\n        }],\n [\"Alvaro Dias\",\n{\n            'v': 22,\n            'f': \"22\",\n        }],\n [\"Angelo Coronel\",\n{\n            'v': 21,\n            'f': \"21\",\n        }],\n [\"Ant\\u00f4nio Anastasia\",\n{\n            'v': 17,\n            'f': \"17\",\n        }],\n [\"Carlos F\\u00e1varo\",\n{\n            'v': 26,\n            'f': \"26\",\n        }],\n [\"Carlos Portinho\",\n{\n            'v': 29,\n            'f': \"29\",\n        }],\n [\"Carlos Viana\",\n{\n            'v': 35,\n            'f': \"35\",\n        }],\n [\"Chico Rodrigues\",\n{\n            'v': 33,\n            'f': \"33\",\n        }],\n [\"Cid Gomes\",\n{\n            'v': 26,\n            'f': \"26\",\n        }],\n [\"Ciro Nogueira\",\n{\n            'v': 54,\n            'f': \"54\",\n        }],\n [\"Conf\\u00facio Moura\",\n{\n            'v': 37,\n            'f': \"37\",\n        }],\n [\"Daniella Ribeiro\",\n{\n            'v': 35,\n            'f': \"35\",\n        }],\n [\"Davi Alcolumbre\",\n{\n            'v': 25,\n            'f': \"25\",\n        }],\n [\"D\\u00e1rio Berger\",\n{\n            'v': 22,\n            'f': \"22\",\n        }],\n [\"Eduardo Braga\",\n{\n            'v': 28,\n            'f': \"28\",\n        }],\n [\"Eduardo Gir\\u00e3o\",\n{\n            'v': 13,\n            'f': \"13\",\n        }],\n [\"Eduardo Gomes\",\n{\n            'v': 66,\n            'f': \"66\",\n        }],\n [\"Eliziane Gama\",\n{\n            'v': 16,\n            'f': \"16\",\n        }],\n [\"Elmano F\\u00e9rrer\",\n{\n            'v': 29,\n            'f': \"29\",\n        }],\n [\"Esperidi\\u00e3o Amin\",\n{\n            'v': 13,\n            'f': \"13\",\n        }],\n [\"Fabiano Contarato\",\n{\n            'v': 23,\n            'f': \"23\",\n        }],\n [\"Fernando Bezerra Coelho\",\n{\n            'v': 13,\n            'f': \"13\",\n        }],\n [\"Fernando Collor\",\n{\n            'v': 52,\n            'f': \"52\",\n        }],\n [\"Fl\\u00e1vio Arns\",\n{\n            'v': 30,\n            'f': \"30\",\n        }],\n [\"Fl\\u00e1vio Bolsonaro\",\n{\n            'v': 22,\n            'f': \"22\",\n        }],\n [\"Humberto Costa\",\n{\n            'v': 40,\n            'f': \"40\",\n        }],\n [\"Iraj\\u00e1\",\n{\n            'v': 68,\n            'f': \"68\",\n        }],\n [\"Izalci Lucas\",\n{\n            'v': 83,\n            'f': \"83\",\n        }],\n [\"Jader Barbalho\",\n{\n            'v': 5,\n            'f': \"5\",\n        }],\n [\"Jaques Wagner\",\n{\n            'v': 40,\n            'f': \"40\",\n        }],\n [\"Jarbas Vasconcelos\",\n{\n            'v': 29,\n            'f': \"29\",\n        }],\n [\"Jayme Campos\",\n{\n            'v': 40,\n            'f': \"40\",\n        }],\n [\"Jean Paul Prates\",\n{\n            'v': 42,\n            'f': \"42\",\n        }],\n [\"Jorge Kajuru\",\n{\n            'v': 25,\n            'f': \"25\",\n        }],\n [\"Jorginho Mello\",\n{\n            'v': 43,\n            'f': \"43\",\n        }],\n [\"Jos\\u00e9 Serra\",\n{\n            'v': 28,\n            'f': \"28\",\n        }],\n [\"J\\u00e1der Barbalho\",\n{\n            'v': 19,\n            'f': \"19\",\n        }],\n [\"K\\u00e1tia Abreu\",\n{\n            'v': 80,\n            'f': \"80\",\n        }],\n [\"Lasier Martins\",\n{\n            'v': 21,\n            'f': \"21\",\n        }],\n [\"Leila Barros\",\n{\n            'v': 40,\n            'f': \"40\",\n        }],\n [\"Lucas Barreto\",\n{\n            'v': 70,\n            'f': \"70\",\n        }],\n [\"Luis Carlos Heinze\",\n{\n            'v': 25,\n            'f': \"25\",\n        }],\n [\"Luiz Carlos do Carmo\",\n{\n            'v': 24,\n            'f': \"24\",\n        }],\n [\"Mailza Gomes\",\n{\n            'v': 49,\n            'f': \"49\",\n        }],\n [\"Major Olimpio\",\n{\n            'v': 27,\n            'f': \"27\",\n        }],\n [\"Mara Gabrilli\",\n{\n            'v': 36,\n            'f': \"36\",\n        }],\n [\"Marcelo Castro\",\n{\n            'v': 32,\n            'f': \"32\",\n        }],\n [\"Marcelo de Castro\",\n{\n            'v': 17,\n            'f': \"17\",\n        }],\n [\"Marcos Rog\\u00e9rio\",\n{\n            'v': 53,\n            'f': \"53\",\n        }],\n [\"Marcos do Val\",\n{\n            'v': 33,\n            'f': \"33\",\n        }],\n [\"Maria do Carmo Alves\",\n{\n            'v': 41,\n            'f': \"41\",\n        }],\n [\"Mecias de Jesus\",\n{\n            'v': 66,\n            'f': \"66\",\n        }],\n [\"M\\u00e1rcio Bittar\",\n{\n            'v': 48,\n            'f': \"48\",\n        }],\n [\"Nelsinho Trad\",\n{\n            'v': 66,\n            'f': \"66\",\n        }],\n [\"Nilda Gondim\",\n{\n            'v': 37,\n            'f': \"37\",\n        }],\n [\"Omar Aziz\",\n{\n            'v': 40,\n            'f': \"40\",\n        }],\n [\"Oriovisto Guimar\\u00e3es\",\n{\n            'v': 15,\n            'f': \"15\",\n        }],\n [\"Otto Alencar\",\n{\n            'v': 42,\n            'f': \"42\",\n        }],\n [\"Paulo Paim\",\n{\n            'v': 49,\n            'f': \"49\",\n        }],\n [\"Paulo Rocha\",\n{\n            'v': 44,\n            'f': \"44\",\n        }],\n [\"Pl\\u00ednio Val\\u00e9rio\",\n{\n            'v': 59,\n            'f': \"59\",\n        }],\n [\"Randolfe Rodrigues\",\n{\n            'v': 55,\n            'f': \"55\",\n        }],\n [\"Reguffe\",\n{\n            'v': 11,\n            'f': \"11\",\n        }],\n [\"Renan Calheiros\",\n{\n            'v': 53,\n            'f': \"53\",\n        }],\n [\"Roberto Rocha\",\n{\n            'v': 60,\n            'f': \"60\",\n        }],\n [\"Rodrigo Cunha\",\n{\n            'v': 32,\n            'f': \"32\",\n        }],\n [\"Rodrigo Pacheco\",\n{\n            'v': 40,\n            'f': \"40\",\n        }],\n [\"Rog\\u00e9rio Carvalho\",\n{\n            'v': 62,\n            'f': \"62\",\n        }],\n [\"Rom\\u00e1rio\",\n{\n            'v': 33,\n            'f': \"33\",\n        }],\n [\"Rose de Freitas\",\n{\n            'v': 26,\n            'f': \"26\",\n        }],\n [\"Tasso Jereissati\",\n{\n            'v': 19,\n            'f': \"19\",\n        }],\n [\"Telm\\u00e1rio Mota\",\n{\n            'v': 52,\n            'f': \"52\",\n        }],\n [\"Vanderlan Cardoso\",\n{\n            'v': 31,\n            'f': \"31\",\n        }],\n [\"Veneziano Vital do R\\u00eago\",\n{\n            'v': 59,\n            'f': \"59\",\n        }],\n [\"Wellington Fagundes\",\n{\n            'v': 31,\n            'f': \"31\",\n        }],\n [\"Weverton Rocha\",\n{\n            'v': 34,\n            'f': \"34\",\n        }],\n [\"Zenaide Maia\",\n{\n            'v': 48,\n            'f': \"48\",\n        }],\n [\"Zequinha Marinho\",\n{\n            'v': 55,\n            'f': \"55\",\n        }],\n [\"gelo Coronel\",\n{\n            'v': 17,\n            'f': \"17\",\n        }],\n [\"imone Tebet\",\n{\n            'v': 5,\n            'f': \"5\",\n        }],\n [\"lessandro Vieira\",\n{\n            'v': 17,\n            'f': \"17\",\n        }],\n [\"liziane Gama\",\n{\n            'v': 36,\n            'f': \"36\",\n        }],\n [\"lmano F\\u00e9rrer\",\n{\n            'v': 26,\n            'f': \"26\",\n        }],\n [\"lvaro Dias\",\n{\n            'v': 7,\n            'f': \"7\",\n        }],\n [\"mone Tebet\",\n{\n            'v': 17,\n            'f': \"17\",\n        }],\n [\"uardo Braga\",\n{\n            'v': 13,\n            'f': \"13\",\n        }],\n [\"uardo Gir\\u00e3o\",\n{\n            'v': 4,\n            'f': \"4\",\n        }],\n [\"urgacz\",\n{\n            'v': 17,\n            'f': \"17\",\n        }],\n [\"ya Thronicke\",\n{\n            'v': 28,\n            'f': \"28\",\n        }],\n [\"yvenson Valentim\",\n{\n            'v': 11,\n            'f': \"11\",\n        }],\n [\"yvenson Vatentim\",\n{\n            'v': 2,\n            'f': \"2\",\n        }],\n [\"\\u00e3o Amin\",\n{\n            'v': 13,\n            'f': \"13\",\n        }],\n [\"\\u00e9rgio Petec\\u00e3o\",\n{\n            'v': 41,\n            'f': \"41\",\n        }],\n [\"\\u00f4nio Anastasia\",\n{\n            'v': 7,\n            'f': \"7\",\n        }]],\n        columns: [[\"string\", \"LOTA\\u00c7\\u00c3O EXERC\\u00cdCIO\"], [\"number\", \"REM_LIQUIDA\"]],\n        columnOptions: [{\"width\": \"1px\", \"className\": \"index_column\"}],\n        rowsPerPage: 25,\n        helpUrl: \"https://colab.research.google.com/notebooks/data_table.ipynb\",\n        suppressOutputScrolling: true,\n        minimumWidth: undefined,\n      });\n    ",
            "text/html": [
              "<div>\n",
              "<style scoped>\n",
              "    .dataframe tbody tr th:only-of-type {\n",
              "        vertical-align: middle;\n",
              "    }\n",
              "\n",
              "    .dataframe tbody tr th {\n",
              "        vertical-align: top;\n",
              "    }\n",
              "\n",
              "    .dataframe thead th {\n",
              "        text-align: right;\n",
              "    }\n",
              "</style>\n",
              "<table border=\"1\" class=\"dataframe\">\n",
              "  <thead>\n",
              "    <tr style=\"text-align: right;\">\n",
              "      <th></th>\n",
              "      <th>REM_LIQUIDA</th>\n",
              "    </tr>\n",
              "    <tr>\n",
              "      <th>LOTAÇÃO EXERCÍCIO</th>\n",
              "      <th></th>\n",
              "    </tr>\n",
              "  </thead>\n",
              "  <tbody>\n",
              "    <tr>\n",
              "      <th>Acir Gurgacz</th>\n",
              "      <td>33</td>\n",
              "    </tr>\n",
              "    <tr>\n",
              "      <th>Alessandro Vieira</th>\n",
              "      <td>16</td>\n",
              "    </tr>\n",
              "    <tr>\n",
              "      <th>Alvaro Dias</th>\n",
              "      <td>22</td>\n",
              "    </tr>\n",
              "    <tr>\n",
              "      <th>Angelo Coronel</th>\n",
              "      <td>21</td>\n",
              "    </tr>\n",
              "    <tr>\n",
              "      <th>Antônio Anastasia</th>\n",
              "      <td>17</td>\n",
              "    </tr>\n",
              "    <tr>\n",
              "      <th>...</th>\n",
              "      <td>...</td>\n",
              "    </tr>\n",
              "    <tr>\n",
              "      <th>yvenson Valentim</th>\n",
              "      <td>11</td>\n",
              "    </tr>\n",
              "    <tr>\n",
              "      <th>yvenson Vatentim</th>\n",
              "      <td>2</td>\n",
              "    </tr>\n",
              "    <tr>\n",
              "      <th>ão Amin</th>\n",
              "      <td>13</td>\n",
              "    </tr>\n",
              "    <tr>\n",
              "      <th>érgio Petecão</th>\n",
              "      <td>41</td>\n",
              "    </tr>\n",
              "    <tr>\n",
              "      <th>ônio Anastasia</th>\n",
              "      <td>7</td>\n",
              "    </tr>\n",
              "  </tbody>\n",
              "</table>\n",
              "<p>95 rows × 1 columns</p>\n",
              "</div>"
            ],
            "text/plain": [
              "                   REM_LIQUIDA\n",
              "LOTAÇÃO EXERCÍCIO             \n",
              "Acir Gurgacz                33\n",
              "Alessandro Vieira           16\n",
              "Alvaro Dias                 22\n",
              "Angelo Coronel              21\n",
              "Antônio Anastasia           17\n",
              "...                        ...\n",
              "yvenson Valentim            11\n",
              "yvenson Vatentim             2\n",
              "ão Amin                     13\n",
              "érgio Petecão               41\n",
              "ônio Anastasia               7\n",
              "\n",
              "[95 rows x 1 columns]"
            ]
          },
          "metadata": {
            "tags": []
          },
          "execution_count": 22
        }
      ]
    }
  ]
}