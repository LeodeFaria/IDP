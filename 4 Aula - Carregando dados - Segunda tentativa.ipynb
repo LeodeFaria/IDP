{
  "nbformat": 4,
  "nbformat_minor": 0,
  "metadata": {
    "kernelspec": {
      "display_name": "Python 3",
      "language": "python",
      "name": "python3"
    },
    "language_info": {
      "codemirror_mode": {
        "name": "ipython",
        "version": 3
      },
      "file_extension": ".py",
      "mimetype": "text/x-python",
      "name": "python",
      "nbconvert_exporter": "python",
      "pygments_lexer": "ipython3",
      "version": "3.8.5"
    },
    "colab": {
      "name": "4 Aula - Carregando dados.ipynb",
      "provenance": []
    }
  },
  "cells": [
    {
      "cell_type": "code",
      "metadata": {
        "id": "UXPShPcHBHaX",
        "outputId": "3152df26-d684-4d3b-9349-4e5a81d7a5cb",
        "colab": {
          "base_uri": "https://localhost:8080/"
        }
      },
      "source": [
        "import pandas as pd\n",
        "\n",
        "%load_ext google.colab.data_table\n",
        "\n",
        "!pip install unidecode"
      ],
      "execution_count": 28,
      "outputs": [
        {
          "output_type": "stream",
          "text": [
            "The google.colab.data_table extension is already loaded. To reload it, use:\n",
            "  %reload_ext google.colab.data_table\n",
            "Collecting unidecode\n",
            "\u001b[?25l  Downloading https://files.pythonhosted.org/packages/9e/25/723487ca2a52ebcee88a34d7d1f5a4b80b793f179ee0f62d5371938dfa01/Unidecode-1.2.0-py2.py3-none-any.whl (241kB)\n",
            "\u001b[K     |████████████████████████████████| 245kB 12.1MB/s \n",
            "\u001b[?25hInstalling collected packages: unidecode\n",
            "Successfully installed unidecode-1.2.0\n"
          ],
          "name": "stdout"
        }
      ]
    },
    {
      "cell_type": "code",
      "metadata": {
        "id": "lseTQdrEBLWJ",
        "outputId": "92278600-80e0-474c-c463-bce00808be92",
        "colab": {
          "base_uri": "https://localhost:8080/"
        }
      },
      "source": [
        "from google.colab import drive\n",
        "drive.mount('/content/drive')"
      ],
      "execution_count": 10,
      "outputs": [
        {
          "output_type": "stream",
          "text": [
            "Drive already mounted at /content/drive; to attempt to forcibly remount, call drive.mount(\"/content/drive\", force_remount=True).\n"
          ],
          "name": "stdout"
        }
      ]
    },
    {
      "cell_type": "code",
      "metadata": {
        "id": "9MzR9orOBHah"
      },
      "source": [
        "#df2 = pd.read_csv('./files/pasta1.csv',\n",
        "#                delimiter=';', decimal=',',encoding='utf8')\n",
        "\n",
        "#senado = pd.read_csv('./files/SF_ConsultaRemuneracaoServidoresParlamentares_202103.csv',\n",
        "#                delimiter=';', decimal=',',encoding='ISO-8859-1')\n",
        "\n",
        "senado = pd.read_csv('/content/drive/MyDrive/IDP -BigData/SF_ConsultaRemuneracaoServidoresParlamentares_202103.csv',\n",
        "                delimiter=';', decimal=',',encoding='ISO-8859-1')"
      ],
      "execution_count": 11,
      "outputs": []
    },
    {
      "cell_type": "code",
      "metadata": {
        "id": "4l8rCOccBHai"
      },
      "source": [
        "senado.columns"
      ],
      "execution_count": null,
      "outputs": []
    },
    {
      "cell_type": "code",
      "metadata": {
        "id": "HuGvk031BHai"
      },
      "source": [
        "senado.head()"
      ],
      "execution_count": null,
      "outputs": []
    },
    {
      "cell_type": "code",
      "metadata": {
        "id": "zgQN312MBHai"
      },
      "source": [
        "categoria = senado[['CATEGORIA','REM_LIQUIDA']]\n",
        "\n",
        "a = categoria.groupby('CATEGORIA').sum()\n",
        "a['Qtd_SERIDORES'] = categoria.groupby('CATEGORIA').count()\n",
        "a['Pct_SERIDORES'] = ((a['Qtd_SERIDORES']/a['Qtd_SERIDORES'].sum())*100).round(2).astype(str) + '%'\n",
        "a['Pct_GASTO']     = ((a['REM_LIQUIDA']/a['REM_LIQUIDA'].sum())*100).round(2).astype(str) + '%'\n",
        "a\n",
        "# Queria a linha de total\n"
      ],
      "execution_count": null,
      "outputs": []
    },
    {
      "cell_type": "code",
      "metadata": {
        "id": "pSR1JfiPBHaj"
      },
      "source": [
        "consolidado = senado[['VÍNCULO','REM_LIQUIDA']].groupby('VÍNCULO').count()\n",
        "consolidado.rename(columns = {'REM_LIQUIDA' : 'TOTAL_VINCULO'}, inplace = True)\n",
        "consolidado['PORCENTAGEM_VINCULO'] = ((consolidado['TOTAL_VINCULO']/consolidado['TOTAL_VINCULO'].sum())*100).round(2).astype(str) + '%'\n",
        "consolidado['REM_LIQUIDA_TOTAL'] = senado[['VÍNCULO','REM_LIQUIDA']].groupby('VÍNCULO').sum()['REM_LIQUIDA'].round(2)\n",
        "consolidado['PORCENTAGEM_REM_LIQUIDA'] = ((consolidado['REM_LIQUIDA_TOTAL']/consolidado['REM_LIQUIDA_TOTAL'].sum())*100).round(2).astype(str) + '%'\n",
        "consolidado"
      ],
      "execution_count": null,
      "outputs": []
    },
    {
      "cell_type": "code",
      "metadata": {
        "id": "406WYECTNDb3"
      },
      "source": [
        "def corrigir_nomes(nome):\n",
        "    nome = nome.replace('á','a').replace('é','e').replace('í','i').replace('ó','o').replace('ú','u')\n",
        "    nome = nome.replace('à','a').replace('è','e').replace('ì','i').replace('ò','o').replace('ù','u')\n",
        "    nome = nome.replace('â','a').replace('ê','e').replace('î','i').replace('ô','o').replace('û','u')\n",
        "    nome = nome.replace('ã','a').replace('õ','o')\n",
        "    nome = nome.replace('ä','a').replace('ë','e').replace('ï','i').replace('ö','o').replace('ü','u')\n",
        "    nome = nome.replace('ñ','n').replace('ç','c')\n",
        "    \n",
        "    nome = nome.replace('Á','A').replace('É','E').replace('Í','I').replace('Ó','O').replace('Ú','U')\n",
        "    nome = nome.replace('À','A').replace('È','E').replace('Ì','I').replace('Ò','O').replace('Ù','U')\n",
        "    nome = nome.replace('Â','A').replace('Ê','E').replace('Î','I').replace('Ô','O').replace('Û','U')\n",
        "    nome = nome.replace('Ã','A').replace('Õ','O')\n",
        "    nome = nome.replace('Ä','A').replace('Ë','E').replace('Ï','I').replace('Ö','O').replace('Ü','U')\n",
        "    nome = nome.replace('Ñ','N').replace('Ç','C')\n",
        "\n",
        "    nome = nome.replace('!','').replace('@','').replace('$','').replace('%','').replace('¨','').replace('&','')\n",
        "    nome = nome.replace('*','').replace('#','').replace('(','').replace(')','').replace('+','').replace('-','')\n",
        "    nome = nome.replace('=','').replace(\"[\",'').replace(']','').replace(\"{\",'').replace('}','').replace('/','')\n",
        "\n",
        "    return nome"
      ],
      "execution_count": 31,
      "outputs": []
    },
    {
      "cell_type": "code",
      "metadata": {
        "id": "lUDw65DqTGQs",
        "outputId": "9c204253-4c90-4ade-8137-9e2716535635",
        "colab": {
          "base_uri": "https://localhost:8080/",
          "height": 134
        }
      },
      "source": [
        "from pandas import DataFrame\n",
        "leo = ['ñômë', 'Plaçebo']\n",
        "df = DataFrame (leo,columns=['Column_Name'])\n",
        "df.apply(corrigir_nomes)"
      ],
      "execution_count": 42,
      "outputs": [
        {
          "output_type": "execute_result",
          "data": {
            "application/vnd.google.colaboratory.module+javascript": "\n      import \"https://ssl.gstatic.com/colaboratory/data_table/a6224c040fa35dcf/data_table.js\";\n\n      window.createDataTable({\n        data: [[{\n            'v': 0,\n            'f': \"0\",\n        },\n\"\\u00f1\\u00f4m\\u00eb\"],\n [{\n            'v': 1,\n            'f': \"1\",\n        },\n\"Pla\\u00e7ebo\"]],\n        columns: [[\"number\", \"index\"], [\"string\", \"Column_Name\"]],\n        columnOptions: [{\"width\": \"1px\", \"className\": \"index_column\"}],\n        rowsPerPage: 25,\n        helpUrl: \"https://colab.research.google.com/notebooks/data_table.ipynb\",\n        suppressOutputScrolling: true,\n        minimumWidth: undefined,\n      });\n    ",
            "text/html": [
              "<div>\n",
              "<style scoped>\n",
              "    .dataframe tbody tr th:only-of-type {\n",
              "        vertical-align: middle;\n",
              "    }\n",
              "\n",
              "    .dataframe tbody tr th {\n",
              "        vertical-align: top;\n",
              "    }\n",
              "\n",
              "    .dataframe thead th {\n",
              "        text-align: right;\n",
              "    }\n",
              "</style>\n",
              "<table border=\"1\" class=\"dataframe\">\n",
              "  <thead>\n",
              "    <tr style=\"text-align: right;\">\n",
              "      <th></th>\n",
              "      <th>Column_Name</th>\n",
              "    </tr>\n",
              "  </thead>\n",
              "  <tbody>\n",
              "    <tr>\n",
              "      <th>0</th>\n",
              "      <td>ñômë</td>\n",
              "    </tr>\n",
              "    <tr>\n",
              "      <th>1</th>\n",
              "      <td>Plaçebo</td>\n",
              "    </tr>\n",
              "  </tbody>\n",
              "</table>\n",
              "</div>"
            ],
            "text/plain": [
              "  Column_Name\n",
              "0        ñômë\n",
              "1     Plaçebo"
            ]
          },
          "metadata": {
            "tags": []
          },
          "execution_count": 42
        }
      ]
    },
    {
      "cell_type": "code",
      "metadata": {
        "id": "ifuXiDTsBHaj",
        "outputId": "c2b21332-a0db-4774-988b-f175d19ae4d4",
        "colab": {
          "base_uri": "https://localhost:8080/",
          "height": 409
        }
      },
      "source": [
        "lotacao = senado[['LOTAÇÃO EXERCÍCIO','REM_LIQUIDA']]\n",
        "lotacao = lotacao.dropna()\n",
        "\n",
        "lotacao['LOTAÇÃO EXERCÍCIO'] = lotacao[lotacao['LOTAÇÃO EXERCÍCIO'].str.contains('Senador')]\n",
        "lotacao['LOTAÇÃO EXERCÍCIO'] = lotacao['LOTAÇÃO EXERCÍCIO'].str.replace('Senadora','Senador')\n",
        "lotacao['LOTAÇÃO EXERCÍCIO'] = lotacao['LOTAÇÃO EXERCÍCIO'].replace(to_replace=r'^.*?Senador', value='', regex=True)\n",
        "\n",
        "lotacao['LOTAÇÃO EXERCÍCIO'] = lotacao['LOTAÇÃO EXERCÍCIO'].apply(corrigir_nomes)\n",
        "\n",
        "lotacaoFinal = lotacao.groupby('LOTAÇÃO EXERCÍCIO').sum()\n",
        "\n",
        "lotacaoFinal['Qtd_servidores'] = lotacao.groupby('LOTAÇÃO EXERCÍCIO').count()\n",
        "\n",
        "lotacaoFinal.sort_values('REM_LIQUIDA')#.head()"
      ],
      "execution_count": 33,
      "outputs": [
        {
          "output_type": "error",
          "ename": "AttributeError",
          "evalue": "ignored",
          "traceback": [
            "\u001b[0;31m---------------------------------------------------------------------------\u001b[0m",
            "\u001b[0;31mAttributeError\u001b[0m                            Traceback (most recent call last)",
            "\u001b[0;32m<ipython-input-33-d5a67cd14feb>\u001b[0m in \u001b[0;36m<module>\u001b[0;34m()\u001b[0m\n\u001b[1;32m      6\u001b[0m \u001b[0mlotacao\u001b[0m\u001b[0;34m[\u001b[0m\u001b[0;34m'LOTAÇÃO EXERCÍCIO'\u001b[0m\u001b[0;34m]\u001b[0m \u001b[0;34m=\u001b[0m \u001b[0mlotacao\u001b[0m\u001b[0;34m[\u001b[0m\u001b[0;34m'LOTAÇÃO EXERCÍCIO'\u001b[0m\u001b[0;34m]\u001b[0m\u001b[0;34m.\u001b[0m\u001b[0mreplace\u001b[0m\u001b[0;34m(\u001b[0m\u001b[0mto_replace\u001b[0m\u001b[0;34m=\u001b[0m\u001b[0;34mr'^.*?Senador'\u001b[0m\u001b[0;34m,\u001b[0m \u001b[0mvalue\u001b[0m\u001b[0;34m=\u001b[0m\u001b[0;34m''\u001b[0m\u001b[0;34m,\u001b[0m \u001b[0mregex\u001b[0m\u001b[0;34m=\u001b[0m\u001b[0;32mTrue\u001b[0m\u001b[0;34m)\u001b[0m\u001b[0;34m\u001b[0m\u001b[0;34m\u001b[0m\u001b[0m\n\u001b[1;32m      7\u001b[0m \u001b[0;34m\u001b[0m\u001b[0m\n\u001b[0;32m----> 8\u001b[0;31m \u001b[0mlotacao\u001b[0m\u001b[0;34m[\u001b[0m\u001b[0;34m'LOTAÇÃO EXERCÍCIO'\u001b[0m\u001b[0;34m]\u001b[0m \u001b[0;34m=\u001b[0m \u001b[0mlotacao\u001b[0m\u001b[0;34m[\u001b[0m\u001b[0;34m'LOTAÇÃO EXERCÍCIO'\u001b[0m\u001b[0;34m]\u001b[0m\u001b[0;34m.\u001b[0m\u001b[0mapply\u001b[0m\u001b[0;34m(\u001b[0m\u001b[0mcorrigir_nomes\u001b[0m\u001b[0;34m)\u001b[0m\u001b[0;34m\u001b[0m\u001b[0;34m\u001b[0m\u001b[0m\n\u001b[0m\u001b[1;32m      9\u001b[0m \u001b[0;34m\u001b[0m\u001b[0m\n\u001b[1;32m     10\u001b[0m \u001b[0mlotacaoFinal\u001b[0m \u001b[0;34m=\u001b[0m \u001b[0mlotacao\u001b[0m\u001b[0;34m.\u001b[0m\u001b[0mgroupby\u001b[0m\u001b[0;34m(\u001b[0m\u001b[0;34m'LOTAÇÃO EXERCÍCIO'\u001b[0m\u001b[0;34m)\u001b[0m\u001b[0;34m.\u001b[0m\u001b[0msum\u001b[0m\u001b[0;34m(\u001b[0m\u001b[0;34m)\u001b[0m\u001b[0;34m\u001b[0m\u001b[0;34m\u001b[0m\u001b[0m\n",
            "\u001b[0;32m/usr/local/lib/python3.7/dist-packages/pandas/core/series.py\u001b[0m in \u001b[0;36mapply\u001b[0;34m(self, func, convert_dtype, args, **kwds)\u001b[0m\n\u001b[1;32m   4211\u001b[0m             \u001b[0;32melse\u001b[0m\u001b[0;34m:\u001b[0m\u001b[0;34m\u001b[0m\u001b[0;34m\u001b[0m\u001b[0m\n\u001b[1;32m   4212\u001b[0m                 \u001b[0mvalues\u001b[0m \u001b[0;34m=\u001b[0m \u001b[0mself\u001b[0m\u001b[0;34m.\u001b[0m\u001b[0mastype\u001b[0m\u001b[0;34m(\u001b[0m\u001b[0mobject\u001b[0m\u001b[0;34m)\u001b[0m\u001b[0;34m.\u001b[0m\u001b[0m_values\u001b[0m\u001b[0;34m\u001b[0m\u001b[0;34m\u001b[0m\u001b[0m\n\u001b[0;32m-> 4213\u001b[0;31m                 \u001b[0mmapped\u001b[0m \u001b[0;34m=\u001b[0m \u001b[0mlib\u001b[0m\u001b[0;34m.\u001b[0m\u001b[0mmap_infer\u001b[0m\u001b[0;34m(\u001b[0m\u001b[0mvalues\u001b[0m\u001b[0;34m,\u001b[0m \u001b[0mf\u001b[0m\u001b[0;34m,\u001b[0m \u001b[0mconvert\u001b[0m\u001b[0;34m=\u001b[0m\u001b[0mconvert_dtype\u001b[0m\u001b[0;34m)\u001b[0m\u001b[0;34m\u001b[0m\u001b[0;34m\u001b[0m\u001b[0m\n\u001b[0m\u001b[1;32m   4214\u001b[0m \u001b[0;34m\u001b[0m\u001b[0m\n\u001b[1;32m   4215\u001b[0m         \u001b[0;32mif\u001b[0m \u001b[0mlen\u001b[0m\u001b[0;34m(\u001b[0m\u001b[0mmapped\u001b[0m\u001b[0;34m)\u001b[0m \u001b[0;32mand\u001b[0m \u001b[0misinstance\u001b[0m\u001b[0;34m(\u001b[0m\u001b[0mmapped\u001b[0m\u001b[0;34m[\u001b[0m\u001b[0;36m0\u001b[0m\u001b[0;34m]\u001b[0m\u001b[0;34m,\u001b[0m \u001b[0mSeries\u001b[0m\u001b[0;34m)\u001b[0m\u001b[0;34m:\u001b[0m\u001b[0;34m\u001b[0m\u001b[0;34m\u001b[0m\u001b[0m\n",
            "\u001b[0;32mpandas/_libs/lib.pyx\u001b[0m in \u001b[0;36mpandas._libs.lib.map_infer\u001b[0;34m()\u001b[0m\n",
            "\u001b[0;32m<ipython-input-31-1cd644d7eb37>\u001b[0m in \u001b[0;36mcorrigir_nomes\u001b[0;34m(nome)\u001b[0m\n\u001b[1;32m      1\u001b[0m \u001b[0;32mdef\u001b[0m \u001b[0mcorrigir_nomes\u001b[0m\u001b[0;34m(\u001b[0m\u001b[0mnome\u001b[0m\u001b[0;34m)\u001b[0m\u001b[0;34m:\u001b[0m\u001b[0;34m\u001b[0m\u001b[0;34m\u001b[0m\u001b[0m\n\u001b[0;32m----> 2\u001b[0;31m     \u001b[0mnome\u001b[0m \u001b[0;34m=\u001b[0m \u001b[0mnome\u001b[0m\u001b[0;34m.\u001b[0m\u001b[0mreplace\u001b[0m\u001b[0;34m(\u001b[0m\u001b[0;34m'á'\u001b[0m\u001b[0;34m,\u001b[0m\u001b[0;34m'a'\u001b[0m\u001b[0;34m)\u001b[0m\u001b[0;34m.\u001b[0m\u001b[0mreplace\u001b[0m\u001b[0;34m(\u001b[0m\u001b[0;34m'é'\u001b[0m\u001b[0;34m,\u001b[0m\u001b[0;34m'e'\u001b[0m\u001b[0;34m)\u001b[0m\u001b[0;34m.\u001b[0m\u001b[0mreplace\u001b[0m\u001b[0;34m(\u001b[0m\u001b[0;34m'í'\u001b[0m\u001b[0;34m,\u001b[0m\u001b[0;34m'i'\u001b[0m\u001b[0;34m)\u001b[0m\u001b[0;34m.\u001b[0m\u001b[0mreplace\u001b[0m\u001b[0;34m(\u001b[0m\u001b[0;34m'ó'\u001b[0m\u001b[0;34m,\u001b[0m\u001b[0;34m'o'\u001b[0m\u001b[0;34m)\u001b[0m\u001b[0;34m.\u001b[0m\u001b[0mreplace\u001b[0m\u001b[0;34m(\u001b[0m\u001b[0;34m'ú'\u001b[0m\u001b[0;34m,\u001b[0m\u001b[0;34m'u'\u001b[0m\u001b[0;34m)\u001b[0m\u001b[0;34m\u001b[0m\u001b[0;34m\u001b[0m\u001b[0m\n\u001b[0m\u001b[1;32m      3\u001b[0m     \u001b[0mnome\u001b[0m \u001b[0;34m=\u001b[0m \u001b[0mnome\u001b[0m\u001b[0;34m.\u001b[0m\u001b[0mreplace\u001b[0m\u001b[0;34m(\u001b[0m\u001b[0;34m'à'\u001b[0m\u001b[0;34m,\u001b[0m\u001b[0;34m'a'\u001b[0m\u001b[0;34m)\u001b[0m\u001b[0;34m.\u001b[0m\u001b[0mreplace\u001b[0m\u001b[0;34m(\u001b[0m\u001b[0;34m'è'\u001b[0m\u001b[0;34m,\u001b[0m\u001b[0;34m'e'\u001b[0m\u001b[0;34m)\u001b[0m\u001b[0;34m.\u001b[0m\u001b[0mreplace\u001b[0m\u001b[0;34m(\u001b[0m\u001b[0;34m'ì'\u001b[0m\u001b[0;34m,\u001b[0m\u001b[0;34m'i'\u001b[0m\u001b[0;34m)\u001b[0m\u001b[0;34m.\u001b[0m\u001b[0mreplace\u001b[0m\u001b[0;34m(\u001b[0m\u001b[0;34m'ò'\u001b[0m\u001b[0;34m,\u001b[0m\u001b[0;34m'o'\u001b[0m\u001b[0;34m)\u001b[0m\u001b[0;34m.\u001b[0m\u001b[0mreplace\u001b[0m\u001b[0;34m(\u001b[0m\u001b[0;34m'ù'\u001b[0m\u001b[0;34m,\u001b[0m\u001b[0;34m'u'\u001b[0m\u001b[0;34m)\u001b[0m\u001b[0;34m\u001b[0m\u001b[0;34m\u001b[0m\u001b[0m\n\u001b[1;32m      4\u001b[0m     \u001b[0mnome\u001b[0m \u001b[0;34m=\u001b[0m \u001b[0mnome\u001b[0m\u001b[0;34m.\u001b[0m\u001b[0mreplace\u001b[0m\u001b[0;34m(\u001b[0m\u001b[0;34m'â'\u001b[0m\u001b[0;34m,\u001b[0m\u001b[0;34m'a'\u001b[0m\u001b[0;34m)\u001b[0m\u001b[0;34m.\u001b[0m\u001b[0mreplace\u001b[0m\u001b[0;34m(\u001b[0m\u001b[0;34m'ê'\u001b[0m\u001b[0;34m,\u001b[0m\u001b[0;34m'e'\u001b[0m\u001b[0;34m)\u001b[0m\u001b[0;34m.\u001b[0m\u001b[0mreplace\u001b[0m\u001b[0;34m(\u001b[0m\u001b[0;34m'î'\u001b[0m\u001b[0;34m,\u001b[0m\u001b[0;34m'i'\u001b[0m\u001b[0;34m)\u001b[0m\u001b[0;34m.\u001b[0m\u001b[0mreplace\u001b[0m\u001b[0;34m(\u001b[0m\u001b[0;34m'ô'\u001b[0m\u001b[0;34m,\u001b[0m\u001b[0;34m'o'\u001b[0m\u001b[0;34m)\u001b[0m\u001b[0;34m.\u001b[0m\u001b[0mreplace\u001b[0m\u001b[0;34m(\u001b[0m\u001b[0;34m'û'\u001b[0m\u001b[0;34m,\u001b[0m\u001b[0;34m'u'\u001b[0m\u001b[0;34m)\u001b[0m\u001b[0;34m\u001b[0m\u001b[0;34m\u001b[0m\u001b[0m\n\u001b[1;32m      5\u001b[0m     \u001b[0mnome\u001b[0m \u001b[0;34m=\u001b[0m \u001b[0mnome\u001b[0m\u001b[0;34m.\u001b[0m\u001b[0mreplace\u001b[0m\u001b[0;34m(\u001b[0m\u001b[0;34m'ã'\u001b[0m\u001b[0;34m,\u001b[0m\u001b[0;34m'a'\u001b[0m\u001b[0;34m)\u001b[0m\u001b[0;34m.\u001b[0m\u001b[0mreplace\u001b[0m\u001b[0;34m(\u001b[0m\u001b[0;34m'õ'\u001b[0m\u001b[0;34m,\u001b[0m\u001b[0;34m'o'\u001b[0m\u001b[0;34m)\u001b[0m\u001b[0;34m\u001b[0m\u001b[0;34m\u001b[0m\u001b[0m\n",
            "\u001b[0;31mAttributeError\u001b[0m: 'float' object has no attribute 'replace'"
          ]
        }
      ]
    },
    {
      "cell_type": "code",
      "metadata": {
        "colab": {
          "base_uri": "https://localhost:8080/",
          "height": 2087
        },
        "id": "ov6w2oQrBHak",
        "outputId": "8b17089e-6f93-4a14-9ff0-2cda8b30f827"
      },
      "source": [
        "lotacao = senado[['LOTAÇÃO EXERCÍCIO','REM_LIQUIDA']]\n",
        "\n",
        "lotacao = lotacao[lotacao['LOTAÇÃO EXERCÍCIO'].str.contains('Senador')]\n",
        "\n",
        "\n",
        "lotacao['LOTAÇÃO EXERCÍCIO'] = lotacao['LOTAÇÃO EXERCÍCIO'].map(lambda x: x.lstrip('Escritório Apoio 1 do Senador '))\n",
        "lotacao['LOTAÇÃO EXERCÍCIO'] = lotacao['LOTAÇÃO EXERCÍCIO'].map(lambda x: x.lstrip('Escritório Apoio 2 do Senador '))\n",
        "lotacao['LOTAÇÃO EXERCÍCIO'] = lotacao['LOTAÇÃO EXERCÍCIO'].map(lambda x: x.lstrip('Escritório Apoio 1 da Senadora '))\n",
        "lotacao['LOTAÇÃO EXERCÍCIO'] = lotacao['LOTAÇÃO EXERCÍCIO'].map(lambda x: x.lstrip('Escritório Apoio 2 da Senadora '))\n",
        "lotacao['LOTAÇÃO EXERCÍCIO'] = lotacao['LOTAÇÃO EXERCÍCIO'].map(lambda x: x.lstrip('Gabinete do Senador '))\n",
        "lotacao['LOTAÇÃO EXERCÍCIO'] = lotacao['LOTAÇÃO EXERCÍCIO'].map(lambda x: x.lstrip('Gabinete da Senadora '))\n",
        "\n",
        "\n",
        "lotacao['LOTAÇÃO EXERCÍCIO'] = lotacao['LOTAÇÃO EXERCÍCIO'].map(lambda x: x.lstrip('º 2 do Senador '))\n",
        "lotacao['LOTAÇÃO EXERCÍCIO'] = lotacao['LOTAÇÃO EXERCÍCIO'].map(lambda x: x.lstrip('º1 do Senador '))\n",
        "\n",
        "lotacao['LOTAÇÃO EXERCÍCIO'] = lotacao['LOTAÇÃO EXERCÍCIO'].map(lambda x: x.lstrip('01 da Senadora '))\n",
        "lotacao['LOTAÇÃO EXERCÍCIO'] = lotacao['LOTAÇÃO EXERCÍCIO'].map(lambda x: x.lstrip('02 do Senador '))\n",
        "\n",
        "lotacao['LOTAÇÃO EXERCÍCIO'] = lotacao['LOTAÇÃO EXERCÍCIO'].str.strip()\n",
        "\n",
        "lotacao.groupby('LOTAÇÃO EXERCÍCIO').count().sort_values('LOTAÇÃO EXERCÍCIO')\n"
      ],
      "execution_count": null,
      "outputs": [
        {
          "output_type": "execute_result",
          "data": {
            "application/vnd.google.colaboratory.module+javascript": "\n      import \"https://ssl.gstatic.com/colaboratory/data_table/a6224c040fa35dcf/data_table.js\";\n\n      window.createDataTable({\n        data: [[\"Acir Gurgacz\",\n{\n            'v': 33,\n            'f': \"33\",\n        }],\n [\"Alessandro Vieira\",\n{\n            'v': 16,\n            'f': \"16\",\n        }],\n [\"Alvaro Dias\",\n{\n            'v': 22,\n            'f': \"22\",\n        }],\n [\"Angelo Coronel\",\n{\n            'v': 21,\n            'f': \"21\",\n        }],\n [\"Ant\\u00f4nio Anastasia\",\n{\n            'v': 17,\n            'f': \"17\",\n        }],\n [\"Carlos F\\u00e1varo\",\n{\n            'v': 26,\n            'f': \"26\",\n        }],\n [\"Carlos Portinho\",\n{\n            'v': 29,\n            'f': \"29\",\n        }],\n [\"Carlos Viana\",\n{\n            'v': 35,\n            'f': \"35\",\n        }],\n [\"Chico Rodrigues\",\n{\n            'v': 33,\n            'f': \"33\",\n        }],\n [\"Cid Gomes\",\n{\n            'v': 26,\n            'f': \"26\",\n        }],\n [\"Ciro Nogueira\",\n{\n            'v': 54,\n            'f': \"54\",\n        }],\n [\"Conf\\u00facio Moura\",\n{\n            'v': 37,\n            'f': \"37\",\n        }],\n [\"Daniella Ribeiro\",\n{\n            'v': 35,\n            'f': \"35\",\n        }],\n [\"Davi Alcolumbre\",\n{\n            'v': 25,\n            'f': \"25\",\n        }],\n [\"D\\u00e1rio Berger\",\n{\n            'v': 22,\n            'f': \"22\",\n        }],\n [\"Eduardo Braga\",\n{\n            'v': 28,\n            'f': \"28\",\n        }],\n [\"Eduardo Gir\\u00e3o\",\n{\n            'v': 13,\n            'f': \"13\",\n        }],\n [\"Eduardo Gomes\",\n{\n            'v': 66,\n            'f': \"66\",\n        }],\n [\"Eliziane Gama\",\n{\n            'v': 16,\n            'f': \"16\",\n        }],\n [\"Elmano F\\u00e9rrer\",\n{\n            'v': 29,\n            'f': \"29\",\n        }],\n [\"Esperidi\\u00e3o Amin\",\n{\n            'v': 13,\n            'f': \"13\",\n        }],\n [\"Fabiano Contarato\",\n{\n            'v': 23,\n            'f': \"23\",\n        }],\n [\"Fernando Bezerra Coelho\",\n{\n            'v': 13,\n            'f': \"13\",\n        }],\n [\"Fernando Collor\",\n{\n            'v': 52,\n            'f': \"52\",\n        }],\n [\"Fl\\u00e1vio Arns\",\n{\n            'v': 30,\n            'f': \"30\",\n        }],\n [\"Fl\\u00e1vio Bolsonaro\",\n{\n            'v': 22,\n            'f': \"22\",\n        }],\n [\"Humberto Costa\",\n{\n            'v': 40,\n            'f': \"40\",\n        }],\n [\"Iraj\\u00e1\",\n{\n            'v': 68,\n            'f': \"68\",\n        }],\n [\"Izalci Lucas\",\n{\n            'v': 83,\n            'f': \"83\",\n        }],\n [\"Jader Barbalho\",\n{\n            'v': 5,\n            'f': \"5\",\n        }],\n [\"Jaques Wagner\",\n{\n            'v': 40,\n            'f': \"40\",\n        }],\n [\"Jarbas Vasconcelos\",\n{\n            'v': 29,\n            'f': \"29\",\n        }],\n [\"Jayme Campos\",\n{\n            'v': 40,\n            'f': \"40\",\n        }],\n [\"Jean Paul Prates\",\n{\n            'v': 42,\n            'f': \"42\",\n        }],\n [\"Jorge Kajuru\",\n{\n            'v': 25,\n            'f': \"25\",\n        }],\n [\"Jorginho Mello\",\n{\n            'v': 43,\n            'f': \"43\",\n        }],\n [\"Jos\\u00e9 Serra\",\n{\n            'v': 28,\n            'f': \"28\",\n        }],\n [\"J\\u00e1der Barbalho\",\n{\n            'v': 19,\n            'f': \"19\",\n        }],\n [\"K\\u00e1tia Abreu\",\n{\n            'v': 80,\n            'f': \"80\",\n        }],\n [\"Lasier Martins\",\n{\n            'v': 21,\n            'f': \"21\",\n        }],\n [\"Leila Barros\",\n{\n            'v': 40,\n            'f': \"40\",\n        }],\n [\"Lucas Barreto\",\n{\n            'v': 70,\n            'f': \"70\",\n        }],\n [\"Luis Carlos Heinze\",\n{\n            'v': 25,\n            'f': \"25\",\n        }],\n [\"Luiz Carlos do Carmo\",\n{\n            'v': 24,\n            'f': \"24\",\n        }],\n [\"Mailza Gomes\",\n{\n            'v': 49,\n            'f': \"49\",\n        }],\n [\"Major Olimpio\",\n{\n            'v': 27,\n            'f': \"27\",\n        }],\n [\"Mara Gabrilli\",\n{\n            'v': 36,\n            'f': \"36\",\n        }],\n [\"Marcelo Castro\",\n{\n            'v': 32,\n            'f': \"32\",\n        }],\n [\"Marcelo de Castro\",\n{\n            'v': 17,\n            'f': \"17\",\n        }],\n [\"Marcos Rog\\u00e9rio\",\n{\n            'v': 53,\n            'f': \"53\",\n        }],\n [\"Marcos do Val\",\n{\n            'v': 33,\n            'f': \"33\",\n        }],\n [\"Maria do Carmo Alves\",\n{\n            'v': 41,\n            'f': \"41\",\n        }],\n [\"Mecias de Jesus\",\n{\n            'v': 66,\n            'f': \"66\",\n        }],\n [\"M\\u00e1rcio Bittar\",\n{\n            'v': 48,\n            'f': \"48\",\n        }],\n [\"Nelsinho Trad\",\n{\n            'v': 66,\n            'f': \"66\",\n        }],\n [\"Nilda Gondim\",\n{\n            'v': 37,\n            'f': \"37\",\n        }],\n [\"Omar Aziz\",\n{\n            'v': 40,\n            'f': \"40\",\n        }],\n [\"Oriovisto Guimar\\u00e3es\",\n{\n            'v': 15,\n            'f': \"15\",\n        }],\n [\"Otto Alencar\",\n{\n            'v': 42,\n            'f': \"42\",\n        }],\n [\"Paulo Paim\",\n{\n            'v': 49,\n            'f': \"49\",\n        }],\n [\"Paulo Rocha\",\n{\n            'v': 44,\n            'f': \"44\",\n        }],\n [\"Pl\\u00ednio Val\\u00e9rio\",\n{\n            'v': 59,\n            'f': \"59\",\n        }],\n [\"Randolfe Rodrigues\",\n{\n            'v': 55,\n            'f': \"55\",\n        }],\n [\"Reguffe\",\n{\n            'v': 11,\n            'f': \"11\",\n        }],\n [\"Renan Calheiros\",\n{\n            'v': 53,\n            'f': \"53\",\n        }],\n [\"Roberto Rocha\",\n{\n            'v': 60,\n            'f': \"60\",\n        }],\n [\"Rodrigo Cunha\",\n{\n            'v': 32,\n            'f': \"32\",\n        }],\n [\"Rodrigo Pacheco\",\n{\n            'v': 40,\n            'f': \"40\",\n        }],\n [\"Rog\\u00e9rio Carvalho\",\n{\n            'v': 62,\n            'f': \"62\",\n        }],\n [\"Rom\\u00e1rio\",\n{\n            'v': 33,\n            'f': \"33\",\n        }],\n [\"Rose de Freitas\",\n{\n            'v': 26,\n            'f': \"26\",\n        }],\n [\"Tasso Jereissati\",\n{\n            'v': 19,\n            'f': \"19\",\n        }],\n [\"Telm\\u00e1rio Mota\",\n{\n            'v': 52,\n            'f': \"52\",\n        }],\n [\"Vanderlan Cardoso\",\n{\n            'v': 31,\n            'f': \"31\",\n        }],\n [\"Veneziano Vital do R\\u00eago\",\n{\n            'v': 59,\n            'f': \"59\",\n        }],\n [\"Wellington Fagundes\",\n{\n            'v': 31,\n            'f': \"31\",\n        }],\n [\"Weverton Rocha\",\n{\n            'v': 34,\n            'f': \"34\",\n        }],\n [\"Zenaide Maia\",\n{\n            'v': 48,\n            'f': \"48\",\n        }],\n [\"Zequinha Marinho\",\n{\n            'v': 55,\n            'f': \"55\",\n        }],\n [\"gelo Coronel\",\n{\n            'v': 17,\n            'f': \"17\",\n        }],\n [\"imone Tebet\",\n{\n            'v': 5,\n            'f': \"5\",\n        }],\n [\"lessandro Vieira\",\n{\n            'v': 17,\n            'f': \"17\",\n        }],\n [\"liziane Gama\",\n{\n            'v': 36,\n            'f': \"36\",\n        }],\n [\"lmano F\\u00e9rrer\",\n{\n            'v': 26,\n            'f': \"26\",\n        }],\n [\"lvaro Dias\",\n{\n            'v': 7,\n            'f': \"7\",\n        }],\n [\"mone Tebet\",\n{\n            'v': 17,\n            'f': \"17\",\n        }],\n [\"uardo Braga\",\n{\n            'v': 13,\n            'f': \"13\",\n        }],\n [\"uardo Gir\\u00e3o\",\n{\n            'v': 4,\n            'f': \"4\",\n        }],\n [\"urgacz\",\n{\n            'v': 17,\n            'f': \"17\",\n        }],\n [\"ya Thronicke\",\n{\n            'v': 28,\n            'f': \"28\",\n        }],\n [\"yvenson Valentim\",\n{\n            'v': 11,\n            'f': \"11\",\n        }],\n [\"yvenson Vatentim\",\n{\n            'v': 2,\n            'f': \"2\",\n        }],\n [\"\\u00e3o Amin\",\n{\n            'v': 13,\n            'f': \"13\",\n        }],\n [\"\\u00e9rgio Petec\\u00e3o\",\n{\n            'v': 41,\n            'f': \"41\",\n        }],\n [\"\\u00f4nio Anastasia\",\n{\n            'v': 7,\n            'f': \"7\",\n        }]],\n        columns: [[\"string\", \"LOTA\\u00c7\\u00c3O EXERC\\u00cdCIO\"], [\"number\", \"REM_LIQUIDA\"]],\n        columnOptions: [{\"width\": \"1px\", \"className\": \"index_column\"}],\n        rowsPerPage: 25,\n        helpUrl: \"https://colab.research.google.com/notebooks/data_table.ipynb\",\n        suppressOutputScrolling: true,\n        minimumWidth: undefined,\n      });\n    ",
            "text/html": [
              "<div>\n",
              "<style scoped>\n",
              "    .dataframe tbody tr th:only-of-type {\n",
              "        vertical-align: middle;\n",
              "    }\n",
              "\n",
              "    .dataframe tbody tr th {\n",
              "        vertical-align: top;\n",
              "    }\n",
              "\n",
              "    .dataframe thead th {\n",
              "        text-align: right;\n",
              "    }\n",
              "</style>\n",
              "<table border=\"1\" class=\"dataframe\">\n",
              "  <thead>\n",
              "    <tr style=\"text-align: right;\">\n",
              "      <th></th>\n",
              "      <th>REM_LIQUIDA</th>\n",
              "    </tr>\n",
              "    <tr>\n",
              "      <th>LOTAÇÃO EXERCÍCIO</th>\n",
              "      <th></th>\n",
              "    </tr>\n",
              "  </thead>\n",
              "  <tbody>\n",
              "    <tr>\n",
              "      <th>Acir Gurgacz</th>\n",
              "      <td>33</td>\n",
              "    </tr>\n",
              "    <tr>\n",
              "      <th>Alessandro Vieira</th>\n",
              "      <td>16</td>\n",
              "    </tr>\n",
              "    <tr>\n",
              "      <th>Alvaro Dias</th>\n",
              "      <td>22</td>\n",
              "    </tr>\n",
              "    <tr>\n",
              "      <th>Angelo Coronel</th>\n",
              "      <td>21</td>\n",
              "    </tr>\n",
              "    <tr>\n",
              "      <th>Antônio Anastasia</th>\n",
              "      <td>17</td>\n",
              "    </tr>\n",
              "    <tr>\n",
              "      <th>...</th>\n",
              "      <td>...</td>\n",
              "    </tr>\n",
              "    <tr>\n",
              "      <th>yvenson Valentim</th>\n",
              "      <td>11</td>\n",
              "    </tr>\n",
              "    <tr>\n",
              "      <th>yvenson Vatentim</th>\n",
              "      <td>2</td>\n",
              "    </tr>\n",
              "    <tr>\n",
              "      <th>ão Amin</th>\n",
              "      <td>13</td>\n",
              "    </tr>\n",
              "    <tr>\n",
              "      <th>érgio Petecão</th>\n",
              "      <td>41</td>\n",
              "    </tr>\n",
              "    <tr>\n",
              "      <th>ônio Anastasia</th>\n",
              "      <td>7</td>\n",
              "    </tr>\n",
              "  </tbody>\n",
              "</table>\n",
              "<p>95 rows × 1 columns</p>\n",
              "</div>"
            ],
            "text/plain": [
              "                   REM_LIQUIDA\n",
              "LOTAÇÃO EXERCÍCIO             \n",
              "Acir Gurgacz                33\n",
              "Alessandro Vieira           16\n",
              "Alvaro Dias                 22\n",
              "Angelo Coronel              21\n",
              "Antônio Anastasia           17\n",
              "...                        ...\n",
              "yvenson Valentim            11\n",
              "yvenson Vatentim             2\n",
              "ão Amin                     13\n",
              "érgio Petecão               41\n",
              "ônio Anastasia               7\n",
              "\n",
              "[95 rows x 1 columns]"
            ]
          },
          "metadata": {
            "tags": []
          },
          "execution_count": 22
        }
      ]
    }
  ]
}