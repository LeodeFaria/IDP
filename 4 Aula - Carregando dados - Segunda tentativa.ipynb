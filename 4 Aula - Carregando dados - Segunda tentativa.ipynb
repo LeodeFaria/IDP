{
  "nbformat": 4,
  "nbformat_minor": 0,
  "metadata": {
    "kernelspec": {
      "display_name": "Python 3",
      "language": "python",
      "name": "python3"
    },
    "language_info": {
      "codemirror_mode": {
        "name": "ipython",
        "version": 3
      },
      "file_extension": ".py",
      "mimetype": "text/x-python",
      "name": "python",
      "nbconvert_exporter": "python",
      "pygments_lexer": "ipython3",
      "version": "3.8.5"
    },
    "colab": {
      "name": "4 Aula - Carregando dados.ipynb",
      "provenance": []
    }
  },
  "cells": [
    {
      "cell_type": "code",
      "metadata": {
        "id": "UXPShPcHBHaX"
      },
      "source": [
        "import pandas as pd"
      ],
      "execution_count": null,
      "outputs": []
    },
    {
      "cell_type": "code",
      "metadata": {
        "id": "lseTQdrEBLWJ"
      },
      "source": [
        "from google.colab import drive\n",
        "drive.mount('/content/drive')"
      ],
      "execution_count": null,
      "outputs": []
    },
    {
      "cell_type": "code",
      "metadata": {
        "id": "9MzR9orOBHah"
      },
      "source": [
        "#df2 = pd.read_csv('./files/pasta1.csv',\n",
        "#                delimiter=';', decimal=',',encoding='utf8')\n",
        "\n",
        "#senado = pd.read_csv('./files/SF_ConsultaRemuneracaoServidoresParlamentares_202103.csv',\n",
        "#                delimiter=';', decimal=',',encoding='ISO-8859-1')\n",
        "\n",
        "senado = pd.read_csv('/content/drive/MyDrive/IDP -BigData/SF_ConsultaRemuneracaoServidoresParlamentares_202103.csv',\n",
        "                delimiter=';', decimal=',',encoding='ISO-8859-1')"
      ],
      "execution_count": null,
      "outputs": []
    },
    {
      "cell_type": "code",
      "metadata": {
        "id": "4l8rCOccBHai"
      },
      "source": [
        "senado.columns"
      ],
      "execution_count": null,
      "outputs": []
    },
    {
      "cell_type": "code",
      "metadata": {
        "id": "HuGvk031BHai"
      },
      "source": [
        "senado.head()"
      ],
      "execution_count": null,
      "outputs": []
    },
    {
      "cell_type": "code",
      "metadata": {
        "id": "zgQN312MBHai"
      },
      "source": [
        "categoria = senado[['CATEGORIA','REM_LIQUIDA']]\n",
        "\n",
        "a = categoria.groupby('CATEGORIA').sum()\n",
        "a['Qtd_SERIDORES'] = categoria.groupby('CATEGORIA').count()\n",
        "a['Pct_SERIDORES'] = ((a['Qtd_SERIDORES']/a['Qtd_SERIDORES'].sum())*100).round(2).astype(str) + '%'\n",
        "a['Pct_GASTO']     = ((a['REM_LIQUIDA']/a['REM_LIQUIDA'].sum())*100).round(2).astype(str) + '%'\n",
        "a\n",
        "# Queria a linha de total\n"
      ],
      "execution_count": null,
      "outputs": []
    },
    {
      "cell_type": "code",
      "metadata": {
        "id": "pSR1JfiPBHaj"
      },
      "source": [
        "consolidado = senado[['VÍNCULO','REM_LIQUIDA']].groupby('VÍNCULO').count()\n",
        "consolidado.rename(columns = {'REM_LIQUIDA' : 'TOTAL_VINCULO'}, inplace = True)\n",
        "consolidado['PORCENTAGEM_VINCULO'] = ((consolidado['TOTAL_VINCULO']/consolidado['TOTAL_VINCULO'].sum())*100).round(2).astype(str) + '%'\n",
        "consolidado['REM_LIQUIDA_TOTAL'] = senado[['VÍNCULO','REM_LIQUIDA']].groupby('VÍNCULO').sum()['REM_LIQUIDA'].round(2)\n",
        "consolidado['PORCENTAGEM_REM_LIQUIDA'] = ((consolidado['REM_LIQUIDA_TOTAL']/consolidado['REM_LIQUIDA_TOTAL'].sum())*100).round(2).astype(str) + '%'\n",
        "consolidado"
      ],
      "execution_count": null,
      "outputs": []
    },
    {
      "cell_type": "code",
      "metadata": {
        "id": "ifuXiDTsBHaj"
      },
      "source": [
        "#colocando o split não funciona\n",
        "lotacao = senado[['LOTAÇÃO EXERCÍCIO','REM_LIQUIDA']]\n",
        "\n",
        "lotacao = lotacao[lotacao['LOTAÇÃO EXERCÍCIO'].str.contains('Senador')]\n",
        "\n",
        "lotacao = lotacao['LOTAÇÃO EXERCÍCIO'].str.replace('Senadora','complemento Senador')\n",
        "\n",
        "lotacao\n",
        "\n",
        "#new = lotacao.values[2898]\n",
        "#new\n",
        "\n",
        "\n",
        "new = lotacao['LOTAÇÃO EXERCÍCIO'].str.split('Senador ', n=1, expand = True)\n",
        "\n",
        "new"
      ],
      "execution_count": null,
      "outputs": []
    },
    {
      "cell_type": "code",
      "metadata": {
        "colab": {
          "base_uri": "https://localhost:8080/",
          "height": 450
        },
        "id": "ov6w2oQrBHak",
        "outputId": "67448d32-50f4-4716-b332-13b186314923"
      },
      "source": [
        "lotacao = senado[['LOTAÇÃO EXERCÍCIO','REM_LIQUIDA']]\n",
        "\n",
        "lotacao = lotacao[lotacao['LOTAÇÃO EXERCÍCIO'].str.contains('Senador')]\n",
        "\n",
        "\n",
        "lotacao['LOTAÇÃO EXERCÍCIO'] = lotacao['LOTAÇÃO EXERCÍCIO'].map(lambda x: x.lstrip('Escritório Apoio 1 do Senador '))\n",
        "lotacao['LOTAÇÃO EXERCÍCIO'] = lotacao['LOTAÇÃO EXERCÍCIO'].map(lambda x: x.lstrip('Escritório Apoio 2 do Senador '))\n",
        "lotacao['LOTAÇÃO EXERCÍCIO'] = lotacao['LOTAÇÃO EXERCÍCIO'].map(lambda x: x.lstrip('Escritório Apoio 1 da Senadora '))\n",
        "lotacao['LOTAÇÃO EXERCÍCIO'] = lotacao['LOTAÇÃO EXERCÍCIO'].map(lambda x: x.lstrip('Escritório Apoio 2 da Senadora '))\n",
        "lotacao['LOTAÇÃO EXERCÍCIO'] = lotacao['LOTAÇÃO EXERCÍCIO'].map(lambda x: x.lstrip('Gabinete do Senador '))\n",
        "lotacao['LOTAÇÃO EXERCÍCIO'] = lotacao['LOTAÇÃO EXERCÍCIO'].map(lambda x: x.lstrip('Gabinete da Senadora '))\n",
        "\n",
        "\n",
        "lotacao['LOTAÇÃO EXERCÍCIO'] = lotacao['LOTAÇÃO EXERCÍCIO'].map(lambda x: x.lstrip('º 2 do Senador '))\n",
        "lotacao['LOTAÇÃO EXERCÍCIO'] = lotacao['LOTAÇÃO EXERCÍCIO'].map(lambda x: x.lstrip('º1 do Senador '))\n",
        "\n",
        "lotacao['LOTAÇÃO EXERCÍCIO'] = lotacao['LOTAÇÃO EXERCÍCIO'].map(lambda x: x.lstrip('01 da Senadora '))\n",
        "lotacao['LOTAÇÃO EXERCÍCIO'] = lotacao['LOTAÇÃO EXERCÍCIO'].map(lambda x: x.lstrip('02 do Senador '))\n",
        "\n",
        "lotacao['LOTAÇÃO EXERCÍCIO'] = lotacao['LOTAÇÃO EXERCÍCIO'].str.strip()\n",
        "\n",
        "lotacao.groupby('LOTAÇÃO EXERCÍCIO').count().sort_values('LOTAÇÃO EXERCÍCIO')\n"
      ],
      "execution_count": 20,
      "outputs": [
        {
          "output_type": "execute_result",
          "data": {
            "text/html": [
              "<div>\n",
              "<style scoped>\n",
              "    .dataframe tbody tr th:only-of-type {\n",
              "        vertical-align: middle;\n",
              "    }\n",
              "\n",
              "    .dataframe tbody tr th {\n",
              "        vertical-align: top;\n",
              "    }\n",
              "\n",
              "    .dataframe thead th {\n",
              "        text-align: right;\n",
              "    }\n",
              "</style>\n",
              "<table border=\"1\" class=\"dataframe\">\n",
              "  <thead>\n",
              "    <tr style=\"text-align: right;\">\n",
              "      <th></th>\n",
              "      <th>REM_LIQUIDA</th>\n",
              "    </tr>\n",
              "    <tr>\n",
              "      <th>LOTAÇÃO EXERCÍCIO</th>\n",
              "      <th></th>\n",
              "    </tr>\n",
              "  </thead>\n",
              "  <tbody>\n",
              "    <tr>\n",
              "      <th>Acir Gurgacz</th>\n",
              "      <td>33</td>\n",
              "    </tr>\n",
              "    <tr>\n",
              "      <th>Alessandro Vieira</th>\n",
              "      <td>16</td>\n",
              "    </tr>\n",
              "    <tr>\n",
              "      <th>Alvaro Dias</th>\n",
              "      <td>22</td>\n",
              "    </tr>\n",
              "    <tr>\n",
              "      <th>Angelo Coronel</th>\n",
              "      <td>21</td>\n",
              "    </tr>\n",
              "    <tr>\n",
              "      <th>Antônio Anastasia</th>\n",
              "      <td>17</td>\n",
              "    </tr>\n",
              "    <tr>\n",
              "      <th>...</th>\n",
              "      <td>...</td>\n",
              "    </tr>\n",
              "    <tr>\n",
              "      <th>yvenson Valentim</th>\n",
              "      <td>11</td>\n",
              "    </tr>\n",
              "    <tr>\n",
              "      <th>yvenson Vatentim</th>\n",
              "      <td>2</td>\n",
              "    </tr>\n",
              "    <tr>\n",
              "      <th>ão Amin</th>\n",
              "      <td>13</td>\n",
              "    </tr>\n",
              "    <tr>\n",
              "      <th>érgio Petecão</th>\n",
              "      <td>41</td>\n",
              "    </tr>\n",
              "    <tr>\n",
              "      <th>ônio Anastasia</th>\n",
              "      <td>7</td>\n",
              "    </tr>\n",
              "  </tbody>\n",
              "</table>\n",
              "<p>95 rows × 1 columns</p>\n",
              "</div>"
            ],
            "text/plain": [
              "                   REM_LIQUIDA\n",
              "LOTAÇÃO EXERCÍCIO             \n",
              "Acir Gurgacz                33\n",
              "Alessandro Vieira           16\n",
              "Alvaro Dias                 22\n",
              "Angelo Coronel              21\n",
              "Antônio Anastasia           17\n",
              "...                        ...\n",
              "yvenson Valentim            11\n",
              "yvenson Vatentim             2\n",
              "ão Amin                     13\n",
              "érgio Petecão               41\n",
              "ônio Anastasia               7\n",
              "\n",
              "[95 rows x 1 columns]"
            ]
          },
          "metadata": {
            "tags": []
          },
          "execution_count": 20
        }
      ]
    }
  ]
}