{
 "cells": [
  {
   "cell_type": "markdown",
   "metadata": {
    "id": "M-vmmhMepa00"
   },
   "source": [
    "## Variáveis e Operadores "
   ]
  },
  {
   "cell_type": "code",
   "execution_count": null,
   "metadata": {
    "executionInfo": {
     "elapsed": 634,
     "status": "ok",
     "timestamp": 1618529560187,
     "user": {
      "displayName": "Mauro Ribeiro",
      "photoUrl": "https://lh3.googleusercontent.com/a-/AOh14Gh4UCHXUwlgYaT16X3IiiIvVgOcuEx6z_La7Y9pjQ=s64",
      "userId": "06049500529385007077"
     },
     "user_tz": 180
    },
    "id": "hXSvM50epa00"
   },
   "outputs": [],
   "source": [
    "# Atribuindo o valor 1 à variável var_teste\n",
    "var_teste = 1"
   ]
  },
  {
   "cell_type": "code",
   "execution_count": null,
   "metadata": {
    "executionInfo": {
     "elapsed": 595,
     "status": "ok",
     "timestamp": 1618530327558,
     "user": {
      "displayName": "Mauro Ribeiro",
      "photoUrl": "https://lh3.googleusercontent.com/a-/AOh14Gh4UCHXUwlgYaT16X3IiiIvVgOcuEx6z_La7Y9pjQ=s64",
      "userId": "06049500529385007077"
     },
     "user_tz": 180
    },
    "id": "-LXOBBK97Lo3"
   },
   "outputs": [],
   "source": [
    "nome = \"Mauro\""
   ]
  },
  {
   "cell_type": "code",
   "execution_count": null,
   "metadata": {
    "colab": {
     "base_uri": "https://localhost:8080/",
     "height": 35
    },
    "executionInfo": {
     "elapsed": 626,
     "status": "ok",
     "timestamp": 1618530333398,
     "user": {
      "displayName": "Mauro Ribeiro",
      "photoUrl": "https://lh3.googleusercontent.com/a-/AOh14Gh4UCHXUwlgYaT16X3IiiIvVgOcuEx6z_La7Y9pjQ=s64",
      "userId": "06049500529385007077"
     },
     "user_tz": 180
    },
    "id": "BXQ1gSI17Odu",
    "outputId": "b5f9483e-877d-4e75-ca85-8679fe39ac65"
   },
   "outputs": [],
   "source": [
    "nome"
   ]
  },
  {
   "cell_type": "code",
   "execution_count": null,
   "metadata": {
    "colab": {
     "base_uri": "https://localhost:8080/"
    },
    "executionInfo": {
     "elapsed": 680,
     "status": "ok",
     "timestamp": 1618530340824,
     "user": {
      "displayName": "Mauro Ribeiro",
      "photoUrl": "https://lh3.googleusercontent.com/a-/AOh14Gh4UCHXUwlgYaT16X3IiiIvVgOcuEx6z_La7Y9pjQ=s64",
      "userId": "06049500529385007077"
     },
     "user_tz": 180
    },
    "id": "70LsxqqF7PqK",
    "outputId": "49a2cd7c-5840-4a3b-964c-07ba303a312f"
   },
   "outputs": [],
   "source": [
    "type(nome)"
   ]
  },
  {
   "cell_type": "code",
   "execution_count": null,
   "metadata": {
    "colab": {
     "base_uri": "https://localhost:8080/"
    },
    "executionInfo": {
     "elapsed": 688,
     "status": "ok",
     "timestamp": 1618529568934,
     "user": {
      "displayName": "Mauro Ribeiro",
      "photoUrl": "https://lh3.googleusercontent.com/a-/AOh14Gh4UCHXUwlgYaT16X3IiiIvVgOcuEx6z_La7Y9pjQ=s64",
      "userId": "06049500529385007077"
     },
     "user_tz": 180
    },
    "id": "W-dpYzcxpa00",
    "outputId": "35343f34-5839-498d-af66-6fb4cbc1c78e"
   },
   "outputs": [],
   "source": [
    "# Imprimindo o valor da variável\n",
    "var_teste"
   ]
  },
  {
   "cell_type": "code",
   "execution_count": null,
   "metadata": {
    "colab": {
     "base_uri": "https://localhost:8080/"
    },
    "executionInfo": {
     "elapsed": 624,
     "status": "ok",
     "timestamp": 1618529578136,
     "user": {
      "displayName": "Mauro Ribeiro",
      "photoUrl": "https://lh3.googleusercontent.com/a-/AOh14Gh4UCHXUwlgYaT16X3IiiIvVgOcuEx6z_La7Y9pjQ=s64",
      "userId": "06049500529385007077"
     },
     "user_tz": 180
    },
    "id": "rCT305USpa01",
    "outputId": "ff7178a9-3ae6-422c-bbbf-e78cbc0a29b0"
   },
   "outputs": [],
   "source": [
    "# Imprimindo o valor da variável\n",
    "print(var_teste)"
   ]
  },
  {
   "cell_type": "code",
   "execution_count": null,
   "metadata": {
    "colab": {
     "base_uri": "https://localhost:8080/",
     "height": 179
    },
    "executionInfo": {
     "elapsed": 630,
     "status": "error",
     "timestamp": 1618529594528,
     "user": {
      "displayName": "Mauro Ribeiro",
      "photoUrl": "https://lh3.googleusercontent.com/a-/AOh14Gh4UCHXUwlgYaT16X3IiiIvVgOcuEx6z_La7Y9pjQ=s64",
      "userId": "06049500529385007077"
     },
     "user_tz": 180
    },
    "id": "Umyfna2Ipa01",
    "outputId": "34071244-e153-4411-a00e-180358dbf8c5"
   },
   "outputs": [],
   "source": [
    "# Não podemos utilizar uma variável que não foi definida. Veja a mensagem de erro.\n",
    "my_var"
   ]
  },
  {
   "cell_type": "code",
   "execution_count": null,
   "metadata": {
    "executionInfo": {
     "elapsed": 616,
     "status": "ok",
     "timestamp": 1618529644947,
     "user": {
      "displayName": "Mauro Ribeiro",
      "photoUrl": "https://lh3.googleusercontent.com/a-/AOh14Gh4UCHXUwlgYaT16X3IiiIvVgOcuEx6z_La7Y9pjQ=s64",
      "userId": "06049500529385007077"
     },
     "user_tz": 180
    },
    "id": "N00wjXvSpa01"
   },
   "outputs": [],
   "source": [
    "var_teste = 2"
   ]
  },
  {
   "cell_type": "code",
   "execution_count": null,
   "metadata": {
    "colab": {
     "base_uri": "https://localhost:8080/"
    },
    "executionInfo": {
     "elapsed": 625,
     "status": "ok",
     "timestamp": 1618529655528,
     "user": {
      "displayName": "Mauro Ribeiro",
      "photoUrl": "https://lh3.googleusercontent.com/a-/AOh14Gh4UCHXUwlgYaT16X3IiiIvVgOcuEx6z_La7Y9pjQ=s64",
      "userId": "06049500529385007077"
     },
     "user_tz": 180
    },
    "id": "anrBsg4Bpa02",
    "outputId": "be2d519c-2c7e-4552-8b9b-b59a4a26c7ca"
   },
   "outputs": [],
   "source": [
    "var_teste"
   ]
  },
  {
   "cell_type": "code",
   "execution_count": null,
   "metadata": {
    "colab": {
     "base_uri": "https://localhost:8080/"
    },
    "executionInfo": {
     "elapsed": 860,
     "status": "ok",
     "timestamp": 1618529662813,
     "user": {
      "displayName": "Mauro Ribeiro",
      "photoUrl": "https://lh3.googleusercontent.com/a-/AOh14Gh4UCHXUwlgYaT16X3IiiIvVgOcuEx6z_La7Y9pjQ=s64",
      "userId": "06049500529385007077"
     },
     "user_tz": 180
    },
    "id": "_vxrRo60pa02",
    "outputId": "39cc4701-f8a1-4848-c69e-f27250572980"
   },
   "outputs": [],
   "source": [
    "type(var_teste)"
   ]
  },
  {
   "cell_type": "code",
   "execution_count": null,
   "metadata": {
    "executionInfo": {
     "elapsed": 653,
     "status": "ok",
     "timestamp": 1618529675006,
     "user": {
      "displayName": "Mauro Ribeiro",
      "photoUrl": "https://lh3.googleusercontent.com/a-/AOh14Gh4UCHXUwlgYaT16X3IiiIvVgOcuEx6z_La7Y9pjQ=s64",
      "userId": "06049500529385007077"
     },
     "user_tz": 180
    },
    "id": "ycZKtJA8pa02"
   },
   "outputs": [],
   "source": [
    "var_teste = 9.5"
   ]
  },
  {
   "cell_type": "code",
   "execution_count": null,
   "metadata": {
    "colab": {
     "base_uri": "https://localhost:8080/"
    },
    "executionInfo": {
     "elapsed": 796,
     "status": "ok",
     "timestamp": 1618529676939,
     "user": {
      "displayName": "Mauro Ribeiro",
      "photoUrl": "https://lh3.googleusercontent.com/a-/AOh14Gh4UCHXUwlgYaT16X3IiiIvVgOcuEx6z_La7Y9pjQ=s64",
      "userId": "06049500529385007077"
     },
     "user_tz": 180
    },
    "id": "VpcYoB95pa03",
    "outputId": "f42d06c6-4d60-46e9-8a7f-d75a7a0dde7d"
   },
   "outputs": [],
   "source": [
    "type(var_teste)"
   ]
  },
  {
   "cell_type": "code",
   "execution_count": null,
   "metadata": {
    "executionInfo": {
     "elapsed": 949,
     "status": "ok",
     "timestamp": 1618529681144,
     "user": {
      "displayName": "Mauro Ribeiro",
      "photoUrl": "https://lh3.googleusercontent.com/a-/AOh14Gh4UCHXUwlgYaT16X3IiiIvVgOcuEx6z_La7Y9pjQ=s64",
      "userId": "06049500529385007077"
     },
     "user_tz": 180
    },
    "id": "GUhvSMOKpa03"
   },
   "outputs": [],
   "source": [
    "x = 1"
   ]
  },
  {
   "cell_type": "code",
   "execution_count": null,
   "metadata": {
    "colab": {
     "base_uri": "https://localhost:8080/"
    },
    "executionInfo": {
     "elapsed": 629,
     "status": "ok",
     "timestamp": 1618529682678,
     "user": {
      "displayName": "Mauro Ribeiro",
      "photoUrl": "https://lh3.googleusercontent.com/a-/AOh14Gh4UCHXUwlgYaT16X3IiiIvVgOcuEx6z_La7Y9pjQ=s64",
      "userId": "06049500529385007077"
     },
     "user_tz": 180
    },
    "id": "JZet8Wpxpa03",
    "outputId": "db88b558-dc3e-40ba-8207-2ae728a10258"
   },
   "outputs": [],
   "source": [
    "x"
   ]
  },
  {
   "cell_type": "markdown",
   "metadata": {
    "id": "SzWob9Obpa03"
   },
   "source": [
    "## Declaração Múltipla"
   ]
  },
  {
   "cell_type": "code",
   "execution_count": null,
   "metadata": {
    "executionInfo": {
     "elapsed": 613,
     "status": "ok",
     "timestamp": 1618529766266,
     "user": {
      "displayName": "Mauro Ribeiro",
      "photoUrl": "https://lh3.googleusercontent.com/a-/AOh14Gh4UCHXUwlgYaT16X3IiiIvVgOcuEx6z_La7Y9pjQ=s64",
      "userId": "06049500529385007077"
     },
     "user_tz": 180
    },
    "id": "ZvsBl08Fpa03"
   },
   "outputs": [],
   "source": [
    "pessoa1, pessoa2, pessoa3 = \"Maria\", \"José\", \"Tobias\""
   ]
  },
  {
   "cell_type": "code",
   "execution_count": null,
   "metadata": {
    "colab": {
     "base_uri": "https://localhost:8080/",
     "height": 35
    },
    "executionInfo": {
     "elapsed": 978,
     "status": "ok",
     "timestamp": 1618529772000,
     "user": {
      "displayName": "Mauro Ribeiro",
      "photoUrl": "https://lh3.googleusercontent.com/a-/AOh14Gh4UCHXUwlgYaT16X3IiiIvVgOcuEx6z_La7Y9pjQ=s64",
      "userId": "06049500529385007077"
     },
     "user_tz": 180
    },
    "id": "Y0GCmTe2pa04",
    "outputId": "4c4cf0b8-81f5-4ad3-b2b4-2ba58718f3a4"
   },
   "outputs": [],
   "source": [
    "pessoa1"
   ]
  },
  {
   "cell_type": "code",
   "execution_count": null,
   "metadata": {
    "colab": {
     "base_uri": "https://localhost:8080/",
     "height": 35
    },
    "executionInfo": {
     "elapsed": 630,
     "status": "ok",
     "timestamp": 1618529777046,
     "user": {
      "displayName": "Mauro Ribeiro",
      "photoUrl": "https://lh3.googleusercontent.com/a-/AOh14Gh4UCHXUwlgYaT16X3IiiIvVgOcuEx6z_La7Y9pjQ=s64",
      "userId": "06049500529385007077"
     },
     "user_tz": 180
    },
    "id": "6b4w9sdopa04",
    "outputId": "8978cd5d-485d-4881-c45b-f65a32ae3725"
   },
   "outputs": [],
   "source": [
    "pessoa2"
   ]
  },
  {
   "cell_type": "code",
   "execution_count": null,
   "metadata": {
    "colab": {
     "base_uri": "https://localhost:8080/",
     "height": 35
    },
    "executionInfo": {
     "elapsed": 694,
     "status": "ok",
     "timestamp": 1618529780207,
     "user": {
      "displayName": "Mauro Ribeiro",
      "photoUrl": "https://lh3.googleusercontent.com/a-/AOh14Gh4UCHXUwlgYaT16X3IiiIvVgOcuEx6z_La7Y9pjQ=s64",
      "userId": "06049500529385007077"
     },
     "user_tz": 180
    },
    "id": "rvANwKMepa04",
    "outputId": "5b065daf-8a86-4f27-8fcd-32e7d973d546"
   },
   "outputs": [],
   "source": [
    "pessoa3"
   ]
  },
  {
   "cell_type": "code",
   "execution_count": null,
   "metadata": {
    "executionInfo": {
     "elapsed": 603,
     "status": "ok",
     "timestamp": 1618529806909,
     "user": {
      "displayName": "Mauro Ribeiro",
      "photoUrl": "https://lh3.googleusercontent.com/a-/AOh14Gh4UCHXUwlgYaT16X3IiiIvVgOcuEx6z_La7Y9pjQ=s64",
      "userId": "06049500529385007077"
     },
     "user_tz": 180
    },
    "id": "tSUNlFBZpa04"
   },
   "outputs": [],
   "source": [
    "fruta1 = fruta2 = fruta3 = \"Laranja\""
   ]
  },
  {
   "cell_type": "code",
   "execution_count": null,
   "metadata": {
    "colab": {
     "base_uri": "https://localhost:8080/",
     "height": 35
    },
    "executionInfo": {
     "elapsed": 498,
     "status": "ok",
     "timestamp": 1618529808311,
     "user": {
      "displayName": "Mauro Ribeiro",
      "photoUrl": "https://lh3.googleusercontent.com/a-/AOh14Gh4UCHXUwlgYaT16X3IiiIvVgOcuEx6z_La7Y9pjQ=s64",
      "userId": "06049500529385007077"
     },
     "user_tz": 180
    },
    "id": "TLnJjFwupa05",
    "outputId": "239b1e48-5da3-4626-d262-e47dab173907"
   },
   "outputs": [],
   "source": [
    "fruta1"
   ]
  },
  {
   "cell_type": "code",
   "execution_count": null,
   "metadata": {
    "colab": {
     "base_uri": "https://localhost:8080/",
     "height": 35
    },
    "executionInfo": {
     "elapsed": 615,
     "status": "ok",
     "timestamp": 1618529812124,
     "user": {
      "displayName": "Mauro Ribeiro",
      "photoUrl": "https://lh3.googleusercontent.com/a-/AOh14Gh4UCHXUwlgYaT16X3IiiIvVgOcuEx6z_La7Y9pjQ=s64",
      "userId": "06049500529385007077"
     },
     "user_tz": 180
    },
    "id": "4OpoxMp_pa05",
    "outputId": "00e5b6c4-0af3-4cc7-9097-790e413f6381"
   },
   "outputs": [],
   "source": [
    "fruta2"
   ]
  },
  {
   "cell_type": "code",
   "execution_count": null,
   "metadata": {
    "colab": {
     "base_uri": "https://localhost:8080/",
     "height": 196
    },
    "executionInfo": {
     "elapsed": 627,
     "status": "error",
     "timestamp": 1618529837552,
     "user": {
      "displayName": "Mauro Ribeiro",
      "photoUrl": "https://lh3.googleusercontent.com/a-/AOh14Gh4UCHXUwlgYaT16X3IiiIvVgOcuEx6z_La7Y9pjQ=s64",
      "userId": "06049500529385007077"
     },
     "user_tz": 180
    },
    "id": "3dd2ui6Lpa05",
    "outputId": "fefad1a3-35f5-4c47-a72b-6874676e1666"
   },
   "outputs": [],
   "source": [
    "# Fique atento!!! Python é case-sensitive. \n",
    "# Criamos a variável fruta2, mas não a variável Fruta2.\n",
    "# Letras maiúsculas e minúsculas tem diferença no nome da variável.\n",
    "Fruta2"
   ]
  },
  {
   "cell_type": "markdown",
   "metadata": {
    "id": "cI_06Gqipa05"
   },
   "source": [
    "## Pode-se usar letras, números e underline (mas não se pode começar com números)"
   ]
  },
  {
   "cell_type": "code",
   "execution_count": null,
   "metadata": {
    "executionInfo": {
     "elapsed": 714,
     "status": "ok",
     "timestamp": 1618529878773,
     "user": {
      "displayName": "Mauro Ribeiro",
      "photoUrl": "https://lh3.googleusercontent.com/a-/AOh14Gh4UCHXUwlgYaT16X3IiiIvVgOcuEx6z_La7Y9pjQ=s64",
      "userId": "06049500529385007077"
     },
     "user_tz": 180
    },
    "id": "FeK3KAsTpa06"
   },
   "outputs": [],
   "source": [
    "x1 = 50"
   ]
  },
  {
   "cell_type": "code",
   "execution_count": null,
   "metadata": {
    "colab": {
     "base_uri": "https://localhost:8080/"
    },
    "executionInfo": {
     "elapsed": 643,
     "status": "ok",
     "timestamp": 1618529880319,
     "user": {
      "displayName": "Mauro Ribeiro",
      "photoUrl": "https://lh3.googleusercontent.com/a-/AOh14Gh4UCHXUwlgYaT16X3IiiIvVgOcuEx6z_La7Y9pjQ=s64",
      "userId": "06049500529385007077"
     },
     "user_tz": 180
    },
    "id": "ymbGZqX4pa06",
    "outputId": "bd80171e-968a-48a3-aea2-c0fc0a992cb7"
   },
   "outputs": [],
   "source": [
    "x1"
   ]
  },
  {
   "cell_type": "code",
   "execution_count": null,
   "metadata": {
    "colab": {
     "base_uri": "https://localhost:8080/",
     "height": 129
    },
    "executionInfo": {
     "elapsed": 632,
     "status": "error",
     "timestamp": 1618529895680,
     "user": {
      "displayName": "Mauro Ribeiro",
      "photoUrl": "https://lh3.googleusercontent.com/a-/AOh14Gh4UCHXUwlgYaT16X3IiiIvVgOcuEx6z_La7Y9pjQ=s64",
      "userId": "06049500529385007077"
     },
     "user_tz": 180
    },
    "id": "0Xp0OSArpa06",
    "outputId": "e29de939-2817-4981-a50e-13b1fa3b58cb"
   },
   "outputs": [],
   "source": [
    "# Mensagem de erro, pois o Python não permite nomes \n",
    "#   de variáveis que iniciem com números\n",
    "1x = 50"
   ]
  },
  {
   "cell_type": "code",
   "execution_count": null,
   "metadata": {
    "colab": {
     "base_uri": "https://localhost:8080/",
     "height": 129
    },
    "executionInfo": {
     "elapsed": 624,
     "status": "error",
     "timestamp": 1618529914141,
     "user": {
      "displayName": "Mauro Ribeiro",
      "photoUrl": "https://lh3.googleusercontent.com/a-/AOh14Gh4UCHXUwlgYaT16X3IiiIvVgOcuEx6z_La7Y9pjQ=s64",
      "userId": "06049500529385007077"
     },
     "user_tz": 180
    },
    "id": "aw5da77e5mIR",
    "outputId": "b8051254-600a-4b6d-df6e-b8c5872a01a3"
   },
   "outputs": [],
   "source": [
    "1_candidato = \"Mauro\""
   ]
  },
  {
   "cell_type": "markdown",
   "metadata": {
    "id": "b3LgFEghpa06"
   },
   "source": [
    "## Não se pode usar palavras reservadas como nome de variável\n",
    "\n",
    "#### False   -   class   -   finally   -   is   -   return\n",
    "#### None   -   continue   -   for   -   lambda   -   try\n",
    "#### True   -   def   -   from   -   nonlocal   -   while\n",
    "#### and   -   del   -   global   -   not   -   with\n",
    "#### as   -   elif   -   if   -   or   -   yield\n",
    "#### assert   -   else   -   import   -   pass   -   break      \n",
    "#### in   -   except   -   raise"
   ]
  },
  {
   "cell_type": "code",
   "execution_count": null,
   "metadata": {
    "id": "QF3ZLk3qpa07"
   },
   "outputs": [],
   "source": [
    "# Não podemos usar palavras reservadas como nome de variável\n",
    "break = 1"
   ]
  },
  {
   "cell_type": "markdown",
   "metadata": {
    "id": "fjt_am03pa07"
   },
   "source": [
    "## Variáveis atribuídas a outras variáveis e ordem dos operadores"
   ]
  },
  {
   "cell_type": "code",
   "execution_count": null,
   "metadata": {
    "executionInfo": {
     "elapsed": 747,
     "status": "ok",
     "timestamp": 1618530024574,
     "user": {
      "displayName": "Mauro Ribeiro",
      "photoUrl": "https://lh3.googleusercontent.com/a-/AOh14Gh4UCHXUwlgYaT16X3IiiIvVgOcuEx6z_La7Y9pjQ=s64",
      "userId": "06049500529385007077"
     },
     "user_tz": 180
    },
    "id": "8lqA12dnpa07"
   },
   "outputs": [],
   "source": [
    "largura = 2"
   ]
  },
  {
   "cell_type": "code",
   "execution_count": null,
   "metadata": {
    "executionInfo": {
     "elapsed": 585,
     "status": "ok",
     "timestamp": 1618530026323,
     "user": {
      "displayName": "Mauro Ribeiro",
      "photoUrl": "https://lh3.googleusercontent.com/a-/AOh14Gh4UCHXUwlgYaT16X3IiiIvVgOcuEx6z_La7Y9pjQ=s64",
      "userId": "06049500529385007077"
     },
     "user_tz": 180
    },
    "id": "LrjruooTpa08"
   },
   "outputs": [],
   "source": [
    "altura = 4"
   ]
  },
  {
   "cell_type": "code",
   "execution_count": null,
   "metadata": {
    "executionInfo": {
     "elapsed": 695,
     "status": "ok",
     "timestamp": 1618530040957,
     "user": {
      "displayName": "Mauro Ribeiro",
      "photoUrl": "https://lh3.googleusercontent.com/a-/AOh14Gh4UCHXUwlgYaT16X3IiiIvVgOcuEx6z_La7Y9pjQ=s64",
      "userId": "06049500529385007077"
     },
     "user_tz": 180
    },
    "id": "nSDV0jxmpa08"
   },
   "outputs": [],
   "source": [
    "area = largura * altura"
   ]
  },
  {
   "cell_type": "code",
   "execution_count": null,
   "metadata": {
    "colab": {
     "base_uri": "https://localhost:8080/"
    },
    "executionInfo": {
     "elapsed": 595,
     "status": "ok",
     "timestamp": 1618530051596,
     "user": {
      "displayName": "Mauro Ribeiro",
      "photoUrl": "https://lh3.googleusercontent.com/a-/AOh14Gh4UCHXUwlgYaT16X3IiiIvVgOcuEx6z_La7Y9pjQ=s64",
      "userId": "06049500529385007077"
     },
     "user_tz": 180
    },
    "id": "3rNzLmP0pa08",
    "outputId": "25e1ebd5-b846-4d65-fc78-209a1621f346"
   },
   "outputs": [],
   "source": [
    "area"
   ]
  },
  {
   "cell_type": "code",
   "execution_count": null,
   "metadata": {
    "executionInfo": {
     "elapsed": 683,
     "status": "ok",
     "timestamp": 1618530130555,
     "user": {
      "displayName": "Mauro Ribeiro",
      "photoUrl": "https://lh3.googleusercontent.com/a-/AOh14Gh4UCHXUwlgYaT16X3IiiIvVgOcuEx6z_La7Y9pjQ=s64",
      "userId": "06049500529385007077"
     },
     "user_tz": 180
    },
    "id": "zkOB9BnYpa08"
   },
   "outputs": [],
   "source": [
    "perimetro = (2 * largura) + (2 * altura)"
   ]
  },
  {
   "cell_type": "code",
   "execution_count": null,
   "metadata": {
    "colab": {
     "base_uri": "https://localhost:8080/"
    },
    "executionInfo": {
     "elapsed": 686,
     "status": "ok",
     "timestamp": 1618530131316,
     "user": {
      "displayName": "Mauro Ribeiro",
      "photoUrl": "https://lh3.googleusercontent.com/a-/AOh14Gh4UCHXUwlgYaT16X3IiiIvVgOcuEx6z_La7Y9pjQ=s64",
      "userId": "06049500529385007077"
     },
     "user_tz": 180
    },
    "id": "a4WYHV2Kpa08",
    "outputId": "4eeac51b-48e8-4308-f055-ccc9e250a8bc"
   },
   "outputs": [],
   "source": [
    "perimetro"
   ]
  },
  {
   "cell_type": "code",
   "execution_count": null,
   "metadata": {
    "executionInfo": {
     "elapsed": 635,
     "status": "ok",
     "timestamp": 1618530114878,
     "user": {
      "displayName": "Mauro Ribeiro",
      "photoUrl": "https://lh3.googleusercontent.com/a-/AOh14Gh4UCHXUwlgYaT16X3IiiIvVgOcuEx6z_La7Y9pjQ=s64",
      "userId": "06049500529385007077"
     },
     "user_tz": 180
    },
    "id": "H3LLk1jtpa08"
   },
   "outputs": [],
   "source": [
    "# A ordem dos operadores é a mesma seguida na Matemática\n",
    "perimetro = 2 * (largura + 2)  * altura"
   ]
  },
  {
   "cell_type": "code",
   "execution_count": null,
   "metadata": {
    "colab": {
     "base_uri": "https://localhost:8080/"
    },
    "executionInfo": {
     "elapsed": 844,
     "status": "ok",
     "timestamp": 1618530116459,
     "user": {
      "displayName": "Mauro Ribeiro",
      "photoUrl": "https://lh3.googleusercontent.com/a-/AOh14Gh4UCHXUwlgYaT16X3IiiIvVgOcuEx6z_La7Y9pjQ=s64",
      "userId": "06049500529385007077"
     },
     "user_tz": 180
    },
    "id": "K7xIWmPupa09",
    "outputId": "6eeebe25-b20b-4ec6-ca7e-b6f675f7db2c"
   },
   "outputs": [],
   "source": [
    "perimetro"
   ]
  },
  {
   "cell_type": "markdown",
   "metadata": {
    "id": "m0qb8yDipa09"
   },
   "source": [
    "## Operações com variáveis"
   ]
  },
  {
   "cell_type": "code",
   "execution_count": null,
   "metadata": {
    "id": "EXiXiu9Zpa09"
   },
   "outputs": [],
   "source": [
    "idade1 = 25"
   ]
  },
  {
   "cell_type": "code",
   "execution_count": null,
   "metadata": {
    "id": "_bCO6-1kpa09"
   },
   "outputs": [],
   "source": [
    "idade2 = 35"
   ]
  },
  {
   "cell_type": "code",
   "execution_count": null,
   "metadata": {
    "id": "yidt8MoJpa09"
   },
   "outputs": [],
   "source": [
    "idade1 + idade2"
   ]
  },
  {
   "cell_type": "code",
   "execution_count": null,
   "metadata": {
    "id": "6lZ5ls_kpa09"
   },
   "outputs": [],
   "source": [
    "idade2 - idade1"
   ]
  },
  {
   "cell_type": "code",
   "execution_count": null,
   "metadata": {
    "id": "q3nnQ3Zapa0-"
   },
   "outputs": [],
   "source": [
    "idade2 * idade1"
   ]
  },
  {
   "cell_type": "code",
   "execution_count": null,
   "metadata": {
    "id": "NsSLlhlXpa0-"
   },
   "outputs": [],
   "source": [
    "idade2 / idade1"
   ]
  },
  {
   "cell_type": "code",
   "execution_count": null,
   "metadata": {
    "id": "6BNkbTd1pa0-"
   },
   "outputs": [],
   "source": [
    "idade2 % idade1"
   ]
  },
  {
   "cell_type": "markdown",
   "metadata": {
    "id": "UoFwWx9Ppa0-"
   },
   "source": [
    "## Concatenação de Variáveis"
   ]
  },
  {
   "cell_type": "code",
   "execution_count": null,
   "metadata": {
    "executionInfo": {
     "elapsed": 602,
     "status": "ok",
     "timestamp": 1618530169121,
     "user": {
      "displayName": "Mauro Ribeiro",
      "photoUrl": "https://lh3.googleusercontent.com/a-/AOh14Gh4UCHXUwlgYaT16X3IiiIvVgOcuEx6z_La7Y9pjQ=s64",
      "userId": "06049500529385007077"
     },
     "user_tz": 180
    },
    "id": "OoNQ0EE3pa0-"
   },
   "outputs": [],
   "source": [
    "nome = \"Steve\""
   ]
  },
  {
   "cell_type": "code",
   "execution_count": null,
   "metadata": {
    "executionInfo": {
     "elapsed": 967,
     "status": "ok",
     "timestamp": 1618530170131,
     "user": {
      "displayName": "Mauro Ribeiro",
      "photoUrl": "https://lh3.googleusercontent.com/a-/AOh14Gh4UCHXUwlgYaT16X3IiiIvVgOcuEx6z_La7Y9pjQ=s64",
      "userId": "06049500529385007077"
     },
     "user_tz": 180
    },
    "id": "7HbhCAlopa0-"
   },
   "outputs": [],
   "source": [
    "sobrenome = \"Jobs\""
   ]
  },
  {
   "cell_type": "code",
   "execution_count": null,
   "metadata": {
    "executionInfo": {
     "elapsed": 607,
     "status": "ok",
     "timestamp": 1618530193606,
     "user": {
      "displayName": "Mauro Ribeiro",
      "photoUrl": "https://lh3.googleusercontent.com/a-/AOh14Gh4UCHXUwlgYaT16X3IiiIvVgOcuEx6z_La7Y9pjQ=s64",
      "userId": "06049500529385007077"
     },
     "user_tz": 180
    },
    "id": "p57k-a6y6rAV"
   },
   "outputs": [],
   "source": [
    "fullName = nome + sobrenome"
   ]
  },
  {
   "cell_type": "code",
   "execution_count": null,
   "metadata": {
    "colab": {
     "base_uri": "https://localhost:8080/",
     "height": 35
    },
    "executionInfo": {
     "elapsed": 601,
     "status": "ok",
     "timestamp": 1618530205030,
     "user": {
      "displayName": "Mauro Ribeiro",
      "photoUrl": "https://lh3.googleusercontent.com/a-/AOh14Gh4UCHXUwlgYaT16X3IiiIvVgOcuEx6z_La7Y9pjQ=s64",
      "userId": "06049500529385007077"
     },
     "user_tz": 180
    },
    "id": "jxHpGta56tt8",
    "outputId": "1636a861-d72f-498d-b74a-36b7cd779a39"
   },
   "outputs": [],
   "source": [
    "fullName"
   ]
  },
  {
   "cell_type": "code",
   "execution_count": null,
   "metadata": {
    "executionInfo": {
     "elapsed": 611,
     "status": "ok",
     "timestamp": 1618530235772,
     "user": {
      "displayName": "Mauro Ribeiro",
      "photoUrl": "https://lh3.googleusercontent.com/a-/AOh14Gh4UCHXUwlgYaT16X3IiiIvVgOcuEx6z_La7Y9pjQ=s64",
      "userId": "06049500529385007077"
     },
     "user_tz": 180
    },
    "id": "N1TnUmeVpa0_"
   },
   "outputs": [],
   "source": [
    "fullName = nome + \" \" + sobrenome"
   ]
  },
  {
   "cell_type": "code",
   "execution_count": null,
   "metadata": {
    "colab": {
     "base_uri": "https://localhost:8080/",
     "height": 35
    },
    "executionInfo": {
     "elapsed": 696,
     "status": "ok",
     "timestamp": 1618530236540,
     "user": {
      "displayName": "Mauro Ribeiro",
      "photoUrl": "https://lh3.googleusercontent.com/a-/AOh14Gh4UCHXUwlgYaT16X3IiiIvVgOcuEx6z_La7Y9pjQ=s64",
      "userId": "06049500529385007077"
     },
     "user_tz": 180
    },
    "id": "TNT-PAPvpa0_",
    "outputId": "9e68ec5a-07c5-4d9a-dac8-62dd41996a59"
   },
   "outputs": [],
   "source": [
    "fullName"
   ]
  },
  {
   "cell_type": "markdown",
   "metadata": {
    "id": "4WKbk0U0pa0_"
   },
   "source": [
    "# Fim"
   ]
  }
 ],
 "metadata": {
  "anaconda-cloud": {},
  "colab": {
   "collapsed_sections": [],
   "name": "2 aula - 02 - Variaveis.ipynb",
   "provenance": [
    {
     "file_id": "https://github.com/dsacademybr/PythonFundamentos/blob/master/Cap02/Notebooks/DSA-Python-Cap02-02-Variaveis.ipynb",
     "timestamp": 1618508889505
    }
   ]
  },
  "kernelspec": {
   "display_name": "Python 3",
   "language": "python",
   "name": "python3"
  },
  "language_info": {
   "codemirror_mode": {
    "name": "ipython",
    "version": 3
   },
   "file_extension": ".py",
   "mimetype": "text/x-python",
   "name": "python",
   "nbconvert_exporter": "python",
   "pygments_lexer": "ipython3",
   "version": "3.8.5"
  }
 },
 "nbformat": 4,
 "nbformat_minor": 1
}
