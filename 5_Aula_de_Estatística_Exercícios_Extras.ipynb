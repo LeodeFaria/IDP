{
  "nbformat": 4,
  "nbformat_minor": 0,
  "metadata": {
    "colab": {
      "name": "5 Aula de Estatística - Exercícios Extras.ipynb",
      "provenance": [],
      "collapsed_sections": [],
      "include_colab_link": true
    },
    "kernelspec": {
      "name": "python3",
      "display_name": "Python 3"
    },
    "language_info": {
      "name": "python"
    }
  },
  "cells": [
    {
      "cell_type": "markdown",
      "metadata": {
        "id": "view-in-github",
        "colab_type": "text"
      },
      "source": [
        "<a href=\"https://colab.research.google.com/github/LeodeFaria/IDP/blob/main/5_Aula_de_Estat%C3%ADstica_Exerc%C3%ADcios_Extras.ipynb\" target=\"_parent\"><img src=\"https://colab.research.google.com/assets/colab-badge.svg\" alt=\"Open In Colab\"/></a>"
      ]
    },
    {
      "cell_type": "markdown",
      "metadata": {
        "id": "LuTuuvoH1r6C"
      },
      "source": [
        "# Exercícios Extras\n",
        "\n"
      ]
    },
    {
      "cell_type": "markdown",
      "metadata": {
        "id": "Xk-2ub0fxRAi"
      },
      "source": [
        "# Início\n"
      ]
    },
    {
      "cell_type": "code",
      "metadata": {
        "id": "XQ4wNz7psDtd"
      },
      "source": [
        "# Link com o dataset\n",
        "# https://drive.google.com/file/d/10KPexIXc-iEBAjZejzH5WvOj0coJDwmc/view?usp=sharing\n",
        "\n",
        "# importando libs\n",
        "import pandas as pd\n",
        "import numpy as np\n",
        "import scipy.stats"
      ],
      "execution_count": null,
      "outputs": []
    },
    {
      "cell_type": "markdown",
      "metadata": {
        "id": "pZn4ZtXcejKG"
      },
      "source": [
        "## Antes de começar\n",
        "\n",
        "### Lembre-se de printar o dataset para entender como ele é organizado\n",
        "[Dicionário dos dados](https://www.kaggle.com/c/titanic/data)\n",
        "### Se necessário faça a limpeza de dados faltantes, só limpe os dados que for utilizar"
      ]
    },
    {
      "cell_type": "code",
      "metadata": {
        "id": "ZfcsSOJneiVX"
      },
      "source": [
        "## Faça aqui\n"
      ],
      "execution_count": null,
      "outputs": []
    },
    {
      "cell_type": "markdown",
      "metadata": {
        "id": "_pxUOVww6-Eq"
      },
      "source": [
        "## 1. O RMS Titanic foi um navio de passageiros britânico. O Titanic foi pensado para ser o navio mais luxuoso e mais seguro de sua época, gerando lendas que era supostamente \"inafundável\". No dia do seu naufragio ele tinha 2435 passageiros a bordo.\n",
        "\n",
        "### Atualmente existe uma diferença considerável no preço das passagens de avião entre a primeira classe e a econômica essa diferença era igualmente proporcional no Titanic?\n",
        "\n",
        "Dica 1: Calcule a média das tarifas dos passageiros de cada classe.\n",
        "\n",
        "Dica 2: Calcule a variância das tarifas dos passageiros de cada classe.\n",
        "\n",
        "Dica 3: Calcule a mediana das tarifas dos passageiros de cada classe.\n",
        "\n",
        "Dica 4: Represente tudo num Boxplot."
      ]
    },
    {
      "cell_type": "code",
      "metadata": {
        "id": "fGnpIDmOhjNY"
      },
      "source": [
        "## Faça aqui\n"
      ],
      "execution_count": null,
      "outputs": []
    },
    {
      "cell_type": "markdown",
      "metadata": {
        "id": "IjGotln9hsTh"
      },
      "source": [
        "## 2. Ao assistir o filme Titanic uma cena memoravel é os tripulantes dando preferencia as mulheres e crianças.\n",
        "### Isso realmente aconteceu ou serve apenas para efeito dramatico no filme? Considere um adulto um homem ou mulher com idade igual ou superior a 18\n",
        "\n",
        "Dica 1: Calcule a média da idade dos passageiros que sobreviveram e dos que não.\n",
        "\n",
        "Dica 2: Calcule a variância da idade dos passageiros que sobreviveram e dos que não.\n",
        "\n",
        "Dica 3: Calcule a median da idade dos passageiros que sobreviveram e dos que não.\n",
        "\n",
        "Dica 5: Conte a quantidade de homem e mulheres que sobreviveram e morreram.\n",
        "\n",
        "Dica 6: A coluna \"survided\" possui a seguinte legenda  0 = não, 1 = sim."
      ]
    },
    {
      "cell_type": "code",
      "metadata": {
        "id": "JGkx2TLEhjkh"
      },
      "source": [
        "## Faça aqui\n"
      ],
      "execution_count": null,
      "outputs": []
    },
    {
      "cell_type": "markdown",
      "metadata": {
        "id": "2COXpIugiDvV"
      },
      "source": [
        "## 3. E uma conversa um colega deu a seguinte hipótese ao comprar sua passagem os passageiros do titanic pagaram uma tarifa diferente de acordo com as suas faixas etárias e a classe que haviam escolhido. \n",
        "\n",
        "### Mostre ao seu colega se a sua hipótese esta correta ou não."
      ]
    },
    {
      "cell_type": "code",
      "metadata": {
        "id": "n5bKoWxJiDvW"
      },
      "source": [
        "## Faça aqui\n"
      ],
      "execution_count": null,
      "outputs": []
    },
    {
      "cell_type": "markdown",
      "metadata": {
        "id": "RRhx3ZbkiDvW"
      },
      "source": [
        "## 4. Supondo que a chance de sobreviver ao naufrágio do titanic seja uma Survival Function. Qual seria a sua chance de sobreviver?\n",
        "\n",
        "Dica 1: Para o calculo de variância e média utilize os dados disponiveis"
      ]
    },
    {
      "cell_type": "code",
      "metadata": {
        "id": "TBqE_IijiDvX"
      },
      "source": [
        "## Faça aqui\n"
      ],
      "execution_count": null,
      "outputs": []
    },
    {
      "cell_type": "markdown",
      "metadata": {
        "id": "T1MCir2QwOuA"
      },
      "source": [
        "## 5. Os órfãos \n",
        "\n",
        "Em 1912, Michel Navratil viu-se sozinho com os filhos pela primeira vez desde o divórcio com a mãe dos garotos. Com uma oportunidade de ouro em mãos, ele decidiu fugir com os meninos, todos com nomes falsos, para o Novo Mundo — a bordo do Titanic.\n",
        "\n",
        "Na noite da colisão, o homem abandonou seu jogo de cartas para conseguir salvar seus filhos da tragédia. Com os pequenos num bote, ele olhou para Michel Jr. e Edmond, de quatro e dois anos, uma última vez antes de afundar sozinho nas águas congelantes.\n",
        "\n",
        "Os meninos, então, foram as únicas crianças resgatadas do navio sem a companhia de um responsável. Conhecidos como os “órfãos do Titanic”, sem falar o inglês e sob os nomes falsos de Louis e Lola, os pequenos só encontraram sua mãe depois de muitos meses. Mais tarde, Michel Jr. viveu até os 92 anos, enquanto Edmond morreu em 1953.\n",
        "\n",
        "### Essa é uma história  de um outlier, os pontos fora da curva, no titanic. Utilizando os dados disponiveis é possivel encontrar mais algum outlier?"
      ]
    },
    {
      "cell_type": "code",
      "metadata": {
        "id": "CzF_4yurwOuE"
      },
      "source": [
        "## Faça aqui\n"
      ],
      "execution_count": null,
      "outputs": []
    },
    {
      "cell_type": "markdown",
      "metadata": {
        "id": "CXXeQi03ez0f"
      },
      "source": [
        "## 6. Utilizando todos os seus dados disponiveis crie uma nova coluna chamada chance de sobrevivência e coloque em cada linha a chance de cada passageiro sobreviver de acordo com a SF. Considere que mais de 50% resulta em sobreviver.\n",
        "\n"
      ]
    },
    {
      "cell_type": "code",
      "metadata": {
        "id": "fbMQik5Pezef"
      },
      "source": [
        "## Faça aqui\n"
      ],
      "execution_count": null,
      "outputs": []
    },
    {
      "cell_type": "markdown",
      "metadata": {
        "id": "XKdSqpcAfn1G"
      },
      "source": [
        "## 7. Faça a análise da sua coluna com os dados reais.\n",
        "\n",
        "Foi possível prever?"
      ]
    },
    {
      "cell_type": "code",
      "metadata": {
        "id": "wFSnVHUPftY4"
      },
      "source": [
        "## Faça aqui\n"
      ],
      "execution_count": null,
      "outputs": []
    },
    {
      "cell_type": "markdown",
      "metadata": {
        "id": "NPmuIY8OgcD_"
      },
      "source": [
        "## Desafio - Utilize o F1 score para a sua analise anterior.\n",
        "[Link artigo da medium](https://medium.com/@vitorborbarodrigues/m%C3%A9tricas-de-avalia%C3%A7%C3%A3o-acur%C3%A1cia-precis%C3%A3o-recall-quais-as-diferen%C3%A7as-c8f05e0a513c)\n"
      ]
    },
    {
      "cell_type": "code",
      "metadata": {
        "id": "qvQ-jmskgbgJ"
      },
      "source": [
        "## Faça aqui\n"
      ],
      "execution_count": null,
      "outputs": []
    }
  ]
}