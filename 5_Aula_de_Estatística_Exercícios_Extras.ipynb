{
  "nbformat": 4,
  "nbformat_minor": 0,
  "metadata": {
    "colab": {
      "name": "5 Aula de Estatística - Exercícios Extras.ipynb",
      "provenance": [],
      "collapsed_sections": [],
      "include_colab_link": true
    },
    "kernelspec": {
      "name": "python3",
      "display_name": "Python 3"
    },
    "language_info": {
      "name": "python"
    }
  },
  "cells": [
    {
      "cell_type": "markdown",
      "metadata": {
        "id": "view-in-github",
        "colab_type": "text"
      },
      "source": [
        "<a href=\"https://colab.research.google.com/github/LeodeFaria/IDP/blob/main/5_Aula_de_Estat%C3%ADstica_Exerc%C3%ADcios_Extras.ipynb\" target=\"_parent\"><img src=\"https://colab.research.google.com/assets/colab-badge.svg\" alt=\"Open In Colab\"/></a>"
      ]
    },
    {
      "cell_type": "markdown",
      "metadata": {
        "id": "LuTuuvoH1r6C"
      },
      "source": [
        "# Exercícios Extras\n",
        "\n"
      ]
    },
    {
      "cell_type": "markdown",
      "metadata": {
        "id": "Xk-2ub0fxRAi"
      },
      "source": [
        "# Início\n"
      ]
    },
    {
      "cell_type": "code",
      "metadata": {
        "id": "XQ4wNz7psDtd"
      },
      "source": [
        "# Link com o dataset\n",
        "# https://drive.google.com/file/d/10KPexIXc-iEBAjZejzH5WvOj0coJDwmc/view?usp=sharing\n",
        "\n",
        "# importando libs\n",
        "import pandas as pd\n",
        "import numpy as np\n",
        "import scipy.stats"
      ],
      "execution_count": 1,
      "outputs": []
    },
    {
      "cell_type": "markdown",
      "metadata": {
        "id": "pZn4ZtXcejKG"
      },
      "source": [
        "## Antes de começar\n",
        "\n",
        "### Lembre-se de printar o dataset para entender como ele é organizado\n",
        "[Dicionário dos dados](https://www.kaggle.com/c/titanic/data)\n",
        "### Se necessário faça a limpeza de dados faltantes, só limpe os dados que for utilizar"
      ]
    },
    {
      "cell_type": "code",
      "metadata": {
        "id": "ZfcsSOJneiVX",
        "colab": {
          "base_uri": "https://localhost:8080/",
          "height": 204
        },
        "outputId": "9e28951a-38d5-4afd-b389-9f5ab39e224e"
      },
      "source": [
        "## Faça aqui\n",
        "df = pd.read_excel('/content/titanic.xls')\n",
        "\n",
        "df.head()"
      ],
      "execution_count": 4,
      "outputs": [
        {
          "output_type": "execute_result",
          "data": {
            "text/html": [
              "<div>\n",
              "<style scoped>\n",
              "    .dataframe tbody tr th:only-of-type {\n",
              "        vertical-align: middle;\n",
              "    }\n",
              "\n",
              "    .dataframe tbody tr th {\n",
              "        vertical-align: top;\n",
              "    }\n",
              "\n",
              "    .dataframe thead th {\n",
              "        text-align: right;\n",
              "    }\n",
              "</style>\n",
              "<table border=\"1\" class=\"dataframe\">\n",
              "  <thead>\n",
              "    <tr style=\"text-align: right;\">\n",
              "      <th></th>\n",
              "      <th>pclass</th>\n",
              "      <th>survived</th>\n",
              "      <th>name</th>\n",
              "      <th>sex</th>\n",
              "      <th>age</th>\n",
              "      <th>sibsp</th>\n",
              "      <th>parch</th>\n",
              "      <th>ticket</th>\n",
              "      <th>fare</th>\n",
              "      <th>cabin</th>\n",
              "      <th>embarked</th>\n",
              "      <th>boat</th>\n",
              "      <th>body</th>\n",
              "      <th>home.dest</th>\n",
              "    </tr>\n",
              "  </thead>\n",
              "  <tbody>\n",
              "    <tr>\n",
              "      <th>0</th>\n",
              "      <td>1</td>\n",
              "      <td>1</td>\n",
              "      <td>Allen, Miss. Elisabeth Walton</td>\n",
              "      <td>female</td>\n",
              "      <td>29.0000</td>\n",
              "      <td>0</td>\n",
              "      <td>0</td>\n",
              "      <td>24160</td>\n",
              "      <td>211.3375</td>\n",
              "      <td>B5</td>\n",
              "      <td>S</td>\n",
              "      <td>2</td>\n",
              "      <td>NaN</td>\n",
              "      <td>St Louis, MO</td>\n",
              "    </tr>\n",
              "    <tr>\n",
              "      <th>1</th>\n",
              "      <td>1</td>\n",
              "      <td>1</td>\n",
              "      <td>Allison, Master. Hudson Trevor</td>\n",
              "      <td>male</td>\n",
              "      <td>0.9167</td>\n",
              "      <td>1</td>\n",
              "      <td>2</td>\n",
              "      <td>113781</td>\n",
              "      <td>151.5500</td>\n",
              "      <td>C22 C26</td>\n",
              "      <td>S</td>\n",
              "      <td>11</td>\n",
              "      <td>NaN</td>\n",
              "      <td>Montreal, PQ / Chesterville, ON</td>\n",
              "    </tr>\n",
              "    <tr>\n",
              "      <th>2</th>\n",
              "      <td>1</td>\n",
              "      <td>0</td>\n",
              "      <td>Allison, Miss. Helen Loraine</td>\n",
              "      <td>female</td>\n",
              "      <td>2.0000</td>\n",
              "      <td>1</td>\n",
              "      <td>2</td>\n",
              "      <td>113781</td>\n",
              "      <td>151.5500</td>\n",
              "      <td>C22 C26</td>\n",
              "      <td>S</td>\n",
              "      <td>NaN</td>\n",
              "      <td>NaN</td>\n",
              "      <td>Montreal, PQ / Chesterville, ON</td>\n",
              "    </tr>\n",
              "    <tr>\n",
              "      <th>3</th>\n",
              "      <td>1</td>\n",
              "      <td>0</td>\n",
              "      <td>Allison, Mr. Hudson Joshua Creighton</td>\n",
              "      <td>male</td>\n",
              "      <td>30.0000</td>\n",
              "      <td>1</td>\n",
              "      <td>2</td>\n",
              "      <td>113781</td>\n",
              "      <td>151.5500</td>\n",
              "      <td>C22 C26</td>\n",
              "      <td>S</td>\n",
              "      <td>NaN</td>\n",
              "      <td>135.0</td>\n",
              "      <td>Montreal, PQ / Chesterville, ON</td>\n",
              "    </tr>\n",
              "    <tr>\n",
              "      <th>4</th>\n",
              "      <td>1</td>\n",
              "      <td>0</td>\n",
              "      <td>Allison, Mrs. Hudson J C (Bessie Waldo Daniels)</td>\n",
              "      <td>female</td>\n",
              "      <td>25.0000</td>\n",
              "      <td>1</td>\n",
              "      <td>2</td>\n",
              "      <td>113781</td>\n",
              "      <td>151.5500</td>\n",
              "      <td>C22 C26</td>\n",
              "      <td>S</td>\n",
              "      <td>NaN</td>\n",
              "      <td>NaN</td>\n",
              "      <td>Montreal, PQ / Chesterville, ON</td>\n",
              "    </tr>\n",
              "  </tbody>\n",
              "</table>\n",
              "</div>"
            ],
            "text/plain": [
              "   pclass  survived  ...   body                        home.dest\n",
              "0       1         1  ...    NaN                     St Louis, MO\n",
              "1       1         1  ...    NaN  Montreal, PQ / Chesterville, ON\n",
              "2       1         0  ...    NaN  Montreal, PQ / Chesterville, ON\n",
              "3       1         0  ...  135.0  Montreal, PQ / Chesterville, ON\n",
              "4       1         0  ...    NaN  Montreal, PQ / Chesterville, ON\n",
              "\n",
              "[5 rows x 14 columns]"
            ]
          },
          "metadata": {
            "tags": []
          },
          "execution_count": 4
        }
      ]
    },
    {
      "cell_type": "markdown",
      "metadata": {
        "id": "_pxUOVww6-Eq"
      },
      "source": [
        "## 1. O RMS Titanic foi um navio de passageiros britânico. O Titanic foi pensado para ser o navio mais luxuoso e mais seguro de sua época, gerando lendas que era supostamente \"inafundável\". No dia do seu naufragio ele tinha 2435 passageiros a bordo.\n",
        "\n",
        "### Atualmente existe uma diferença considerável no preço das passagens de avião entre a primeira classe e a econômica essa diferença era igualmente proporcional no Titanic?\n",
        "\n",
        "Dica 1: Calcule a média das tarifas dos passageiros de cada classe.\n",
        "\n",
        "Dica 2: Calcule a variância das tarifas dos passageiros de cada classe.\n",
        "\n",
        "Dica 3: Calcule a mediana das tarifas dos passageiros de cada classe.\n",
        "\n",
        "Dica 4: Represente tudo num Boxplot."
      ]
    },
    {
      "cell_type": "code",
      "metadata": {
        "id": "fGnpIDmOhjNY"
      },
      "source": [
        "## Faça aqui\n",
        "\n",
        "# df.describe()\n",
        "\n",
        "# type(df['fare'])\n",
        "\n",
        "media_passagem = df.groupby('pclass')['fare'].mean()\n",
        "\n"
      ],
      "execution_count": 18,
      "outputs": []
    },
    {
      "cell_type": "markdown",
      "metadata": {
        "id": "IjGotln9hsTh"
      },
      "source": [
        "## 2. Ao assistir o filme Titanic uma cena memoravel é os tripulantes dando preferencia as mulheres e crianças.\n",
        "### Isso realmente aconteceu ou serve apenas para efeito dramatico no filme? Considere um adulto um homem ou mulher com idade igual ou superior a 18\n",
        "\n",
        "Dica 1: Calcule a média da idade dos passageiros que sobreviveram e dos que não.\n",
        "\n",
        "Dica 2: Calcule a variância da idade dos passageiros que sobreviveram e dos que não.\n",
        "\n",
        "Dica 3: Calcule a median da idade dos passageiros que sobreviveram e dos que não.\n",
        "\n",
        "Dica 5: Conte a quantidade de homem e mulheres que sobreviveram e morreram.\n",
        "\n",
        "Dica 6: A coluna \"survided\" possui a seguinte legenda  0 = não, 1 = sim."
      ]
    },
    {
      "cell_type": "code",
      "metadata": {
        "id": "JGkx2TLEhjkh"
      },
      "source": [
        "## Faça aqui\n"
      ],
      "execution_count": null,
      "outputs": []
    },
    {
      "cell_type": "markdown",
      "metadata": {
        "id": "2COXpIugiDvV"
      },
      "source": [
        "## 3. E uma conversa um colega deu a seguinte hipótese ao comprar sua passagem os passageiros do titanic pagaram uma tarifa diferente de acordo com as suas faixas etárias e a classe que haviam escolhido. \n",
        "\n",
        "### Mostre ao seu colega se a sua hipótese esta correta ou não."
      ]
    },
    {
      "cell_type": "code",
      "metadata": {
        "id": "n5bKoWxJiDvW"
      },
      "source": [
        "## Faça aqui\n"
      ],
      "execution_count": null,
      "outputs": []
    },
    {
      "cell_type": "markdown",
      "metadata": {
        "id": "RRhx3ZbkiDvW"
      },
      "source": [
        "## 4. Supondo que a chance de sobreviver ao naufrágio do titanic seja uma Survival Function. Qual seria a sua chance de sobreviver?\n",
        "\n",
        "Dica 1: Para o calculo de variância e média utilize os dados disponiveis"
      ]
    },
    {
      "cell_type": "code",
      "metadata": {
        "id": "TBqE_IijiDvX"
      },
      "source": [
        "## Faça aqui\n"
      ],
      "execution_count": null,
      "outputs": []
    },
    {
      "cell_type": "markdown",
      "metadata": {
        "id": "T1MCir2QwOuA"
      },
      "source": [
        "## 5. Os órfãos \n",
        "\n",
        "Em 1912, Michel Navratil viu-se sozinho com os filhos pela primeira vez desde o divórcio com a mãe dos garotos. Com uma oportunidade de ouro em mãos, ele decidiu fugir com os meninos, todos com nomes falsos, para o Novo Mundo — a bordo do Titanic.\n",
        "\n",
        "Na noite da colisão, o homem abandonou seu jogo de cartas para conseguir salvar seus filhos da tragédia. Com os pequenos num bote, ele olhou para Michel Jr. e Edmond, de quatro e dois anos, uma última vez antes de afundar sozinho nas águas congelantes.\n",
        "\n",
        "Os meninos, então, foram as únicas crianças resgatadas do navio sem a companhia de um responsável. Conhecidos como os “órfãos do Titanic”, sem falar o inglês e sob os nomes falsos de Louis e Lola, os pequenos só encontraram sua mãe depois de muitos meses. Mais tarde, Michel Jr. viveu até os 92 anos, enquanto Edmond morreu em 1953.\n",
        "\n",
        "### Essa é uma história  de um outlier, os pontos fora da curva, no titanic. Utilizando os dados disponiveis é possivel encontrar mais algum outlier?"
      ]
    },
    {
      "cell_type": "code",
      "metadata": {
        "id": "CzF_4yurwOuE"
      },
      "source": [
        "## Faça aqui\n"
      ],
      "execution_count": null,
      "outputs": []
    },
    {
      "cell_type": "markdown",
      "metadata": {
        "id": "CXXeQi03ez0f"
      },
      "source": [
        "## 6. Utilizando todos os seus dados disponiveis crie uma nova coluna chamada chance de sobrevivência e coloque em cada linha a chance de cada passageiro sobreviver de acordo com a SF. Considere que mais de 50% resulta em sobreviver.\n",
        "\n"
      ]
    },
    {
      "cell_type": "code",
      "metadata": {
        "id": "fbMQik5Pezef"
      },
      "source": [
        "## Faça aqui\n"
      ],
      "execution_count": null,
      "outputs": []
    },
    {
      "cell_type": "markdown",
      "metadata": {
        "id": "XKdSqpcAfn1G"
      },
      "source": [
        "## 7. Faça a análise da sua coluna com os dados reais.\n",
        "\n",
        "Foi possível prever?"
      ]
    },
    {
      "cell_type": "code",
      "metadata": {
        "id": "wFSnVHUPftY4"
      },
      "source": [
        "## Faça aqui\n"
      ],
      "execution_count": null,
      "outputs": []
    },
    {
      "cell_type": "markdown",
      "metadata": {
        "id": "NPmuIY8OgcD_"
      },
      "source": [
        "## Desafio - Utilize o F1 score para a sua analise anterior.\n",
        "[Link artigo da medium](https://medium.com/@vitorborbarodrigues/m%C3%A9tricas-de-avalia%C3%A7%C3%A3o-acur%C3%A1cia-precis%C3%A3o-recall-quais-as-diferen%C3%A7as-c8f05e0a513c)\n"
      ]
    },
    {
      "cell_type": "code",
      "metadata": {
        "id": "qvQ-jmskgbgJ"
      },
      "source": [
        "## Faça aqui\n"
      ],
      "execution_count": null,
      "outputs": []
    }
  ]
}