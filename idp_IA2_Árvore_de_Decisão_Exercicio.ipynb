{
 "cells": [
  {
   "cell_type": "markdown",
   "metadata": {
    "colab_type": "text",
    "id": "view-in-github"
   },
   "source": [
    "<a href=\"https://colab.research.google.com/github/LeodeFaria/IDP/blob/main/idp_IA2_%C3%81rvore_de_Decis%C3%A3o_Exercicio.ipynb\" target=\"_parent\"><img src=\"https://colab.research.google.com/assets/colab-badge.svg\" alt=\"Open In Colab\"/></a>"
   ]
  },
  {
   "cell_type": "markdown",
   "metadata": {
    "id": "7R24vPuIHG5-"
   },
   "source": [
    "\n",
    "# Árvore de Decisão - Exercicio"
   ]
  },
  {
   "cell_type": "markdown",
   "metadata": {
    "id": "4JhSlzNvHG6J"
   },
   "source": [
    "## Importando as bibliotecas\n"
   ]
  },
  {
   "cell_type": "code",
   "execution_count": 57,
   "metadata": {
    "colab": {
     "base_uri": "https://localhost:8080/"
    },
    "id": "bD-BzSCEHG6J",
    "outputId": "64b0a2f7-e327-4086-a391-1145669970c7"
   },
   "outputs": [
    {
     "name": "stdout",
     "output_type": "stream",
     "text": [
      "Requirement already satisfied: category_encoders in /Users/leodefaria/opt/anaconda3/lib/python3.8/site-packages (2.2.2)\n",
      "Requirement already satisfied: numpy>=1.14.0 in /Users/leodefaria/opt/anaconda3/lib/python3.8/site-packages (from category_encoders) (1.19.2)\n",
      "Requirement already satisfied: statsmodels>=0.9.0 in /Users/leodefaria/opt/anaconda3/lib/python3.8/site-packages (from category_encoders) (0.12.0)\n",
      "Requirement already satisfied: scipy>=1.0.0 in /Users/leodefaria/opt/anaconda3/lib/python3.8/site-packages (from category_encoders) (1.5.2)\n",
      "Requirement already satisfied: pandas>=0.21.1 in /Users/leodefaria/opt/anaconda3/lib/python3.8/site-packages (from category_encoders) (1.1.3)\n",
      "Requirement already satisfied: patsy>=0.5.1 in /Users/leodefaria/opt/anaconda3/lib/python3.8/site-packages (from category_encoders) (0.5.1)\n",
      "Requirement already satisfied: scikit-learn>=0.20.0 in /Users/leodefaria/opt/anaconda3/lib/python3.8/site-packages (from category_encoders) (0.23.2)\n",
      "Requirement already satisfied: python-dateutil>=2.7.3 in /Users/leodefaria/opt/anaconda3/lib/python3.8/site-packages (from pandas>=0.21.1->category_encoders) (2.8.1)\n",
      "Requirement already satisfied: pytz>=2017.2 in /Users/leodefaria/opt/anaconda3/lib/python3.8/site-packages (from pandas>=0.21.1->category_encoders) (2020.1)\n",
      "Requirement already satisfied: six in /Users/leodefaria/opt/anaconda3/lib/python3.8/site-packages (from patsy>=0.5.1->category_encoders) (1.15.0)\n",
      "Requirement already satisfied: joblib>=0.11 in /Users/leodefaria/opt/anaconda3/lib/python3.8/site-packages (from scikit-learn>=0.20.0->category_encoders) (0.17.0)\n",
      "Requirement already satisfied: threadpoolctl>=2.0.0 in /Users/leodefaria/opt/anaconda3/lib/python3.8/site-packages (from scikit-learn>=0.20.0->category_encoders) (2.1.0)\n"
     ]
    }
   ],
   "source": [
    "# import ipynb_autograde\n",
    "import numpy as np\n",
    "import pandas as pd\n",
    "import matplotlib.pyplot as plt \n",
    "import seaborn as sns\n",
    "%matplotlib inline\n",
    "import warnings\n",
    "\n",
    "warnings.filterwarnings('ignore')\n",
    "!pip install category_encoders\n",
    "\n",
    "from sklearn.preprocessing import LabelEncoder\n",
    "from sklearn.model_selection import train_test_split\n",
    "from sklearn.model_selection import KFold\n",
    "from sklearn import tree\n",
    "from sklearn.metrics import classification_report\n",
    "\n",
    "from IPython.display import Image as PImage\n",
    "from subprocess import check_call\n",
    "from PIL import Image, ImageDraw, ImageFont"
   ]
  },
  {
   "cell_type": "markdown",
   "metadata": {
    "id": "qDCuFL6mHG6K"
   },
   "source": [
    "## Importando dataset\n"
   ]
  },
  {
   "cell_type": "code",
   "execution_count": 58,
   "metadata": {
    "id": "nRrGXxwDHG6L"
   },
   "outputs": [],
   "source": [
    "data = 'https://raw.githubusercontent.com/4tune-ai/IDP/main/data/car_evaluation.csv'\n",
    "\n",
    "df = pd.read_csv(data, header=None)"
   ]
  },
  {
   "cell_type": "code",
   "execution_count": 59,
   "metadata": {
    "colab": {
     "base_uri": "https://localhost:8080/"
    },
    "id": "zVBxvWwLGEfQ",
    "outputId": "108badb1-930b-4259-b6fc-6361ecbf1ee3"
   },
   "outputs": [],
   "source": [
    "# Renomeando Colunas\n",
    "col_names = ['comprado', 'condicao', 'portas', 'passageiros', 'bagageiro', 'seguranca', 'classe']\n",
    "\n",
    "df.columns = col_names"
   ]
  },
  {
   "cell_type": "code",
   "execution_count": 60,
   "metadata": {},
   "outputs": [
    {
     "data": {
      "text/html": [
       "<div>\n",
       "<style scoped>\n",
       "    .dataframe tbody tr th:only-of-type {\n",
       "        vertical-align: middle;\n",
       "    }\n",
       "\n",
       "    .dataframe tbody tr th {\n",
       "        vertical-align: top;\n",
       "    }\n",
       "\n",
       "    .dataframe thead th {\n",
       "        text-align: right;\n",
       "    }\n",
       "</style>\n",
       "<table border=\"1\" class=\"dataframe\">\n",
       "  <thead>\n",
       "    <tr style=\"text-align: right;\">\n",
       "      <th></th>\n",
       "      <th>comprado</th>\n",
       "      <th>condicao</th>\n",
       "      <th>portas</th>\n",
       "      <th>passageiros</th>\n",
       "      <th>bagageiro</th>\n",
       "      <th>seguranca</th>\n",
       "      <th>classe</th>\n",
       "    </tr>\n",
       "  </thead>\n",
       "  <tbody>\n",
       "    <tr>\n",
       "      <th>0</th>\n",
       "      <td>vhigh</td>\n",
       "      <td>vhigh</td>\n",
       "      <td>2</td>\n",
       "      <td>2</td>\n",
       "      <td>small</td>\n",
       "      <td>low</td>\n",
       "      <td>unacc</td>\n",
       "    </tr>\n",
       "    <tr>\n",
       "      <th>1</th>\n",
       "      <td>vhigh</td>\n",
       "      <td>vhigh</td>\n",
       "      <td>2</td>\n",
       "      <td>2</td>\n",
       "      <td>small</td>\n",
       "      <td>med</td>\n",
       "      <td>unacc</td>\n",
       "    </tr>\n",
       "    <tr>\n",
       "      <th>2</th>\n",
       "      <td>vhigh</td>\n",
       "      <td>vhigh</td>\n",
       "      <td>2</td>\n",
       "      <td>2</td>\n",
       "      <td>small</td>\n",
       "      <td>high</td>\n",
       "      <td>unacc</td>\n",
       "    </tr>\n",
       "    <tr>\n",
       "      <th>3</th>\n",
       "      <td>vhigh</td>\n",
       "      <td>vhigh</td>\n",
       "      <td>2</td>\n",
       "      <td>2</td>\n",
       "      <td>med</td>\n",
       "      <td>low</td>\n",
       "      <td>unacc</td>\n",
       "    </tr>\n",
       "    <tr>\n",
       "      <th>4</th>\n",
       "      <td>vhigh</td>\n",
       "      <td>vhigh</td>\n",
       "      <td>2</td>\n",
       "      <td>2</td>\n",
       "      <td>med</td>\n",
       "      <td>med</td>\n",
       "      <td>unacc</td>\n",
       "    </tr>\n",
       "  </tbody>\n",
       "</table>\n",
       "</div>"
      ],
      "text/plain": [
       "  comprado condicao portas passageiros bagageiro seguranca classe\n",
       "0    vhigh    vhigh      2           2     small       low  unacc\n",
       "1    vhigh    vhigh      2           2     small       med  unacc\n",
       "2    vhigh    vhigh      2           2     small      high  unacc\n",
       "3    vhigh    vhigh      2           2       med       low  unacc\n",
       "4    vhigh    vhigh      2           2       med       med  unacc"
      ]
     },
     "execution_count": 60,
     "metadata": {},
     "output_type": "execute_result"
    }
   ],
   "source": [
    "df.head()"
   ]
  },
  {
   "cell_type": "markdown",
   "metadata": {
    "id": "lQAXk2p-GMKw"
   },
   "source": [
    "# Preprocessing"
   ]
  },
  {
   "cell_type": "code",
   "execution_count": 72,
   "metadata": {
    "id": "8oGvC2KyGOKP"
   },
   "outputs": [
    {
     "name": "stdout",
     "output_type": "stream",
     "text": [
      "<class 'pandas.core.frame.DataFrame'>\n",
      "RangeIndex: 1728 entries, 0 to 1727\n",
      "Data columns (total 7 columns):\n",
      " #   Column       Non-Null Count  Dtype\n",
      "---  ------       --------------  -----\n",
      " 0   comprado     1728 non-null   int64\n",
      " 1   condicao     1728 non-null   int64\n",
      " 2   portas       1728 non-null   int64\n",
      " 3   passageiros  1728 non-null   int64\n",
      " 4   bagageiro    1728 non-null   int64\n",
      " 5   seguranca    1728 non-null   int64\n",
      " 6   classe       1728 non-null   int64\n",
      "dtypes: int64(7)\n",
      "memory usage: 94.6 KB\n"
     ]
    }
   ],
   "source": [
    "etiquetas = LabelEncoder()\n",
    "\n",
    "df_final = df.copy()\n",
    "\n",
    "\n",
    "df.loc[df.comprado=='low','comprado']=0\n",
    "df.loc[df.comprado=='med','comprado']=0\n",
    "df.loc[df.comprado=='high','comprado']=1\n",
    "df.loc[df.comprado=='vhigh','comprado']=1\n",
    "\n",
    "df_final['comprado']    = etiquetas.fit_transform(df_final['comprado'])\n",
    "df_final['condicao']    = etiquetas.fit_transform(df_final['condicao'])\n",
    "df_final['portas']      = etiquetas.fit_transform(df_final['portas'])\n",
    "df_final['passageiros'] = etiquetas.fit_transform(df_final['passageiros'])\n",
    "df_final['bagageiro']   = etiquetas.fit_transform(df_final['bagageiro'])\n",
    "df_final['seguranca']   = etiquetas.fit_transform(df_final['seguranca'])\n",
    "df_final['classe']      = etiquetas.fit_transform(df_final['classe'])\n",
    "df_final.info()"
   ]
  },
  {
   "cell_type": "markdown",
   "metadata": {
    "id": "UomvNyrnGOWv"
   },
   "source": [
    "# Data Visualizing"
   ]
  },
  {
   "cell_type": "code",
   "execution_count": 73,
   "metadata": {
    "id": "v_XEYy7gGRcn"
   },
   "outputs": [
    {
     "data": {
      "image/png": "[encoded data removed]",
      "text/plain": [
       "<Figure size 864x720 with 2 Axes>"
      ]
     },
     "metadata": {},
     "output_type": "display_data"
    }
   ],
   "source": [
    "colormap = plt.cm.viridis\n",
    "plt.figure(figsize=(12,10))\n",
    "sns.heatmap(df_final.corr(),cmap = colormap,annot=True,linewidths=0.1,square=True,linecolor='white',vmax=1.0)\n",
    "plt.show()"
   ]
  },
  {
   "cell_type": "markdown",
   "metadata": {
    "id": "gYdYVytrGRvq"
   },
   "source": [
    "# Decision Tree Classifier"
   ]
  },
  {
   "cell_type": "code",
   "execution_count": 74,
   "metadata": {
    "id": "kkw870VqGWtf"
   },
   "outputs": [],
   "source": [
    "X = df_final.drop('comprado',axis=1)\n",
    "y = df_final['comprado']\n",
    "\n",
    "X_treino, X_teste, y_treino, y_teste = train_test_split(X,y,train_size=0.7,random_state=42)"
   ]
  },
  {
   "cell_type": "code",
   "execution_count": 75,
   "metadata": {},
   "outputs": [],
   "source": [
    "treino, teste = train_test_split(df_final, test_size=0.2, random_state=42, shuffle=True)\n",
    "\n",
    "# o cv não funciona se não tiver um indice ok\n",
    "treino.reset_index(drop = True,inplace = True)\n",
    "teste.reset_index(drop = True, inplace = True)"
   ]
  },
  {
   "cell_type": "code",
   "execution_count": 76,
   "metadata": {},
   "outputs": [
    {
     "data": {
      "text/html": [
       "<div>\n",
       "<style scoped>\n",
       "    .dataframe tbody tr th:only-of-type {\n",
       "        vertical-align: middle;\n",
       "    }\n",
       "\n",
       "    .dataframe tbody tr th {\n",
       "        vertical-align: top;\n",
       "    }\n",
       "\n",
       "    .dataframe thead th {\n",
       "        text-align: right;\n",
       "    }\n",
       "</style>\n",
       "<table border=\"1\" class=\"dataframe\">\n",
       "  <thead>\n",
       "    <tr style=\"text-align: right;\">\n",
       "      <th></th>\n",
       "      <th>comprado</th>\n",
       "      <th>condicao</th>\n",
       "      <th>portas</th>\n",
       "      <th>passageiros</th>\n",
       "      <th>bagageiro</th>\n",
       "      <th>seguranca</th>\n",
       "      <th>classe</th>\n",
       "    </tr>\n",
       "  </thead>\n",
       "  <tbody>\n",
       "    <tr>\n",
       "      <th>0</th>\n",
       "      <td>1</td>\n",
       "      <td>3</td>\n",
       "      <td>3</td>\n",
       "      <td>2</td>\n",
       "      <td>0</td>\n",
       "      <td>0</td>\n",
       "      <td>2</td>\n",
       "    </tr>\n",
       "    <tr>\n",
       "      <th>1</th>\n",
       "      <td>0</td>\n",
       "      <td>3</td>\n",
       "      <td>1</td>\n",
       "      <td>1</td>\n",
       "      <td>2</td>\n",
       "      <td>2</td>\n",
       "      <td>2</td>\n",
       "    </tr>\n",
       "    <tr>\n",
       "      <th>2</th>\n",
       "      <td>0</td>\n",
       "      <td>1</td>\n",
       "      <td>3</td>\n",
       "      <td>0</td>\n",
       "      <td>0</td>\n",
       "      <td>0</td>\n",
       "      <td>2</td>\n",
       "    </tr>\n",
       "    <tr>\n",
       "      <th>3</th>\n",
       "      <td>1</td>\n",
       "      <td>2</td>\n",
       "      <td>2</td>\n",
       "      <td>0</td>\n",
       "      <td>1</td>\n",
       "      <td>2</td>\n",
       "      <td>2</td>\n",
       "    </tr>\n",
       "    <tr>\n",
       "      <th>4</th>\n",
       "      <td>1</td>\n",
       "      <td>2</td>\n",
       "      <td>1</td>\n",
       "      <td>0</td>\n",
       "      <td>1</td>\n",
       "      <td>1</td>\n",
       "      <td>2</td>\n",
       "    </tr>\n",
       "  </tbody>\n",
       "</table>\n",
       "</div>"
      ],
      "text/plain": [
       "   comprado  condicao  portas  passageiros  bagageiro  seguranca  classe\n",
       "0         1         3       3            2          0          0       2\n",
       "1         0         3       1            1          2          2       2\n",
       "2         0         1       3            0          0          0       2\n",
       "3         1         2       2            0          1          2       2\n",
       "4         1         2       1            0          1          1       2"
      ]
     },
     "execution_count": 76,
     "metadata": {},
     "output_type": "execute_result"
    }
   ],
   "source": [
    "treino.head()"
   ]
  },
  {
   "cell_type": "code",
   "execution_count": 77,
   "metadata": {},
   "outputs": [
    {
     "name": "stdout",
     "output_type": "stream",
     "text": [
      " Nível Máximo  Acuracia Média\n",
      "            1        0.525373\n",
      "            2        0.572432\n",
      "            3        0.572427\n",
      "            4        0.596992\n",
      "            5        0.620811\n",
      "            6        0.594844\n",
      "            7        0.590481\n"
     ]
    }
   ],
   "source": [
    "cv = KFold(n_splits=10)   \n",
    "\n",
    "acuracia = list()\n",
    "max_atributos = len(list(df_final))\n",
    "profundidade = range(1, max_atributos + 1)\n",
    "\n",
    "for nivel in profundidade:\n",
    "    nivel_acuracia = []\n",
    "    arvore = tree.DecisionTreeClassifier(max_depth = nivel)\n",
    "    for nivel_treino, nivel_valido in cv.split(treino):\n",
    "        f_treino = treino.loc[nivel_treino] \n",
    "        f_valido = treino.loc[nivel_valido] \n",
    "\n",
    "        modelo = arvore.fit(X = f_treino.drop(['comprado'], axis=1),\n",
    "                            y = f_treino[\"comprado\"]) \n",
    "        acc_valida = modelo.score(X = f_valido.drop(['comprado'], axis=1),\n",
    "                                  y = f_valido[\"comprado\"])\n",
    "        nivel_acuracia.append(acc_valida)\n",
    "\n",
    "    avg = sum(nivel_acuracia)/len(nivel_acuracia)\n",
    "    acuracia.append(avg)\n",
    "    \n",
    "# Resultados \n",
    "df_arvore = pd.DataFrame({\"Nível Máximo\": profundidade, \"Acuracia Média\": acuracia})\n",
    "df_arvore = df_arvore[[\"Nível Máximo\", \"Acuracia Média\"]]\n",
    "print(df_arvore.to_string(index=False))"
   ]
  },
  {
   "cell_type": "code",
   "execution_count": 78,
   "metadata": {},
   "outputs": [
    {
     "data": {
      "text/html": [
       "<div>\n",
       "<style scoped>\n",
       "    .dataframe tbody tr th:only-of-type {\n",
       "        vertical-align: middle;\n",
       "    }\n",
       "\n",
       "    .dataframe tbody tr th {\n",
       "        vertical-align: top;\n",
       "    }\n",
       "\n",
       "    .dataframe thead th {\n",
       "        text-align: right;\n",
       "    }\n",
       "</style>\n",
       "<table border=\"1\" class=\"dataframe\">\n",
       "  <thead>\n",
       "    <tr style=\"text-align: right;\">\n",
       "      <th></th>\n",
       "      <th>Comprado</th>\n",
       "      <th>Previsão</th>\n",
       "    </tr>\n",
       "  </thead>\n",
       "  <tbody>\n",
       "    <tr>\n",
       "      <th>599</th>\n",
       "      <td>1</td>\n",
       "      <td>0</td>\n",
       "    </tr>\n",
       "    <tr>\n",
       "      <th>1201</th>\n",
       "      <td>0</td>\n",
       "      <td>1</td>\n",
       "    </tr>\n",
       "    <tr>\n",
       "      <th>628</th>\n",
       "      <td>1</td>\n",
       "      <td>0</td>\n",
       "    </tr>\n",
       "    <tr>\n",
       "      <th>1498</th>\n",
       "      <td>0</td>\n",
       "      <td>0</td>\n",
       "    </tr>\n",
       "    <tr>\n",
       "      <th>1263</th>\n",
       "      <td>0</td>\n",
       "      <td>1</td>\n",
       "    </tr>\n",
       "  </tbody>\n",
       "</table>\n",
       "</div>"
      ],
      "text/plain": [
       "      Comprado  Previsão\n",
       "599          1         0\n",
       "1201         0         1\n",
       "628          1         0\n",
       "1498         0         0\n",
       "1263         0         1"
      ]
     },
     "execution_count": 78,
     "metadata": {},
     "output_type": "execute_result"
    }
   ],
   "source": [
    "# Arrays Numpy p/ treino, teste and alvo (comprado) p/ modelo\n",
    "\n",
    "niveis = 5\n",
    "\n",
    "# Criando Arvore de Decisao com 5 níveis - melhor resultado bloco anterior\n",
    "arvore_decisao = tree.DecisionTreeClassifier(max_depth = niveis)\n",
    "arvore_decisao.fit(X_treino, y_treino)\n",
    "\n",
    "# Predicting results for test dataset\n",
    "y_predicao = arvore_decisao.predict(X_teste)\n",
    "submetido = pd.DataFrame({\n",
    "    \"Comprado\":y_teste,\n",
    "    \"Previsão\":y_predicao\n",
    "    })\n",
    "submetido.head()"
   ]
  },
  {
   "cell_type": "code",
   "execution_count": 91,
   "metadata": {},
   "outputs": [
    {
     "ename": "PermissionError",
     "evalue": "[Errno 13] Permission denied: './'",
     "output_type": "error",
     "traceback": [
      "Traceback \u001b[0;36m(most recent call last)\u001b[0m:\n",
      "  File \u001b[1;32m\"<ipython-input-91-e04f1946b6ac>\"\u001b[0m, line \u001b[1;32m16\u001b[0m, in \u001b[1;35m<module>\u001b[0m\n    check_call(['./','-Tpng','tree1.dot','-o','tree1.png'])\n",
      "  File \u001b[1;32m\"/Users/leodefaria/opt/anaconda3/lib/python3.8/subprocess.py\"\u001b[0m, line \u001b[1;32m359\u001b[0m, in \u001b[1;35mcheck_call\u001b[0m\n    retcode = call(*popenargs, **kwargs)\n",
      "  File \u001b[1;32m\"/Users/leodefaria/opt/anaconda3/lib/python3.8/subprocess.py\"\u001b[0m, line \u001b[1;32m340\u001b[0m, in \u001b[1;35mcall\u001b[0m\n    with Popen(*popenargs, **kwargs) as p:\n",
      "  File \u001b[1;32m\"/Users/leodefaria/opt/anaconda3/lib/python3.8/subprocess.py\"\u001b[0m, line \u001b[1;32m854\u001b[0m, in \u001b[1;35m__init__\u001b[0m\n    self._execute_child(args, executable, preexec_fn, close_fds,\n",
      "\u001b[0;36m  File \u001b[0;32m\"/Users/leodefaria/opt/anaconda3/lib/python3.8/subprocess.py\"\u001b[0;36m, line \u001b[0;32m1702\u001b[0;36m, in \u001b[0;35m_execute_child\u001b[0;36m\u001b[0m\n\u001b[0;31m    raise child_exception_type(errno_num, err_msg, err_filename)\u001b[0m\n",
      "\u001b[0;31mPermissionError\u001b[0m\u001b[0;31m:\u001b[0m [Errno 13] Permission denied: './'\n"
     ]
    }
   ],
   "source": [
    "# Criação dos arquivos\n",
    "submetido.to_csv('submission.csv', index=False)\n",
    "\n",
    "# Export our trained model as a .dot file\n",
    "with open(\"tree1.dot\", 'w') as f:\n",
    "     f = tree.export_graphviz(arvore_decisao,\n",
    "                              out_file=f,\n",
    "                              max_depth = niveis,\n",
    "                              impurity = True,\n",
    "                              feature_names = list(treino.drop(['comprado'], axis=1)),\n",
    "                              class_names = ['Nao', 'Sim'],\n",
    "                              rounded = True,\n",
    "                              filled= True )\n",
    "        \n",
    "#Convert .dot to .png to allow display in web notebook\n",
    "check_call(['./','-Tpng','tree1.dot','-o','tree1.png'])\n",
    "#nao funcionou, fiz a conversao na mao.\n",
    "\n",
    "# Annotating chart with PIL\n",
    "img = Image.open(\"tree1.png\")\n",
    "draw = ImageDraw.Draw(img)\n",
    "font = ImageFont.truetype('/usr/share/fonts/truetype/liberation/LiberationSerif-Bold.ttf', 26)\n",
    "draw.text((10, 0), # Drawing offset (position)\n",
    "          'Não faço ideia do que seja isso', # Text to draw\n",
    "          (0,0,255), # RGB desired color\n",
    "          font=font) # ImageFont object with desired font\n",
    "img.save('sample-out.png')\n",
    "PImage(\"sample-out.png\")"
   ]
  },
  {
   "cell_type": "code",
   "execution_count": 85,
   "metadata": {},
   "outputs": [
    {
     "name": "stdout",
     "output_type": "stream",
     "text": [
      "              precision    recall  f1-score   support\n",
      "\n",
      "           0       0.59      0.59      0.59       259\n",
      "           1       0.59      0.59      0.59       260\n",
      "\n",
      "    accuracy                           0.59       519\n",
      "   macro avg       0.59      0.59      0.59       519\n",
      "weighted avg       0.59      0.59      0.59       519\n",
      "\n"
     ]
    }
   ],
   "source": [
    "print(classification_report(y_teste,y_predicao))"
   ]
  },
  {
   "cell_type": "code",
   "execution_count": null,
   "metadata": {},
   "outputs": [],
   "source": []
  }
 ],
 "metadata": {
  "colab": {
   "include_colab_link": true,
   "name": "idp - IA2 - Árvore de Decisão - Exercicio.ipynb",
   "provenance": []
  },
  "kernelspec": {
   "display_name": "Python 3 (Spyder)",
   "language": "python3",
   "name": "python3"
  },
  "language_info": {
   "codemirror_mode": {
    "name": "ipython",
    "version": 3
   },
   "file_extension": ".py",
   "mimetype": "text/x-python",
   "name": "python",
   "nbconvert_exporter": "python",
   "pygments_lexer": "ipython3",
   "version": "3.8.5"
  }
 },
 "nbformat": 4,
 "nbformat_minor": 4
}
