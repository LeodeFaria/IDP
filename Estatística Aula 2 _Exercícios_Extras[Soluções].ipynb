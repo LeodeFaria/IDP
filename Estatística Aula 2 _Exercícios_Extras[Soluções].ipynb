{
  "nbformat": 4,
  "nbformat_minor": 0,
  "metadata": {
    "colab": {
      "name": "[Soluções] - 2 Aula de Estatística - Exercícios Extras.ipynb",
      "provenance": [],
      "collapsed_sections": []
    },
    "kernelspec": {
      "name": "python3",
      "display_name": "Python 3"
    },
    "language_info": {
      "name": "python"
    }
  },
  "cells": [
    {
      "cell_type": "markdown",
      "metadata": {
        "id": "LuTuuvoH1r6C"
      },
      "source": [
        "# Exercícios Extras\n",
        "\n"
      ]
    },
    {
      "cell_type": "code",
      "metadata": {
        "id": "oi4SWpArezYC"
      },
      "source": [
        "#@title Init Cell - Execute-me!!!\n",
        "import sys\n",
        "from datetime import datetime\n",
        "import requests\n",
        "import time\n",
        "from requests.utils import quote\n",
        "url = 'https://docs.google.com/forms/d/e/1FAIpQLSebn3-Y5ICQoStAW49xYB3lkd87FyKcfdfu6QxsVzahOw8CMA/formResponse?usp=pp_url&entry.346515457=mbaidp&entry.1423913446=2021&entry.1225936334=EstatisticaAplicadaPython'\n",
        "\n",
        "def format_values(values):\n",
        "    return {\n",
        "        \"entry.1228263462\": values['student_id'],\n",
        "        \"entry.14389688\": str(values['exercise_number']).replace(\".\", \"_\"),\n",
        "        \"entry.1427055401\": values['exercise_score'],\n",
        "        \"entry.967700948\": values['exercise_extra'],\n",
        "        \"entry.517103524\": values['id']\n",
        "    }\n",
        "\n",
        "def send_attendance(url, data):\n",
        "    count = 0\n",
        "    while count < 3:\n",
        "        count += 1\n",
        "        try:\n",
        "          r = requests.post(url, data=data)\n",
        "          break\n",
        "        except:\n",
        "          print(\"Error Occured!\")\n",
        "          time.sleep(2)\n",
        "\n",
        "def validate(current_question_output, exercise_number, exercise_extra):\n",
        "  student_email=!gcloud config get-value account\n",
        "  if not student_email or 'unset' in student_email[0]:\n",
        "    !gcloud auth login\n",
        "    student_email=!gcloud config get-value account\n",
        "  \n",
        "  if current_question_output:\n",
        "      exercise_score = True\n",
        "      print(\"Parabéns\")\n",
        "  else:\n",
        "      exercise_score = False\n",
        "      print(\"Resposta incorreta.\")\n",
        "  values = {\"exercise_number\": exercise_number, \"student_id\": student_email[0],\n",
        "            \"exercise_points\": 1, \"exercise_score\": exercise_score, \n",
        "            \"exercise_extra\": exercise_extra,\n",
        "            \"id\": f\"{student_email[0]}_{exercise_number}\"}\n",
        "  final_data = format_values(values)\n",
        "  send_attendance(f\"{url}&emailAddress={quote(str(student_email[0]))}\", final_data)"
      ],
      "execution_count": null,
      "outputs": []
    },
    {
      "cell_type": "markdown",
      "metadata": {
        "id": "Xk-2ub0fxRAi"
      },
      "source": [
        "# Início\n"
      ]
    },
    {
      "cell_type": "code",
      "metadata": {
        "id": "XQ4wNz7psDtd"
      },
      "source": [
        "# Link com os csv's a serem utilizado\n",
        "# https://drive.google.com/drive/folders/19w8qyyOp4N8GgQ8_s5cRKf0cRa2ZqOUZ?usp=sharing\n",
        "\n",
        "# importando pandas e numpy\n",
        "import pandas as pd\n",
        "import numpy as np\n",
        "state = pd.read_csv(STATE_CSV)\n",
        "\n",
        "# Lembre sempre printe a base de dados para entender como ela é organizada"
      ],
      "execution_count": null,
      "outputs": []
    },
    {
      "cell_type": "markdown",
      "metadata": {
        "id": "_pxUOVww6-Eq"
      },
      "source": [
        "## 2.1 Calcule a média da população dos estados (state.csv)"
      ]
    },
    {
      "cell_type": "code",
      "metadata": {
        "id": "ESl3EpxE-fPB"
      },
      "source": [
        "  def media_populacao():\n",
        "    ### BEGIN SOLUTION\n",
        "    mean = state['Population'].mean()\n",
        "    ### END SOLUTION\n",
        "    return mean"
      ],
      "execution_count": null,
      "outputs": []
    },
    {
      "cell_type": "code",
      "metadata": {
        "id": "fGnpIDmOhjNY"
      },
      "source": [
        "## Faça seus testes aqui\n"
      ],
      "execution_count": null,
      "outputs": []
    },
    {
      "cell_type": "code",
      "metadata": {
        "id": "GEBkwzMDhkNg"
      },
      "source": [
        "# Validação\n",
        "resultado = media_populacao() == 6162876.3\n",
        "current_question_output = resultado\n",
        "validate(current_question_output, \"2.1\", True)"
      ],
      "execution_count": null,
      "outputs": []
    },
    {
      "cell_type": "markdown",
      "metadata": {
        "id": "IjGotln9hsTh"
      },
      "source": [
        "## 2.2 Calcule a mediana da população dos estados (state.csv)"
      ]
    },
    {
      "cell_type": "code",
      "metadata": {
        "id": "wpSw6Rd8hYrj"
      },
      "source": [
        "  def mediana_populacao():\n",
        "    ### BEGIN SOLUTION\n",
        "    median = state['Population'].median()\n",
        "    ### END SOLUTION\n",
        "    return median"
      ],
      "execution_count": null,
      "outputs": []
    },
    {
      "cell_type": "code",
      "metadata": {
        "id": "JGkx2TLEhjkh"
      },
      "source": [
        "## Faça seus testes aqui"
      ],
      "execution_count": null,
      "outputs": []
    },
    {
      "cell_type": "code",
      "metadata": {
        "id": "eQvPYudUhkry"
      },
      "source": [
        "# Validação\n",
        "resultado = mediana_populacao() == 4436369.5\n",
        "current_question_output = resultado\n",
        "validate(current_question_output, \"2.2\", True)"
      ],
      "execution_count": null,
      "outputs": []
    },
    {
      "cell_type": "markdown",
      "metadata": {
        "id": "2COXpIugiDvV"
      },
      "source": [
        "## 2.3 Calcule a média(mean) das taxas assassinatos nos estados (state.csv)\n"
      ]
    },
    {
      "cell_type": "code",
      "metadata": {
        "id": "jyJShXFxiDvW"
      },
      "source": [
        "def media_assassinatos():\n",
        "    ### BEGIN SOLUTION\n",
        "    mean = state['Murder.Rate'].mean()\n",
        "    ### END SOLUTION\n",
        "    return mean"
      ],
      "execution_count": null,
      "outputs": []
    },
    {
      "cell_type": "code",
      "metadata": {
        "id": "n5bKoWxJiDvW"
      },
      "source": [
        "## Faça seus testes aqui"
      ],
      "execution_count": null,
      "outputs": []
    },
    {
      "cell_type": "code",
      "metadata": {
        "id": "lpp-C90GiDvW"
      },
      "source": [
        "# Validação\n",
        "resultado = media_assassinatos() == 4.066\n",
        "current_question_output = resultado\n",
        "validate(current_question_output, \"2.3\", True)"
      ],
      "execution_count": null,
      "outputs": []
    },
    {
      "cell_type": "markdown",
      "metadata": {
        "id": "RRhx3ZbkiDvW"
      },
      "source": [
        "## 2.4 Calcule a média(mean) de assassinatos levando em consideração o peso da população dos estados (state.csv)\n",
        "\n",
        "Pesquise sobre o parametro weights da biblioteca nump da função np.average"
      ]
    },
    {
      "cell_type": "code",
      "metadata": {
        "id": "GGtmISXbiDvX"
      },
      "source": [
        "def media_assassinatos_estado():\n",
        "    ### BEGIN SOLUTION\n",
        "    average = np.average(state['Murder.Rate'], weights=state['Population'])\n",
        "    ### END SOLUTION\n",
        "    return average "
      ],
      "execution_count": null,
      "outputs": []
    },
    {
      "cell_type": "code",
      "metadata": {
        "id": "TBqE_IijiDvX"
      },
      "source": [
        "## Faça seus testes aqui"
      ],
      "execution_count": null,
      "outputs": []
    },
    {
      "cell_type": "code",
      "metadata": {
        "id": "GQAM4ymciDvX"
      },
      "source": [
        "# Validação\n",
        "resultado = media_assassinatos_estado() == 4.445833981123393\n",
        "current_question_output = resultado\n",
        "validate(current_question_output, \"2.4\", True)"
      ],
      "execution_count": null,
      "outputs": []
    },
    {
      "cell_type": "markdown",
      "metadata": {
        "id": "ozAKQTwVjXBE"
      },
      "source": [
        "## 2.5 Calcule o desvio padrão da população (state.csv)"
      ]
    },
    {
      "cell_type": "code",
      "metadata": {
        "id": "CPd2_tUpjVXt"
      },
      "source": [
        "def populacao_desvio_padrao():\n",
        "    ### BEGIN SOLUTION\n",
        "    std = state['Population'].std()\n",
        "    ### END SOLUTION\n",
        "    return std"
      ],
      "execution_count": null,
      "outputs": []
    },
    {
      "cell_type": "code",
      "metadata": {
        "id": "dxXTnCVejVu8"
      },
      "source": [
        "## Faça seus testes aqui\n",
        "\n"
      ],
      "execution_count": null,
      "outputs": []
    },
    {
      "cell_type": "code",
      "metadata": {
        "id": "uhBU98ucjV1_"
      },
      "source": [
        "# Validação\n",
        "resultado = populacao_desvio_padrao() == 6848235.347401142\n",
        "current_question_output = resultado\n",
        "validate(current_question_output, \"2.5\", True)"
      ],
      "execution_count": null,
      "outputs": []
    },
    {
      "cell_type": "markdown",
      "metadata": {
        "id": "T1MCir2QwOuA"
      },
      "source": [
        "## 2.6 Calcule a Amplitude interquartil da população (state.csv)\n",
        "Ele é calculado como a diferença do quantil 75% e 25% (75% - 25%)"
      ]
    },
    {
      "cell_type": "code",
      "metadata": {
        "id": "sN4G5NuLwOuD"
      },
      "source": [
        "def amplitude_interquartil():\n",
        "    ### BEGIN SOLUTION\n",
        "    interquartile = state['Population'].quantile(0.75) - state['Population'].quantile(0.25))\n",
        "    ### END SOLUTION\n",
        "    return interquartile"
      ],
      "execution_count": null,
      "outputs": []
    },
    {
      "cell_type": "code",
      "metadata": {
        "id": "CzF_4yurwOuE"
      },
      "source": [
        "## Faça seus testes aqui\n",
        "\n"
      ],
      "execution_count": null,
      "outputs": []
    },
    {
      "cell_type": "code",
      "metadata": {
        "id": "XTVJd_FawOuE"
      },
      "source": [
        "# Validação\n",
        "resultado = amplitude_interquartil() == 4847308.0\n",
        "current_question_output = resultado\n",
        "validate(current_question_output, \"2.6\", True)"
      ],
      "execution_count": null,
      "outputs": []
    },
    {
      "cell_type": "markdown",
      "metadata": {
        "id": "sTpmzLJ0wtej"
      },
      "source": [
        "## 2.7 Calcule o Desvio absoluto mediano da população (state.csv)"
      ]
    },
    {
      "cell_type": "code",
      "metadata": {
        "id": "zuUMGih1wtek"
      },
      "source": [
        "def desvio_absoluto_mediano():\n",
        "    ### BEGIN SOLUTION\n",
        "    medians = df['Population'].median()\n",
        "    state_population = df['Population']\n",
        "    result = abs(state_population - medians)\n",
        "    result.median()\n",
        "    ### END SOLUTION\n",
        "    return result.median()"
      ],
      "execution_count": null,
      "outputs": []
    },
    {
      "cell_type": "code",
      "metadata": {
        "id": "1susJC0Ywtek"
      },
      "source": [
        "## Faça seus testes aqui\n",
        "\n"
      ],
      "execution_count": null,
      "outputs": []
    },
    {
      "cell_type": "code",
      "metadata": {
        "id": "6GlMPYqWwtel"
      },
      "source": [
        "# Validação\n",
        "resultado = desvio_absoluto_mediano() == 2596702.0\n",
        "current_question_output = resultado\n",
        "validate(current_question_output, \"2.7\", True)"
      ],
      "execution_count": null,
      "outputs": []
    },
    {
      "cell_type": "code",
      "metadata": {
        "id": "lWjdm73_xKny"
      },
      "source": [
        ""
      ],
      "execution_count": null,
      "outputs": []
    },
    {
      "cell_type": "markdown",
      "metadata": {
        "id": "OKQmU5ttxKu0"
      },
      "source": [
        "## 2.8 Calcule o quantil 5%, 25%, 50%, 75% e 95% da quantidade de assassinatos  (state.csv)\n",
        "Dica utilize o ['Murder.Rate']"
      ]
    },
    {
      "cell_type": "code",
      "metadata": {
        "id": "AOtIyAOHxKu1"
      },
      "source": [
        "def quantil():\n",
        "    ### BEGIN SOLUTION\n",
        "    quantile = state['Murder.Rate'].quantile([0.05, 0.25, 0.5, 0.75, 0.95])\n",
        "    ### END SOLUTION\n",
        "    return quantile"
      ],
      "execution_count": null,
      "outputs": []
    },
    {
      "cell_type": "code",
      "metadata": {
        "id": "z3YcwIjHxKu1"
      },
      "source": [
        "## Faça seus testes aqui\n",
        "\n",
        "\n",
        "# Resultado esperado\n",
        "# 0.05    1.600\n",
        "# 0.25    2.425\n",
        "# 0.50    4.000\n",
        "# 0.75    5.550\n",
        "# 0.95    6.510\n",
        "# Name: Murder.Rate, dtype: float64"
      ],
      "execution_count": null,
      "outputs": []
    },
    {
      "cell_type": "code",
      "metadata": {
        "id": "zgWg0su1xKu1"
      },
      "source": [
        "# Validação\n",
        "resultado = quantil()\n",
        "asd_resultado = {0.05:1.600 , 0.25:2.425, 0.50:4.000, 0.75:5.550, 0.95:6.510}\n",
        "asd_resultado = pd.Series(data=asd_resultado, name='Murder.Rate')\n",
        "asd_resultado = asd_resultado.astype(np.int)\n",
        "resultado = resultado.astype(np.int)\n",
        "current_question_output = np.array_equal(asd_resultado.values, resultado.values)\n",
        "validate(current_question_output, \"2.8\", True)"
      ],
      "execution_count": null,
      "outputs": []
    },
    {
      "cell_type": "markdown",
      "metadata": {
        "id": "tKRad8mm30QP"
      },
      "source": [
        "## 2.9 Divida o seu dataset em 10 partes iguais e retorne a contagem de cada intervalos (state.csv)\n",
        "Dica utilize value_counts() para o retorno"
      ]
    },
    {
      "cell_type": "code",
      "metadata": {
        "id": "s9mAhfqG30QR"
      },
      "source": [
        "def partes():\n",
        "    ### BEGIN SOLUTION\n",
        "    binnedPopulation = pd.cut(state['Population'], 10)\n",
        "    ### END SOLUTION\n",
        "    return binnedPopulation.value_counts()"
      ],
      "execution_count": null,
      "outputs": []
    },
    {
      "cell_type": "code",
      "metadata": {
        "id": "nNzWJGkG30QR"
      },
      "source": [
        "## Faça seus testes aqui\n",
        "\n",
        "\n",
        "\n",
        "# Resultado esperado\n",
        "# (526935.67, 4232659.0]      24\n",
        "# (4232659.0, 7901692.0]      14\n",
        "# (7901692.0, 11570725.0]      6\n",
        "# (11570725.0, 15239758.0]     2\n",
        "# (15239758.0, 18908791.0]     1\n",
        "# (18908791.0, 22577824.0]     1\n",
        "# (22577824.0, 26246857.0]     1\n",
        "# (33584923.0, 37253956.0]     1\n",
        "# (26246857.0, 29915890.0]     0\n",
        "# (29915890.0, 33584923.0]     0\n",
        "# Name: Population, dtype: int64"
      ],
      "execution_count": null,
      "outputs": []
    },
    {
      "cell_type": "code",
      "metadata": {
        "id": "8lM2Zgwf30QS"
      },
      "source": [
        "# Validação\n",
        "resultado = partes()\n",
        "asd_resultado = { \n",
        "pd.Interval(left=526935.67, right=4232659.0):24, \n",
        "pd.Interval(left=4232659.0, right=7901692.0):14, \n",
        "pd.Interval(left=7901692.0, right=11570725.0):6,\n",
        "pd.Interval(left=11570725.0, right=15239758.0):2,\n",
        "pd.Interval(left=33584923.0, right=37253956.0):1,\n",
        "pd.Interval(left=22577824.0, right=22577824.0):1, \n",
        "pd.Interval(left=18908791.0, right=18908791.0):1,  \n",
        "pd.Interval(left=15239758.0, right=18908791.0):1,\n",
        "pd.Interval(left=29915890.0, right=33584923.0):0,\n",
        "pd.Interval(left=26246857.0, right=29915890.0):0}\n",
        "asd_resultado = pd.Series(data=asd_resultado, name='Population')\n",
        "current_question_output = np.array_equal(asd_resultado.values, resultado.values)\n",
        "validate(current_question_output, \"2.9\", True)"
      ],
      "execution_count": null,
      "outputs": []
    },
    {
      "cell_type": "markdown",
      "metadata": {
        "id": "nesq08Ci_Tor"
      },
      "source": [
        "#FIM!"
      ]
    }
  ]
}