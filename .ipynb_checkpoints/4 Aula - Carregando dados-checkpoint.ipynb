{
 "cells": [
  {
   "cell_type": "code",
   "execution_count": null,
   "metadata": {},
   "outputs": [],
   "source": [
    "import pandas as pd"
   ]
  },
  {
   "cell_type": "code",
   "execution_count": null,
   "metadata": {},
   "outputs": [],
   "source": [
    "df2 = pd.read_csv('./files/pasta1.csv',\n",
    "                delimiter=';', decimal=',',encoding='utf8')\n",
    "\n",
    "senado = pd.read_csv('./files/SF_ConsultaRemuneracaoServidoresParlamentares_202103.csv',\n",
    "                delimiter=';', decimal=',',encoding='ISO-8859-1')"
   ]
  },
  {
   "cell_type": "code",
   "execution_count": null,
   "metadata": {},
   "outputs": [],
   "source": [
    "senado.columns"
   ]
  },
  {
   "cell_type": "code",
   "execution_count": null,
   "metadata": {},
   "outputs": [],
   "source": [
    "senado.head()"
   ]
  },
  {
   "cell_type": "code",
   "execution_count": null,
   "metadata": {},
   "outputs": [],
   "source": [
    "categoria = senado[['CATEGORIA','REM_LIQUIDA']]\n",
    "\n",
    "a = categoria.groupby('CATEGORIA').sum()\n",
    "a['Qtd_SERIDORES'] = categoria.groupby('CATEGORIA').count()\n",
    "a['Pct_SERIDORES'] = ((a['Qtd_SERIDORES']/a['Qtd_SERIDORES'].sum())*100).round(2).astype(str) + '%'\n",
    "a['Pct_GASTO']     = ((a['REM_LIQUIDA']/a['REM_LIQUIDA'].sum())*100).round(2).astype(str) + '%'\n",
    "a\n",
    "# Queria a linha de total\n"
   ]
  },
  {
   "cell_type": "code",
   "execution_count": null,
   "metadata": {},
   "outputs": [],
   "source": [
    "consolidado = senado[['VÍNCULO','REM_LIQUIDA']].groupby('VÍNCULO').count()\n",
    "consolidado.rename(columns = {'REM_LIQUIDA' : 'TOTAL_VINCULO'}, inplace = True)\n",
    "consolidado['PORCENTAGEM_VINCULO'] = ((consolidado['TOTAL_VINCULO']/consolidado['TOTAL_VINCULO'].sum())*100).round(2).astype(str) + '%'\n",
    "consolidado['REM_LIQUIDA_TOTAL'] = senado[['VÍNCULO','REM_LIQUIDA']].groupby('VÍNCULO').sum()['REM_LIQUIDA'].round(2)\n",
    "consolidado['PORCENTAGEM_REM_LIQUIDA'] = ((consolidado['REM_LIQUIDA_TOTAL']/consolidado['REM_LIQUIDA_TOTAL'].sum())*100).round(2).astype(str) + '%'\n",
    "consolidado"
   ]
  },
  {
   "cell_type": "code",
   "execution_count": null,
   "metadata": {},
   "outputs": [],
   "source": [
    "lotacao = senado[['LOTAÇÃO EXERCÍCIO','REM_LIQUIDA']]\n",
    "lotacao.groupby(lotacao['LOTAÇÃO EXERCÍCIO'].str.contains('Gabinete')).count()\n",
    "lotacao.groupby(lotacao['LOTAÇÃO EXERCÍCIO'].str.contains('Gabinete')).sum()\n"
   ]
  },
  {
   "cell_type": "code",
   "execution_count": null,
   "metadata": {},
   "outputs": [],
   "source": []
  }
 ],
 "metadata": {
  "kernelspec": {
   "display_name": "Python 3",
   "language": "python",
   "name": "python3"
  },
  "language_info": {
   "codemirror_mode": {
    "name": "ipython",
    "version": 3
   },
   "file_extension": ".py",
   "mimetype": "text/x-python",
   "name": "python",
   "nbconvert_exporter": "python",
   "pygments_lexer": "ipython3",
   "version": "3.8.5"
  }
 },
 "nbformat": 4,
 "nbformat_minor": 4
}
