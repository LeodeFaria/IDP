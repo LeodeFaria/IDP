{
 "cells": [
  {
   "cell_type": "markdown",
   "metadata": {
    "id": "KzyJFuXfq8NU"
   },
   "source": [
    "## 1 Números e Operações Matemáticas"
   ]
  },
  {
   "cell_type": "code",
   "execution_count": null,
   "metadata": {
    "id": "KFH6rEpJq8NV"
   },
   "outputs": [],
   "source": [
    "# Somar 14 com 34\n",
    "# Subtração 14 de 20\n",
    "# Multiplicação 2  vezes 3\n",
    "# Divisão 30 por 2\n",
    "# Potência: quarta potência de 2"
   ]
  },
  {
   "cell_type": "code",
   "execution_count": null,
   "metadata": {
    "colab": {
     "base_uri": "https://localhost:8080/"
    },
    "id": "El0cLn8f3ACu",
    "outputId": "7edbb4e6-b891-4cb5-fefd-4e4ec320dd84",
    "scrolled": true
   },
   "outputs": [],
   "source": [
    "14 + 34"
   ]
  },
  {
   "cell_type": "code",
   "execution_count": null,
   "metadata": {
    "colab": {
     "base_uri": "https://localhost:8080/"
    },
    "id": "RjHrn-no3RhR",
    "outputId": "6a92934c-819b-4f30-aca9-07c726f8feb4"
   },
   "outputs": [],
   "source": [
    "20-14"
   ]
  },
  {
   "cell_type": "code",
   "execution_count": null,
   "metadata": {
    "colab": {
     "base_uri": "https://localhost:8080/"
    },
    "id": "UnoGXNBa3You",
    "outputId": "af33f5d6-db7c-411d-8462-d2b6595c2c5d"
   },
   "outputs": [],
   "source": [
    "2*3"
   ]
  },
  {
   "cell_type": "code",
   "execution_count": null,
   "metadata": {
    "colab": {
     "base_uri": "https://localhost:8080/"
    },
    "id": "hF8Tj1ma3d0G",
    "outputId": "2978e5cb-0d73-44b0-fae3-9fff4d8da3ab"
   },
   "outputs": [],
   "source": [
    "30 / 2"
   ]
  },
  {
   "cell_type": "code",
   "execution_count": null,
   "metadata": {
    "colab": {
     "base_uri": "https://localhost:8080/"
    },
    "id": "0jclz8Jy3qoR",
    "outputId": "2bd7f50b-a186-4a88-9e85-4925c10d91de",
    "scrolled": true
   },
   "outputs": [],
   "source": [
    "2**5"
   ]
  },
  {
   "cell_type": "markdown",
   "metadata": {
    "id": "6b5Hh1IWq8Nc"
   },
   "source": [
    "## 2 Funções abs, round e pow"
   ]
  },
  {
   "cell_type": "code",
   "execution_count": null,
   "metadata": {
    "id": "dLS8cZ43q8Nc"
   },
   "outputs": [],
   "source": [
    "# Retorna o valor absoluto abs()\n",
    "# Retorna valor absoludo de -10\n",
    "# Retorna valor absoludo de  310"
   ]
  },
  {
   "cell_type": "code",
   "execution_count": null,
   "metadata": {
    "colab": {
     "base_uri": "https://localhost:8080/"
    },
    "id": "oIhSw7L64Jal",
    "outputId": "04c8bcfa-ba0f-4111-a94a-d07a9d949672"
   },
   "outputs": [],
   "source": [
    "abs(-68)"
   ]
  },
  {
   "cell_type": "code",
   "execution_count": null,
   "metadata": {
    "colab": {
     "base_uri": "https://localhost:8080/"
    },
    "id": "HfHhilh04lYJ",
    "outputId": "b017f851-33b2-4ef7-c1ea-5450bc639fdf"
   },
   "outputs": [],
   "source": [
    "abs(-18)"
   ]
  },
  {
   "cell_type": "code",
   "execution_count": null,
   "metadata": {
    "colab": {
     "base_uri": "https://localhost:8080/"
    },
    "id": "62XvUfJo4ldY",
    "outputId": "bd79bb34-c027-47b2-ed71-6ff52b9ce50c"
   },
   "outputs": [],
   "source": [
    "abs(-31.0)"
   ]
  },
  {
   "cell_type": "code",
   "execution_count": null,
   "metadata": {
    "id": "G7pkkFHGq8Nd"
   },
   "outputs": [],
   "source": [
    "# Retorna o valor com arredondamento: round()\n",
    "# Retorna o valor com arredondamento de 3,1417548675 com 2 casas decimais"
   ]
  },
  {
   "cell_type": "code",
   "execution_count": null,
   "metadata": {
    "colab": {
     "base_uri": "https://localhost:8080/"
    },
    "id": "G8iUL2IY4tu-",
    "outputId": "736ccdeb-ea6a-45c3-c035-0de5d4456fb1",
    "scrolled": false
   },
   "outputs": [],
   "source": [
    "round(314.54782145,4) "
   ]
  },
  {
   "cell_type": "markdown",
   "metadata": {
    "id": "o_OkEaDnueme"
   },
   "source": [
    "## 3 Variáveis e Operadores"
   ]
  },
  {
   "cell_type": "code",
   "execution_count": null,
   "metadata": {
    "id": "0VT_35zzufD3"
   },
   "outputs": [],
   "source": [
    "# Atribuindo o valor 10 à variável idade_casa\n",
    "# Imprimindo o valor da variável"
   ]
  },
  {
   "cell_type": "markdown",
   "metadata": {
    "id": "c5mo-fXEunFH"
   },
   "source": [
    "## 4 Variáveis atribuídas a outras variáveis e ordem dos operadores\n",
    "*   atribua o valor 2 à variável largura\n",
    "*   atribua o valor 4 à variável altura\n",
    "*   atribua a multiplicação das duas variáveis à variável area (lembre-se que o valor dá área é altura vezes largura)\n",
    "*   imprima o valor da área\n",
    "*   imprima o valor do perímetro (você lembra a formula do perímetro?)\n"
   ]
  },
  {
   "cell_type": "code",
   "execution_count": null,
   "metadata": {},
   "outputs": [],
   "source": [
    "largura = 2\n",
    "altura = 4\n",
    "area = largura * altura\n",
    "area"
   ]
  },
  {
   "cell_type": "code",
   "execution_count": null,
   "metadata": {},
   "outputs": [],
   "source": [
    "perimetro = 2 * (largura + altura)\n",
    "perimetro"
   ]
  },
  {
   "cell_type": "markdown",
   "metadata": {
    "id": "VnPEz51YZuwG"
   },
   "source": [
    "# Polinômios em uma variável X"
   ]
  },
  {
   "cell_type": "markdown",
   "metadata": {
    "id": "1AwI7mAGZ_Mz"
   },
   "source": [
    "Importe as funções de operações com polinômios da biblioteca numpy.\n",
    "(from numpy import polyadd, polysub) \n",
    "e defina os polinômios \n",
    "* (3x**2 + 2x - 1), \n",
    "* (4x**2 - x + 3), \n",
    "* (3x**2 - 2x + 1) e \n",
    "* (-2x**2 + 4) \n",
    "\n",
    "após faça a soma e a subtração entre eles"
   ]
  },
  {
   "cell_type": "code",
   "execution_count": null,
   "metadata": {
    "id": "KsI_XZZUZyHL"
   },
   "outputs": [],
   "source": [
    "# Primeiramente, definimos os coeficientes dos polinômios:\n",
    "coef_pol_1 = [3,2,-1]\n",
    "coef_pol_2 = [4,-1,3]\n",
    "coef_pol_3 = [3,-2,1]\n",
    "coef_pol_4 = [-2,0,4]"
   ]
  },
  {
   "cell_type": "code",
   "execution_count": null,
   "metadata": {
    "colab": {
     "base_uri": "https://localhost:8080/"
    },
    "id": "KWswzrQCuCom",
    "outputId": "b4640128-d705-48af-e79e-f5b39471bea6"
   },
   "outputs": [],
   "source": [
    "coef_pol_1"
   ]
  },
  {
   "cell_type": "code",
   "execution_count": null,
   "metadata": {
    "colab": {
     "base_uri": "https://localhost:8080/"
    },
    "id": "rDHDm0YqbHpM",
    "outputId": "5f9d2677-e66e-4a85-856e-5fdb8b59b04e"
   },
   "outputs": [],
   "source": [
    "# Importar as funções que fazem as somas, subtrações, \n",
    "#   multiplicações e divisões entre polinômios\n",
    "from numpy import polyadd, polysub, poly1d\n",
    "\n",
    "# Faz a adição dos polinômios 1 e 2, e subtração dos polinômios 1 e 4\n",
    "soma_1_2 = polyadd(coef_pol_1,coef_pol_2)\n",
    "subt_1_4 = polysub(coef_pol_1,coef_pol_4)\n",
    "print(soma_1_2)\n",
    "print(subt_1_4)"
   ]
  },
  {
   "cell_type": "code",
   "execution_count": null,
   "metadata": {
    "colab": {
     "base_uri": "https://localhost:8080/"
    },
    "id": "EomwsSAQbQqr",
    "outputId": "11327d8e-a25f-4ddc-d92e-44968d48bdf5"
   },
   "outputs": [],
   "source": [
    "# Utilizar a função poly1d\n",
    "pol1 = poly1d(coef_pol_1)\n",
    "pol2 = poly1d(coef_pol_2)\n",
    "polyadd(pol1, pol2)\n",
    "pol1"
   ]
  },
  {
   "cell_type": "code",
   "execution_count": null,
   "metadata": {},
   "outputs": [],
   "source": [
    "x = [1,2,3]\n",
    "y = [3,2,1]\n",
    "\n",
    "z = polyadd(x,y)\n",
    "z"
   ]
  },
  {
   "cell_type": "code",
   "execution_count": null,
   "metadata": {},
   "outputs": [],
   "source": [
    "x1 = poly1d([1,2,3])\n",
    "y1 = poly1d([3,2,1])\n",
    "\n",
    "z1 = polyadd(x1,y1)\n",
    "z1"
   ]
  },
  {
   "cell_type": "code",
   "execution_count": null,
   "metadata": {},
   "outputs": [],
   "source": [
    "z1(5)"
   ]
  },
  {
   "cell_type": "code",
   "execution_count": null,
   "metadata": {},
   "outputs": [],
   "source": [
    "from numpy import polyadd, polysub, poly1d\n",
    "\n",
    "polinomio = poly1d([3,2,1])\n",
    "polinomio(1) "
   ]
  },
  {
   "cell_type": "code",
   "execution_count": null,
   "metadata": {},
   "outputs": [],
   "source": []
  }
 ],
 "metadata": {
  "anaconda-cloud": {},
  "colab": {
   "include_colab_link": true,
   "name": "Aula 1 - Exercícios com Numeros e Variáveis.ipynb",
   "provenance": []
  },
  "kernelspec": {
   "display_name": "Python 3",
   "language": "python",
   "name": "python3"
  },
  "language_info": {
   "codemirror_mode": {
    "name": "ipython",
    "version": 3
   },
   "file_extension": ".py",
   "mimetype": "text/x-python",
   "name": "python",
   "nbconvert_exporter": "python",
   "pygments_lexer": "ipython3",
   "version": "3.8.5"
  }
 },
 "nbformat": 4,
 "nbformat_minor": 1
}
