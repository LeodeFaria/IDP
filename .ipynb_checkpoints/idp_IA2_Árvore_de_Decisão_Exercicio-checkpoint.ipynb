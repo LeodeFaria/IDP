{
 "cells": [
  {
   "cell_type": "markdown",
   "metadata": {
    "colab_type": "text",
    "id": "view-in-github"
   },
   "source": [
    "<a href=\"https://colab.research.google.com/github/LeodeFaria/IDP/blob/main/idp_IA2_%C3%81rvore_de_Decis%C3%A3o_Exercicio.ipynb\" target=\"_parent\"><img src=\"https://colab.research.google.com/assets/colab-badge.svg\" alt=\"Open In Colab\"/></a>"
   ]
  },
  {
   "cell_type": "markdown",
   "metadata": {
    "id": "7R24vPuIHG5-"
   },
   "source": [
    "\n",
    "# Árvore de Decisão - Exercicio"
   ]
  },
  {
   "cell_type": "markdown",
   "metadata": {
    "id": "4JhSlzNvHG6J"
   },
   "source": [
    "## Importando as bibliotecas\n"
   ]
  },
  {
   "cell_type": "code",
   "execution_count": 18,
   "metadata": {
    "colab": {
     "base_uri": "https://localhost:8080/"
    },
    "id": "bD-BzSCEHG6J",
    "outputId": "64b0a2f7-e327-4086-a391-1145669970c7"
   },
   "outputs": [
    {
     "name": "stdout",
     "output_type": "stream",
     "text": [
      "Requirement already satisfied: category_encoders in /Users/leodefaria/opt/anaconda3/lib/python3.8/site-packages (2.2.2)\n",
      "Requirement already satisfied: numpy>=1.14.0 in /Users/leodefaria/opt/anaconda3/lib/python3.8/site-packages (from category_encoders) (1.19.2)\n",
      "Requirement already satisfied: scikit-learn>=0.20.0 in /Users/leodefaria/opt/anaconda3/lib/python3.8/site-packages (from category_encoders) (0.23.2)\n",
      "Requirement already satisfied: patsy>=0.5.1 in /Users/leodefaria/opt/anaconda3/lib/python3.8/site-packages (from category_encoders) (0.5.1)\n",
      "Requirement already satisfied: scipy>=1.0.0 in /Users/leodefaria/opt/anaconda3/lib/python3.8/site-packages (from category_encoders) (1.5.2)\n",
      "Requirement already satisfied: statsmodels>=0.9.0 in /Users/leodefaria/opt/anaconda3/lib/python3.8/site-packages (from category_encoders) (0.12.0)\n",
      "Requirement already satisfied: pandas>=0.21.1 in /Users/leodefaria/opt/anaconda3/lib/python3.8/site-packages (from category_encoders) (1.1.3)\n",
      "Requirement already satisfied: threadpoolctl>=2.0.0 in /Users/leodefaria/opt/anaconda3/lib/python3.8/site-packages (from scikit-learn>=0.20.0->category_encoders) (2.1.0)\n",
      "Requirement already satisfied: joblib>=0.11 in /Users/leodefaria/opt/anaconda3/lib/python3.8/site-packages (from scikit-learn>=0.20.0->category_encoders) (0.17.0)\n",
      "Requirement already satisfied: six in /Users/leodefaria/opt/anaconda3/lib/python3.8/site-packages (from patsy>=0.5.1->category_encoders) (1.15.0)\n",
      "Requirement already satisfied: python-dateutil>=2.7.3 in /Users/leodefaria/opt/anaconda3/lib/python3.8/site-packages (from pandas>=0.21.1->category_encoders) (2.8.1)\n",
      "Requirement already satisfied: pytz>=2017.2 in /Users/leodefaria/opt/anaconda3/lib/python3.8/site-packages (from pandas>=0.21.1->category_encoders) (2020.1)\n"
     ]
    }
   ],
   "source": [
    "# import ipynb_autograde\n",
    "import numpy as np\n",
    "import pandas as pd\n",
    "import matplotlib.pyplot as plt \n",
    "import seaborn as sns\n",
    "%matplotlib inline\n",
    "import warnings\n",
    "\n",
    "warnings.filterwarnings('ignore')\n",
    "!pip install category_encoders\n",
    "\n",
    "from sklearn.preprocessing import LabelEncoder\n",
    "from sklearn.model_selection import train_test_split\n",
    "from sklearn.model_selection import KFold\n",
    "from sklearn import tree"
   ]
  },
  {
   "cell_type": "markdown",
   "metadata": {
    "id": "qDCuFL6mHG6K"
   },
   "source": [
    "## Importando dataset\n"
   ]
  },
  {
   "cell_type": "code",
   "execution_count": 19,
   "metadata": {
    "id": "nRrGXxwDHG6L"
   },
   "outputs": [],
   "source": [
    "data = 'https://raw.githubusercontent.com/4tune-ai/IDP/main/data/car_evaluation.csv'\n",
    "\n",
    "df = pd.read_csv(data, header=None)"
   ]
  },
  {
   "cell_type": "code",
   "execution_count": 20,
   "metadata": {
    "colab": {
     "base_uri": "https://localhost:8080/"
    },
    "id": "zVBxvWwLGEfQ",
    "outputId": "108badb1-930b-4259-b6fc-6361ecbf1ee3"
   },
   "outputs": [],
   "source": [
    "# Renomeando Colunas\n",
    "#col_names = ['buying', 'maint', 'doors', 'persons', 'lug_boot', 'safety', 'class']\n",
    "col_names = ['comprado', 'condicao', 'portas', 'passageiros', 'bagageiro', 'seguranca', 'classe']\n",
    "\n",
    "df.columns = col_names"
   ]
  },
  {
   "cell_type": "code",
   "execution_count": 21,
   "metadata": {},
   "outputs": [
    {
     "data": {
      "text/html": [
       "<div>\n",
       "<style scoped>\n",
       "    .dataframe tbody tr th:only-of-type {\n",
       "        vertical-align: middle;\n",
       "    }\n",
       "\n",
       "    .dataframe tbody tr th {\n",
       "        vertical-align: top;\n",
       "    }\n",
       "\n",
       "    .dataframe thead th {\n",
       "        text-align: right;\n",
       "    }\n",
       "</style>\n",
       "<table border=\"1\" class=\"dataframe\">\n",
       "  <thead>\n",
       "    <tr style=\"text-align: right;\">\n",
       "      <th></th>\n",
       "      <th>comprado</th>\n",
       "      <th>condicao</th>\n",
       "      <th>portas</th>\n",
       "      <th>passageiros</th>\n",
       "      <th>bagageiro</th>\n",
       "      <th>seguranca</th>\n",
       "      <th>classe</th>\n",
       "    </tr>\n",
       "  </thead>\n",
       "  <tbody>\n",
       "    <tr>\n",
       "      <th>0</th>\n",
       "      <td>vhigh</td>\n",
       "      <td>vhigh</td>\n",
       "      <td>2</td>\n",
       "      <td>2</td>\n",
       "      <td>small</td>\n",
       "      <td>low</td>\n",
       "      <td>unacc</td>\n",
       "    </tr>\n",
       "    <tr>\n",
       "      <th>1</th>\n",
       "      <td>vhigh</td>\n",
       "      <td>vhigh</td>\n",
       "      <td>2</td>\n",
       "      <td>2</td>\n",
       "      <td>small</td>\n",
       "      <td>med</td>\n",
       "      <td>unacc</td>\n",
       "    </tr>\n",
       "    <tr>\n",
       "      <th>2</th>\n",
       "      <td>vhigh</td>\n",
       "      <td>vhigh</td>\n",
       "      <td>2</td>\n",
       "      <td>2</td>\n",
       "      <td>small</td>\n",
       "      <td>high</td>\n",
       "      <td>unacc</td>\n",
       "    </tr>\n",
       "    <tr>\n",
       "      <th>3</th>\n",
       "      <td>vhigh</td>\n",
       "      <td>vhigh</td>\n",
       "      <td>2</td>\n",
       "      <td>2</td>\n",
       "      <td>med</td>\n",
       "      <td>low</td>\n",
       "      <td>unacc</td>\n",
       "    </tr>\n",
       "    <tr>\n",
       "      <th>4</th>\n",
       "      <td>vhigh</td>\n",
       "      <td>vhigh</td>\n",
       "      <td>2</td>\n",
       "      <td>2</td>\n",
       "      <td>med</td>\n",
       "      <td>med</td>\n",
       "      <td>unacc</td>\n",
       "    </tr>\n",
       "  </tbody>\n",
       "</table>\n",
       "</div>"
      ],
      "text/plain": [
       "  comprado condicao portas passageiros bagageiro seguranca classe\n",
       "0    vhigh    vhigh      2           2     small       low  unacc\n",
       "1    vhigh    vhigh      2           2     small       med  unacc\n",
       "2    vhigh    vhigh      2           2     small      high  unacc\n",
       "3    vhigh    vhigh      2           2       med       low  unacc\n",
       "4    vhigh    vhigh      2           2       med       med  unacc"
      ]
     },
     "execution_count": 21,
     "metadata": {},
     "output_type": "execute_result"
    }
   ],
   "source": [
    "df.head()"
   ]
  },
  {
   "cell_type": "markdown",
   "metadata": {
    "id": "lQAXk2p-GMKw"
   },
   "source": [
    "# Preprocessing"
   ]
  },
  {
   "cell_type": "code",
   "execution_count": 22,
   "metadata": {
    "id": "8oGvC2KyGOKP"
   },
   "outputs": [
    {
     "data": {
      "text/html": [
       "<div>\n",
       "<style scoped>\n",
       "    .dataframe tbody tr th:only-of-type {\n",
       "        vertical-align: middle;\n",
       "    }\n",
       "\n",
       "    .dataframe tbody tr th {\n",
       "        vertical-align: top;\n",
       "    }\n",
       "\n",
       "    .dataframe thead th {\n",
       "        text-align: right;\n",
       "    }\n",
       "</style>\n",
       "<table border=\"1\" class=\"dataframe\">\n",
       "  <thead>\n",
       "    <tr style=\"text-align: right;\">\n",
       "      <th></th>\n",
       "      <th>comprado</th>\n",
       "      <th>condicao</th>\n",
       "      <th>portas</th>\n",
       "      <th>passageiros</th>\n",
       "      <th>bagageiro</th>\n",
       "      <th>seguranca</th>\n",
       "      <th>classe</th>\n",
       "    </tr>\n",
       "  </thead>\n",
       "  <tbody>\n",
       "    <tr>\n",
       "      <th>0</th>\n",
       "      <td>3</td>\n",
       "      <td>3</td>\n",
       "      <td>0</td>\n",
       "      <td>0</td>\n",
       "      <td>2</td>\n",
       "      <td>1</td>\n",
       "      <td>2</td>\n",
       "    </tr>\n",
       "    <tr>\n",
       "      <th>1</th>\n",
       "      <td>3</td>\n",
       "      <td>3</td>\n",
       "      <td>0</td>\n",
       "      <td>0</td>\n",
       "      <td>2</td>\n",
       "      <td>2</td>\n",
       "      <td>2</td>\n",
       "    </tr>\n",
       "    <tr>\n",
       "      <th>2</th>\n",
       "      <td>3</td>\n",
       "      <td>3</td>\n",
       "      <td>0</td>\n",
       "      <td>0</td>\n",
       "      <td>2</td>\n",
       "      <td>0</td>\n",
       "      <td>2</td>\n",
       "    </tr>\n",
       "    <tr>\n",
       "      <th>3</th>\n",
       "      <td>3</td>\n",
       "      <td>3</td>\n",
       "      <td>0</td>\n",
       "      <td>0</td>\n",
       "      <td>1</td>\n",
       "      <td>1</td>\n",
       "      <td>2</td>\n",
       "    </tr>\n",
       "    <tr>\n",
       "      <th>4</th>\n",
       "      <td>3</td>\n",
       "      <td>3</td>\n",
       "      <td>0</td>\n",
       "      <td>0</td>\n",
       "      <td>1</td>\n",
       "      <td>2</td>\n",
       "      <td>2</td>\n",
       "    </tr>\n",
       "  </tbody>\n",
       "</table>\n",
       "</div>"
      ],
      "text/plain": [
       "   comprado  condicao  portas  passageiros  bagageiro  seguranca  classe\n",
       "0         3         3       0            0          2          1       2\n",
       "1         3         3       0            0          2          2       2\n",
       "2         3         3       0            0          2          0       2\n",
       "3         3         3       0            0          1          1       2\n",
       "4         3         3       0            0          1          2       2"
      ]
     },
     "execution_count": 22,
     "metadata": {},
     "output_type": "execute_result"
    }
   ],
   "source": [
    "etiquetas = LabelEncoder()\n",
    "\n",
    "df_final = df.copy()\n",
    "df_final['comprado']    = etiquetas.fit_transform(df_final['comprado'])\n",
    "df_final['condicao']    = etiquetas.fit_transform(df_final['condicao'])\n",
    "df_final['portas']      = etiquetas.fit_transform(df_final['portas'])\n",
    "df_final['passageiros'] = etiquetas.fit_transform(df_final['passageiros'])\n",
    "df_final['bagageiro']   = etiquetas.fit_transform(df_final['bagageiro'])\n",
    "df_final['seguranca']   = etiquetas.fit_transform(df_final['seguranca'])\n",
    "df_final['classe']      = etiquetas.fit_transform(df_final['classe'])\n",
    "df_final.head()"
   ]
  },
  {
   "cell_type": "markdown",
   "metadata": {
    "id": "UomvNyrnGOWv"
   },
   "source": [
    "# Data Visualizing"
   ]
  },
  {
   "cell_type": "code",
   "execution_count": 23,
   "metadata": {
    "id": "v_XEYy7gGRcn"
   },
   "outputs": [
    {
     "data": {
      "image/png": "[encoded data removed]",
      "text/plain": [
       "<Figure size 864x720 with 2 Axes>"
      ]
     },
     "metadata": {},
     "output_type": "display_data"
    }
   ],
   "source": [
    "colormap = plt.cm.viridis\n",
    "plt.figure(figsize=(12,10))\n",
    "sns.heatmap(df_final.corr(),cmap = colormap,annot=True,linewidths=0.1,square=True,linecolor='white',vmax=1.0)\n",
    "plt.show()"
   ]
  },
  {
   "cell_type": "markdown",
   "metadata": {
    "id": "gYdYVytrGRvq"
   },
   "source": [
    "# Decision Tree Classifier"
   ]
  },
  {
   "cell_type": "code",
   "execution_count": 24,
   "metadata": {
    "id": "kkw870VqGWtf"
   },
   "outputs": [],
   "source": [
    "X = df_final.drop('comprado',axis=1)\n",
    "y = df_final['comprado']\n",
    "\n",
    "X_treino, X_teste, y_treino, y_teste = train_test_split(X,y,train_size=0.7,random_state=42)"
   ]
  },
  {
   "cell_type": "code",
   "execution_count": 25,
   "metadata": {},
   "outputs": [],
   "source": [
    "treino, teste = train_test_split(df_final, test_size=0.2, random_state=42, shuffle=True)\n",
    "\n",
    "# o cv não funciona se não tiver um indice ok\n",
    "treino.reset_index(drop = True,inplace = True)\n",
    "teste.reset_index(drop = True, inplace = True)\n"
   ]
  },
  {
   "cell_type": "code",
   "execution_count": 28,
   "metadata": {},
   "outputs": [
    {
     "name": "stdout",
     "output_type": "stream",
     "text": [
      " Nível Máximo  Acuracia Média\n",
      "            1        0.230132\n",
      "            2        0.288739\n",
      "            3        0.296737\n",
      "            4        0.303232\n",
      "            5        0.286597\n",
      "            6        0.264143\n",
      "            7        0.222130\n"
     ]
    }
   ],
   "source": [
    "cv = KFold(n_splits=10)   \n",
    "\n",
    "acuracia = list()\n",
    "max_atributos = len(list(df_final))\n",
    "profundidade = range(1, max_atributos + 1)\n",
    "\n",
    "for nivel in profundidade:\n",
    "    nivel_acuracia = []\n",
    "    arvore = tree.DecisionTreeClassifier(max_depth = nivel)\n",
    "    for nivel_treino, nivel_valido in cv.split(treino):\n",
    "        f_treino = treino.loc[nivel_treino] \n",
    "        f_valido = treino.loc[nivel_valido] \n",
    "\n",
    "        modelo = arvore.fit(X = f_treino.drop(['comprado'], axis=1),\n",
    "                            y = f_treino[\"comprado\"]) \n",
    "        acc_valida = modelo.score(X = f_valido.drop(['comprado'], axis=1),\n",
    "                                  y = f_valido[\"comprado\"])\n",
    "        nivel_acuracia.append(acc_valida)\n",
    "\n",
    "    avg = sum(nivel_acuracia)/len(nivel_acuracia)\n",
    "    acuracia.append(avg)\n",
    "    \n",
    "# Resultados \n",
    "df_arvore = pd.DataFrame({\"Nível Máximo\": profundidade, \"Acuracia Média\": acuracia})\n",
    "df_arvore = df_arvore[[\"Nível Máximo\", \"Acuracia Média\"]]\n",
    "print(df_arvore.to_string(index=False))"
   ]
  },
  {
   "cell_type": "code",
   "execution_count": null,
   "metadata": {},
   "outputs": [],
   "source": []
  }
 ],
 "metadata": {
  "colab": {
   "include_colab_link": true,
   "name": "idp - IA2 - Árvore de Decisão - Exercicio.ipynb",
   "provenance": []
  },
  "kernelspec": {
   "display_name": "Python 3 (Spyder)",
   "language": "python3",
   "name": "python3"
  },
  "language_info": {
   "codemirror_mode": {
    "name": "ipython",
    "version": 3
   },
   "file_extension": ".py",
   "mimetype": "text/x-python",
   "name": "python",
   "nbconvert_exporter": "python",
   "pygments_lexer": "ipython3",
   "version": "3.8.5"
  }
 },
 "nbformat": 4,
 "nbformat_minor": 4
}
