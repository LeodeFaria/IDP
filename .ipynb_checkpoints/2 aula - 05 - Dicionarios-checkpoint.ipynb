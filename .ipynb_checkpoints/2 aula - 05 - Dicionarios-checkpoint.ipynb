{
 "cells": [
  {
   "cell_type": "markdown",
   "metadata": {
    "id": "5D_m27oyqX4H"
   },
   "source": [
    "## Dicionários"
   ]
  },
  {
   "cell_type": "code",
   "execution_count": null,
   "metadata": {
    "executionInfo": {
     "elapsed": 1198,
     "status": "ok",
     "timestamp": 1618518537036,
     "user": {
      "displayName": "Mauro Ribeiro",
      "photoUrl": "https://lh3.googleusercontent.com/a-/AOh14Gh4UCHXUwlgYaT16X3IiiIvVgOcuEx6z_La7Y9pjQ=s64",
      "userId": "06049500529385007077"
     },
     "user_tz": 180
    },
    "id": "4_nwITV-qX4I"
   },
   "outputs": [],
   "source": [
    "# Isso é uma lista\n",
    "estudantes_lst = [\"Mateus\", 24, \"Fernanda\", 22, \"Tamires\", 26, \"Cristiano\", 25]   "
   ]
  },
  {
   "cell_type": "code",
   "execution_count": null,
   "metadata": {
    "id": "cIEx85llqX4I"
   },
   "outputs": [],
   "source": [
    "estudantes_lst"
   ]
  },
  {
   "cell_type": "code",
   "execution_count": null,
   "metadata": {
    "executionInfo": {
     "elapsed": 1195,
     "status": "ok",
     "timestamp": 1618518537037,
     "user": {
      "displayName": "Mauro Ribeiro",
      "photoUrl": "https://lh3.googleusercontent.com/a-/AOh14Gh4UCHXUwlgYaT16X3IiiIvVgOcuEx6z_La7Y9pjQ=s64",
      "userId": "06049500529385007077"
     },
     "user_tz": 180
    },
    "id": "rbXZ7m_iqX4I"
   },
   "outputs": [],
   "source": [
    "# Isso é um dicionário\n",
    "estudantes_dict = {\"Mateus\":24, \"Fernanda\":22, \"Tamires\":26, \"Cristiano\":25}"
   ]
  },
  {
   "cell_type": "code",
   "execution_count": null,
   "metadata": {
    "colab": {
     "base_uri": "https://localhost:8080/"
    },
    "executionInfo": {
     "elapsed": 1194,
     "status": "ok",
     "timestamp": 1618518537038,
     "user": {
      "displayName": "Mauro Ribeiro",
      "photoUrl": "https://lh3.googleusercontent.com/a-/AOh14Gh4UCHXUwlgYaT16X3IiiIvVgOcuEx6z_La7Y9pjQ=s64",
      "userId": "06049500529385007077"
     },
     "user_tz": 180
    },
    "id": "9abmFRGeqX4J",
    "outputId": "8d9b0a06-a134-41e9-bc08-135f6f770476"
   },
   "outputs": [],
   "source": [
    "estudantes_dict "
   ]
  },
  {
   "cell_type": "code",
   "execution_count": null,
   "metadata": {
    "colab": {
     "base_uri": "https://localhost:8080/"
    },
    "executionInfo": {
     "elapsed": 1193,
     "status": "ok",
     "timestamp": 1618518537038,
     "user": {
      "displayName": "Mauro Ribeiro",
      "photoUrl": "https://lh3.googleusercontent.com/a-/AOh14Gh4UCHXUwlgYaT16X3IiiIvVgOcuEx6z_La7Y9pjQ=s64",
      "userId": "06049500529385007077"
     },
     "user_tz": 180
    },
    "id": "l2IDp7MsqX4J",
    "outputId": "d4930cf8-3bbf-4bd8-a51b-aa349ec80f16"
   },
   "outputs": [],
   "source": [
    "estudantes_dict[\"Mateus\"]"
   ]
  },
  {
   "cell_type": "code",
   "execution_count": null,
   "metadata": {
    "executionInfo": {
     "elapsed": 1192,
     "status": "ok",
     "timestamp": 1618518537039,
     "user": {
      "displayName": "Mauro Ribeiro",
      "photoUrl": "https://lh3.googleusercontent.com/a-/AOh14Gh4UCHXUwlgYaT16X3IiiIvVgOcuEx6z_La7Y9pjQ=s64",
      "userId": "06049500529385007077"
     },
     "user_tz": 180
    },
    "id": "pXDV6_OfqX4J"
   },
   "outputs": [],
   "source": [
    "estudantes_dict[\"Pedro\"] = 23"
   ]
  },
  {
   "cell_type": "code",
   "execution_count": null,
   "metadata": {
    "colab": {
     "base_uri": "https://localhost:8080/"
    },
    "executionInfo": {
     "elapsed": 1191,
     "status": "ok",
     "timestamp": 1618518537039,
     "user": {
      "displayName": "Mauro Ribeiro",
      "photoUrl": "https://lh3.googleusercontent.com/a-/AOh14Gh4UCHXUwlgYaT16X3IiiIvVgOcuEx6z_La7Y9pjQ=s64",
      "userId": "06049500529385007077"
     },
     "user_tz": 180
    },
    "id": "7Xn6jSg0qX4K",
    "outputId": "c7242453-0dba-4646-b4b5-e38913b494b6"
   },
   "outputs": [],
   "source": [
    "estudantes_dict[\"Pedro\"]"
   ]
  },
  {
   "cell_type": "code",
   "execution_count": null,
   "metadata": {
    "colab": {
     "base_uri": "https://localhost:8080/"
    },
    "executionInfo": {
     "elapsed": 1191,
     "status": "ok",
     "timestamp": 1618518537040,
     "user": {
      "displayName": "Mauro Ribeiro",
      "photoUrl": "https://lh3.googleusercontent.com/a-/AOh14Gh4UCHXUwlgYaT16X3IiiIvVgOcuEx6z_La7Y9pjQ=s64",
      "userId": "06049500529385007077"
     },
     "user_tz": 180
    },
    "id": "6WNEy-btqX4K",
    "outputId": "b039ada0-3043-4cc2-ef64-b946bb4af437"
   },
   "outputs": [],
   "source": [
    "estudantes_dict[\"Tamires\"]"
   ]
  },
  {
   "cell_type": "code",
   "execution_count": null,
   "metadata": {
    "executionInfo": {
     "elapsed": 1190,
     "status": "ok",
     "timestamp": 1618518537041,
     "user": {
      "displayName": "Mauro Ribeiro",
      "photoUrl": "https://lh3.googleusercontent.com/a-/AOh14Gh4UCHXUwlgYaT16X3IiiIvVgOcuEx6z_La7Y9pjQ=s64",
      "userId": "06049500529385007077"
     },
     "user_tz": 180
    },
    "id": "fZiBSkkfqX4K"
   },
   "outputs": [],
   "source": [
    "estudantes_dict.clear()"
   ]
  },
  {
   "cell_type": "code",
   "execution_count": null,
   "metadata": {
    "colab": {
     "base_uri": "https://localhost:8080/"
    },
    "executionInfo": {
     "elapsed": 1189,
     "status": "ok",
     "timestamp": 1618518537041,
     "user": {
      "displayName": "Mauro Ribeiro",
      "photoUrl": "https://lh3.googleusercontent.com/a-/AOh14Gh4UCHXUwlgYaT16X3IiiIvVgOcuEx6z_La7Y9pjQ=s64",
      "userId": "06049500529385007077"
     },
     "user_tz": 180
    },
    "id": "lSf-vv32qX4K",
    "outputId": "d869eb0c-b93f-46c3-82da-3d611dfb34e1"
   },
   "outputs": [],
   "source": [
    "estudantes_dict"
   ]
  },
  {
   "cell_type": "code",
   "execution_count": null,
   "metadata": {
    "executionInfo": {
     "elapsed": 1188,
     "status": "ok",
     "timestamp": 1618518537042,
     "user": {
      "displayName": "Mauro Ribeiro",
      "photoUrl": "https://lh3.googleusercontent.com/a-/AOh14Gh4UCHXUwlgYaT16X3IiiIvVgOcuEx6z_La7Y9pjQ=s64",
      "userId": "06049500529385007077"
     },
     "user_tz": 180
    },
    "id": "KrsyZzBAqX4L"
   },
   "outputs": [],
   "source": [
    "del estudantes_dict"
   ]
  },
  {
   "cell_type": "code",
   "execution_count": null,
   "metadata": {
    "id": "IV_FjMBdqX4L"
   },
   "outputs": [],
   "source": [
    "estudantes_dict"
   ]
  },
  {
   "cell_type": "code",
   "execution_count": null,
   "metadata": {
    "executionInfo": {
     "elapsed": 586,
     "status": "ok",
     "timestamp": 1618518572653,
     "user": {
      "displayName": "Mauro Ribeiro",
      "photoUrl": "https://lh3.googleusercontent.com/a-/AOh14Gh4UCHXUwlgYaT16X3IiiIvVgOcuEx6z_La7Y9pjQ=s64",
      "userId": "06049500529385007077"
     },
     "user_tz": 180
    },
    "id": "d5brralNqX4L"
   },
   "outputs": [],
   "source": [
    "estudantes = {\"Mateus\":24, \"Fernanda\":22, \"Tamires\":26, \"Cristiano\":25}"
   ]
  },
  {
   "cell_type": "code",
   "execution_count": null,
   "metadata": {
    "id": "pob_LQKAqX4L"
   },
   "outputs": [],
   "source": [
    "estudantes"
   ]
  },
  {
   "cell_type": "code",
   "execution_count": null,
   "metadata": {
    "id": "ottxg1DUqX4L"
   },
   "outputs": [],
   "source": [
    "len(estudantes)"
   ]
  },
  {
   "cell_type": "code",
   "execution_count": null,
   "metadata": {
    "id": "CikoSDo2qX4M"
   },
   "outputs": [],
   "source": [
    "estudantes.keys()"
   ]
  },
  {
   "cell_type": "code",
   "execution_count": null,
   "metadata": {
    "id": "ApAbM2AZqX4M"
   },
   "outputs": [],
   "source": [
    "estudantes.values()"
   ]
  },
  {
   "cell_type": "code",
   "execution_count": null,
   "metadata": {
    "id": "uwYLqdnPqX4M"
   },
   "outputs": [],
   "source": [
    "estudantes.items()"
   ]
  },
  {
   "cell_type": "code",
   "execution_count": null,
   "metadata": {
    "executionInfo": {
     "elapsed": 1421,
     "status": "aborted",
     "timestamp": 1618518537284,
     "user": {
      "displayName": "Mauro Ribeiro",
      "photoUrl": "https://lh3.googleusercontent.com/a-/AOh14Gh4UCHXUwlgYaT16X3IiiIvVgOcuEx6z_La7Y9pjQ=s64",
      "userId": "06049500529385007077"
     },
     "user_tz": 180
    },
    "id": "kQ1Si-17qX4M"
   },
   "outputs": [],
   "source": [
    "estudantes2 = {\"Maria\":27, \"Erika\":28, \"Milton\":26}"
   ]
  },
  {
   "cell_type": "code",
   "execution_count": null,
   "metadata": {
    "executionInfo": {
     "elapsed": 1420,
     "status": "aborted",
     "timestamp": 1618518537285,
     "user": {
      "displayName": "Mauro Ribeiro",
      "photoUrl": "https://lh3.googleusercontent.com/a-/AOh14Gh4UCHXUwlgYaT16X3IiiIvVgOcuEx6z_La7Y9pjQ=s64",
      "userId": "06049500529385007077"
     },
     "user_tz": 180
    },
    "id": "ZOYbOOp3qX4N"
   },
   "outputs": [],
   "source": [
    "estudantes2"
   ]
  },
  {
   "cell_type": "code",
   "execution_count": null,
   "metadata": {
    "executionInfo": {
     "elapsed": 1419,
     "status": "aborted",
     "timestamp": 1618518537285,
     "user": {
      "displayName": "Mauro Ribeiro",
      "photoUrl": "https://lh3.googleusercontent.com/a-/AOh14Gh4UCHXUwlgYaT16X3IiiIvVgOcuEx6z_La7Y9pjQ=s64",
      "userId": "06049500529385007077"
     },
     "user_tz": 180
    },
    "id": "N-jM6A07qX4N"
   },
   "outputs": [],
   "source": [
    "estudantes.update(estudantes2)"
   ]
  },
  {
   "cell_type": "code",
   "execution_count": null,
   "metadata": {
    "executionInfo": {
     "elapsed": 1418,
     "status": "aborted",
     "timestamp": 1618518537285,
     "user": {
      "displayName": "Mauro Ribeiro",
      "photoUrl": "https://lh3.googleusercontent.com/a-/AOh14Gh4UCHXUwlgYaT16X3IiiIvVgOcuEx6z_La7Y9pjQ=s64",
      "userId": "06049500529385007077"
     },
     "user_tz": 180
    },
    "id": "TqX2eTSVqX4N"
   },
   "outputs": [],
   "source": [
    "estudantes"
   ]
  },
  {
   "cell_type": "code",
   "execution_count": null,
   "metadata": {
    "executionInfo": {
     "elapsed": 648,
     "status": "ok",
     "timestamp": 1618518627239,
     "user": {
      "displayName": "Mauro Ribeiro",
      "photoUrl": "https://lh3.googleusercontent.com/a-/AOh14Gh4UCHXUwlgYaT16X3IiiIvVgOcuEx6z_La7Y9pjQ=s64",
      "userId": "06049500529385007077"
     },
     "user_tz": 180
    },
    "id": "y6rWb8IpqX4N"
   },
   "outputs": [],
   "source": [
    "dic1 = {}"
   ]
  },
  {
   "cell_type": "code",
   "execution_count": null,
   "metadata": {
    "id": "gPrxEOWWqX4O"
   },
   "outputs": [],
   "source": [
    "dic1"
   ]
  },
  {
   "cell_type": "code",
   "execution_count": null,
   "metadata": {
    "executionInfo": {
     "elapsed": 975,
     "status": "ok",
     "timestamp": 1618518633348,
     "user": {
      "displayName": "Mauro Ribeiro",
      "photoUrl": "https://lh3.googleusercontent.com/a-/AOh14Gh4UCHXUwlgYaT16X3IiiIvVgOcuEx6z_La7Y9pjQ=s64",
      "userId": "06049500529385007077"
     },
     "user_tz": 180
    },
    "id": "RW8bc8S2qX4O"
   },
   "outputs": [],
   "source": [
    "dic1[\"key_one\"] = 2"
   ]
  },
  {
   "cell_type": "code",
   "execution_count": null,
   "metadata": {
    "id": "nCIyYdjgqX4O"
   },
   "outputs": [],
   "source": [
    "print(dic1)"
   ]
  },
  {
   "cell_type": "code",
   "execution_count": null,
   "metadata": {
    "executionInfo": {
     "elapsed": 761,
     "status": "ok",
     "timestamp": 1618518644613,
     "user": {
      "displayName": "Mauro Ribeiro",
      "photoUrl": "https://lh3.googleusercontent.com/a-/AOh14Gh4UCHXUwlgYaT16X3IiiIvVgOcuEx6z_La7Y9pjQ=s64",
      "userId": "06049500529385007077"
     },
     "user_tz": 180
    },
    "id": "7DbyTGORqX4O"
   },
   "outputs": [],
   "source": [
    "dic1[10] = 5"
   ]
  },
  {
   "cell_type": "code",
   "execution_count": null,
   "metadata": {
    "id": "1PoJGLBzqX4O"
   },
   "outputs": [],
   "source": [
    "dic1"
   ]
  },
  {
   "cell_type": "code",
   "execution_count": null,
   "metadata": {
    "executionInfo": {
     "elapsed": 556,
     "status": "ok",
     "timestamp": 1618518651969,
     "user": {
      "displayName": "Mauro Ribeiro",
      "photoUrl": "https://lh3.googleusercontent.com/a-/AOh14Gh4UCHXUwlgYaT16X3IiiIvVgOcuEx6z_La7Y9pjQ=s64",
      "userId": "06049500529385007077"
     },
     "user_tz": 180
    },
    "id": "C5AyGDq3qX4P"
   },
   "outputs": [],
   "source": [
    "dic1[8.2] = \"Python\""
   ]
  },
  {
   "cell_type": "code",
   "execution_count": null,
   "metadata": {
    "id": "qju56_ENqX4P"
   },
   "outputs": [],
   "source": [
    "dic1"
   ]
  },
  {
   "cell_type": "code",
   "execution_count": null,
   "metadata": {
    "executionInfo": {
     "elapsed": 567,
     "status": "ok",
     "timestamp": 1618518659240,
     "user": {
      "displayName": "Mauro Ribeiro",
      "photoUrl": "https://lh3.googleusercontent.com/a-/AOh14Gh4UCHXUwlgYaT16X3IiiIvVgOcuEx6z_La7Y9pjQ=s64",
      "userId": "06049500529385007077"
     },
     "user_tz": 180
    },
    "id": "aWrEvUskqX4P"
   },
   "outputs": [],
   "source": [
    "dic1[\"teste\"] = 5"
   ]
  },
  {
   "cell_type": "code",
   "execution_count": null,
   "metadata": {
    "id": "BkQQQP5uqX4P"
   },
   "outputs": [],
   "source": [
    "dic1"
   ]
  },
  {
   "cell_type": "code",
   "execution_count": null,
   "metadata": {
    "executionInfo": {
     "elapsed": 1615,
     "status": "aborted",
     "timestamp": 1618518537494,
     "user": {
      "displayName": "Mauro Ribeiro",
      "photoUrl": "https://lh3.googleusercontent.com/a-/AOh14Gh4UCHXUwlgYaT16X3IiiIvVgOcuEx6z_La7Y9pjQ=s64",
      "userId": "06049500529385007077"
     },
     "user_tz": 180
    },
    "id": "n-xn9-NFqX4Q"
   },
   "outputs": [],
   "source": [
    "dict1 = {}"
   ]
  },
  {
   "cell_type": "code",
   "execution_count": null,
   "metadata": {
    "executionInfo": {
     "elapsed": 1614,
     "status": "aborted",
     "timestamp": 1618518537495,
     "user": {
      "displayName": "Mauro Ribeiro",
      "photoUrl": "https://lh3.googleusercontent.com/a-/AOh14Gh4UCHXUwlgYaT16X3IiiIvVgOcuEx6z_La7Y9pjQ=s64",
      "userId": "06049500529385007077"
     },
     "user_tz": 180
    },
    "id": "XlYph-nFqX4Q"
   },
   "outputs": [],
   "source": [
    "dict1"
   ]
  },
  {
   "cell_type": "code",
   "execution_count": null,
   "metadata": {
    "executionInfo": {
     "elapsed": 1614,
     "status": "aborted",
     "timestamp": 1618518537496,
     "user": {
      "displayName": "Mauro Ribeiro",
      "photoUrl": "https://lh3.googleusercontent.com/a-/AOh14Gh4UCHXUwlgYaT16X3IiiIvVgOcuEx6z_La7Y9pjQ=s64",
      "userId": "06049500529385007077"
     },
     "user_tz": 180
    },
    "id": "kkivlsEsqX4Q"
   },
   "outputs": [],
   "source": [
    "dict1[\"teste\"] = 10"
   ]
  },
  {
   "cell_type": "code",
   "execution_count": null,
   "metadata": {
    "executionInfo": {
     "elapsed": 1614,
     "status": "aborted",
     "timestamp": 1618518537497,
     "user": {
      "displayName": "Mauro Ribeiro",
      "photoUrl": "https://lh3.googleusercontent.com/a-/AOh14Gh4UCHXUwlgYaT16X3IiiIvVgOcuEx6z_La7Y9pjQ=s64",
      "userId": "06049500529385007077"
     },
     "user_tz": 180
    },
    "id": "tbbBnHCpqX4Q"
   },
   "outputs": [],
   "source": [
    "dict1[\"key\"] = \"teste\""
   ]
  },
  {
   "cell_type": "code",
   "execution_count": null,
   "metadata": {
    "executionInfo": {
     "elapsed": 1613,
     "status": "aborted",
     "timestamp": 1618518537497,
     "user": {
      "displayName": "Mauro Ribeiro",
      "photoUrl": "https://lh3.googleusercontent.com/a-/AOh14Gh4UCHXUwlgYaT16X3IiiIvVgOcuEx6z_La7Y9pjQ=s64",
      "userId": "06049500529385007077"
     },
     "user_tz": 180
    },
    "id": "kBTlLo6pqX4Q"
   },
   "outputs": [],
   "source": [
    "# Atenção, pois chave e valor podem ser iguais, mas representam coisas diferentes.\n",
    "dict1"
   ]
  },
  {
   "cell_type": "code",
   "execution_count": null,
   "metadata": {
    "executionInfo": {
     "elapsed": 1613,
     "status": "aborted",
     "timestamp": 1618518537498,
     "user": {
      "displayName": "Mauro Ribeiro",
      "photoUrl": "https://lh3.googleusercontent.com/a-/AOh14Gh4UCHXUwlgYaT16X3IiiIvVgOcuEx6z_La7Y9pjQ=s64",
      "userId": "06049500529385007077"
     },
     "user_tz": 180
    },
    "id": "gRhBGnFxqX4Q"
   },
   "outputs": [],
   "source": [
    "dict2 = {}"
   ]
  },
  {
   "cell_type": "code",
   "execution_count": null,
   "metadata": {
    "executionInfo": {
     "elapsed": 1612,
     "status": "aborted",
     "timestamp": 1618518537498,
     "user": {
      "displayName": "Mauro Ribeiro",
      "photoUrl": "https://lh3.googleusercontent.com/a-/AOh14Gh4UCHXUwlgYaT16X3IiiIvVgOcuEx6z_La7Y9pjQ=s64",
      "userId": "06049500529385007077"
     },
     "user_tz": 180
    },
    "id": "hmRPELFPqX4R"
   },
   "outputs": [],
   "source": [
    "dict2[\"key1\"] = \"Big Data\""
   ]
  },
  {
   "cell_type": "code",
   "execution_count": null,
   "metadata": {
    "executionInfo": {
     "elapsed": 1612,
     "status": "aborted",
     "timestamp": 1618518537499,
     "user": {
      "displayName": "Mauro Ribeiro",
      "photoUrl": "https://lh3.googleusercontent.com/a-/AOh14Gh4UCHXUwlgYaT16X3IiiIvVgOcuEx6z_La7Y9pjQ=s64",
      "userId": "06049500529385007077"
     },
     "user_tz": 180
    },
    "id": "qkiVnT2lqX4R"
   },
   "outputs": [],
   "source": [
    "dict2[\"key2\"] = 10"
   ]
  },
  {
   "cell_type": "code",
   "execution_count": null,
   "metadata": {
    "executionInfo": {
     "elapsed": 1610,
     "status": "aborted",
     "timestamp": 1618518537499,
     "user": {
      "displayName": "Mauro Ribeiro",
      "photoUrl": "https://lh3.googleusercontent.com/a-/AOh14Gh4UCHXUwlgYaT16X3IiiIvVgOcuEx6z_La7Y9pjQ=s64",
      "userId": "06049500529385007077"
     },
     "user_tz": 180
    },
    "id": "JRLztmQVqX4R"
   },
   "outputs": [],
   "source": [
    "dict2[\"key3\"] = 5.6"
   ]
  },
  {
   "cell_type": "code",
   "execution_count": null,
   "metadata": {
    "executionInfo": {
     "elapsed": 1609,
     "status": "aborted",
     "timestamp": 1618518537499,
     "user": {
      "displayName": "Mauro Ribeiro",
      "photoUrl": "https://lh3.googleusercontent.com/a-/AOh14Gh4UCHXUwlgYaT16X3IiiIvVgOcuEx6z_La7Y9pjQ=s64",
      "userId": "06049500529385007077"
     },
     "user_tz": 180
    },
    "id": "xWwD_B9RqX4R"
   },
   "outputs": [],
   "source": [
    "dict2"
   ]
  },
  {
   "cell_type": "code",
   "execution_count": null,
   "metadata": {
    "executionInfo": {
     "elapsed": 1609,
     "status": "aborted",
     "timestamp": 1618518537500,
     "user": {
      "displayName": "Mauro Ribeiro",
      "photoUrl": "https://lh3.googleusercontent.com/a-/AOh14Gh4UCHXUwlgYaT16X3IiiIvVgOcuEx6z_La7Y9pjQ=s64",
      "userId": "06049500529385007077"
     },
     "user_tz": 180
    },
    "id": "2eHdqhjLqX4R"
   },
   "outputs": [],
   "source": [
    "a = dict2[\"key1\"]"
   ]
  },
  {
   "cell_type": "code",
   "execution_count": null,
   "metadata": {
    "executionInfo": {
     "elapsed": 1608,
     "status": "aborted",
     "timestamp": 1618518537500,
     "user": {
      "displayName": "Mauro Ribeiro",
      "photoUrl": "https://lh3.googleusercontent.com/a-/AOh14Gh4UCHXUwlgYaT16X3IiiIvVgOcuEx6z_La7Y9pjQ=s64",
      "userId": "06049500529385007077"
     },
     "user_tz": 180
    },
    "id": "S5slp3AZqX4R"
   },
   "outputs": [],
   "source": [
    "b = dict2[\"key2\"]"
   ]
  },
  {
   "cell_type": "code",
   "execution_count": null,
   "metadata": {
    "executionInfo": {
     "elapsed": 1607,
     "status": "aborted",
     "timestamp": 1618518537500,
     "user": {
      "displayName": "Mauro Ribeiro",
      "photoUrl": "https://lh3.googleusercontent.com/a-/AOh14Gh4UCHXUwlgYaT16X3IiiIvVgOcuEx6z_La7Y9pjQ=s64",
      "userId": "06049500529385007077"
     },
     "user_tz": 180
    },
    "id": "FHU2Hx7BqX4R"
   },
   "outputs": [],
   "source": [
    "c = dict2[\"key3\"]"
   ]
  },
  {
   "cell_type": "code",
   "execution_count": null,
   "metadata": {
    "executionInfo": {
     "elapsed": 1606,
     "status": "aborted",
     "timestamp": 1618518537501,
     "user": {
      "displayName": "Mauro Ribeiro",
      "photoUrl": "https://lh3.googleusercontent.com/a-/AOh14Gh4UCHXUwlgYaT16X3IiiIvVgOcuEx6z_La7Y9pjQ=s64",
      "userId": "06049500529385007077"
     },
     "user_tz": 180
    },
    "id": "1W48H9XQqX4S"
   },
   "outputs": [],
   "source": [
    "a, b, c"
   ]
  },
  {
   "cell_type": "code",
   "execution_count": null,
   "metadata": {
    "executionInfo": {
     "elapsed": 1605,
     "status": "aborted",
     "timestamp": 1618518537501,
     "user": {
      "displayName": "Mauro Ribeiro",
      "photoUrl": "https://lh3.googleusercontent.com/a-/AOh14Gh4UCHXUwlgYaT16X3IiiIvVgOcuEx6z_La7Y9pjQ=s64",
      "userId": "06049500529385007077"
     },
     "user_tz": 180
    },
    "id": "U4pcvWy7qX4S"
   },
   "outputs": [],
   "source": [
    "# Dicionário de listas\n",
    "dict3 = {'key1':1230,'key2':[22,453,73.4],'key3':['leite','maça','batata']}"
   ]
  },
  {
   "cell_type": "code",
   "execution_count": null,
   "metadata": {
    "executionInfo": {
     "elapsed": 1604,
     "status": "aborted",
     "timestamp": 1618518537501,
     "user": {
      "displayName": "Mauro Ribeiro",
      "photoUrl": "https://lh3.googleusercontent.com/a-/AOh14Gh4UCHXUwlgYaT16X3IiiIvVgOcuEx6z_La7Y9pjQ=s64",
      "userId": "06049500529385007077"
     },
     "user_tz": 180
    },
    "id": "cOQ9ClUlqX4S"
   },
   "outputs": [],
   "source": [
    "dict3"
   ]
  },
  {
   "cell_type": "code",
   "execution_count": null,
   "metadata": {
    "executionInfo": {
     "elapsed": 1604,
     "status": "aborted",
     "timestamp": 1618518537502,
     "user": {
      "displayName": "Mauro Ribeiro",
      "photoUrl": "https://lh3.googleusercontent.com/a-/AOh14Gh4UCHXUwlgYaT16X3IiiIvVgOcuEx6z_La7Y9pjQ=s64",
      "userId": "06049500529385007077"
     },
     "user_tz": 180
    },
    "id": "QI_x-CoRqX4S"
   },
   "outputs": [],
   "source": [
    "dict3['key2']"
   ]
  },
  {
   "cell_type": "code",
   "execution_count": null,
   "metadata": {
    "executionInfo": {
     "elapsed": 1602,
     "status": "aborted",
     "timestamp": 1618518537502,
     "user": {
      "displayName": "Mauro Ribeiro",
      "photoUrl": "https://lh3.googleusercontent.com/a-/AOh14Gh4UCHXUwlgYaT16X3IiiIvVgOcuEx6z_La7Y9pjQ=s64",
      "userId": "06049500529385007077"
     },
     "user_tz": 180
    },
    "id": "muVmmsZlqX4S"
   },
   "outputs": [],
   "source": [
    "# Acessando um item da lista, dentro do dicionário\n",
    "dict3['key3'][0].upper()"
   ]
  },
  {
   "cell_type": "code",
   "execution_count": null,
   "metadata": {
    "executionInfo": {
     "elapsed": 1601,
     "status": "aborted",
     "timestamp": 1618518537502,
     "user": {
      "displayName": "Mauro Ribeiro",
      "photoUrl": "https://lh3.googleusercontent.com/a-/AOh14Gh4UCHXUwlgYaT16X3IiiIvVgOcuEx6z_La7Y9pjQ=s64",
      "userId": "06049500529385007077"
     },
     "user_tz": 180
    },
    "id": "INcWcY2IqX4S"
   },
   "outputs": [],
   "source": [
    "# Operações com itens da lista, dentro do dicionário\n",
    "var1 = dict3['key2'][0] - 2"
   ]
  },
  {
   "cell_type": "code",
   "execution_count": null,
   "metadata": {
    "executionInfo": {
     "elapsed": 1601,
     "status": "aborted",
     "timestamp": 1618518537503,
     "user": {
      "displayName": "Mauro Ribeiro",
      "photoUrl": "https://lh3.googleusercontent.com/a-/AOh14Gh4UCHXUwlgYaT16X3IiiIvVgOcuEx6z_La7Y9pjQ=s64",
      "userId": "06049500529385007077"
     },
     "user_tz": 180
    },
    "id": "dAjjRcSJqX4T"
   },
   "outputs": [],
   "source": [
    "var1"
   ]
  },
  {
   "cell_type": "code",
   "execution_count": null,
   "metadata": {
    "executionInfo": {
     "elapsed": 1600,
     "status": "aborted",
     "timestamp": 1618518537503,
     "user": {
      "displayName": "Mauro Ribeiro",
      "photoUrl": "https://lh3.googleusercontent.com/a-/AOh14Gh4UCHXUwlgYaT16X3IiiIvVgOcuEx6z_La7Y9pjQ=s64",
      "userId": "06049500529385007077"
     },
     "user_tz": 180
    },
    "id": "dFYcJ4CVqX4T"
   },
   "outputs": [],
   "source": [
    "# Duas operações no mesmo comando, para atualizar um item dentro da lista\n",
    "dict3['key2'][0] -= 2"
   ]
  },
  {
   "cell_type": "code",
   "execution_count": null,
   "metadata": {
    "executionInfo": {
     "elapsed": 1600,
     "status": "aborted",
     "timestamp": 1618518537504,
     "user": {
      "displayName": "Mauro Ribeiro",
      "photoUrl": "https://lh3.googleusercontent.com/a-/AOh14Gh4UCHXUwlgYaT16X3IiiIvVgOcuEx6z_La7Y9pjQ=s64",
      "userId": "06049500529385007077"
     },
     "user_tz": 180
    },
    "id": "VO1k2AxrqX4T"
   },
   "outputs": [],
   "source": [
    "dict3"
   ]
  },
  {
   "cell_type": "markdown",
   "metadata": {
    "id": "gNPfShX5qX4T"
   },
   "source": [
    "### Criando dicionários aninhados"
   ]
  },
  {
   "cell_type": "code",
   "execution_count": null,
   "metadata": {
    "executionInfo": {
     "elapsed": 1599,
     "status": "aborted",
     "timestamp": 1618518537504,
     "user": {
      "displayName": "Mauro Ribeiro",
      "photoUrl": "https://lh3.googleusercontent.com/a-/AOh14Gh4UCHXUwlgYaT16X3IiiIvVgOcuEx6z_La7Y9pjQ=s64",
      "userId": "06049500529385007077"
     },
     "user_tz": 180
    },
    "id": "S7PhuVh3qX4T"
   },
   "outputs": [],
   "source": [
    "# Criando dicionários aninhados\n",
    "dict_aninhado = {'key1':{'key2_aninhada':{'key3_aninhada':'Dict aninhado em Python'}}}"
   ]
  },
  {
   "cell_type": "code",
   "execution_count": null,
   "metadata": {
    "executionInfo": {
     "elapsed": 1599,
     "status": "aborted",
     "timestamp": 1618518537505,
     "user": {
      "displayName": "Mauro Ribeiro",
      "photoUrl": "https://lh3.googleusercontent.com/a-/AOh14Gh4UCHXUwlgYaT16X3IiiIvVgOcuEx6z_La7Y9pjQ=s64",
      "userId": "06049500529385007077"
     },
     "user_tz": 180
    },
    "id": "T2yL-elEqX4T"
   },
   "outputs": [],
   "source": [
    "dict_aninhado"
   ]
  },
  {
   "cell_type": "code",
   "execution_count": null,
   "metadata": {
    "executionInfo": {
     "elapsed": 1598,
     "status": "aborted",
     "timestamp": 1618518537505,
     "user": {
      "displayName": "Mauro Ribeiro",
      "photoUrl": "https://lh3.googleusercontent.com/a-/AOh14Gh4UCHXUwlgYaT16X3IiiIvVgOcuEx6z_La7Y9pjQ=s64",
      "userId": "06049500529385007077"
     },
     "user_tz": 180
    },
    "id": "EZ_YXHDJqX4U"
   },
   "outputs": [],
   "source": [
    "dict_aninhado['key1']['key2_aninhada']['key3_aninhada']"
   ]
  },
  {
   "cell_type": "markdown",
   "metadata": {
    "id": "jcvzct0VqX4U"
   },
   "source": [
    "# Fim"
   ]
  }
 ],
 "metadata": {
  "anaconda-cloud": {},
  "colab": {
   "name": "2 aula - 05 - Dicionarios.ipynb",
   "provenance": [
    {
     "file_id": "https://github.com/dsacademybr/PythonFundamentos/blob/master/Cap02/Notebooks/DSA-Python-Cap02-05-Dicionarios.ipynb",
     "timestamp": 1618509140110
    }
   ]
  },
  "kernelspec": {
   "display_name": "Python 3",
   "language": "python",
   "name": "python3"
  },
  "language_info": {
   "codemirror_mode": {
    "name": "ipython",
    "version": 3
   },
   "file_extension": ".py",
   "mimetype": "text/x-python",
   "name": "python",
   "nbconvert_exporter": "python",
   "pygments_lexer": "ipython3",
   "version": "3.8.5"
  }
 },
 "nbformat": 4,
 "nbformat_minor": 1
}
