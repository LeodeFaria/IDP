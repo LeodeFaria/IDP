{
 "cells": [
  {
   "cell_type": "markdown",
   "metadata": {
    "id": "AnTg8qccpIIB"
   },
   "source": [
    "## Números e Operações Matemáticas"
   ]
  },
  {
   "cell_type": "markdown",
   "metadata": {
    "id": "kfwXRgIepIIB"
   },
   "source": [
    "# Pressione as teclas shift e enter para executar o código em uma célula ou pressione o botão Play no menu superior"
   ]
  },
  {
   "cell_type": "code",
   "execution_count": null,
   "metadata": {
    "colab": {
     "base_uri": "https://localhost:8080/"
    },
    "executionInfo": {
     "elapsed": 758,
     "status": "ok",
     "timestamp": 1618528773606,
     "user": {
      "displayName": "Mauro Ribeiro",
      "photoUrl": "https://lh3.googleusercontent.com/a-/AOh14Gh4UCHXUwlgYaT16X3IiiIvVgOcuEx6z_La7Y9pjQ=s64",
      "userId": "06049500529385007077"
     },
     "user_tz": 180
    },
    "id": "giT4MXtBpIIB",
    "outputId": "96f5c836-960a-4155-9577-1d99345f4411"
   },
   "outputs": [],
   "source": [
    "# Soma\n",
    "4 + 4"
   ]
  },
  {
   "cell_type": "code",
   "execution_count": null,
   "metadata": {
    "colab": {
     "base_uri": "https://localhost:8080/"
    },
    "executionInfo": {
     "elapsed": 621,
     "status": "ok",
     "timestamp": 1618528778928,
     "user": {
      "displayName": "Mauro Ribeiro",
      "photoUrl": "https://lh3.googleusercontent.com/a-/AOh14Gh4UCHXUwlgYaT16X3IiiIvVgOcuEx6z_La7Y9pjQ=s64",
      "userId": "06049500529385007077"
     },
     "user_tz": 180
    },
    "id": "Z_bm8wlApIIC",
    "outputId": "b985546e-9232-439e-ec3a-c1e74d155f71"
   },
   "outputs": [],
   "source": [
    "# Subtração\n",
    "4 - 3"
   ]
  },
  {
   "cell_type": "code",
   "execution_count": null,
   "metadata": {
    "colab": {
     "base_uri": "https://localhost:8080/"
    },
    "executionInfo": {
     "elapsed": 626,
     "status": "ok",
     "timestamp": 1618528788951,
     "user": {
      "displayName": "Mauro Ribeiro",
      "photoUrl": "https://lh3.googleusercontent.com/a-/AOh14Gh4UCHXUwlgYaT16X3IiiIvVgOcuEx6z_La7Y9pjQ=s64",
      "userId": "06049500529385007077"
     },
     "user_tz": 180
    },
    "id": "MgeqwMY0pIIC",
    "outputId": "59f3307d-6799-4b99-8b79-61ab687f4727"
   },
   "outputs": [],
   "source": [
    "# Multiplicação\n",
    "3 * 3"
   ]
  },
  {
   "cell_type": "code",
   "execution_count": null,
   "metadata": {
    "colab": {
     "base_uri": "https://localhost:8080/"
    },
    "executionInfo": {
     "elapsed": 616,
     "status": "ok",
     "timestamp": 1618528793019,
     "user": {
      "displayName": "Mauro Ribeiro",
      "photoUrl": "https://lh3.googleusercontent.com/a-/AOh14Gh4UCHXUwlgYaT16X3IiiIvVgOcuEx6z_La7Y9pjQ=s64",
      "userId": "06049500529385007077"
     },
     "user_tz": 180
    },
    "id": "036QAhoJpIIC",
    "outputId": "03e56493-6a96-4616-f900-89b89ad65df8"
   },
   "outputs": [],
   "source": [
    "# Divisão\n",
    "3 / 2"
   ]
  },
  {
   "cell_type": "code",
   "execution_count": null,
   "metadata": {
    "colab": {
     "base_uri": "https://localhost:8080/"
    },
    "executionInfo": {
     "elapsed": 640,
     "status": "ok",
     "timestamp": 1618528800628,
     "user": {
      "displayName": "Mauro Ribeiro",
      "photoUrl": "https://lh3.googleusercontent.com/a-/AOh14Gh4UCHXUwlgYaT16X3IiiIvVgOcuEx6z_La7Y9pjQ=s64",
      "userId": "06049500529385007077"
     },
     "user_tz": 180
    },
    "id": "AhBkiQR6pIID",
    "outputId": "92fdb5ee-b892-4569-e14e-815dfbdb7968"
   },
   "outputs": [],
   "source": [
    "# Potência\n",
    "4 ** 2  "
   ]
  },
  {
   "cell_type": "code",
   "execution_count": null,
   "metadata": {
    "colab": {
     "base_uri": "https://localhost:8080/"
    },
    "executionInfo": {
     "elapsed": 622,
     "status": "ok",
     "timestamp": 1618528875486,
     "user": {
      "displayName": "Mauro Ribeiro",
      "photoUrl": "https://lh3.googleusercontent.com/a-/AOh14Gh4UCHXUwlgYaT16X3IiiIvVgOcuEx6z_La7Y9pjQ=s64",
      "userId": "06049500529385007077"
     },
     "user_tz": 180
    },
    "id": "qO4kBkaQpIID",
    "outputId": "e7e7157f-f588-4eeb-8268-b25ab6f91a94"
   },
   "outputs": [],
   "source": [
    "# Resto\n",
    "10 % 3  "
   ]
  },
  {
   "cell_type": "code",
   "execution_count": null,
   "metadata": {
    "colab": {
     "base_uri": "https://localhost:8080/"
    },
    "executionInfo": {
     "elapsed": 610,
     "status": "ok",
     "timestamp": 1618528881917,
     "user": {
      "displayName": "Mauro Ribeiro",
      "photoUrl": "https://lh3.googleusercontent.com/a-/AOh14Gh4UCHXUwlgYaT16X3IiiIvVgOcuEx6z_La7Y9pjQ=s64",
      "userId": "06049500529385007077"
     },
     "user_tz": 180
    },
    "id": "ZW5APaZV1gdW",
    "outputId": "f2b97c9d-a636-4d32-a768-805349552664"
   },
   "outputs": [],
   "source": [
    "# Módulo\n",
    "10 // 3"
   ]
  },
  {
   "cell_type": "markdown",
   "metadata": {
    "id": "-D2HuUxwpIID"
   },
   "source": [
    "### Função Type - exibe o tipo da variável "
   ]
  },
  {
   "cell_type": "code",
   "execution_count": null,
   "metadata": {
    "colab": {
     "base_uri": "https://localhost:8080/"
    },
    "executionInfo": {
     "elapsed": 604,
     "status": "ok",
     "timestamp": 1618528921552,
     "user": {
      "displayName": "Mauro Ribeiro",
      "photoUrl": "https://lh3.googleusercontent.com/a-/AOh14Gh4UCHXUwlgYaT16X3IiiIvVgOcuEx6z_La7Y9pjQ=s64",
      "userId": "06049500529385007077"
     },
     "user_tz": 180
    },
    "id": "BWcYMPFHpIID",
    "outputId": "516ecd02-9e1b-4c95-cf10-e2281af41b2e"
   },
   "outputs": [],
   "source": [
    "type(5)"
   ]
  },
  {
   "cell_type": "code",
   "execution_count": null,
   "metadata": {
    "colab": {
     "base_uri": "https://localhost:8080/"
    },
    "executionInfo": {
     "elapsed": 601,
     "status": "ok",
     "timestamp": 1618528991985,
     "user": {
      "displayName": "Mauro Ribeiro",
      "photoUrl": "https://lh3.googleusercontent.com/a-/AOh14Gh4UCHXUwlgYaT16X3IiiIvVgOcuEx6z_La7Y9pjQ=s64",
      "userId": "06049500529385007077"
     },
     "user_tz": 180
    },
    "id": "48q22so2pIIE",
    "outputId": "ae11ac71-5d46-4c99-dae1-d03b14373255"
   },
   "outputs": [],
   "source": [
    "type(5.0)"
   ]
  },
  {
   "cell_type": "code",
   "execution_count": null,
   "metadata": {
    "colab": {
     "base_uri": "https://localhost:8080/"
    },
    "executionInfo": {
     "elapsed": 660,
     "status": "ok",
     "timestamp": 1618529059014,
     "user": {
      "displayName": "Mauro Ribeiro",
      "photoUrl": "https://lh3.googleusercontent.com/a-/AOh14Gh4UCHXUwlgYaT16X3IiiIvVgOcuEx6z_La7Y9pjQ=s64",
      "userId": "06049500529385007077"
     },
     "user_tz": 180
    },
    "id": "WbNgIo2tpIIE",
    "outputId": "b5362f4d-02ef-473e-ece3-69f757a9d80c"
   },
   "outputs": [],
   "source": [
    "a = 'Eu sou um professor'\n",
    "type(a)"
   ]
  },
  {
   "cell_type": "markdown",
   "metadata": {
    "id": "KUcAPDqKpIIE"
   },
   "source": [
    "### Operações com números float"
   ]
  },
  {
   "cell_type": "code",
   "execution_count": null,
   "metadata": {
    "colab": {
     "base_uri": "https://localhost:8080/"
    },
    "executionInfo": {
     "elapsed": 731,
     "status": "ok",
     "timestamp": 1618529074779,
     "user": {
      "displayName": "Mauro Ribeiro",
      "photoUrl": "https://lh3.googleusercontent.com/a-/AOh14Gh4UCHXUwlgYaT16X3IiiIvVgOcuEx6z_La7Y9pjQ=s64",
      "userId": "06049500529385007077"
     },
     "user_tz": 180
    },
    "id": "AO7-4XTnpIIE",
    "outputId": "b1f1fb16-0383-496f-bf59-0a27f9c6733a"
   },
   "outputs": [],
   "source": [
    "3.1 + 6.4"
   ]
  },
  {
   "cell_type": "code",
   "execution_count": null,
   "metadata": {
    "colab": {
     "base_uri": "https://localhost:8080/"
    },
    "executionInfo": {
     "elapsed": 605,
     "status": "ok",
     "timestamp": 1618529090661,
     "user": {
      "displayName": "Mauro Ribeiro",
      "photoUrl": "https://lh3.googleusercontent.com/a-/AOh14Gh4UCHXUwlgYaT16X3IiiIvVgOcuEx6z_La7Y9pjQ=s64",
      "userId": "06049500529385007077"
     },
     "user_tz": 180
    },
    "id": "f_-yokHtpIIE",
    "outputId": "a040ab30-0274-4a9e-bc14-2cd944f75487"
   },
   "outputs": [],
   "source": [
    "4 + 4.0"
   ]
  },
  {
   "cell_type": "code",
   "execution_count": null,
   "metadata": {
    "colab": {
     "base_uri": "https://localhost:8080/"
    },
    "executionInfo": {
     "elapsed": 904,
     "status": "ok",
     "timestamp": 1618529132784,
     "user": {
      "displayName": "Mauro Ribeiro",
      "photoUrl": "https://lh3.googleusercontent.com/a-/AOh14Gh4UCHXUwlgYaT16X3IiiIvVgOcuEx6z_La7Y9pjQ=s64",
      "userId": "06049500529385007077"
     },
     "user_tz": 180
    },
    "id": "4FOTHA_epIIF",
    "outputId": "9515b597-91d7-4744-81aa-d14dc7879290"
   },
   "outputs": [],
   "source": [
    "4 + 4"
   ]
  },
  {
   "cell_type": "code",
   "execution_count": null,
   "metadata": {
    "colab": {
     "base_uri": "https://localhost:8080/"
    },
    "executionInfo": {
     "elapsed": 621,
     "status": "ok",
     "timestamp": 1618529138481,
     "user": {
      "displayName": "Mauro Ribeiro",
      "photoUrl": "https://lh3.googleusercontent.com/a-/AOh14Gh4UCHXUwlgYaT16X3IiiIvVgOcuEx6z_La7Y9pjQ=s64",
      "userId": "06049500529385007077"
     },
     "user_tz": 180
    },
    "id": "Zf8NvQs2pIIF",
    "outputId": "66e336e7-f702-4ac5-8d9d-6ef13c82b33b"
   },
   "outputs": [],
   "source": [
    "# Resultado é um número float\n",
    "4 / 2"
   ]
  },
  {
   "cell_type": "code",
   "execution_count": null,
   "metadata": {
    "colab": {
     "base_uri": "https://localhost:8080/"
    },
    "executionInfo": {
     "elapsed": 741,
     "status": "ok",
     "timestamp": 1618529191848,
     "user": {
      "displayName": "Mauro Ribeiro",
      "photoUrl": "https://lh3.googleusercontent.com/a-/AOh14Gh4UCHXUwlgYaT16X3IiiIvVgOcuEx6z_La7Y9pjQ=s64",
      "userId": "06049500529385007077"
     },
     "user_tz": 180
    },
    "id": "F6xGpJ9vpIIF",
    "outputId": "7686da3e-54ea-4b2c-d14a-fcbbee14802d"
   },
   "outputs": [],
   "source": [
    "# Resultado é um número inteiro\n",
    "9 // 2"
   ]
  },
  {
   "cell_type": "code",
   "execution_count": null,
   "metadata": {
    "colab": {
     "base_uri": "https://localhost:8080/"
    },
    "executionInfo": {
     "elapsed": 638,
     "status": "ok",
     "timestamp": 1618529199971,
     "user": {
      "displayName": "Mauro Ribeiro",
      "photoUrl": "https://lh3.googleusercontent.com/a-/AOh14Gh4UCHXUwlgYaT16X3IiiIvVgOcuEx6z_La7Y9pjQ=s64",
      "userId": "06049500529385007077"
     },
     "user_tz": 180
    },
    "id": "vc06YkqcpIIF",
    "outputId": "8443a4e8-daec-40c0-cf43-5771f6148df0"
   },
   "outputs": [],
   "source": [
    "4 / 3.0"
   ]
  },
  {
   "cell_type": "code",
   "execution_count": null,
   "metadata": {
    "colab": {
     "base_uri": "https://localhost:8080/"
    },
    "executionInfo": {
     "elapsed": 723,
     "status": "ok",
     "timestamp": 1618529209831,
     "user": {
      "displayName": "Mauro Ribeiro",
      "photoUrl": "https://lh3.googleusercontent.com/a-/AOh14Gh4UCHXUwlgYaT16X3IiiIvVgOcuEx6z_La7Y9pjQ=s64",
      "userId": "06049500529385007077"
     },
     "user_tz": 180
    },
    "id": "qDjfQmNBpIIG",
    "outputId": "b1c0fa75-6f72-4fa3-84fb-66e586b25b85"
   },
   "outputs": [],
   "source": [
    "4 // 3.0"
   ]
  },
  {
   "cell_type": "markdown",
   "metadata": {
    "id": "_nkdaQqipIIG"
   },
   "source": [
    "### Conversão"
   ]
  },
  {
   "cell_type": "code",
   "execution_count": null,
   "metadata": {
    "colab": {
     "base_uri": "https://localhost:8080/"
    },
    "executionInfo": {
     "elapsed": 603,
     "status": "ok",
     "timestamp": 1618529235312,
     "user": {
      "displayName": "Mauro Ribeiro",
      "photoUrl": "https://lh3.googleusercontent.com/a-/AOh14Gh4UCHXUwlgYaT16X3IiiIvVgOcuEx6z_La7Y9pjQ=s64",
      "userId": "06049500529385007077"
     },
     "user_tz": 180
    },
    "id": "-R76abOdpIIG",
    "outputId": "11aaa240-f3e8-44a0-bb4d-7f3e97fa07ee"
   },
   "outputs": [],
   "source": [
    "float(9)"
   ]
  },
  {
   "cell_type": "code",
   "execution_count": null,
   "metadata": {
    "colab": {
     "base_uri": "https://localhost:8080/"
    },
    "executionInfo": {
     "elapsed": 594,
     "status": "ok",
     "timestamp": 1618529246940,
     "user": {
      "displayName": "Mauro Ribeiro",
      "photoUrl": "https://lh3.googleusercontent.com/a-/AOh14Gh4UCHXUwlgYaT16X3IiiIvVgOcuEx6z_La7Y9pjQ=s64",
      "userId": "06049500529385007077"
     },
     "user_tz": 180
    },
    "id": "kVtU-TqMpIIG",
    "outputId": "5be8500e-676c-49d3-faec-90cd07160427"
   },
   "outputs": [],
   "source": [
    "int(6.0)"
   ]
  },
  {
   "cell_type": "code",
   "execution_count": null,
   "metadata": {
    "colab": {
     "base_uri": "https://localhost:8080/"
    },
    "executionInfo": {
     "elapsed": 676,
     "status": "ok",
     "timestamp": 1618529281552,
     "user": {
      "displayName": "Mauro Ribeiro",
      "photoUrl": "https://lh3.googleusercontent.com/a-/AOh14Gh4UCHXUwlgYaT16X3IiiIvVgOcuEx6z_La7Y9pjQ=s64",
      "userId": "06049500529385007077"
     },
     "user_tz": 180
    },
    "id": "yFxEEDOepIIG",
    "outputId": "05061485-c7a9-47bb-93fc-ffa9b22b855f"
   },
   "outputs": [],
   "source": [
    "int(6.9)"
   ]
  },
  {
   "cell_type": "code",
   "execution_count": null,
   "metadata": {
    "colab": {
     "base_uri": "https://localhost:8080/"
    },
    "executionInfo": {
     "elapsed": 545,
     "status": "ok",
     "timestamp": 1618529378366,
     "user": {
      "displayName": "Mauro Ribeiro",
      "photoUrl": "https://lh3.googleusercontent.com/a-/AOh14Gh4UCHXUwlgYaT16X3IiiIvVgOcuEx6z_La7Y9pjQ=s64",
      "userId": "06049500529385007077"
     },
     "user_tz": 180
    },
    "id": "7wAMDyc93WKN",
    "outputId": "8740b86c-3bc8-4837-d05f-372b1480d26f"
   },
   "outputs": [],
   "source": [
    "float('9.6')"
   ]
  },
  {
   "cell_type": "markdown",
   "metadata": {
    "id": "xcisNRXQpIII"
   },
   "source": [
    "### Funções abs, round e pow"
   ]
  },
  {
   "cell_type": "code",
   "execution_count": null,
   "metadata": {
    "colab": {
     "base_uri": "https://localhost:8080/"
    },
    "executionInfo": {
     "elapsed": 603,
     "status": "ok",
     "timestamp": 1618529397630,
     "user": {
      "displayName": "Mauro Ribeiro",
      "photoUrl": "https://lh3.googleusercontent.com/a-/AOh14Gh4UCHXUwlgYaT16X3IiiIvVgOcuEx6z_La7Y9pjQ=s64",
      "userId": "06049500529385007077"
     },
     "user_tz": 180
    },
    "id": "D-gFia2kpIII",
    "outputId": "a2f8f450-918b-41e8-8147-79d5d6b746d7"
   },
   "outputs": [],
   "source": [
    "# Retorna o valor absoluto\n",
    "abs(-8.9)"
   ]
  },
  {
   "cell_type": "code",
   "execution_count": null,
   "metadata": {
    "colab": {
     "base_uri": "https://localhost:8080/"
    },
    "executionInfo": {
     "elapsed": 646,
     "status": "ok",
     "timestamp": 1618529406357,
     "user": {
      "displayName": "Mauro Ribeiro",
      "photoUrl": "https://lh3.googleusercontent.com/a-/AOh14Gh4UCHXUwlgYaT16X3IiiIvVgOcuEx6z_La7Y9pjQ=s64",
      "userId": "06049500529385007077"
     },
     "user_tz": 180
    },
    "id": "W2C1cGLrpIII",
    "outputId": "343908c8-c287-4536-c5a9-13f4f70e08fe"
   },
   "outputs": [],
   "source": [
    "# Retorna o valor absoluto\n",
    "abs(8.6)"
   ]
  },
  {
   "cell_type": "code",
   "execution_count": null,
   "metadata": {
    "colab": {
     "base_uri": "https://localhost:8080/"
    },
    "executionInfo": {
     "elapsed": 693,
     "status": "ok",
     "timestamp": 1618529487829,
     "user": {
      "displayName": "Mauro Ribeiro",
      "photoUrl": "https://lh3.googleusercontent.com/a-/AOh14Gh4UCHXUwlgYaT16X3IiiIvVgOcuEx6z_La7Y9pjQ=s64",
      "userId": "06049500529385007077"
     },
     "user_tz": 180
    },
    "id": "e7JXrUAEpIII",
    "outputId": "799aa0da-d7e2-4687-d271-f3cf84b1a191"
   },
   "outputs": [],
   "source": [
    "# Retorna o valor com arredondamento\n",
    "round(3.14141922,3)"
   ]
  },
  {
   "cell_type": "code",
   "execution_count": null,
   "metadata": {
    "colab": {
     "base_uri": "https://localhost:8080/"
    },
    "executionInfo": {
     "elapsed": 645,
     "status": "ok",
     "timestamp": 1618529493432,
     "user": {
      "displayName": "Mauro Ribeiro",
      "photoUrl": "https://lh3.googleusercontent.com/a-/AOh14Gh4UCHXUwlgYaT16X3IiiIvVgOcuEx6z_La7Y9pjQ=s64",
      "userId": "06049500529385007077"
     },
     "user_tz": 180
    },
    "id": "-NMjIvuKpIII",
    "outputId": "c20d82c5-04d2-4a83-a11f-f5501122ceac"
   },
   "outputs": [],
   "source": [
    "# Potência\n",
    "pow(4,2)"
   ]
  },
  {
   "cell_type": "code",
   "execution_count": null,
   "metadata": {
    "colab": {
     "base_uri": "https://localhost:8080/"
    },
    "executionInfo": {
     "elapsed": 624,
     "status": "ok",
     "timestamp": 1618529502262,
     "user": {
      "displayName": "Mauro Ribeiro",
      "photoUrl": "https://lh3.googleusercontent.com/a-/AOh14Gh4UCHXUwlgYaT16X3IiiIvVgOcuEx6z_La7Y9pjQ=s64",
      "userId": "06049500529385007077"
     },
     "user_tz": 180
    },
    "id": "Te_kCv5jpIIJ",
    "outputId": "036ab644-94f5-4d55-8f46-f8295d6d72f5"
   },
   "outputs": [],
   "source": [
    "# Potência\n",
    "pow(5,3)"
   ]
  },
  {
   "cell_type": "markdown",
   "metadata": {
    "id": "ZaxwsHGBpIIJ"
   },
   "source": [
    "# Fim"
   ]
  }
 ],
 "metadata": {
  "anaconda-cloud": {},
  "colab": {
   "collapsed_sections": [],
   "name": "2 aula - 01 - Numeros.ipynb",
   "provenance": [
    {
     "file_id": "https://github.com/dsacademybr/PythonFundamentos/blob/master/Cap02/Notebooks/DSA-Python-Cap02-01-Numeros.ipynb",
     "timestamp": 1618508827958
    }
   ]
  },
  "kernelspec": {
   "display_name": "Python 3",
   "language": "python",
   "name": "python3"
  },
  "language_info": {
   "codemirror_mode": {
    "name": "ipython",
    "version": 3
   },
   "file_extension": ".py",
   "mimetype": "text/x-python",
   "name": "python",
   "nbconvert_exporter": "python",
   "pygments_lexer": "ipython3",
   "version": "3.8.5"
  }
 },
 "nbformat": 4,
 "nbformat_minor": 1
}
