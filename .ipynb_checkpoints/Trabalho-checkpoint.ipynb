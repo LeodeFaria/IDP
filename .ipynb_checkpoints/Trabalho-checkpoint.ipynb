{
 "cells": [
  {
   "cell_type": "code",
   "execution_count": null,
   "id": "b486423c",
   "metadata": {},
   "outputs": [],
   "source": [
    "#!/usr/bin/env python3\n",
    "# -*- coding: utf-8 -*-\n",
    "\"\"\"\n",
    "Created on Sun Jun 13 18:59:45 2021\n",
    "\n",
    "@author: leodefaria\n",
    "\"\"\""
   ]
  },
  {
   "cell_type": "markdown",
   "id": "5276f91a",
   "metadata": {},
   "source": [
    "## Importação de bibliotecas"
   ]
  },
  {
   "cell_type": "code",
   "execution_count": null,
   "id": "d98b928a",
   "metadata": {},
   "outputs": [],
   "source": [
    "# from urllib.request import urlopen\n",
    "# from urllib.error import HTTPError\n",
    "# from urllib.error import URLError\n",
    "# import ssl\n",
    "import pandas as pd\n",
    "from bs4 import BeautifulSoup\n",
    "import seaborn as sns\n",
    "import matplotlib.pyplot as plt\n",
    "import numpy as np"
   ]
  },
  {
   "cell_type": "markdown",
   "id": "8bb32f19",
   "metadata": {},
   "source": [
    "## Importação de dados"
   ]
  },
  {
   "cell_type": "code",
   "execution_count": null,
   "id": "6c85b583",
   "metadata": {},
   "outputs": [],
   "source": [
    "# Vacinados\n",
    "\n",
    "# base original: DADOS ABERTOS - Registros de Vacinação COVID19 - UF: DF\n",
    "# https://s3-sa-east-1.amazonaws.com/ckan.saude.gov.br/PNI/vacina/uf/2021-06-12/uf%3DDF/part-00000-e7b5a3a9-bb01-40f5-aa63-d3bd2cfe2507.c000.csv\n",
    "df_vacina = pd.read_csv('/Users/leodefaria/Documents/IDP/dados/part-00000-e7b5a3a9-bb01-40f5-aa63-d3bd2cfe2507.c000.csv', sep=';')"
   ]
  },
  {
   "cell_type": "code",
   "execution_count": null,
   "id": "f6af4157",
   "metadata": {},
   "outputs": [],
   "source": [
    "df_vacina_BaseBruta = pd.read_csv('/Users/leodefaria/Documents/IDP/dados/part-00000-e7b5a3a9-bb01-40f5-aa63-d3bd2cfe2507.c000.csv', sep=';')"
   ]
  },
  {
   "cell_type": "code",
   "execution_count": null,
   "id": "54871a89",
   "metadata": {},
   "outputs": [],
   "source": [
    "# População\n",
    "\n",
    "# Base Original: IBGE - Dados dos Municípios\n",
    "# https://cidades.ibge.gov.br/brasil/df/brasilia/panorama\n",
    "# Populacao = 3055149"
   ]
  },
  {
   "cell_type": "code",
   "execution_count": null,
   "id": "397df138",
   "metadata": {},
   "outputs": [],
   "source": [
    "# População por faixas\n",
    "\n",
    "# Base Original: IBGE - Projeção Municípios\n",
    "# https://www.ibge.gov.br/apps/populacao/projecao/index.html\n",
    "df_IBGE_F = pd.read_csv('/Users/leodefaria/Documents/IDP/dados/DF - Fx_IdadeM.csv', sep=';')\n",
    "df_IBGE_M = pd.read_csv('/Users/leodefaria/Documents/IDP/dados/DF - Fx_IdadeH.csv', sep=';')"
   ]
  },
  {
   "cell_type": "markdown",
   "id": "f7b8ded0",
   "metadata": {},
   "source": [
    "## Ajuste IBGE"
   ]
  },
  {
   "cell_type": "code",
   "execution_count": null,
   "id": "9982e0f1",
   "metadata": {},
   "outputs": [],
   "source": [
    "# Separaçao dos dados de 2020 e 2021\n",
    "\n",
    "# Feminino\n",
    "df_IBGE_F.drop(df_IBGE_F.columns[1:12], inplace=True, axis=1)\n",
    "df_IBGE_F.drop(df_IBGE_F.columns[2:], inplace=True, axis=1)\n",
    "\n",
    "df_IBGE_F.rename(columns={'Faixa/Ano':'faixa',\n",
    "                         '2021':'Pop_DF'}, inplace=True)\n",
    "\n",
    "\n",
    "# Masculino\n",
    "df_IBGE_M.drop(df_IBGE_M.columns[1:12], inplace=True, axis=1)\n",
    "df_IBGE_M.drop(df_IBGE_M.columns[2:], inplace=True, axis=1)\n",
    "df_IBGE_M.rename(columns={'Faixa/Ano':'faixa',\n",
    "                         '2021':'Pop_DF'}, inplace=True)\n",
    "#df_IBGE_M.drop('Total')\n",
    "\n",
    "df_IBGE_M.head()\n"
   ]
  },
  {
   "cell_type": "markdown",
   "id": "f88fc503",
   "metadata": {},
   "source": [
    "## Ajustes VACINA"
   ]
  },
  {
   "cell_type": "code",
   "execution_count": null,
   "id": "734d9ab3",
   "metadata": {},
   "outputs": [],
   "source": [
    "# apagando colunas desnecessárias para análise\n",
    "\n",
    "df_vacina.drop(df_vacina.columns[0:2], inplace=True, axis=1)    # Idade\n",
    "df_vacina.drop(df_vacina.columns[1], inplace=True, axis=1)      # sexo\n",
    "df_vacina.drop(df_vacina.columns[2:13], inplace=True, axis=1)   # local_vacina\n",
    "df_vacina.drop(df_vacina.columns[3:7], inplace=True, axis=1)    # grupoAtendimento\n",
    "df_vacina.drop(df_vacina.columns[4], inplace=True, axis=1)      # categoria\n",
    "df_vacina.drop(df_vacina.columns[5:9], inplace=True, axis=1)    # dose\n",
    "df_vacina.drop(df_vacina.columns[6], inplace=True, axis=1)      # vacina\n",
    "df_vacina.drop(df_vacina.columns[7:], inplace=True, axis=1)     # resto\n",
    "\n",
    "# Ajustando nomes colunas\n",
    "\n",
    "df_vacina.rename(columns={  'paciente_idade':'idade'\n",
    "                          , 'paciente_enumsexobiologico':'sexo'\n",
    "                          , 'estalecimento_nofantasia':'local_vacinacao'\n",
    "                          , 'vacina_grupoatendimento_nome':'grupo_atendimento'\n",
    "                          , 'vacina_categoria_nome':'vacina_categoria'\n",
    "                          , 'vacina_descricao_dose':'dose'}, inplace=True)"
   ]
  },
  {
   "cell_type": "markdown",
   "id": "46d58667",
   "metadata": {},
   "source": [
    "## Separando DataFrame para 1ª análise: \n",
    "### Panorama de vacinação por faixa etária\n",
    "   "
   ]
  },
  {
   "cell_type": "code",
   "execution_count": null,
   "id": "29e3dab1",
   "metadata": {},
   "outputs": [],
   "source": [
    "# Separando dataframe para análise\n",
    "\n",
    "df_vacina_idade = df_vacina[['idade','sexo','dose']]\n",
    "\n",
    "# limpeza\n",
    "\n",
    "df_vacina_idade['dose'] = df_vacina_idade['dose'].str.strip() # campo cheio de tabs e espaços\n"
   ]
  },
  {
   "cell_type": "code",
   "execution_count": null,
   "id": "cd8bc971",
   "metadata": {},
   "outputs": [],
   "source": [
    "# Inserindo no dataframe o Range de valores de distribuição do IBGE\n",
    "\n",
    "campos=labels=['0-4', '5-9', '10-14', '15-19', '20-24', '25-29', '30-34', '35-39', '40-44', '45-49', '50-54', '55-59', '60-64', '65-69', '70-74', '75-79', '80-84', '85-89', '90+']\n",
    "\n",
    "# Quem disse que eu consegui transformar esse simples for em serie...\n",
    "#for i in range(19):\n",
    "    #print(str(i*5) + \" - \" + str(i*5+4))\n",
    "\n",
    "\n",
    "linhas = pd.Series(np.arange(0,100,5))   # bins=[0,5,10,15,20,25,30,35,40,45,50,55,60,65,70,75,80,85,95,100]\n",
    "\n",
    "df_vacina_idade['faixa'] = pd.cut(x=df_vacina_idade['idade']\n",
    "                                  , bins=linhas\n",
    "                                  , labels=campos)\n",
    "\n",
    "\n",
    "df_vacina_idade.head()#describe()"
   ]
  },
  {
   "cell_type": "code",
   "execution_count": null,
   "id": "3b0578c3",
   "metadata": {},
   "outputs": [],
   "source": [
    "# Campo do inferno que não \"pegava\" filtro de jeito nenhum\n",
    "\n",
    "# df_vacina_idade.dose[0]\n"
   ]
  },
  {
   "cell_type": "code",
   "execution_count": null,
   "id": "aaf31b51",
   "metadata": {},
   "outputs": [],
   "source": [
    "# separando df por sexo\n",
    "\n",
    "df_vacina_idade_M = df_vacina_idade[df_vacina_idade['sexo']=='M']\n",
    "df_vacina_idade_F = df_vacina_idade[df_vacina_idade['sexo']=='F']\n",
    "\n",
    "\n",
    "del df_vacina_idade_M['sexo']\n",
    "del df_vacina_idade_F['sexo']\n",
    "\n",
    "\n",
    "#separando df por dose\n",
    "df_vacina_idade_M_1d = df_vacina_idade_M[df_vacina_idade_M['dose']=='1ª\\xa0Dose']\n",
    "df_vacina_idade_M_2d = df_vacina_idade_M[df_vacina_idade_M['dose']=='2ª\\xa0Dose']\n",
    "\n",
    "df_vacina_idade_F_1d = df_vacina_idade_F[df_vacina_idade_F['dose']=='1ª\\xa0Dose']\n",
    "df_vacina_idade_F_2d = df_vacina_idade_F[df_vacina_idade_F['dose']=='2ª\\xa0Dose']\n",
    "\n",
    "del df_vacina_idade_M_1d['dose']\n",
    "del df_vacina_idade_M_2d['dose']\n",
    "\n",
    "del df_vacina_idade_F_1d['dose']\n",
    "del df_vacina_idade_F_2d['dose']\n",
    "\n",
    "\n",
    "# Agregação por faixas (igualar com ibge)\n",
    "df_vacina_idade_M_1d_AGG = df_vacina_idade_M_1d.groupby(['faixa']).agg('count')\n",
    "df_vacina_idade_M_2d_AGG = df_vacina_idade_M_2d.groupby(['faixa']).agg('count') \n",
    "\n",
    "df_vacina_idade_F_1d_AGG = df_vacina_idade_F_1d.groupby(['faixa']).agg('count')\n",
    "df_vacina_idade_F_2d_AGG = df_vacina_idade_F_2d.groupby(['faixa']).agg('count') \n",
    "\n",
    "\n",
    "df_vacina_idade_M_1d_AGG.rename(columns={'idade':'Dose1'}, inplace=True)\n",
    "df_vacina_idade_M_2d_AGG.rename(columns={'idade':'Dose2'}, inplace=True)\n",
    "\n",
    "\n",
    "df_vacina_idade_F_1d_AGG.rename(columns={'idade':'Dose1'}, inplace=True)\n",
    "df_vacina_idade_F_2d_AGG.rename(columns={'idade':'Dose2'}, inplace=True)\n",
    "\n",
    "\n",
    "# df_vacina_idade_M_1d_AGG.reset_index()\n",
    "# df_vacina_idade_F_1d_AGG.reset_index()\n",
    "\n",
    "\n",
    "df_vacina_M = pd.merge(df_vacina_idade_M_1d_AGG, df_vacina_idade_M_2d_AGG, how = 'inner', on = 'faixa')\n",
    "df_vacina_M = pd.merge(df_vacina_M, df_IBGE_M, how = 'inner', on = 'faixa')\n",
    "\n",
    "\n",
    "df_vacina_F = pd.merge(df_vacina_idade_F_1d_AGG, df_vacina_idade_F_2d_AGG, how = 'inner', on = 'faixa')\n",
    "df_vacina_F = pd.merge(df_vacina_F, df_IBGE_F, how = 'inner', on = 'faixa')\n",
    "\n",
    "\n",
    "\n",
    "df_vacina_F"
   ]
  },
  {
   "cell_type": "markdown",
   "id": "7f66e1a1",
   "metadata": {},
   "source": [
    "## Gráficos"
   ]
  },
  {
   "cell_type": "code",
   "execution_count": null,
   "id": "6c4bd9fc",
   "metadata": {},
   "outputs": [],
   "source": [
    "# Gráfico Vacinaçao Feminino\n",
    "\n",
    "plt.figure(figsize=(14,10))\n",
    "\n",
    "faixa = df_vacina_F['faixa']\n",
    "popM =  df_vacina_F['Pop_DF']\n",
    "Dose1 = df_vacina_F['Dose1']\n",
    "Dose2 = df_vacina_F['Dose2']\n",
    "\n",
    "plt.bar(faixa, Dose2,color='navy')\n",
    "plt.bar(faixa, Dose1,color='lightgray', bottom = Dose2)\n",
    "plt.bar(faixa, popM, color='lightsteelblue', bottom = Dose2 + Dose1)\n",
    "\n",
    "plt.xlabel('Faixas Etárias')\n",
    "plt.ylabel('Qtd Pessoas')\n",
    "plt.title('Vacinação DF Feminino')\n",
    "plt.legend(('2 Dose','1 Dose','População do DF' ))\n",
    "\n",
    "plt.show()"
   ]
  },
  {
   "cell_type": "code",
   "execution_count": null,
   "id": "40026193",
   "metadata": {},
   "outputs": [],
   "source": [
    "# Gráfico Vacinaçao Masculino\n",
    "\n",
    "plt.figure(figsize=(14,10))\n",
    "\n",
    "faixa = df_vacina_M['faixa']\n",
    "popM =  df_vacina_M['Pop_DF']\n",
    "Dose1 = df_vacina_M['Dose1']\n",
    "Dose2 = df_vacina_M['Dose2']\n",
    "\n",
    "plt.bar(faixa, Dose2,color='navy')\n",
    "plt.bar(faixa, Dose1,color='lightgray', bottom = Dose2)\n",
    "plt.bar(faixa, popM, color='lightsteelblue', bottom = Dose2 + Dose1)\n",
    "\n",
    "plt.xlabel('Faixas Etárias')\n",
    "plt.ylabel('Qtd Pessoas')\n",
    "plt.title('Vacinação DF Masculino')\n",
    "plt.legend(('2 Dose','1 Dose','População do DF' ))\n",
    "\n",
    "plt.show()"
   ]
  },
  {
   "cell_type": "markdown",
   "id": "e76803a8",
   "metadata": {},
   "source": [
    "## Demais correlações"
   ]
  },
  {
   "cell_type": "code",
   "execution_count": null,
   "id": "fb4795e3",
   "metadata": {},
   "outputs": [],
   "source": [
    "df_vacina.head()"
   ]
  },
  {
   "cell_type": "code",
   "execution_count": null,
   "id": "5668ad33",
   "metadata": {},
   "outputs": [],
   "source": [
    "\n",
    "df_corr = df_vacina.corr()\n",
    "\n",
    "plt.figure(figsize=(12,8))\n",
    "sns.heatmap(df_corr, annot=True, annot_kws={\"size\": 12})\n",
    "plt.show()"
   ]
  },
  {
   "cell_type": "code",
   "execution_count": null,
   "id": "f3393081",
   "metadata": {},
   "outputs": [],
   "source": [
    "df_vacinaAGG = df_vacina.groupby(['local_vacinacao']).agg('count')\n",
    "df_vacinaAGG#.head(10)"
   ]
  },
  {
   "cell_type": "code",
   "execution_count": null,
   "id": "9325e572",
   "metadata": {},
   "outputs": [],
   "source": [
    "df_vacinaAGGcat = df_vacina.groupby(['vacina_categoria']).agg('count')\n",
    "df_vacinaAGGcat#.head(10)"
   ]
  },
  {
   "cell_type": "code",
   "execution_count": null,
   "id": "ba688c46",
   "metadata": {},
   "outputs": [],
   "source": [
    "df_vacinaAGGvac = df_vacina.groupby(['vacina_nome']).agg('count')\n",
    "df_vacinaAGGvac#.head(10)"
   ]
  },
  {
   "cell_type": "code",
   "execution_count": null,
   "id": "ec7bc20b",
   "metadata": {},
   "outputs": [],
   "source": []
  },
  {
   "cell_type": "code",
   "execution_count": null,
   "id": "b7f0cfcb",
   "metadata": {},
   "outputs": [],
   "source": []
  },
  {
   "cell_type": "code",
   "execution_count": null,
   "id": "8ebdc858",
   "metadata": {},
   "outputs": [],
   "source": []
  },
  {
   "cell_type": "code",
   "execution_count": null,
   "id": "2c76a8ed",
   "metadata": {},
   "outputs": [],
   "source": [
    "df_vacina_BaseBruta.head(2)"
   ]
  }
 ],
 "metadata": {
  "kernelspec": {
   "display_name": "Python 3",
   "language": "python",
   "name": "python3"
  },
  "language_info": {
   "codemirror_mode": {
    "name": "ipython",
    "version": 3
   },
   "file_extension": ".py",
   "mimetype": "text/x-python",
   "name": "python",
   "nbconvert_exporter": "python",
   "pygments_lexer": "ipython3",
   "version": "3.8.8"
  }
 },
 "nbformat": 4,
 "nbformat_minor": 5
}
