{
 "cells": [
  {
   "cell_type": "code",
   "execution_count": null,
   "id": "2f6efb4e",
   "metadata": {},
   "outputs": [],
   "source": [
    "#!/usr/bin/env python3\n",
    "# -*- coding: utf-8 -*-\n",
    "\"\"\"\n",
    "Created on Sun Jun 13 18:59:45 2021\n",
    "\n",
    "@author: leodefaria\n",
    "\"\"\""
   ]
  },
  {
   "cell_type": "markdown",
   "id": "449d42dc",
   "metadata": {},
   "source": [
    "## Importação de bibliotecas"
   ]
  },
  {
   "cell_type": "code",
   "execution_count": null,
   "id": "0c817a7e",
   "metadata": {},
   "outputs": [],
   "source": [
    "# from urllib.request import urlopen\n",
    "# from urllib.error import HTTPError\n",
    "# from urllib.error import URLError\n",
    "# import ssl\n",
    "import pandas as pd\n",
    "from bs4 import BeautifulSoup\n",
    "import seaborn as sns\n",
    "import matplotlib.pyplot as plt\n",
    "import numpy as np"
   ]
  },
  {
   "cell_type": "markdown",
   "id": "57221832",
   "metadata": {},
   "source": [
    "## Importação de dados"
   ]
  },
  {
   "cell_type": "code",
   "execution_count": null,
   "id": "0abe404b",
   "metadata": {},
   "outputs": [],
   "source": [
    "# Vacinados\n",
    "\n",
    "# base original: DADOS ABERTOS - Registros de Vacinação COVID19 - UF: DF\n",
    "# https://s3-sa-east-1.amazonaws.com/ckan.saude.gov.br/PNI/vacina/uf/2021-06-12/uf%3DDF/part-00000-e7b5a3a9-bb01-40f5-aa63-d3bd2cfe2507.c000.csv\n",
    "df_vacina = pd.read_csv('/Users/leodefaria/Documents/IDP/dados/part-00000-e7b5a3a9-bb01-40f5-aa63-d3bd2cfe2507.c000.csv', sep=';')"
   ]
  },
  {
   "cell_type": "code",
   "execution_count": null,
   "id": "8c8e2027",
   "metadata": {},
   "outputs": [],
   "source": [
    "# População\n",
    "\n",
    "# Base Original: IBGE - Dados dos Municípios\n",
    "# https://cidades.ibge.gov.br/brasil/df/brasilia/panorama\n",
    "# Populacao = 3055149"
   ]
  },
  {
   "cell_type": "code",
   "execution_count": null,
   "id": "8e2162ed",
   "metadata": {},
   "outputs": [],
   "source": [
    "# População por faixas\n",
    "\n",
    "# Base Original: IBGE - Projeção Municípios\n",
    "# https://www.ibge.gov.br/apps/populacao/projecao/index.html\n",
    "# df_IBGE = pd.read_csv('/Users/leodefaria/Documents/IDP/dados/DF - Dados.csv')\n",
    "# df_IBGE = pd.read_csv('/Users/leodefaria/Documents/IDP/dados/DF - Fx_Idade.csv')\n",
    "df_IBGE_F = pd.read_csv('/Users/leodefaria/Documents/IDP/dados/DF - Fx_IdadeM.csv', sep=';')\n",
    "df_IBGE_M = pd.read_csv('/Users/leodefaria/Documents/IDP/dados/DF - Fx_IdadeH.csv', sep=';')\n"
   ]
  },
  {
   "cell_type": "markdown",
   "id": "6facca08",
   "metadata": {},
   "source": [
    "## Ajustes VACINA"
   ]
  },
  {
   "cell_type": "code",
   "execution_count": null,
   "id": "7d8fa4d6",
   "metadata": {},
   "outputs": [],
   "source": [
    "# apagando colunas desnecessárias para análise\n",
    "\n",
    "del df_vacina['document_id']\n",
    "del df_vacina['paciente_id']\n",
    "del df_vacina['paciente_datanascimento']\n",
    "del df_vacina['paciente_racacor_codigo']\n",
    "del df_vacina['paciente_endereco_coibgemunicipio']\n",
    "del df_vacina['paciente_endereco_copais']\n",
    "del df_vacina['paciente_endereco_cep']\n",
    "del df_vacina['paciente_nacionalidade_enumnacionalidade']\n",
    "del df_vacina['estabelecimento_valor']\n",
    "del df_vacina['estabelecimento_razaosocial']\n",
    "del df_vacina['estabelecimento_municipio_codigo']\n",
    "del df_vacina['estabelecimento_municipio_nome']\n",
    "del df_vacina['estabelecimento_uf']\n",
    "del df_vacina['vacina_grupoatendimento_codigo']\n",
    "del df_vacina['vacina_grupoatendimento_nome']\n",
    "del df_vacina['vacina_lote']\n",
    "del df_vacina['vacina_fabricante_nome'] # apesar do HIPE não é neste campo que se encontra o fabricante\n",
    "del df_vacina['vacina_fabricante_referencia']\n",
    "del df_vacina['id_sistema_origem']\n",
    "del df_vacina['sistema_origem']\n",
    "del df_vacina['data_importacao_rnds']\n",
    "del df_vacina['vacina_codigo']\n",
    "del df_vacina['vacina_categoria_codigo']"
   ]
  },
  {
   "cell_type": "code",
   "execution_count": null,
   "id": "27e2febe",
   "metadata": {},
   "outputs": [],
   "source": [
    "# Ajustando nomes colunas\n",
    "\n",
    "df_vacina.rename(columns={  'paciente_idade':'idade'\n",
    "                          , 'paciente_enumsexobiologico':'sexo'\n",
    "                          , 'paciente_racacor_valor':'cor'\n",
    "                          , 'paciente_endereco_nmmunicipio':'municipio'\n",
    "                          , 'paciente_endereco_nmpais':'pais'\n",
    "                          , 'paciente_endereco_uf':'uf'\n",
    "                          , 'estalecimento_nofantasia':'local_vacinacao'\n",
    "                          , 'vacina_categoria_nome':'vacina_categoria'\n",
    "                          , 'vacina_dataaplicacao':'dt_aplicacao'\n",
    "                          , 'vacina_descricao_dose':'dose'}, inplace=True)\n"
   ]
  },
  {
   "cell_type": "code",
   "execution_count": null,
   "id": "6e708896",
   "metadata": {},
   "outputs": [],
   "source": [
    "#df_vacina.describe()\n",
    "df_vacina.head()"
   ]
  },
  {
   "cell_type": "markdown",
   "id": "d4fac52b",
   "metadata": {},
   "source": [
    "## Ajuste IBGE"
   ]
  },
  {
   "cell_type": "code",
   "execution_count": null,
   "id": "0626e2d3",
   "metadata": {},
   "outputs": [],
   "source": [
    "# Separaçao dos dados de 2020 e 2021\n",
    "\n",
    "# Feminino\n",
    "df_IBGE_F.drop(df_IBGE_F.columns[1:11], inplace=True, axis=1)\n",
    "df_IBGE_F.drop(df_IBGE_F.columns[3:], inplace=True, axis=1)\n",
    "df_IBGE_F.head()\n",
    "\n",
    "# Masculino\n",
    "df_IBGE_M.drop(df_IBGE_M.columns[1:11], inplace=True, axis=1)\n",
    "df_IBGE_M.drop(df_IBGE_M.columns[3:], inplace=True, axis=1)\n",
    "df_IBGE_M.head()"
   ]
  },
  {
   "cell_type": "code",
   "execution_count": null,
   "id": "54cbed0e",
   "metadata": {},
   "outputs": [],
   "source": [
    "campos=labels=['0-4', '5-9', '10-14', '15-19', '20-24', '25-29', '30-34', '35-39', '40-44', '45-49', '50-54', '55-59', '60-64', '65-69', '70-74', '75-79', '80-84', '85-89', '90+']\n",
    "\n",
    "\n",
    "df_vacina['Faixa/Ano'] = pd.cut(x=df_vacina['idade'], bins=[0,5,10,15,20,25,30,35,40,45,50,55,60,65,70,75,80,85,90,100],labels=campos)\n",
    "\n",
    "df_vacina.head()"
   ]
  },
  {
   "cell_type": "code",
   "execution_count": null,
   "id": "1bb7c0ea",
   "metadata": {},
   "outputs": [],
   "source": [
    "\n",
    "df_vacina_grupo = df_vacina.groupby(['Faixa/Ano']).agg('count')\n",
    "df_vacina_grupo.head()"
   ]
  },
  {
   "cell_type": "markdown",
   "id": "4b7a8edd",
   "metadata": {},
   "source": [
    "## Gráficos"
   ]
  },
  {
   "cell_type": "code",
   "execution_count": null,
   "id": "8f34cf21",
   "metadata": {},
   "outputs": [],
   "source": [
    "# Plot a distribuicao da idade dos vacinados\n",
    "\n",
    "# sns.distplot(df_vacina.idade[df_vacina.sexo == 'F'], bins = np.linspace(1,70,35))\n",
    "# sns.distplot(df_vacina.idade[df_vacina.sexo == 'M'], bins = np.linspace(1,70,35))\n",
    "# sns.histplot(data=df_vacina, x='idade', hue='sexo', stat='count', bins=np.linspace(1,70,35), legend=True)\n",
    "\n",
    "\n",
    "plt.figure(figsize=(12,12))\n",
    "\n",
    "sns.violinplot(  data = df_vacina\n",
    "               , x ='idade'\n",
    "               , y ='sexo'\n",
    "               , hue ='dose'\n",
    "               , split = True\n",
    "              )\n",
    "\n",
    "\n",
    "plt.title('Distribuição da idade dos vacinados por sexo')\n",
    "#plt.legend(['Feminino','Masculino'])\n",
    "plt.xlabel('Idade')\n",
    "plt.ylabel('Dist. por Sexo')\n",
    "plt.show()"
   ]
  },
  {
   "cell_type": "code",
   "execution_count": null,
   "id": "0f160fcf",
   "metadata": {},
   "outputs": [],
   "source": [
    "# Teste valores: Aparentemente a 2dose está maior \n",
    "\n",
    "df_resumo = df_vacina.groupby(['dose','sexo']).agg('count')\n",
    "df_resumo.head()"
   ]
  },
  {
   "cell_type": "code",
   "execution_count": null,
   "id": "f5e18502",
   "metadata": {},
   "outputs": [],
   "source": []
  },
  {
   "cell_type": "code",
   "execution_count": null,
   "id": "5ad9cb1c",
   "metadata": {},
   "outputs": [],
   "source": []
  }
 ],
 "metadata": {
  "kernelspec": {
   "display_name": "Python 3",
   "language": "python",
   "name": "python3"
  },
  "language_info": {
   "codemirror_mode": {
    "name": "ipython",
    "version": 3
   },
   "file_extension": ".py",
   "mimetype": "text/x-python",
   "name": "python",
   "nbconvert_exporter": "python",
   "pygments_lexer": "ipython3",
   "version": "3.8.8"
  }
 },
 "nbformat": 4,
 "nbformat_minor": 5
}
