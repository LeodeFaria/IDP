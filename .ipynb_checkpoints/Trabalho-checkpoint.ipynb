{
 "cells": [
  {
   "cell_type": "code",
   "execution_count": null,
   "id": "d2241d8d",
   "metadata": {},
   "outputs": [],
   "source": [
    "#!/usr/bin/env python3\n",
    "# -*- coding: utf-8 -*-\n",
    "\"\"\"\n",
    "Created on Sun Jun 13 18:59:45 2021\n",
    "\n",
    "@author: leodefaria\n",
    "\"\"\""
   ]
  },
  {
   "cell_type": "markdown",
   "id": "60d72770",
   "metadata": {},
   "source": [
    "Importação de bibliotecas"
   ]
  },
  {
   "cell_type": "code",
   "execution_count": 34,
   "id": "fb3955cd",
   "metadata": {},
   "outputs": [],
   "source": [
    "# from urllib.request import urlopen\n",
    "# from urllib.error import HTTPError\n",
    "# from urllib.error import URLError\n",
    "# import ssl\n",
    "import pandas as pd\n",
    "from bs4 import BeautifulSoup\n",
    "import seaborn as sns\n",
    "import matplotlib.pyplot as plt\n",
    "import numpy as np"
   ]
  },
  {
   "cell_type": "markdown",
   "id": "93d6943c",
   "metadata": {},
   "source": [
    "Importação de dados"
   ]
  },
  {
   "cell_type": "code",
   "execution_count": 66,
   "id": "e979b1f4",
   "metadata": {},
   "outputs": [],
   "source": [
    "# Vacinados\n",
    "\n",
    "# base original: DADOS ABERTOS - Registros de Vacinação COVID19 - UF: DF\n",
    "# https://s3-sa-east-1.amazonaws.com/ckan.saude.gov.br/PNI/vacina/uf/2021-06-12/uf%3DDF/part-00000-e7b5a3a9-bb01-40f5-aa63-d3bd2cfe2507.c000.csv\n",
    "df_vacina = pd.read_csv('/Users/leodefaria/Documents/IDP/dados/part-00000-e7b5a3a9-bb01-40f5-aa63-d3bd2cfe2507.c000.csv', sep=';')"
   ]
  },
  {
   "cell_type": "code",
   "execution_count": 61,
   "id": "c2ee1758",
   "metadata": {},
   "outputs": [],
   "source": [
    "# População\n",
    "\n",
    "# Base Original: IBGE - Dados dos Municípios\n",
    "# https://cidades.ibge.gov.br/brasil/df/brasilia/panorama\n",
    "# Populacao = 3055149"
   ]
  },
  {
   "cell_type": "code",
   "execution_count": 62,
   "id": "41de0eae",
   "metadata": {},
   "outputs": [],
   "source": [
    "# População por faixas\n",
    "\n",
    "# Base Original: IBGE - Projeção Municípios\n",
    "# https://www.ibge.gov.br/apps/populacao/projecao/index.html\n",
    "# df_IBGE = pd.read_csv('/Users/leodefaria/Documents/IDP/dados/DF - Dados.csv')\n",
    "# df_IBGE = pd.read_csv('/Users/leodefaria/Documents/IDP/dados/DF - Fx_Idade.csv')\n",
    "df_IBGE_H = pd.read_csv('/Users/leodefaria/Documents/IDP/dados/DF - Fx_IdadeH.csv')\n",
    "df_IBGE_M = pd.read_csv('/Users/leodefaria/Documents/IDP/dados/DF - Fx_IdadeM.csv')"
   ]
  },
  {
   "cell_type": "code",
   "execution_count": 93,
   "id": "f1504571",
   "metadata": {},
   "outputs": [],
   "source": [
    "# apagando colunas desnecessárias para análise\n",
    "\n",
    "del df_vacina['document_id']\n",
    "del df_vacina['paciente_id']\n",
    "del df_vacina['paciente_datanascimento']\n",
    "del df_vacina['paciente_racacor_codigo']\n",
    "del df_vacina['paciente_endereco_coibgemunicipio']\n",
    "del df_vacina['paciente_endereco_copais']\n",
    "del df_vacina['paciente_endereco_cep']\n",
    "del df_vacina['paciente_nacionalidade_enumnacionalidade']\n",
    "del df_vacina['estabelecimento_valor']\n",
    "del df_vacina['estabelecimento_razaosocial']\n",
    "del df_vacina['estabelecimento_municipio_codigo']\n",
    "del df_vacina['estabelecimento_municipio_nome']\n",
    "del df_vacina['estabelecimento_uf']\n",
    "del df_vacina['vacina_grupoatendimento_codigo']\n",
    "del df_vacina['vacina_grupoatendimento_nome']\n",
    "del df_vacina['vacina_lote']\n",
    "del df_vacina['vacina_fabricante_nome'] # apesar do HIPE não é neste campo que se encontra o fabricante\n",
    "del df_vacina['vacina_fabricante_referencia']\n",
    "del df_vacina['id_sistema_origem']\n",
    "del df_vacina['sistema_origem']\n",
    "del df_vacina['data_importacao_rnds']\n",
    "del df_vacina['vacina_codigo']\n",
    "del df_vacina['vacina_categoria_codigo']"
   ]
  },
  {
   "cell_type": "code",
   "execution_count": 72,
   "id": "0acf6844",
   "metadata": {},
   "outputs": [],
   "source": [
    "# Ajustando nomes colunas\n",
    "\n",
    "df_vacina.rename(columns={  'paciente_idade':'idade'\n",
    "                          , 'paciente_enumsexobiologico':'sexo'\n",
    "                          , 'paciente_racacor_valor':'cor'\n",
    "                          , 'paciente_endereco_nmmunicipio':'municipio'\n",
    "                          , 'paciente_endereco_nmpais':'pais'\n",
    "                          , 'paciente_endereco_uf':'uf'\n",
    "                          , 'estalecimento_nofantasia':'local_vacinacao'\n",
    "                          , 'vacina_categoria_nome':'vacina_categoria'\n",
    "                          , 'vacina_dataaplicacao':'dt_aplicacao'\n",
    "                          , 'vacina_descricao_dose':'dose'}, inplace=True)\n"
   ]
  },
  {
   "cell_type": "code",
   "execution_count": 95,
   "id": "827e94e2",
   "metadata": {},
   "outputs": [
    {
     "data": {
      "text/html": [
       "<div>\n",
       "<style scoped>\n",
       "    .dataframe tbody tr th:only-of-type {\n",
       "        vertical-align: middle;\n",
       "    }\n",
       "\n",
       "    .dataframe tbody tr th {\n",
       "        vertical-align: top;\n",
       "    }\n",
       "\n",
       "    .dataframe thead th {\n",
       "        text-align: right;\n",
       "    }\n",
       "</style>\n",
       "<table border=\"1\" class=\"dataframe\">\n",
       "  <thead>\n",
       "    <tr style=\"text-align: right;\">\n",
       "      <th></th>\n",
       "      <th>idade</th>\n",
       "      <th>sexo</th>\n",
       "      <th>cor</th>\n",
       "      <th>municipio</th>\n",
       "      <th>pais</th>\n",
       "      <th>uf</th>\n",
       "      <th>estalecimento_nofantasia</th>\n",
       "      <th>vacina_categoria</th>\n",
       "      <th>dt_aplicacao</th>\n",
       "      <th>dose</th>\n",
       "      <th>vacina_nome</th>\n",
       "    </tr>\n",
       "  </thead>\n",
       "  <tbody>\n",
       "    <tr>\n",
       "      <th>0</th>\n",
       "      <td>59</td>\n",
       "      <td>F</td>\n",
       "      <td>AMARELA</td>\n",
       "      <td>BRASILIA</td>\n",
       "      <td>BRASIL</td>\n",
       "      <td>DF</td>\n",
       "      <td>UBS 2 SOBRADINHO II</td>\n",
       "      <td>Comorbidades</td>\n",
       "      <td>2021-05-18</td>\n",
       "      <td>1ª Dose</td>\n",
       "      <td>Vacina covid-19 - BNT162b2 - BioNTech/Fosun Ph...</td>\n",
       "    </tr>\n",
       "    <tr>\n",
       "      <th>1</th>\n",
       "      <td>47</td>\n",
       "      <td>F</td>\n",
       "      <td>SEM INFORMACAO</td>\n",
       "      <td>BRASILIA</td>\n",
       "      <td>BRASIL</td>\n",
       "      <td>DF</td>\n",
       "      <td>POLICLINICA LAGO SUL</td>\n",
       "      <td>Trabalhadores de Saúde</td>\n",
       "      <td>2021-03-26</td>\n",
       "      <td>1ª Dose</td>\n",
       "      <td>Covid-19-Coronavac-Sinovac/Butantan</td>\n",
       "    </tr>\n",
       "    <tr>\n",
       "      <th>2</th>\n",
       "      <td>51</td>\n",
       "      <td>F</td>\n",
       "      <td>PARDA</td>\n",
       "      <td>BRASILIA</td>\n",
       "      <td>BRASIL</td>\n",
       "      <td>DF</td>\n",
       "      <td>UBS 01 ASA SUL</td>\n",
       "      <td>Comorbidades</td>\n",
       "      <td>2021-05-18</td>\n",
       "      <td>1ª Dose</td>\n",
       "      <td>Vacina Covid-19 - Covishield</td>\n",
       "    </tr>\n",
       "    <tr>\n",
       "      <th>3</th>\n",
       "      <td>45</td>\n",
       "      <td>F</td>\n",
       "      <td>AMARELA</td>\n",
       "      <td>BRASILIA</td>\n",
       "      <td>BRASIL</td>\n",
       "      <td>DF</td>\n",
       "      <td>UBS 01 ASA SUL</td>\n",
       "      <td>Trabalhadores de Saúde</td>\n",
       "      <td>2021-02-25</td>\n",
       "      <td>1ª Dose</td>\n",
       "      <td>Covid-19-Coronavac-Sinovac/Butantan</td>\n",
       "    </tr>\n",
       "    <tr>\n",
       "      <th>4</th>\n",
       "      <td>59</td>\n",
       "      <td>M</td>\n",
       "      <td>SEM INFORMACAO</td>\n",
       "      <td>BRASILIA</td>\n",
       "      <td>BRASIL</td>\n",
       "      <td>DF</td>\n",
       "      <td>UBS 1 SOBRADINHO</td>\n",
       "      <td>Comorbidades</td>\n",
       "      <td>2021-05-11</td>\n",
       "      <td>1ª Dose</td>\n",
       "      <td>Vacina Covid-19 - Covishield</td>\n",
       "    </tr>\n",
       "  </tbody>\n",
       "</table>\n",
       "</div>"
      ],
      "text/plain": [
       "   idade sexo             cor municipio    pais  uf estalecimento_nofantasia  \\\n",
       "0     59    F         AMARELA  BRASILIA  BRASIL  DF      UBS 2 SOBRADINHO II   \n",
       "1     47    F  SEM INFORMACAO  BRASILIA  BRASIL  DF     POLICLINICA LAGO SUL   \n",
       "2     51    F           PARDA  BRASILIA  BRASIL  DF           UBS 01 ASA SUL   \n",
       "3     45    F         AMARELA  BRASILIA  BRASIL  DF           UBS 01 ASA SUL   \n",
       "4     59    M  SEM INFORMACAO  BRASILIA  BRASIL  DF         UBS 1 SOBRADINHO   \n",
       "\n",
       "         vacina_categoria dt_aplicacao         dose  \\\n",
       "0            Comorbidades   2021-05-18      1ª Dose   \n",
       "1  Trabalhadores de Saúde   2021-03-26      1ª Dose   \n",
       "2            Comorbidades   2021-05-18      1ª Dose   \n",
       "3  Trabalhadores de Saúde   2021-02-25      1ª Dose   \n",
       "4            Comorbidades   2021-05-11      1ª Dose   \n",
       "\n",
       "                                         vacina_nome  \n",
       "0  Vacina covid-19 - BNT162b2 - BioNTech/Fosun Ph...  \n",
       "1                Covid-19-Coronavac-Sinovac/Butantan  \n",
       "2                       Vacina Covid-19 - Covishield  \n",
       "3                Covid-19-Coronavac-Sinovac/Butantan  \n",
       "4                       Vacina Covid-19 - Covishield  "
      ]
     },
     "execution_count": 95,
     "metadata": {},
     "output_type": "execute_result"
    }
   ],
   "source": [
    "#df_vacina.describe()\n",
    "df_vacina.head()"
   ]
  },
  {
   "cell_type": "code",
   "execution_count": 99,
   "id": "14b5e8cb",
   "metadata": {},
   "outputs": [
    {
     "data": {
      "image/png": "[encoded data removed]",
      "text/plain": [
       "<Figure size 864x864 with 1 Axes>"
      ]
     },
     "metadata": {
      "needs_background": "light"
     },
     "output_type": "display_data"
    }
   ],
   "source": [
    "# Plot a distribuicao da idade dos vacinados\n",
    "\n",
    "# sns.distplot(df_vacina.idade[df_vacina.sexo == 'F'], bins = np.linspace(1,70,35))\n",
    "# sns.distplot(df_vacina.idade[df_vacina.sexo == 'M'], bins = np.linspace(1,70,35))\n",
    "# sns.histplot(data=df_vacina, x='idade', hue='sexo', stat='count', bins=np.linspace(1,70,35), legend=True)\n",
    "\n",
    "\n",
    "plt.figure(figsize=(12,12))\n",
    "\n",
    "sns.violinplot(  data = df_vacina\n",
    "               , x ='idade'\n",
    "               , y ='sexo'\n",
    "               , hue ='dose'\n",
    "               , split = True\n",
    "               , orient = 'h'\n",
    "              )\n",
    "\n",
    "\n",
    "plt.title('Distribuição da idade dos vacinados por sexo')\n",
    "#plt.legend(['Feminino','Masculino'])\n",
    "plt.xlabel('Idade')\n",
    "plt.ylabel('Dist. por Sexo')\n",
    "plt.show()"
   ]
  },
  {
   "cell_type": "code",
   "execution_count": null,
   "id": "1a5e5001",
   "metadata": {},
   "outputs": [],
   "source": [
    "#dx = df_vacina['paciente_idade','paciente_enumsexobiologico'].groupby('paciente_enumsexobiologico').sum()\n",
    "# Acumular dados"
   ]
  },
  {
   "cell_type": "code",
   "execution_count": null,
   "id": "9a058e7d",
   "metadata": {},
   "outputs": [],
   "source": []
  }
 ],
 "metadata": {
  "kernelspec": {
   "display_name": "Python 3",
   "language": "python",
   "name": "python3"
  },
  "language_info": {
   "codemirror_mode": {
    "name": "ipython",
    "version": 3
   },
   "file_extension": ".py",
   "mimetype": "text/x-python",
   "name": "python",
   "nbconvert_exporter": "python",
   "pygments_lexer": "ipython3",
   "version": "3.8.8"
  }
 },
 "nbformat": 4,
 "nbformat_minor": 5
}
