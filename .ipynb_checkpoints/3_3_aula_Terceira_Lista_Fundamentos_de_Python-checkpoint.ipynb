{
 "cells": [
  {
   "cell_type": "markdown",
   "metadata": {
    "id": "m3ssEJXan-9-"
   },
   "source": [
    "# Linguagem de Programação para Ciência de Dados I: Fundamentos do Python \n",
    "## Exercícios sobre Fundamentos de Python\n",
    "\n",
    "## Prof. Mauro Ribeiro \n",
    "## Monitor: Lucas Horinouchi\n",
    "\n",
    "O objetivo desse notebook é ajudar na fixação dos conteúdos que passamos nas aulas de Fundamentos de Python.\n",
    "\n",
    "Para começar a responder a lista faça uma cópia deste notebook para o seu google drive. \n",
    "\n",
    "Opcional para correção: Após terminar envie a sua lista com permissão de edição no slack para o canal #notebooks."
   ]
  },
  {
   "cell_type": "markdown",
   "metadata": {
    "id": "_epgqMlEn--D"
   },
   "source": [
    "### Variáveis\n",
    "\n",
    "[Documentação](https://docs.python.org/3/tutorial/introduction.html) inicial do python"
   ]
  },
  {
   "cell_type": "code",
   "execution_count": null,
   "metadata": {
    "id": "6jtqBmI1n--D"
   },
   "outputs": [],
   "source": [
    "# Exercício 1 - Declare uma variavel chamada \"a\" e atribua o valor 10 a ela\n",
    "a = 10"
   ]
  },
  {
   "cell_type": "code",
   "execution_count": null,
   "metadata": {
    "colab": {
     "base_uri": "https://localhost:8080/"
    },
    "id": "59Oc3Xoxn--E",
    "outputId": "b7d67250-6e6f-4db0-d026-c9fe5290a18e"
   },
   "outputs": [],
   "source": [
    "# Exercício 2 - Imprime essa variavel que você acabou de criar\n",
    "print(a)"
   ]
  },
  {
   "cell_type": "code",
   "execution_count": null,
   "metadata": {
    "colab": {
     "base_uri": "https://localhost:8080/",
     "height": 35
    },
    "id": "-XZbar_Mn--E",
    "outputId": "ff099820-b882-4cce-864a-9f5a75c35fb6"
   },
   "outputs": [],
   "source": [
    "# Exercício 3 - Crie uma outra variavel \"b\" que recebe o valor de \"a\" so que como string\n",
    "b = str(a)"
   ]
  },
  {
   "cell_type": "code",
   "execution_count": null,
   "metadata": {
    "id": "RS-CFE45n--E"
   },
   "outputs": [],
   "source": [
    "# Exercício 4 - Combine sua variavel \"b\" a variavel abaixo para obter a string \"Hello 10\" em uma variavel \"d\"\n",
    "c = \"Hello \"\n",
    "d = c + \" \" + b"
   ]
  },
  {
   "cell_type": "code",
   "execution_count": null,
   "metadata": {
    "colab": {
     "base_uri": "https://localhost:8080/"
    },
    "id": "oPlAaoeAn--E",
    "outputId": "65e3a879-91ea-455a-cecc-72d83bb2b895"
   },
   "outputs": [],
   "source": [
    "# Exercício 5 - Imprima a variável \"d\"\n",
    "print(d)"
   ]
  },
  {
   "cell_type": "markdown",
   "metadata": {
    "id": "5W4Fdl09n--F"
   },
   "source": [
    "### Strings"
   ]
  },
  {
   "cell_type": "code",
   "execution_count": null,
   "metadata": {
    "id": "xP6Cq_XVn--F"
   },
   "outputs": [],
   "source": [
    "my_str = 'Insira uma frase aqui!'"
   ]
  },
  {
   "cell_type": "code",
   "execution_count": null,
   "metadata": {
    "colab": {
     "base_uri": "https://localhost:8080/",
     "height": 35
    },
    "id": "g8SSlEvZn--F",
    "outputId": "56737eaa-b1a9-49d3-8a22-c9a000ebd3d6"
   },
   "outputs": [],
   "source": [
    "# Exercício 6 - Substitua a exclamação da frase por uma interrogação\n",
    "# (Dica: A funcão altera inplace ou retorna uma copia modificada?)\n",
    "outra_str = my_str.replace(\"!\",\"?\")\n",
    "outra_str #a função retorna uma cópia modificada e não modifica a string original"
   ]
  },
  {
   "cell_type": "code",
   "execution_count": null,
   "metadata": {
    "colab": {
     "base_uri": "https://localhost:8080/"
    },
    "id": "NS_-xqA2n--F",
    "outputId": "0675e1ef-4df9-4ecb-d376-892618ebfe26"
   },
   "outputs": [],
   "source": [
    "# Exercício 7 - Crie uma lista \"my_words\" com cada palavra da frase como elemento da lista\n",
    "my_words = my_str.split()\n",
    "my_words"
   ]
  },
  {
   "cell_type": "markdown",
   "metadata": {
    "id": "K2tHMd08n--G"
   },
   "source": [
    "### Listas\n",
    "Além de olhar a documentação também faça pesquisas procurando por termos desconhecidos pesquisas em inglês costumam retornar mais resultador, porém também existem resultados em portugues. [Exemplo](https://letmegooglethat.com/?q=python+listas)"
   ]
  },
  {
   "cell_type": "code",
   "execution_count": null,
   "metadata": {
    "id": "TGejFGF-n--G"
   },
   "outputs": [],
   "source": [
    "lista = [1, 23, 31, 40, 56, 16]"
   ]
  },
  {
   "cell_type": "code",
   "execution_count": null,
   "metadata": {
    "colab": {
     "base_uri": "https://localhost:8080/"
    },
    "id": "eQvl9G6qn--G",
    "outputId": "904b62dd-e532-4ceb-8e3b-6ab109ac673b"
   },
   "outputs": [],
   "source": [
    "# Exercício 8 - Faça um for que imprima cada elemento da lista \"lista\" \n",
    "#  (Lembre-se que o for em python é um for each)\n",
    "for x in lista:\n",
    "  print(x)"
   ]
  },
  {
   "cell_type": "code",
   "execution_count": null,
   "metadata": {
    "colab": {
     "base_uri": "https://localhost:8080/"
    },
    "id": "CLbXSbosn--G",
    "outputId": "e8f97bc3-e5bc-42d7-9456-4d0bdc38c38d"
   },
   "outputs": [],
   "source": [
    "# Exercício 9 - Faça um for que imprima o dobro de cada elemento da lista \"lista\" \n",
    "for x in lista:\n",
    "  print(x*2)"
   ]
  },
  {
   "cell_type": "code",
   "execution_count": null,
   "metadata": {
    "colab": {
     "base_uri": "https://localhost:8080/"
    },
    "id": "5s3kdican--G",
    "outputId": "7be6e1f9-e59b-4015-c1d5-d54927a4bf44"
   },
   "outputs": [],
   "source": [
    "# Exercício 10 - Gere uma lista chamada \"dobro\" com o dobro de cada elemento de \"lista\" usando list comprehension\n",
    "dobro = [x*2 for x in lista]"
   ]
  },
  {
   "cell_type": "code",
   "execution_count": null,
   "metadata": {
    "colab": {
     "base_uri": "https://localhost:8080/"
    },
    "id": "b3LM2vSAn--H",
    "outputId": "bce2bf1a-623f-450a-8c4b-52a66c3d112c"
   },
   "outputs": [],
   "source": [
    "# Exercício 11 - Crie uma nova lista chamada \"pares\"\n",
    "# Faça um for que itere sobre a lista \"lista\" e para cada elemento \n",
    "# impar coloque ele no fim da lista \"pares\"\n",
    "# Imprima a lista \"pares\"\n",
    "pares=[]\n",
    "for x in lista:\n",
    "  if x % 2 == 0:\n",
    "    pares.insert(0,x)\n",
    "  else:\n",
    "    pares.append(x)\n",
    "pares"
   ]
  },
  {
   "cell_type": "code",
   "execution_count": null,
   "metadata": {
    "id": "o3i0lvi2n--H"
   },
   "outputs": [],
   "source": [
    "lista2 = ['oi', 2, 2.5, 'top', 'python', 45]"
   ]
  },
  {
   "cell_type": "code",
   "execution_count": null,
   "metadata": {
    "colab": {
     "base_uri": "https://localhost:8080/"
    },
    "id": "guXgeS2Pn--H",
    "outputId": "104cec25-0fd5-4f51-f7f4-4c7f251c78d4"
   },
   "outputs": [],
   "source": [
    "# Exercício 12 - Faça um for pela \"lista2\" e imprima todos os elementos que são strings (Dica: pesquise pela função type())\n",
    "for x in lista2:\n",
    "  if type(x) == str:\n",
    "    print(x)\n",
    "  "
   ]
  },
  {
   "cell_type": "markdown",
   "metadata": {
    "id": "ylHVmHaKn--H"
   },
   "source": [
    "#### Indexando"
   ]
  },
  {
   "cell_type": "code",
   "execution_count": null,
   "metadata": {
    "id": "cIckbm9bn--H"
   },
   "outputs": [],
   "source": [
    "my_list = [0, 10, 20, 30, 40, 50, 60, 70]"
   ]
  },
  {
   "cell_type": "code",
   "execution_count": null,
   "metadata": {
    "colab": {
     "base_uri": "https://localhost:8080/"
    },
    "id": "Vi0rJNn4n--I",
    "outputId": "83c3d98e-5246-4952-8aef-3d50da676663"
   },
   "outputs": [],
   "source": [
    "# Exercício 13 - Selecione o ultimo elemento da lista\n",
    "my_list[-1]"
   ]
  },
  {
   "cell_type": "code",
   "execution_count": null,
   "metadata": {
    "colab": {
     "base_uri": "https://localhost:8080/"
    },
    "id": "JqtpIvd2n--I",
    "outputId": "bdb812a1-d313-4536-e5d0-5fbad038079a"
   },
   "outputs": [],
   "source": [
    "# Exercício 14 - Selecione do primeiro até o 4 elemento da lista\n",
    "my_list[:4]"
   ]
  },
  {
   "cell_type": "code",
   "execution_count": null,
   "metadata": {
    "colab": {
     "base_uri": "https://localhost:8080/"
    },
    "id": "gT6wK_C4n--I",
    "outputId": "839b7575-957c-4e15-ff69-d581f5d4846a"
   },
   "outputs": [],
   "source": [
    "# Exercício 15 - Selecione do segundo elemento da lista até o quinto\n",
    "my_list[1:5]"
   ]
  },
  {
   "cell_type": "code",
   "execution_count": null,
   "metadata": {
    "colab": {
     "base_uri": "https://localhost:8080/"
    },
    "id": "91edIhvsn--I",
    "outputId": "90859119-ff66-4d21-e2d5-9909544e6899"
   },
   "outputs": [],
   "source": [
    "# Exercício 16 - Selecione do primeiro elemento da lista até o penultimo\n",
    "my_list[:-1]"
   ]
  },
  {
   "cell_type": "markdown",
   "metadata": {
    "id": "lZ3OMy4en--I"
   },
   "source": [
    "### Dicionários"
   ]
  },
  {
   "cell_type": "code",
   "execution_count": null,
   "metadata": {
    "id": "kAEucsPbn--I"
   },
   "outputs": [],
   "source": [
    "lista = ['a', 'a', 'b', 'a', 'c', 'd', 'e', 'b', 'b', 'c']"
   ]
  },
  {
   "cell_type": "code",
   "execution_count": null,
   "metadata": {
    "id": "u0d4h0k-n--J"
   },
   "outputs": [],
   "source": [
    "# Exercício 17 - Crie um dicionario que contenha a contagem de cada elemento do vetor\n",
    "my_dict = {x:lista.count(x) for x in lista}"
   ]
  },
  {
   "cell_type": "code",
   "execution_count": null,
   "metadata": {
    "colab": {
     "base_uri": "https://localhost:8080/"
    },
    "id": "5yELonzAn--J",
    "outputId": "bbf6de23-eda0-4c8d-ed30-3f256c084e63"
   },
   "outputs": [],
   "source": [
    "print(my_dict)"
   ]
  },
  {
   "cell_type": "markdown",
   "metadata": {
    "id": "omkufl_Nn--J"
   },
   "source": [
    "### Funções"
   ]
  },
  {
   "cell_type": "code",
   "execution_count": null,
   "metadata": {
    "id": "E8sslwBSn--J"
   },
   "outputs": [],
   "source": [
    "# Exercício 18 - Crie uma função soma_elementos() que recebe uma lista e retorna a soma de todos os seus elementos\n",
    "def soma_elementos(lista):\n",
    "    return sum(lista)"
   ]
  },
  {
   "cell_type": "code",
   "execution_count": null,
   "metadata": {
    "colab": {
     "base_uri": "https://localhost:8080/"
    },
    "id": "zYgTxeSQn--J",
    "outputId": "e641b5b4-af78-4229-983d-9d191bfad5c1"
   },
   "outputs": [],
   "source": [
    "soma_elementos([1, 2, 3, 4, 5])"
   ]
  },
  {
   "cell_type": "code",
   "execution_count": null,
   "metadata": {
    "colab": {
     "base_uri": "https://localhost:8080/"
    },
    "id": "DkDS3nzOn--J",
    "outputId": "e3b45693-70c9-4e4c-d8c3-acf279693ab4"
   },
   "outputs": [],
   "source": [
    "soma_elementos([-1, 5, 7, -2])"
   ]
  },
  {
   "cell_type": "code",
   "execution_count": null,
   "metadata": {
    "id": "cDM8zIbQn--K"
   },
   "outputs": [],
   "source": [
    "# Exercício 19 - Crie uma função produto_escalar() que recebe duas listas de tamanho igual e calcula o produto escalar entre elas\n",
    "# Dica: Utilize a função zip\n",
    "def produto_escalar(lista1,lista2):\n",
    "  return sum([x*y for x,y in zip(lista1,lista2)])"
   ]
  },
  {
   "cell_type": "code",
   "execution_count": null,
   "metadata": {
    "colab": {
     "base_uri": "https://localhost:8080/"
    },
    "id": "U9AWD0Vmn--K",
    "outputId": "14087a2c-d516-4a1b-a537-567edbd0af17"
   },
   "outputs": [],
   "source": [
    "produto_escalar([1, 2, 3], [0, 4, 7])"
   ]
  },
  {
   "cell_type": "code",
   "execution_count": null,
   "metadata": {
    "colab": {
     "base_uri": "https://localhost:8080/"
    },
    "id": "qDJ7EkFln--K",
    "outputId": "f82aa6ef-70f7-4188-a094-5a0c9099e500"
   },
   "outputs": [],
   "source": [
    "produto_escalar([10, 20, 40, 1], [23, 4, 2, 1])"
   ]
  },
  {
   "cell_type": "code",
   "execution_count": null,
   "metadata": {
    "id": "gF0wlUean--K"
   },
   "outputs": [],
   "source": [
    "# Exercício 20 - Crie uma função par_ou_impar() que recebe um numero n \n",
    "#  é para cada numero de 1 a n imprime o numero\n",
    "#  seguido de par ou impar, dependendo do que ele seja. \n",
    "#  Caso o usuário não coloque nada n deve valer 20\n",
    "# Exemplo: par_ou_impar(4)\n",
    "#   1 Impar\n",
    "#   2 Par\n",
    "#   3 Impar\n",
    "#   4 Par\n",
    "def par_ou_impar(n=20):\n",
    "  for x in range(1,n+1):\n",
    "    if x % 2 == 0:\n",
    "      print(str(x) + ' Par')\n",
    "    else:\n",
    "      print(str(x) + ' Impar')"
   ]
  },
  {
   "cell_type": "code",
   "execution_count": null,
   "metadata": {
    "colab": {
     "base_uri": "https://localhost:8080/"
    },
    "id": "ha8O8jqfn--K",
    "outputId": "1bb56c1a-7b43-4061-ac30-f5d766fcfb6d"
   },
   "outputs": [],
   "source": [
    "par_ou_impar(15)"
   ]
  },
  {
   "cell_type": "code",
   "execution_count": null,
   "metadata": {
    "colab": {
     "base_uri": "https://localhost:8080/"
    },
    "id": "IJ0hDDC6n--L",
    "outputId": "9c9f3cfc-3e5d-4953-8ba4-56b69a79bb6c"
   },
   "outputs": [],
   "source": [
    "par_ou_impar()"
   ]
  },
  {
   "cell_type": "code",
   "execution_count": null,
   "metadata": {
    "id": "UCMJ8dXbn--L"
   },
   "outputs": [],
   "source": [
    "# Exercício 21 - Crie uma função diga_indice() que recebe uma lista e imprime o indice de cada elemento e em seguida \n",
    "# o proprio elemento\n",
    "# Exemplo: diga_indice(['oi', 'tudo', 'bem'])\n",
    "#    0 oi\n",
    "#    1 tudo\n",
    "#    2 bem\n",
    "# (DICA: Pesquise pela função enumerate)\n",
    "def diga_indice(lista):\n",
    "  for indice, elemento in enumerate(lista):\n",
    "    print(indice,elemento)"
   ]
  },
  {
   "cell_type": "code",
   "execution_count": null,
   "metadata": {
    "colab": {
     "base_uri": "https://localhost:8080/"
    },
    "id": "DuJDAREpn--L",
    "outputId": "a14eb6eb-e006-4cd7-924d-fff268bd8b02"
   },
   "outputs": [],
   "source": [
    "diga_indice(['1', '2', '3'])"
   ]
  },
  {
   "cell_type": "code",
   "execution_count": null,
   "metadata": {
    "colab": {
     "base_uri": "https://localhost:8080/"
    },
    "id": "t26YJqHun--L",
    "outputId": "91d4998c-7e97-4ca9-8b30-394e3d02700f"
   },
   "outputs": [],
   "source": [
    "diga_indice(['a', 'b', 'c', 'd', 'e'])"
   ]
  },
  {
   "cell_type": "markdown",
   "metadata": {
    "id": "EC7_smlWn--L"
   },
   "source": [
    "## Numpy\n",
    "\n",
    "O elemento central do numpy são os arrays, então aqui vamos treinar muitas coisas sobre eles\n",
    "\n",
    "[Documentação do numpy](https://numpy.org/devdocs/reference/index.html)\n",
    "\n",
    "Além de olhar a documentação também faça pesquisas procurando por termos desconhecidos pesquisas em inglês costumam retornar mais resultador, porém também existem resultados em portugues. [Exemplo](https://letmegooglethat.com/?q=numpy+shape)"
   ]
  },
  {
   "cell_type": "code",
   "execution_count": null,
   "metadata": {
    "id": "e7mjBkXMn--L"
   },
   "outputs": [],
   "source": [
    "# Importando a biblioteca\n",
    "import numpy as np"
   ]
  },
  {
   "cell_type": "markdown",
   "metadata": {
    "id": "WMD_OkWIn--M"
   },
   "source": [
    "### Arrays"
   ]
  },
  {
   "cell_type": "code",
   "execution_count": null,
   "metadata": {
    "id": "wR2G0nKJn--M"
   },
   "outputs": [],
   "source": [
    "a = np.array([1, 2, 3, 4, 5, 6, 7])\n",
    "\n",
    "b = np.array([[1, 2, 3, 4],\n",
    "              [5, 6, 7, 8]])\n",
    "\n",
    "c = np.zeros((3,4))\n",
    "c"
   ]
  },
  {
   "cell_type": "code",
   "execution_count": null,
   "metadata": {},
   "outputs": [],
   "source": [
    "c[2,2] = 1\n",
    "c"
   ]
  },
  {
   "cell_type": "code",
   "execution_count": null,
   "metadata": {},
   "outputs": [],
   "source": [
    "10 in c"
   ]
  },
  {
   "cell_type": "code",
   "execution_count": null,
   "metadata": {
    "colab": {
     "base_uri": "https://localhost:8080/"
    },
    "id": "T00h7BDen--M",
    "outputId": "24c480c1-074a-4e6f-92db-9e4af1266207"
   },
   "outputs": [],
   "source": [
    "# Exercício 22 - Pense em qual é a shape de cada um dos arrays acima\n",
    "# Depois de pensar imprima cada um deles para conferir sua resposta\n",
    "print(a.shape)\n",
    "print(b.shape)\n",
    "print(c.shape)"
   ]
  },
  {
   "cell_type": "code",
   "execution_count": null,
   "metadata": {
    "colab": {
     "base_uri": "https://localhost:8080/"
    },
    "id": "_9TUwp1Jn--M",
    "outputId": "41a8601d-0115-4d43-b2f0-04cb1e666fbf"
   },
   "outputs": [],
   "source": [
    "# Exercício 23 - Crie um array de uma dimensão com 20 \n",
    "#   elementos inteiros aletórios entre 0 e 23\n",
    "arr = np.random.randint(23, size=(20,))\n",
    "arr"
   ]
  },
  {
   "cell_type": "code",
   "execution_count": null,
   "metadata": {
    "colab": {
     "base_uri": "https://localhost:8080/"
    },
    "id": "BlHN-Fj1n--M",
    "outputId": "f72bf525-d075-4e3f-c6d5-fc888f3560b1"
   },
   "outputs": [],
   "source": [
    "# Exercício 24 - Crie um array de uns com shape (4, 5)\n",
    "uns = np.ones((4,5))\n",
    "uns"
   ]
  },
  {
   "cell_type": "code",
   "execution_count": null,
   "metadata": {
    "colab": {
     "base_uri": "https://localhost:8080/"
    },
    "id": "I0tUlNHwn--M",
    "outputId": "6da0bd5c-58fb-462e-e088-03f0069ca1a2"
   },
   "outputs": [],
   "source": [
    "# Exercício 25 - Crie um array shape (4, 2) onde cada entrada vale 77\n",
    "# (Dica: Talvez vc tenha que usar uma multiplicação)\n",
    "arr = np.full((4, 2), 77)\n",
    "arr"
   ]
  },
  {
   "cell_type": "code",
   "execution_count": null,
   "metadata": {
    "colab": {
     "base_uri": "https://localhost:8080/"
    },
    "id": "WNtiavTBn--N",
    "outputId": "aa90a74c-75d8-4fbb-8a00-1364e1bbd35b"
   },
   "outputs": [],
   "source": [
    "# Exercício 26 - Gere um array chamado my_sequence com os numeros 0, 10, 20, 30, ..., 90, 100]\n",
    "my_sequence = np.arange(0,110,10)\n",
    "my_sequence"
   ]
  },
  {
   "cell_type": "markdown",
   "metadata": {
    "id": "9JlWxzCyn--N"
   },
   "source": [
    "### Indexando"
   ]
  },
  {
   "cell_type": "code",
   "execution_count": null,
   "metadata": {
    "colab": {
     "base_uri": "https://localhost:8080/"
    },
    "id": "nrfHrWxAn--N",
    "outputId": "7440a1c2-fff5-4b67-b628-bdd0681b89f9"
   },
   "outputs": [],
   "source": [
    "my_array = np.random.randint(50, size=(15,))\n",
    "print(my_array)"
   ]
  },
  {
   "cell_type": "code",
   "execution_count": null,
   "metadata": {
    "colab": {
     "base_uri": "https://localhost:8080/"
    },
    "id": "4OO_y1s7n--N",
    "outputId": "df063eb6-e7af-4b7d-b6dc-cafa6fdcab6c"
   },
   "outputs": [],
   "source": [
    "# Exercício 27 - Selecione todos os elementos entre o quinto e o decimo primeiro (intervalo fechado)\n",
    "my_array[4:11]"
   ]
  },
  {
   "cell_type": "code",
   "execution_count": null,
   "metadata": {},
   "outputs": [],
   "source": [
    "my_array"
   ]
  },
  {
   "cell_type": "code",
   "execution_count": null,
   "metadata": {
    "colab": {
     "base_uri": "https://localhost:8080/"
    },
    "id": "uyeIMaDjn--N",
    "outputId": "03a7585e-1310-4d57-f143-0f6442f8b62c"
   },
   "outputs": [],
   "source": [
    "# Exercício 28 - Selecione todos os elementos maiores que 20\n",
    "my_array[my_array>20]"
   ]
  },
  {
   "cell_type": "code",
   "execution_count": null,
   "metadata": {
    "id": "3rribCLZn--N"
   },
   "outputs": [],
   "source": [
    "my_matrix = np.array([[1, 2, 3, 4],\n",
    "                      [5, 6, 7, 8],\n",
    "                      [9, 10, 11, 12],\n",
    "                      [13, 14, 15, 16]])"
   ]
  },
  {
   "cell_type": "code",
   "execution_count": null,
   "metadata": {
    "colab": {
     "base_uri": "https://localhost:8080/"
    },
    "id": "d6zbUzNPn--O",
    "outputId": "7327cac5-5176-487e-b76b-217a92b1e9fa"
   },
   "outputs": [],
   "source": [
    "# Exercício 29 - Selecione o elemento na primeira linha da terceira coluna\n",
    "my_matrix[0,2]"
   ]
  },
  {
   "cell_type": "code",
   "execution_count": null,
   "metadata": {
    "colab": {
     "base_uri": "https://localhost:8080/"
    },
    "id": "vMI0UjfGn--O",
    "outputId": "c211c680-81ef-4f13-e815-1635b0f16a03"
   },
   "outputs": [],
   "source": [
    "# Exercício 30 - Selecione o elemento na primeira linha da ultima coluna\n",
    "my_matrix[0,-1]"
   ]
  },
  {
   "cell_type": "code",
   "execution_count": null,
   "metadata": {
    "colab": {
     "base_uri": "https://localhost:8080/"
    },
    "id": "a2HjgVy5n--O",
    "outputId": "d2f24b01-bfb2-49bf-ff02-bb25e4e2fdc4"
   },
   "outputs": [],
   "source": [
    "# Exercício 31 - Selecione os elementos da matriz para obter o seguinte\n",
    "# [[6, 7],\n",
    "#  [10, 11]]\n",
    "my_matrix[1:3,1:3]"
   ]
  },
  {
   "cell_type": "code",
   "execution_count": null,
   "metadata": {
    "colab": {
     "base_uri": "https://localhost:8080/"
    },
    "id": "jA7uhfZWn--O",
    "outputId": "e19e4061-fba0-4565-d825-bd2bf0da0e3e"
   },
   "outputs": [],
   "source": [
    "# Exercício 32 - Selecione os elementos da matriz para obter o seguinte\n",
    "# [[2, 3, 4],\n",
    "#  [6, 7, 8]]\n",
    "my_matrix[0:2,1:]"
   ]
  },
  {
   "cell_type": "code",
   "execution_count": null,
   "metadata": {
    "colab": {
     "base_uri": "https://localhost:8080/"
    },
    "id": "3dim_w5En--O",
    "outputId": "0f425c50-5c9e-41f6-8083-df6f4d938829"
   },
   "outputs": [],
   "source": [
    "# Exercício 33 - Selecione os elementos da ultima coluna inteira\n",
    "my_matrix[:,-1]"
   ]
  },
  {
   "cell_type": "code",
   "execution_count": null,
   "metadata": {
    "colab": {
     "base_uri": "https://localhost:8080/"
    },
    "id": "zIJcbtoTn--O",
    "outputId": "276a1670-2fc4-4953-8c33-0ed5f814e6f6"
   },
   "outputs": [],
   "source": [
    "# Exercício 34 - Selecione os elementos da 2a linha inteira\n",
    "my_matrix[1,:]"
   ]
  },
  {
   "cell_type": "markdown",
   "metadata": {
    "id": "pF-04yshIEe1"
   },
   "source": [
    "# Nova seção"
   ]
  },
  {
   "cell_type": "markdown",
   "metadata": {
    "id": "OCStsuYBn--O"
   },
   "source": [
    "### Operações"
   ]
  },
  {
   "cell_type": "code",
   "execution_count": null,
   "metadata": {
    "colab": {
     "base_uri": "https://localhost:8080/"
    },
    "id": "YHNu99lXn--P",
    "outputId": "81137869-1273-4bee-c97a-2f6c9983a42f"
   },
   "outputs": [],
   "source": [
    "my_array = np.random.randint(10, size=(5,))\n",
    "print(my_array)"
   ]
  },
  {
   "cell_type": "code",
   "execution_count": null,
   "metadata": {},
   "outputs": [],
   "source": [
    "len(my_array)"
   ]
  },
  {
   "cell_type": "code",
   "execution_count": null,
   "metadata": {
    "colab": {
     "base_uri": "https://localhost:8080/"
    },
    "id": "us2z9CuRn--P",
    "outputId": "9ccde3c3-3baa-4019-c08e-afca7e997f9e"
   },
   "outputs": [],
   "source": [
    "# Exercício 35 - Some 10 a todos os elementos de my_array\n",
    "my_array + 10"
   ]
  },
  {
   "cell_type": "code",
   "execution_count": null,
   "metadata": {
    "colab": {
     "base_uri": "https://localhost:8080/"
    },
    "id": "gzWtL1fYn--P",
    "outputId": "520731dd-9b33-4410-e8c3-526423ca57d9"
   },
   "outputs": [],
   "source": [
    "# Exercício 36 - Multiplique todos os elementos de my_array por 4\n",
    "my_array * 4"
   ]
  },
  {
   "cell_type": "code",
   "execution_count": null,
   "metadata": {
    "colab": {
     "base_uri": "https://localhost:8080/"
    },
    "id": "ouX86I7Un--P",
    "outputId": "cccc3414-4ad0-47c6-aa28-9d3a6228dbd3"
   },
   "outputs": [],
   "source": [
    "# Exercício 37 - Obtenha a soma de todos os elementos de my_array\n",
    "np.sum(my_array)"
   ]
  },
  {
   "cell_type": "code",
   "execution_count": null,
   "metadata": {
    "colab": {
     "base_uri": "https://localhost:8080/"
    },
    "id": "LMKVUppjn--P",
    "outputId": "8d24e6ca-0511-48e5-ed00-4803b0629792"
   },
   "outputs": [],
   "source": [
    "# Exercício 38 - Obtenha a média de todos os elementos de my_array\n",
    "np.mean(my_array)"
   ]
  },
  {
   "cell_type": "code",
   "execution_count": null,
   "metadata": {
    "colab": {
     "base_uri": "https://localhost:8080/"
    },
    "id": "p1YeEkqXn--P",
    "outputId": "e84ecb5f-624f-4804-99fd-49f4b0c035e0"
   },
   "outputs": [],
   "source": [
    "# Exercício 39 - Obtenha o indice do maior elemento de my_array\n",
    "#my_array.where(max(my_array))\n",
    "np.argwhere(my_array == max(my_array))[0][0]"
   ]
  },
  {
   "cell_type": "code",
   "execution_count": null,
   "metadata": {
    "colab": {
     "base_uri": "https://localhost:8080/"
    },
    "id": "m3zE02Uwn--P",
    "outputId": "0d0574e7-9f62-41f5-b572-e5d2330a8202"
   },
   "outputs": [],
   "source": [
    "my_array = np.random.randint(10, size=(5,))\n",
    "my_other_array = np.random.randint(10, size=(5,))\n",
    "print(my_array, '\\n')\n",
    "print(my_other_array)"
   ]
  },
  {
   "cell_type": "code",
   "execution_count": null,
   "metadata": {
    "colab": {
     "base_uri": "https://localhost:8080/"
    },
    "id": "dPcA3-Apn--Q",
    "outputId": "3347130e-9b0b-4f51-ff08-13fa9234ba55"
   },
   "outputs": [],
   "source": [
    "# Exercício 40 - Some my_array elemento por elemento em cada linha de my_other_array\n",
    "my_array + my_other_array"
   ]
  },
  {
   "cell_type": "code",
   "execution_count": null,
   "metadata": {
    "colab": {
     "base_uri": "https://localhost:8080/"
    },
    "id": "gWJW6kvyn--Q",
    "outputId": "25ab18e9-9cb0-4fae-9f5b-3cb5bd981195"
   },
   "outputs": [],
   "source": [
    "my_array = np.random.randint(10, size=(5,4))\n",
    "my_other_array = np.random.randint(10, size=(10,5))\n",
    "print(my_array, '\\n')\n",
    "print(my_other_array)"
   ]
  },
  {
   "cell_type": "code",
   "execution_count": null,
   "metadata": {
    "colab": {
     "base_uri": "https://localhost:8080/"
    },
    "id": "jx3EDYkPn--Q",
    "outputId": "4f8ceb8e-6567-4953-e9be-820787298636"
   },
   "outputs": [],
   "source": [
    "# Exercício 41 - Faça a multiplicação entre my_other_array e my_array\n",
    "np.dot(my_other_array,my_array)"
   ]
  },
  {
   "cell_type": "code",
   "execution_count": null,
   "metadata": {
    "colab": {
     "base_uri": "https://localhost:8080/"
    },
    "id": "5Nhxb8Bbn--R",
    "outputId": "7bb5b9e9-eaf5-487d-feb7-6991d2c7b398"
   },
   "outputs": [],
   "source": [
    "# Exercício 42 - Descubra a soma dos valores de cada linha de my_other_array\n",
    "# (Dica: Pesquise sobre o atributo axis da função de soma)\n",
    "np.sum(my_other_array, axis=1)"
   ]
  },
  {
   "cell_type": "code",
   "execution_count": null,
   "metadata": {
    "colab": {
     "base_uri": "https://localhost:8080/"
    },
    "id": "VCCEQOuSn--R",
    "outputId": "888287d3-ff1c-4b16-8da4-033f661ac94a"
   },
   "outputs": [],
   "source": [
    "my_array = np.random.randint(10, size=(5,4))\n",
    "print(my_array)"
   ]
  },
  {
   "cell_type": "code",
   "execution_count": null,
   "metadata": {
    "colab": {
     "base_uri": "https://localhost:8080/"
    },
    "id": "Qb8ceHBUn--R",
    "outputId": "313c366c-1531-497e-d606-4e100cc7398d"
   },
   "outputs": [],
   "source": [
    "# Exercício 43 - Usando reshape transforme a matriz acima em um vetor (Concatendo a linha de baixo na de cima)\n",
    "np.reshape(my_array,my_array.size)"
   ]
  },
  {
   "cell_type": "code",
   "execution_count": null,
   "metadata": {
    "colab": {
     "base_uri": "https://localhost:8080/"
    },
    "id": "pNhy3mMDn--R",
    "outputId": "8390c095-a3b8-4562-d84d-2a4e96fcef53"
   },
   "outputs": [],
   "source": [
    "np.array([[ 0,  1,  2,  3,  4,  5,  6,  7],\n",
    "          [ 8,  9, 10, 11, 12, 13, 14, 15]])"
   ]
  },
  {
   "cell_type": "code",
   "execution_count": null,
   "metadata": {
    "colab": {
     "base_uri": "https://localhost:8080/"
    },
    "id": "FxeIXLuyn--R",
    "outputId": "dc960558-eaa3-41bf-8008-b15c5278b64e"
   },
   "outputs": [],
   "source": [
    "# Exercício 44 - Gere a array anterior usando np.arange e a função reshape\n",
    "np.reshape(np.arange(0, 16, 1),(2,8))"
   ]
  }
 ],
 "metadata": {
  "colab": {
   "name": "3.3 aula -  Terceira Lista - Fundamentos de Python.ipynb",
   "provenance": []
  },
  "kernelspec": {
   "display_name": "Python 3",
   "language": "python",
   "name": "python3"
  },
  "language_info": {
   "codemirror_mode": {
    "name": "ipython",
    "version": 3
   },
   "file_extension": ".py",
   "mimetype": "text/x-python",
   "name": "python",
   "nbconvert_exporter": "python",
   "pygments_lexer": "ipython3",
   "version": "3.8.5"
  }
 },
 "nbformat": 4,
 "nbformat_minor": 1
}
