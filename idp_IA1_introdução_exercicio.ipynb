{
  "nbformat": 4,
  "nbformat_minor": 0,
  "metadata": {
    "celltoolbar": "Create Assignment",
    "kernelspec": {
      "display_name": "Python 3",
      "language": "python",
      "name": "python3"
    },
    "language_info": {
      "codemirror_mode": {
        "name": "ipython",
        "version": 3
      },
      "file_extension": ".py",
      "mimetype": "text/x-python",
      "name": "python",
      "nbconvert_exporter": "python",
      "pygments_lexer": "ipython3",
      "version": "3.8.3"
    },
    "name": "_merged",
    "varInspector": {
      "cols": {
        "lenName": 16,
        "lenType": 16,
        "lenVar": 40
      },
      "kernels_config": {
        "python": {
          "delete_cmd_postfix": "",
          "delete_cmd_prefix": "del ",
          "library": "var_list.py",
          "varRefreshCmd": "print(var_dic_list())"
        },
        "r": {
          "delete_cmd_postfix": ") ",
          "delete_cmd_prefix": "rm(",
          "library": "var_list.r",
          "varRefreshCmd": "cat(var_dic_list()) "
        }
      },
      "types_to_exclude": [
        "module",
        "function",
        "builtin_function_or_method",
        "instance",
        "_Feature"
      ],
      "window_display": false
    },
    "colab": {
      "name": "idp - IA1 - introdução - exercicio.ipynb",
      "provenance": [],
      "collapsed_sections": [],
      "include_colab_link": true
    }
  },
  "cells": [
    {
      "cell_type": "markdown",
      "metadata": {
        "id": "view-in-github",
        "colab_type": "text"
      },
      "source": [
        "<a href=\"https://colab.research.google.com/github/LeodeFaria/IDP/blob/main/idp_IA1_introdu%C3%A7%C3%A3o_exercicio.ipynb\" target=\"_parent\"><img src=\"https://colab.research.google.com/assets/colab-badge.svg\" alt=\"Open In Colab\"/></a>"
      ]
    },
    {
      "cell_type": "markdown",
      "metadata": {
        "id": "l_IYVrQEia9F"
      },
      "source": [
        "# Aula 1 - Exercício - Regressão Linear Simples"
      ]
    },
    {
      "cell_type": "code",
      "metadata": {
        "id": "lxIE7Qz9ia9H",
        "outputId": "71f2f334-86db-4a27-b5e2-7a6ef0bf467f",
        "colab": {
          "base_uri": "https://localhost:8080/"
        }
      },
      "source": [
        "# #@title Init Cell - Execute-me!!!\n",
        "!pip install ipynb_autograde==0.0.22\n",
        "import sys\n",
        "from os.path import dirname\n",
        "import inspect, numpy\n",
        "path = f\"{dirname(dirname(inspect.getfile(numpy)))}/ipynb_autograde/\" \n",
        "sys.path.insert(0, path)\n",
        "from ipynb_autograde.main import init_log, validate\n",
        "init_log()\n",
        "email_result=!gcloud config get-value account\n",
        "if not email_result or 'unset' in email_result[0]:\n",
        "  !gcloud auth login\n",
        "\n",
        "%env log_url https://docs.google.com/forms/d/e/1FAIpQLSfRtpAVNRGKDmTxh9FhJKucyNMGeQ8Es_JRyG_HcUUVmM_zQg/formResponse?usp|||pp_url&entry.1956860070|||mbaidp&entry.205464053|||2021&entry.1885440499|||IA1&entry.1437170782|||__exercisenumber__&__data__entry.304785533|||__log__&entry.2060734065|||__errors__\n",
        "%env results_url https://docs.google.com/forms/d/e/1FAIpQLSeASSC8-w8FmfodZ4lBnuSEAvYuE4vatIBowLIREG1f-2pIpA/formResponse?usp|||pp_url&entry.1986154915|||mbaidp&entry.513694412|||2021&entry.1914621244|||IA1&entry.1799867692|||__exercisenumber__&entry.886231469|||__exercisescore__&entry.1342537331|||__id__\n"
      ],
      "execution_count": 1,
      "outputs": [
        {
          "output_type": "stream",
          "text": [
            "Collecting ipynb_autograde==0.0.22\n",
            "\u001b[?25l  Downloading https://files.pythonhosted.org/packages/98/0c/0f4d5ecd99224e59ccb41df5071c6e8f22311da659f25bf417da7c08ba62/ipynb_autograde-0.0.22.tar.gz (228kB)\n",
            "\u001b[K     |████████████████████████████████| 235kB 6.8MB/s \n",
            "\u001b[?25hRequirement already satisfied: setuptools>=57.0.0 in /usr/local/lib/python3.7/dist-packages (from ipynb_autograde==0.0.22) (57.0.0)\n",
            "Collecting requests>=2.25.1\n",
            "\u001b[?25l  Downloading https://files.pythonhosted.org/packages/29/c1/24814557f1d22c56d50280771a17307e6bf87b70727d975fd6b2ce6b014a/requests-2.25.1-py2.py3-none-any.whl (61kB)\n",
            "\u001b[K     |████████████████████████████████| 61kB 5.0MB/s \n",
            "\u001b[?25hRequirement already satisfied: numpy>=1.19.5 in /usr/local/lib/python3.7/dist-packages (from ipynb_autograde==0.0.22) (1.19.5)\n",
            "Requirement already satisfied: pandas>=1.1.5 in /usr/local/lib/python3.7/dist-packages (from ipynb_autograde==0.0.22) (1.1.5)\n",
            "Requirement already satisfied: idna<3,>=2.5 in /usr/local/lib/python3.7/dist-packages (from requests>=2.25.1->ipynb_autograde==0.0.22) (2.10)\n",
            "Requirement already satisfied: chardet<5,>=3.0.2 in /usr/local/lib/python3.7/dist-packages (from requests>=2.25.1->ipynb_autograde==0.0.22) (3.0.4)\n",
            "Requirement already satisfied: urllib3<1.27,>=1.21.1 in /usr/local/lib/python3.7/dist-packages (from requests>=2.25.1->ipynb_autograde==0.0.22) (1.24.3)\n",
            "Requirement already satisfied: certifi>=2017.4.17 in /usr/local/lib/python3.7/dist-packages (from requests>=2.25.1->ipynb_autograde==0.0.22) (2021.5.30)\n",
            "Requirement already satisfied: python-dateutil>=2.7.3 in /usr/local/lib/python3.7/dist-packages (from pandas>=1.1.5->ipynb_autograde==0.0.22) (2.8.1)\n",
            "Requirement already satisfied: pytz>=2017.2 in /usr/local/lib/python3.7/dist-packages (from pandas>=1.1.5->ipynb_autograde==0.0.22) (2018.9)\n",
            "Requirement already satisfied: six>=1.5 in /usr/local/lib/python3.7/dist-packages (from python-dateutil>=2.7.3->pandas>=1.1.5->ipynb_autograde==0.0.22) (1.15.0)\n",
            "Building wheels for collected packages: ipynb-autograde\n",
            "  Building wheel for ipynb-autograde (setup.py) ... \u001b[?25l\u001b[?25hdone\n",
            "  Created wheel for ipynb-autograde: filename=ipynb_autograde-0.0.22-cp37-none-any.whl size=230033 sha256=a232bbf45b4e9c98e76e8aa784a9bb75dc6c713cf89e06dbc87b0c69645156a3\n",
            "  Stored in directory: /root/.cache/pip/wheels/c7/d2/bd/cfab362640a9d16c1ec7aa694f62729d6a39d1b6e0b250d176\n",
            "Successfully built ipynb-autograde\n",
            "\u001b[31mERROR: google-colab 1.0.0 has requirement requests~=2.23.0, but you'll have requests 2.25.1 which is incompatible.\u001b[0m\n",
            "\u001b[31mERROR: datascience 0.10.6 has requirement folium==0.2.1, but you'll have folium 0.8.3 which is incompatible.\u001b[0m\n",
            "Installing collected packages: requests, ipynb-autograde\n",
            "  Found existing installation: requests 2.23.0\n",
            "    Uninstalling requests-2.23.0:\n",
            "      Successfully uninstalled requests-2.23.0\n",
            "Successfully installed ipynb-autograde-0.0.22 requests-2.25.1\n",
            "Go to the following link in your browser:\n",
            "\n",
            "    https://accounts.google.com/o/oauth2/auth?response_type=code&client_id=32555940559.apps.googleusercontent.com&redirect_uri=urn%3Aietf%3Awg%3Aoauth%3A2.0%3Aoob&scope=openid+https%3A%2F%2Fwww.googleapis.com%2Fauth%2Fuserinfo.email+https%3A%2F%2Fwww.googleapis.com%2Fauth%2Fcloud-platform+https%3A%2F%2Fwww.googleapis.com%2Fauth%2Fappengine.admin+https%3A%2F%2Fwww.googleapis.com%2Fauth%2Fcompute+https%3A%2F%2Fwww.googleapis.com%2Fauth%2Faccounts.reauth&state=btZvNIyRQCR2ZSIaEr4UHztFz2EHLU&prompt=consent&access_type=offline&code_challenge=b9e_npHi8VxrKAxIZUpMP_FdO2kCrE7YOFB8vlRGRY0&code_challenge_method=S256\n",
            "\n",
            "Enter verification code: 4/1AX4XfWjPHYzKTTB1O_C-khDk1a9fj5EXAVmhH-OzFDtgAQ8CdYCFKwcYZYw\n",
            "\n",
            "You are now logged in as [leodefaria@gmail.com].\n",
            "Your current project is [None].  You can change this setting by running:\n",
            "  $ gcloud config set project PROJECT_ID\n",
            "env: log_url=https://docs.google.com/forms/d/e/1FAIpQLSfRtpAVNRGKDmTxh9FhJKucyNMGeQ8Es_JRyG_HcUUVmM_zQg/formResponse?usp|||pp_url&entry.1956860070|||mbaidp&entry.205464053|||2021&entry.1885440499|||IA1&entry.1437170782|||__exercisenumber__&__data__entry.304785533|||__log__&entry.2060734065|||__errors__\n",
            "env: results_url=https://docs.google.com/forms/d/e/1FAIpQLSeASSC8-w8FmfodZ4lBnuSEAvYuE4vatIBowLIREG1f-2pIpA/formResponse?usp|||pp_url&entry.1986154915|||mbaidp&entry.513694412|||2021&entry.1914621244|||IA1&entry.1799867692|||__exercisenumber__&entry.886231469|||__exercisescore__&entry.1342537331|||__id__\n"
          ],
          "name": "stdout"
        }
      ]
    },
    {
      "cell_type": "code",
      "metadata": {
        "id": "NQtwQ4GZilyr"
      },
      "source": [
        "# Faca o import das bibliotecas\n",
        "import ipynb_autograde\n",
        "import pandas as pd\n",
        "import numpy as np\n",
        "from math import pow"
      ],
      "execution_count": 2,
      "outputs": []
    },
    {
      "cell_type": "markdown",
      "metadata": {
        "id": "-JHOmJX9ia9I"
      },
      "source": [
        "### 1.1 Escreva uma função que leia um dataframe e retorne o nome das colunas\n",
        "#### Resultado esperado:\n",
        "['square_feet' 'price']"
      ]
    },
    {
      "cell_type": "code",
      "metadata": {
        "id": "yHIHsPIUia9J"
      },
      "source": [
        "# Faca aqui seus testes do Exercício 1.1\n",
        "input_path = 'https://github.com/4tune-ai/IDP/blob/main/data/input_data.csv?raw=true'\n",
        "\n"
      ],
      "execution_count": null,
      "outputs": []
    },
    {
      "cell_type": "code",
      "metadata": {
        "nbgrader": {
          "grade": false,
          "grade_id": "cell-c705ab9d11473b9f9",
          "locked": false,
          "schema_version": 3,
          "solution": true,
          "task": false
        },
        "id": "vN3UGAtZia9J"
      },
      "source": [
        "# Faca aqui sua função do Exercício 1.1\n",
        "def get_headers(dataframe):\n",
        "    \"\"\"\n",
        "    Pega o nome das colunas de um dataframe\n",
        "    :param dataframe:\n",
        "    :return columns:\n",
        "    \"\"\"\n",
        "    return "
      ],
      "execution_count": null,
      "outputs": []
    },
    {
      "cell_type": "code",
      "metadata": {
        "nbgrader": {
          "grade": true,
          "grade_id": "cell-9ffdsa88d58e9282a",
          "locked": true,
          "points": 1,
          "schema_version": 3,
          "solution": false,
          "task": false
        },
        "id": "mjxS1S1oia9K"
      },
      "source": [
        "# Faca aqui a validacao do Exercicio 1.1\n",
        "input_path = 'https://github.com/4tune-ai/IDP/blob/main/data/input_data.csv?raw=true'\n",
        "house_price_dataset = pd.read_csv(input_path, usecols = ['square_feet'])\n",
        "\n",
        "entradas = [[house_price_dataset]]\n",
        "saidas = [house_price_dataset.columns.values]\n",
        "validate(get_headers, entradas, lambda x:x, saidas, \"1.1\")"
      ],
      "execution_count": null,
      "outputs": []
    },
    {
      "cell_type": "markdown",
      "metadata": {
        "id": "Buo0856Nia9K"
      },
      "source": [
        "### 1.2 Escreva uma função para calcular a media de uma Series de entrada\n",
        "#### Resultado esperado para o price:\n",
        "11021.4"
      ]
    },
    {
      "cell_type": "code",
      "metadata": {
        "id": "ycmgH8OLia9L"
      },
      "source": [
        "# Faca aqui seus testes do Exercício 1.2\n",
        "input_path = 'https://github.com/4tune-ai/IDP/blob/main/data/input_data.csv?raw=true'\n",
        "\n"
      ],
      "execution_count": null,
      "outputs": []
    },
    {
      "cell_type": "code",
      "metadata": {
        "nbgrader": {
          "grade": false,
          "grade_id": "cell-553em5248eb14bc30",
          "locked": false,
          "schema_version": 3,
          "solution": true,
          "task": false
        },
        "id": "qqk2L3eLia9L"
      },
      "source": [
        "# Faca aqui sua função do Exercício 1.2\n",
        "def cal_mean(readings):\n",
        "    \"\"\"\n",
        "    Calcula o a media de uma lista ou series de entrada\n",
        "    :param readings:\n",
        "    :return mean:\n",
        "    \"\"\"\n",
        "\n",
        "    return"
      ],
      "execution_count": null,
      "outputs": []
    },
    {
      "cell_type": "code",
      "metadata": {
        "nbgrader": {
          "grade": true,
          "grade_id": "cell-0se2b6cefe06bdc60",
          "locked": true,
          "points": 1,
          "schema_version": 3,
          "solution": false,
          "task": false
        },
        "id": "e5Ke5YEgia9M"
      },
      "source": [
        "# Faca aqui a validacao do Exercicio 1.2\n",
        "input_path = 'https://github.com/4tune-ai/IDP/blob/main/data/input_data.csv?raw=true'\n",
        "house_price_dataset = pd.read_csv(input_path)\n",
        "\n",
        "entradas = [[house_price_dataset['price']]]\n",
        "saidas = [11021.4]\n",
        "validate(cal_mean, entradas, lambda x: round(x,1), saidas, \"1.2\")"
      ],
      "execution_count": null,
      "outputs": []
    },
    {
      "cell_type": "markdown",
      "metadata": {
        "id": "2FFtkM7Kia9M"
      },
      "source": [
        "### 1.3 Escreva uma função para calcular a Variância\n",
        "\n",
        "### Calcule a média aritmética utilize a função do exercicio 1.2;\n",
        "\n",
        "### Subtraia de cada valor a média calculada e eleve o resultado ao quadrado utilize pow();\n",
        "\n",
        "### Some todos os valores e dividimos pelo número de dados - 1 para a amostra.\n",
        "\n",
        "#### Resultado esperado para o price:\n",
        "19619047.6"
      ]
    },
    {
      "cell_type": "code",
      "metadata": {
        "id": "sGkLIZ7Nia9M"
      },
      "source": [
        "# Faca aqui seus testes do Exercício 1.3\n",
        "input_path = 'https://github.com/4tune-ai/IDP/blob/main/data/input_data.csv?raw=true'\n",
        "\n"
      ],
      "execution_count": null,
      "outputs": []
    },
    {
      "cell_type": "code",
      "metadata": {
        "nbgrader": {
          "grade": false,
          "grade_id": "cell-5b4dc5640fc839be",
          "locked": false,
          "schema_version": 3,
          "solution": true,
          "task": false
        },
        "id": "4yKDdkNVia9N"
      },
      "source": [
        "# Faça aqui sua função do Exercício 1.3\n",
        "def cal_variance(readings):\n",
        "    \"\"\"\n",
        "    Calcula a variancia de uma lista ou series de entrada\n",
        "    :param readings:\n",
        "    :return variance:\n",
        "    \"\"\"\n",
        "\n",
        "    return "
      ],
      "execution_count": null,
      "outputs": []
    },
    {
      "cell_type": "code",
      "metadata": {
        "nbgrader": {
          "grade": true,
          "grade_id": "cell-eee2219340bc517c",
          "locked": true,
          "points": 1,
          "schema_version": 3,
          "solution": false,
          "task": false
        },
        "id": "Rzmays_oia9N"
      },
      "source": [
        "# Faca aqui a validacao do Exercicio 1.3\n",
        "input_path = 'https://github.com/4tune-ai/IDP/blob/main/data/input_data.csv?raw=true'\n",
        "house_price_dataset = pd.read_csv(input_path)\n",
        "\n",
        "entradas = [[house_price_dataset['price']]]\n",
        "saidas = [19619047.6]\n",
        "validate(cal_variance, entradas, lambda x: round(x,1), saidas, \"1.3\")"
      ],
      "execution_count": null,
      "outputs": []
    },
    {
      "cell_type": "markdown",
      "metadata": {
        "id": "_AZNSgqbia9N"
      },
      "source": [
        "### 1.4 Crie uma função python para retornar a predição de uma função do tipo b0 + b1*x\n",
        "#### Resultado esperado:"
      ]
    },
    {
      "cell_type": "code",
      "metadata": {
        "id": "0_6TiWOiia9O"
      },
      "source": [
        "# Faca aqui seus testes do Exercício 1.4\n",
        "input_path = 'https://github.com/4tune-ai/IDP/blob/main/data/input_data.csv?raw=true'\n",
        "\n"
      ],
      "execution_count": null,
      "outputs": []
    },
    {
      "cell_type": "code",
      "metadata": {
        "nbgrader": {
          "grade": false,
          "grade_id": "cell-919c16309d90227d",
          "locked": false,
          "schema_version": 3,
          "solution": true,
          "task": false
        },
        "id": "7OaB8VRwia9P"
      },
      "source": [
        "# Faca aqui sua função do Exercício 1.4\n",
        "def predict_target_value(x, b0, b1):\n",
        "    \"\"\"\n",
        "    Calcula um resultado (y) utilizando um input de x b0, b1\n",
        "    :param x:\n",
        "    :param b0:\n",
        "    :param b1:\n",
        "    :return function result:\n",
        "    \"\"\"\n",
        "    return "
      ],
      "execution_count": null,
      "outputs": []
    },
    {
      "cell_type": "code",
      "metadata": {
        "id": "skN5uz1ria9P"
      },
      "source": [
        "# Faca aqui a validacao do Exercicio 1.4\n",
        "\n",
        "entradas = [[2,1,2]]\n",
        "saidas = [5]\n",
        "validate(predict_target_value, entradas, lambda x: round(x,1), saidas, \"1.4\")"
      ],
      "execution_count": null,
      "outputs": []
    },
    {
      "cell_type": "markdown",
      "metadata": {
        "id": "os7BdMPLyTed"
      },
      "source": [
        "### 1.5 Faça a função que calcula a regressão linear simples (F(x) = ax + b)  utilize as funções criadas anteriormente, siga o passo-a-passo abaixo:\n",
        "\n",
        "#### Comece  vendo qual o header do dataframe com a função  get_headers(dataset)\n",
        "\n",
        "#### Depois faça o calculo da media das colunas square_feet(0) e price(1) \n",
        "\n",
        "#### Utilize essa média para calcular a variancia das colunas square_feet(0) e price(1)\n",
        "\n",
        "#### Faça a covariancia do price e do square_feet\n",
        "\n",
        "    covariance_of_price_and_square_feet = dataset.cov()[dataset_headers[0]][dataset_headers[1]]\n",
        "\n",
        "\n",
        "#### Utilize a covariancia para descobrir o \"a\" \n",
        "\n",
        "    a = covariance_of_price_and_square_feet / float(square_feet_variance)\n",
        "\n",
        "#### Utilize a media do preco e a media do square_feet vezes a  para descobrir o \"b\" \n",
        "\n",
        "    b = price_mean - (a * square_feet_mean)\n",
        "\n",
        "#### Crie uma varaivel com esse resultado\n",
        "\n",
        "    predicted_price = a * dataset[dataset_headers[0]] + b\n",
        "\n",
        "#### E no final retorne o resultado\n",
        "\n",
        "    return predicted_price\n"
      ]
    },
    {
      "cell_type": "code",
      "metadata": {
        "id": "OacG09JyyTee"
      },
      "source": [
        "# Faca aqui seus testes do Exercício 1.5\n",
        "input_path = 'https://github.com/4tune-ai/IDP/blob/main/data/input_data.csv?raw=true'\n",
        "\n"
      ],
      "execution_count": null,
      "outputs": []
    },
    {
      "cell_type": "code",
      "metadata": {
        "nbgrader": {
          "grade": false,
          "grade_id": "cell-919c16309d90227d",
          "locked": false,
          "schema_version": 3,
          "solution": true,
          "task": false
        },
        "id": "so_rcqBxyTef"
      },
      "source": [
        "# Faca aqui sua função do Exercício 1.5\n",
        "def simple_linear_regression(dataset):\n",
        "    \"\"\"\n",
        "    Implementa uma regressão linear simples\n",
        "    :param dataset:\n",
        "    :return predicted_price:\n",
        "    \"\"\"\n",
        "\n",
        "\n",
        "    return "
      ],
      "execution_count": null,
      "outputs": []
    },
    {
      "cell_type": "code",
      "metadata": {
        "id": "H3k7kYHuyTef"
      },
      "source": [
        "# Faca aqui a validacao do Exercicio 1.5\n",
        "input_path = 'https://github.com/4tune-ai/IDP/blob/main/data/input_data.csv?raw=true'\n",
        "house_price_dataset = pd.read_csv(input_path)\n",
        "\n",
        "d = {0: 6088.3, 1: 7527.1, 2: 8966.0, 3: 10404.8, 4: 11843.6, 5: 13282.4, 6: 19037.8}\n",
        "ser = pd.Series(data=d, name=\"square_feet\")\n",
        "entradas = [[house_price_dataset]]\n",
        "saidas = [ser]\n",
        "validate(simple_linear_regression, entradas, lambda x: round(x,1), saidas, \"1.5\")"
      ],
      "execution_count": null,
      "outputs": []
    }
  ]
}