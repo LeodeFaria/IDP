{
  "cells": [
    {
      "cell_type": "code",
      "source": [
        "!pip3 install requests\n",
        "!pip3 install urllib3"
      ],
      "outputs": [
        {
          "output_type": "stream",
          "name": "stdout",
          "text": [
            "Requirement already satisfied: requests in /Library/Frameworks/Python.framework/Versions/3.7/lib/python3.7/site-packages (2.23.0)\n",
            "Requirement already satisfied: certifi>=2017.4.17 in /Library/Frameworks/Python.framework/Versions/3.7/lib/python3.7/site-packages (from requests) (2020.4.5.1)\n",
            "Requirement already satisfied: idna<3,>=2.5 in /Library/Frameworks/Python.framework/Versions/3.7/lib/python3.7/site-packages (from requests) (2.9)\n",
            "Requirement already satisfied: chardet<4,>=3.0.2 in /Library/Frameworks/Python.framework/Versions/3.7/lib/python3.7/site-packages (from requests) (3.0.4)\n",
            "Requirement already satisfied: urllib3!=1.25.0,!=1.25.1,<1.26,>=1.21.1 in /Library/Frameworks/Python.framework/Versions/3.7/lib/python3.7/site-packages (from requests) (1.24.3)\n",
            "\u001b[33mWARNING: You are using pip version 19.2.3, however version 21.1.2 is available.\n",
            "You should consider upgrading via the 'pip install --upgrade pip' command.\u001b[0m\n",
            "Requirement already satisfied: urllib3 in /Library/Frameworks/Python.framework/Versions/3.7/lib/python3.7/site-packages (1.24.3)\n",
            "\u001b[33mWARNING: You are using pip version 19.2.3, however version 21.1.2 is available.\n",
            "You should consider upgrading via the 'pip install --upgrade pip' command.\u001b[0m\n"
          ]
        }
      ],
      "execution_count": 7,
      "metadata": {
        "collapsed": true,
        "jupyter": {
          "source_hidden": false,
          "outputs_hidden": false
        },
        "nteract": {
          "transient": {
            "deleting": false
          }
        },
        "execution": {
          "iopub.status.busy": "2021-06-05T22:52:59.872Z",
          "iopub.execute_input": "2021-06-05T22:52:59.878Z",
          "iopub.status.idle": "2021-06-05T22:53:06.069Z",
          "shell.execute_reply": "2021-06-05T22:53:06.076Z"
        }
      }
    },
    {
      "cell_type": "code",
      "source": [
        "import urllib.request\n",
        "import ssl\n",
        "\n",
        "#Trata ambiente que nao suporta verificaçao HTTPS\n",
        "ssl._create_default_https_context = ssl._create_unverified_context \n",
        "\n",
        "#Definição da variavel alvo\n",
        "url = 'https://web.ics.purdue.edu/~gchopra/class/public/pages/webdesign/05_simple.html'\n",
        "\n",
        "#Requisição para pegar o HTML\n",
        "html = urlopen(url)\n",
        "\n",
        "#Verificação do conteudo\n",
        "html.read()"
      ],
      "outputs": [
        {
          "output_type": "execute_result",
          "execution_count": 21,
          "data": {
            "text/plain": "b'<html>\\n\\n<head>\\n<title>A very simple webpage</title>\\n<basefont size=4>\\n</head>\\n\\n<body bgcolor=FFFFFF>\\n\\n<h1>A very simple webpage. This is an \"h1\" level header.</h1>\\n\\n<h2>This is a level h2 header.</h2>\\n\\n<h6>This is a level h6 header.  Pretty small!</h6>\\n\\n<p>This is a standard paragraph.</p>\\n\\n<p align=center>Now I\\'ve aligned it in the center of the screen.</p>\\n\\n<p align=right>Now aligned to the right</p>\\n\\n<p><b>Bold text</b></p>\\n\\n<p><strong>Strongly emphasized text</strong>  Can you tell the difference vs. bold?</p>\\n\\n<p><i>Italics</i></p>\\n\\n<p><em>Emphasized text</em>  Just like Italics!</p>\\n\\n<p>Here is a pretty picture: <img src=example/prettypicture.jpg alt=\"Pretty Picture\"></p>\\n\\n<p>Same thing, aligned differently to the paragraph: <img align=top src=example/prettypicture.jpg alt=\"Pretty Picture\"></p>\\n\\n<hr>\\n\\n<h2>How about a nice ordered list!</h2>\\n<ol>\\n  <li>This little piggy went to market\\n  <li>This little piggy went to SB228 class\\n  <li>This little piggy went to an expensive restaurant in Downtown Palo Alto\\n  <li>This little piggy ate too much at Indian Buffet.\\n  <li>This little piggy got lost\\n</ol>\\n\\n<h2>Unordered list</h2>\\n<ul>\\n  <li>First element\\n  <li>Second element\\n  <li>Third element\\n</ul>\\n\\n<hr>\\n\\n<h2>Nested Lists!</h2>\\n<ul>\\n  <li>Things to to today:\\n    <ol>\\n      <li>Walk the dog\\n      <li>Feed the cat\\n      <li>Mow the lawn\\n    </ol>\\n  <li>Things to do tomorrow:\\n    <ol>\\n      <li>Lunch with mom\\n      <li>Feed the hamster\\n      <li>Clean kitchen\\n    </ol>\\n</ul>\\n\\n<p>And finally, how about some <a href=http://www.yahoo.com/>Links?</a></p>\\n\\n<p>Or let\\'s just link to <a href=../../index.html>another page on this server</a></p>\\n\\n<p>Remember, you can view the HTMl code from this or any other page by using the \"View Page Source\" command of your browser.</p>\\n\\n</body>\\n\\n</html>\\n'"
          },
          "metadata": {}
        }
      ],
      "execution_count": 21,
      "metadata": {
        "collapsed": true,
        "jupyter": {
          "source_hidden": false,
          "outputs_hidden": false
        },
        "nteract": {
          "transient": {
            "deleting": false
          }
        },
        "execution": {
          "iopub.status.busy": "2021-06-05T23:14:46.276Z",
          "iopub.execute_input": "2021-06-05T23:14:46.281Z",
          "iopub.status.idle": "2021-06-05T23:14:47.282Z",
          "shell.execute_reply": "2021-06-05T23:14:47.288Z"
        }
      }
    },
    {
      "cell_type": "code",
      "source": [
        "import requests\n",
        "\n",
        "#Trata ambiente que nao suporta verificaçao HTTPS\n",
        "ssl._create_default_https_context = ssl._create_unverified_context \n",
        "\n",
        "#Requisição para pegar o HTML\n",
        "html = requests.get(url)\n",
        "\n",
        "#Verificação do conteudo\n",
        "html.text"
      ],
      "outputs": [
        {
          "output_type": "execute_result",
          "execution_count": 18,
          "data": {
            "text/plain": "'<html>\\n\\n<head>\\n<title>A very simple webpage</title>\\n<basefont size=4>\\n</head>\\n\\n<body bgcolor=FFFFFF>\\n\\n<h1>A very simple webpage. This is an \"h1\" level header.</h1>\\n\\n<h2>This is a level h2 header.</h2>\\n\\n<h6>This is a level h6 header.  Pretty small!</h6>\\n\\n<p>This is a standard paragraph.</p>\\n\\n<p align=center>Now I\\'ve aligned it in the center of the screen.</p>\\n\\n<p align=right>Now aligned to the right</p>\\n\\n<p><b>Bold text</b></p>\\n\\n<p><strong>Strongly emphasized text</strong>  Can you tell the difference vs. bold?</p>\\n\\n<p><i>Italics</i></p>\\n\\n<p><em>Emphasized text</em>  Just like Italics!</p>\\n\\n<p>Here is a pretty picture: <img src=example/prettypicture.jpg alt=\"Pretty Picture\"></p>\\n\\n<p>Same thing, aligned differently to the paragraph: <img align=top src=example/prettypicture.jpg alt=\"Pretty Picture\"></p>\\n\\n<hr>\\n\\n<h2>How about a nice ordered list!</h2>\\n<ol>\\n  <li>This little piggy went to market\\n  <li>This little piggy went to SB228 class\\n  <li>This little piggy went to an expensive restaurant in Downtown Palo Alto\\n  <li>This little piggy ate too much at Indian Buffet.\\n  <li>This little piggy got lost\\n</ol>\\n\\n<h2>Unordered list</h2>\\n<ul>\\n  <li>First element\\n  <li>Second element\\n  <li>Third element\\n</ul>\\n\\n<hr>\\n\\n<h2>Nested Lists!</h2>\\n<ul>\\n  <li>Things to to today:\\n    <ol>\\n      <li>Walk the dog\\n      <li>Feed the cat\\n      <li>Mow the lawn\\n    </ol>\\n  <li>Things to do tomorrow:\\n    <ol>\\n      <li>Lunch with mom\\n      <li>Feed the hamster\\n      <li>Clean kitchen\\n    </ol>\\n</ul>\\n\\n<p>And finally, how about some <a href=http://www.yahoo.com/>Links?</a></p>\\n\\n<p>Or let\\'s just link to <a href=../../index.html>another page on this server</a></p>\\n\\n<p>Remember, you can view the HTMl code from this or any other page by using the \"View Page Source\" command of your browser.</p>\\n\\n</body>\\n\\n</html>\\n'"
          },
          "metadata": {}
        }
      ],
      "execution_count": 18,
      "metadata": {
        "collapsed": true,
        "jupyter": {
          "source_hidden": false,
          "outputs_hidden": false
        },
        "nteract": {
          "transient": {
            "deleting": false
          }
        },
        "execution": {
          "iopub.status.busy": "2021-06-05T23:12:40.929Z",
          "iopub.execute_input": "2021-06-05T23:12:40.935Z",
          "iopub.status.idle": "2021-06-05T23:12:42.024Z",
          "shell.execute_reply": "2021-06-05T23:12:42.050Z"
        }
      }
    },
    {
      "cell_type": "code",
      "source": [
        "#Importa o beatifulsoup\n",
        "\n",
        "from bs4 import BeautifulSoup\n",
        "\n",
        "#Requisição usando urllib \n",
        "html = urlopen(url)\n",
        "\n",
        "#cria um objeto beautifulsoup usando o parser lxml (mais rapido)\n",
        "soup = BeautifulSoup(html, 'lxml')\n",
        "\n",
        "#representa o documento como uma estrutura de dados aninhada:\n",
        "soup.prettify()\n",
        "\n",
        "#mostra o elemento title\n",
        "print(soup.title)"
      ],
      "outputs": [
        {
          "output_type": "stream",
          "name": "stdout",
          "text": [
            "<title>A very simple webpage</title>\n"
          ]
        }
      ],
      "execution_count": 41,
      "metadata": {
        "collapsed": true,
        "jupyter": {
          "source_hidden": false,
          "outputs_hidden": false
        },
        "nteract": {
          "transient": {
            "deleting": false
          }
        },
        "execution": {
          "iopub.status.busy": "2021-06-05T23:26:47.537Z",
          "iopub.execute_input": "2021-06-05T23:26:47.542Z",
          "iopub.status.idle": "2021-06-05T23:26:48.590Z",
          "shell.execute_reply": "2021-06-05T23:26:48.595Z"
        }
      }
    },
    {
      "cell_type": "code",
      "source": [
        "# procura todos os elementos da pagina com certa tag\n",
        "\n",
        "soup.find_all('h2')"
      ],
      "outputs": [
        {
          "output_type": "execute_result",
          "execution_count": 43,
          "data": {
            "text/plain": "[<h2>This is a level h2 header.</h2>,\n <h2>How about a nice ordered list!</h2>,\n <h2>Unordered list</h2>,\n <h2>Nested Lists!</h2>]"
          },
          "metadata": {}
        }
      ],
      "execution_count": 43,
      "metadata": {
        "collapsed": true,
        "jupyter": {
          "source_hidden": false,
          "outputs_hidden": false
        },
        "nteract": {
          "transient": {
            "deleting": false
          }
        },
        "execution": {
          "iopub.status.busy": "2021-06-05T23:27:49.628Z",
          "iopub.execute_input": "2021-06-05T23:27:49.634Z",
          "iopub.status.idle": "2021-06-05T23:27:49.651Z",
          "shell.execute_reply": "2021-06-05T23:27:49.657Z"
        }
      }
    },
    {
      "cell_type": "code",
      "source": [],
      "outputs": [],
      "execution_count": null,
      "metadata": {
        "collapsed": true,
        "jupyter": {
          "source_hidden": false,
          "outputs_hidden": false
        },
        "nteract": {
          "transient": {
            "deleting": false
          }
        }
      }
    }
  ],
  "metadata": {
    "kernel_info": {
      "name": "python3"
    },
    "language_info": {
      "name": "python",
      "version": "3.7.6",
      "mimetype": "text/x-python",
      "codemirror_mode": {
        "name": "ipython",
        "version": 3
      },
      "pygments_lexer": "ipython3",
      "nbconvert_exporter": "python",
      "file_extension": ".py"
    },
    "kernelspec": {
      "argv": [
        "/Library/Frameworks/Python.framework/Versions/3.7/bin/python3",
        "-m",
        "ipykernel_launcher",
        "-f",
        "{connection_file}"
      ],
      "display_name": "Python 3",
      "language": "python",
      "name": "python3"
    },
    "nteract": {
      "version": "0.28.0"
    }
  },
  "nbformat": 4,
  "nbformat_minor": 0
}