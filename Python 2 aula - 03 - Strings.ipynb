{
 "cells": [
  {
   "cell_type": "markdown",
   "metadata": {
    "id": "sjdeK8_vpqSG"
   },
   "source": [
    "## Strings"
   ]
  },
  {
   "cell_type": "markdown",
   "metadata": {
    "id": "TS9Xpy4spqSH"
   },
   "source": [
    "### Criando uma String\n",
    "Para criar uma string em Python você pode usar aspas simples ou duplas. Por exemplo:"
   ]
  },
  {
   "cell_type": "code",
   "execution_count": null,
   "metadata": {
    "executionInfo": {
     "elapsed": 745,
     "status": "ok",
     "timestamp": 1618530562551,
     "user": {
      "displayName": "Mauro Ribeiro",
      "photoUrl": "https://lh3.googleusercontent.com/a-/AOh14Gh4UCHXUwlgYaT16X3IiiIvVgOcuEx6z_La7Y9pjQ=s64",
      "userId": "06049500529385007077"
     },
     "user_tz": 180
    },
    "id": "Iq5onPPZpqSH"
   },
   "outputs": [],
   "source": [
    "# Uma única palavra\n",
    "saudação = 'Oi'\n",
    "saudação"
   ]
  },
  {
   "cell_type": "code",
   "execution_count": null,
   "metadata": {
    "colab": {
     "base_uri": "https://localhost:8080/",
     "height": 35
    },
    "executionInfo": {
     "elapsed": 588,
     "status": "ok",
     "timestamp": 1618530507503,
     "user": {
      "displayName": "Mauro Ribeiro",
      "photoUrl": "https://lh3.googleusercontent.com/a-/AOh14Gh4UCHXUwlgYaT16X3IiiIvVgOcuEx6z_La7Y9pjQ=s64",
      "userId": "06049500529385007077"
     },
     "user_tz": 180
    },
    "id": "TP-dF5d0pqSH",
    "outputId": "25efe4cd-8db4-4884-fbb3-ca69f2e1a926"
   },
   "outputs": [],
   "source": [
    "# Uma frase\n",
    "'Criando uma string em Python'"
   ]
  },
  {
   "cell_type": "code",
   "execution_count": null,
   "metadata": {
    "colab": {
     "base_uri": "https://localhost:8080/",
     "height": 35
    },
    "executionInfo": {
     "elapsed": 668,
     "status": "ok",
     "timestamp": 1618530522193,
     "user": {
      "displayName": "Mauro Ribeiro",
      "photoUrl": "https://lh3.googleusercontent.com/a-/AOh14Gh4UCHXUwlgYaT16X3IiiIvVgOcuEx6z_La7Y9pjQ=s64",
      "userId": "06049500529385007077"
     },
     "user_tz": 180
    },
    "id": "4r2_xouEpqSI",
    "outputId": "3a3a3de7-f38d-42c0-cd07-28f873d08fb5"
   },
   "outputs": [],
   "source": [
    "# Podemos usar aspas duplas\n",
    "\"Podemos usar aspas duplas ou simples para strings em Python\""
   ]
  },
  {
   "cell_type": "code",
   "execution_count": null,
   "metadata": {
    "colab": {
     "base_uri": "https://localhost:8080/",
     "height": 35
    },
    "executionInfo": {
     "elapsed": 581,
     "status": "ok",
     "timestamp": 1618530525556,
     "user": {
      "displayName": "Mauro Ribeiro",
      "photoUrl": "https://lh3.googleusercontent.com/a-/AOh14Gh4UCHXUwlgYaT16X3IiiIvVgOcuEx6z_La7Y9pjQ=s64",
      "userId": "06049500529385007077"
     },
     "user_tz": 180
    },
    "id": "qu8LQvGvpqSI",
    "outputId": "3394ed92-e6ed-44ad-f8be-307b55e098c7"
   },
   "outputs": [],
   "source": [
    "# Você pode combinar aspas duplas e simples\n",
    "\"Testando strings em 'Python'\""
   ]
  },
  {
   "cell_type": "markdown",
   "metadata": {
    "id": "jBu1J5DMpqSI"
   },
   "source": [
    "### Imprimindo uma String"
   ]
  },
  {
   "cell_type": "code",
   "execution_count": null,
   "metadata": {
    "id": "4PJlDmGFpqSJ"
   },
   "outputs": [],
   "source": [
    "print ('Testando Strings em Python')"
   ]
  },
  {
   "cell_type": "code",
   "execution_count": null,
   "metadata": {
    "id": "-sVZeuWmpqSJ"
   },
   "outputs": [],
   "source": [
    "print ('Testando \\nStrings \\nem \\nPython')"
   ]
  },
  {
   "cell_type": "code",
   "execution_count": null,
   "metadata": {
    "id": "qTYeBCvkpqSJ"
   },
   "outputs": [],
   "source": [
    "print ('\\n')"
   ]
  },
  {
   "cell_type": "markdown",
   "metadata": {
    "id": "p2yqHu7ZpqSJ"
   },
   "source": [
    "### Indexando Strings"
   ]
  },
  {
   "cell_type": "code",
   "execution_count": null,
   "metadata": {
    "executionInfo": {
     "elapsed": 605,
     "status": "ok",
     "timestamp": 1618530663406,
     "user": {
      "displayName": "Mauro Ribeiro",
      "photoUrl": "https://lh3.googleusercontent.com/a-/AOh14Gh4UCHXUwlgYaT16X3IiiIvVgOcuEx6z_La7Y9pjQ=s64",
      "userId": "06049500529385007077"
     },
     "user_tz": 180
    },
    "id": "xhjOI7BEpqSK"
   },
   "outputs": [],
   "source": [
    "# Atribuindo uma string\n",
    "s = 'A cidade de Brasília é maravilhosa'"
   ]
  },
  {
   "cell_type": "code",
   "execution_count": null,
   "metadata": {
    "colab": {
     "base_uri": "https://localhost:8080/"
    },
    "executionInfo": {
     "elapsed": 669,
     "status": "ok",
     "timestamp": 1618530670341,
     "user": {
      "displayName": "Mauro Ribeiro",
      "photoUrl": "https://lh3.googleusercontent.com/a-/AOh14Gh4UCHXUwlgYaT16X3IiiIvVgOcuEx6z_La7Y9pjQ=s64",
      "userId": "06049500529385007077"
     },
     "user_tz": 180
    },
    "id": "VhMD-QKlpqSK",
    "outputId": "1393b946-b42b-474c-d2e0-4e1a8ce8eb59"
   },
   "outputs": [],
   "source": [
    "print(s)"
   ]
  },
  {
   "cell_type": "code",
   "execution_count": null,
   "metadata": {
    "colab": {
     "base_uri": "https://localhost:8080/",
     "height": 35
    },
    "executionInfo": {
     "elapsed": 635,
     "status": "ok",
     "timestamp": 1618530716243,
     "user": {
      "displayName": "Mauro Ribeiro",
      "photoUrl": "https://lh3.googleusercontent.com/a-/AOh14Gh4UCHXUwlgYaT16X3IiiIvVgOcuEx6z_La7Y9pjQ=s64",
      "userId": "06049500529385007077"
     },
     "user_tz": 180
    },
    "id": "8DtmdQFXpqSK",
    "outputId": "f1b5307e-2126-432e-eaf0-200fb83c4072"
   },
   "outputs": [],
   "source": [
    "# Primeiro elemento da string. \n",
    "s[0]"
   ]
  },
  {
   "cell_type": "code",
   "execution_count": null,
   "metadata": {
    "colab": {
     "base_uri": "https://localhost:8080/",
     "height": 35
    },
    "executionInfo": {
     "elapsed": 869,
     "status": "ok",
     "timestamp": 1618530732488,
     "user": {
      "displayName": "Mauro Ribeiro",
      "photoUrl": "https://lh3.googleusercontent.com/a-/AOh14Gh4UCHXUwlgYaT16X3IiiIvVgOcuEx6z_La7Y9pjQ=s64",
      "userId": "06049500529385007077"
     },
     "user_tz": 180
    },
    "id": "ySZTuEQUpqSK",
    "outputId": "036fc056-decb-478d-d933-49d9736272e0"
   },
   "outputs": [],
   "source": [
    "s[1]"
   ]
  },
  {
   "cell_type": "code",
   "execution_count": null,
   "metadata": {
    "colab": {
     "base_uri": "https://localhost:8080/",
     "height": 35
    },
    "executionInfo": {
     "elapsed": 608,
     "status": "ok",
     "timestamp": 1618530750231,
     "user": {
      "displayName": "Mauro Ribeiro",
      "photoUrl": "https://lh3.googleusercontent.com/a-/AOh14Gh4UCHXUwlgYaT16X3IiiIvVgOcuEx6z_La7Y9pjQ=s64",
      "userId": "06049500529385007077"
     },
     "user_tz": 180
    },
    "id": "Jv_QzoW8pqSL",
    "outputId": "16235c78-7853-43c3-b1ff-89aed65d96f1"
   },
   "outputs": [],
   "source": [
    "s[2]"
   ]
  },
  {
   "cell_type": "code",
   "execution_count": null,
   "metadata": {
    "colab": {
     "base_uri": "https://localhost:8080/",
     "height": 35
    },
    "executionInfo": {
     "elapsed": 611,
     "status": "ok",
     "timestamp": 1618530828295,
     "user": {
      "displayName": "Mauro Ribeiro",
      "photoUrl": "https://lh3.googleusercontent.com/a-/AOh14Gh4UCHXUwlgYaT16X3IiiIvVgOcuEx6z_La7Y9pjQ=s64",
      "userId": "06049500529385007077"
     },
     "user_tz": 180
    },
    "id": "hPtzc5AL9CtI",
    "outputId": "a931db1c-02cb-4a97-fe53-907cb896c220"
   },
   "outputs": [],
   "source": [
    "s[5]"
   ]
  },
  {
   "cell_type": "markdown",
   "metadata": {
    "id": "IvbCY2hDpqSL"
   },
   "source": [
    "Podemos usar um : para executar um slicing que faz a leitura de tudo até um ponto designado. Por exemplo:"
   ]
  },
  {
   "cell_type": "code",
   "execution_count": null,
   "metadata": {
    "colab": {
     "base_uri": "https://localhost:8080/",
     "height": 35
    },
    "executionInfo": {
     "elapsed": 613,
     "status": "ok",
     "timestamp": 1618530878095,
     "user": {
      "displayName": "Mauro Ribeiro",
      "photoUrl": "https://lh3.googleusercontent.com/a-/AOh14Gh4UCHXUwlgYaT16X3IiiIvVgOcuEx6z_La7Y9pjQ=s64",
      "userId": "06049500529385007077"
     },
     "user_tz": 180
    },
    "id": "94EN8G5apqSL",
    "outputId": "80d52875-ab65-470b-e434-d18a66535b70"
   },
   "outputs": [],
   "source": [
    "# Retorna todos os elementos da string, começando pela posição (lembre-se que Python começa a indexação pela posição 0),\n",
    "# até o fim da string.\n",
    "s[2:]"
   ]
  },
  {
   "cell_type": "code",
   "execution_count": null,
   "metadata": {
    "colab": {
     "base_uri": "https://localhost:8080/",
     "height": 35
    },
    "executionInfo": {
     "elapsed": 712,
     "status": "ok",
     "timestamp": 1618530921769,
     "user": {
      "displayName": "Mauro Ribeiro",
      "photoUrl": "https://lh3.googleusercontent.com/a-/AOh14Gh4UCHXUwlgYaT16X3IiiIvVgOcuEx6z_La7Y9pjQ=s64",
      "userId": "06049500529385007077"
     },
     "user_tz": 180
    },
    "id": "YwkfYuE189N2",
    "outputId": "d48bfe81-578a-4147-e69a-d59517058480"
   },
   "outputs": [],
   "source": [
    "s[:4]"
   ]
  },
  {
   "cell_type": "code",
   "execution_count": null,
   "metadata": {
    "id": "OlgviqwBpqSL"
   },
   "outputs": [],
   "source": [
    "# A string original permanece inalterada\n",
    "s"
   ]
  },
  {
   "cell_type": "code",
   "execution_count": null,
   "metadata": {
    "colab": {
     "base_uri": "https://localhost:8080/",
     "height": 35
    },
    "executionInfo": {
     "elapsed": 614,
     "status": "ok",
     "timestamp": 1618530961514,
     "user": {
      "displayName": "Mauro Ribeiro",
      "photoUrl": "https://lh3.googleusercontent.com/a-/AOh14Gh4UCHXUwlgYaT16X3IiiIvVgOcuEx6z_La7Y9pjQ=s64",
      "userId": "06049500529385007077"
     },
     "user_tz": 180
    },
    "id": "uQakFlWupqSM",
    "outputId": "3db452a1-249f-457b-8f25-893c6289400a"
   },
   "outputs": [],
   "source": [
    "# Retorna tudo até a posição 3\n",
    "s[:3]"
   ]
  },
  {
   "cell_type": "code",
   "execution_count": null,
   "metadata": {
    "id": "59yVYCfvpqSM"
   },
   "outputs": [],
   "source": [
    "s[:]"
   ]
  },
  {
   "cell_type": "code",
   "execution_count": null,
   "metadata": {
    "colab": {
     "base_uri": "https://localhost:8080/",
     "height": 35
    },
    "executionInfo": {
     "elapsed": 614,
     "status": "ok",
     "timestamp": 1618530977136,
     "user": {
      "displayName": "Mauro Ribeiro",
      "photoUrl": "https://lh3.googleusercontent.com/a-/AOh14Gh4UCHXUwlgYaT16X3IiiIvVgOcuEx6z_La7Y9pjQ=s64",
      "userId": "06049500529385007077"
     },
     "user_tz": 180
    },
    "id": "6QCUjSefpqSM",
    "outputId": "1e034e34-1ddf-4f88-8d37-745a6d781bce"
   },
   "outputs": [],
   "source": [
    "# Nós também podemos usar a indexação negativa e ler de trás para frente.\n",
    "s[-1]"
   ]
  },
  {
   "cell_type": "code",
   "execution_count": null,
   "metadata": {
    "colab": {
     "base_uri": "https://localhost:8080/",
     "height": 35
    },
    "executionInfo": {
     "elapsed": 772,
     "status": "ok",
     "timestamp": 1618530992565,
     "user": {
      "displayName": "Mauro Ribeiro",
      "photoUrl": "https://lh3.googleusercontent.com/a-/AOh14Gh4UCHXUwlgYaT16X3IiiIvVgOcuEx6z_La7Y9pjQ=s64",
      "userId": "06049500529385007077"
     },
     "user_tz": 180
    },
    "id": "BWpCAyu2pqSM",
    "outputId": "e6720534-5de7-43a0-866e-a0cdda74db57"
   },
   "outputs": [],
   "source": [
    "# Retornar tudo, exceto a última letra\n",
    "s[:-1]"
   ]
  },
  {
   "cell_type": "markdown",
   "metadata": {
    "id": "I1pe9gBmpqSN"
   },
   "source": [
    "### Propriedades de Strings"
   ]
  },
  {
   "cell_type": "code",
   "execution_count": null,
   "metadata": {
    "colab": {
     "base_uri": "https://localhost:8080/",
     "height": 35
    },
    "executionInfo": {
     "elapsed": 616,
     "status": "ok",
     "timestamp": 1618531014651,
     "user": {
      "displayName": "Mauro Ribeiro",
      "photoUrl": "https://lh3.googleusercontent.com/a-/AOh14Gh4UCHXUwlgYaT16X3IiiIvVgOcuEx6z_La7Y9pjQ=s64",
      "userId": "06049500529385007077"
     },
     "user_tz": 180
    },
    "id": "0ir9XV-lpqSO",
    "outputId": "d5c79d33-e97d-4032-a634-b31e4f100cbb"
   },
   "outputs": [],
   "source": [
    "s"
   ]
  },
  {
   "cell_type": "code",
   "execution_count": null,
   "metadata": {
    "colab": {
     "base_uri": "https://localhost:8080/",
     "height": 35
    },
    "executionInfo": {
     "elapsed": 585,
     "status": "ok",
     "timestamp": 1618531049122,
     "user": {
      "displayName": "Mauro Ribeiro",
      "photoUrl": "https://lh3.googleusercontent.com/a-/AOh14Gh4UCHXUwlgYaT16X3IiiIvVgOcuEx6z_La7Y9pjQ=s64",
      "userId": "06049500529385007077"
     },
     "user_tz": 180
    },
    "id": "rVl4wV-A98m7",
    "outputId": "d7c232f0-a907-4d15-bc02-253da6c84359"
   },
   "outputs": [],
   "source": [
    "s[0]"
   ]
  },
  {
   "cell_type": "code",
   "execution_count": null,
   "metadata": {
    "colab": {
     "base_uri": "https://localhost:8080/",
     "height": 179
    },
    "executionInfo": {
     "elapsed": 646,
     "status": "error",
     "timestamp": 1618531064545,
     "user": {
      "displayName": "Mauro Ribeiro",
      "photoUrl": "https://lh3.googleusercontent.com/a-/AOh14Gh4UCHXUwlgYaT16X3IiiIvVgOcuEx6z_La7Y9pjQ=s64",
      "userId": "06049500529385007077"
     },
     "user_tz": 180
    },
    "id": "qqO68QeGpqSO",
    "outputId": "12f9e7df-62f6-431f-fb92-d2579ac56712"
   },
   "outputs": [],
   "source": [
    "# Alterando um caracter\n",
    "s[0] = 'O'"
   ]
  },
  {
   "cell_type": "code",
   "execution_count": null,
   "metadata": {
    "colab": {
     "base_uri": "https://localhost:8080/",
     "height": 35
    },
    "executionInfo": {
     "elapsed": 596,
     "status": "ok",
     "timestamp": 1618531157218,
     "user": {
      "displayName": "Mauro Ribeiro",
      "photoUrl": "https://lh3.googleusercontent.com/a-/AOh14Gh4UCHXUwlgYaT16X3IiiIvVgOcuEx6z_La7Y9pjQ=s64",
      "userId": "06049500529385007077"
     },
     "user_tz": 180
    },
    "id": "TZZIfknepqSO",
    "outputId": "b5499f86-ef62-49e7-e424-7987c13e2d72"
   },
   "outputs": [],
   "source": [
    "# Concatenando strings\n",
    "s + ' e eu amo morar aqui!'"
   ]
  },
  {
   "cell_type": "code",
   "execution_count": null,
   "metadata": {
    "executionInfo": {
     "elapsed": 603,
     "status": "ok",
     "timestamp": 1618531167313,
     "user": {
      "displayName": "Mauro Ribeiro",
      "photoUrl": "https://lh3.googleusercontent.com/a-/AOh14Gh4UCHXUwlgYaT16X3IiiIvVgOcuEx6z_La7Y9pjQ=s64",
      "userId": "06049500529385007077"
     },
     "user_tz": 180
    },
    "id": "Wmygm4YYpqSP"
   },
   "outputs": [],
   "source": [
    "# Podemos usar o símbolo de multiplicação para criar repetição!\n",
    "letra = 'w'"
   ]
  },
  {
   "cell_type": "code",
   "execution_count": null,
   "metadata": {
    "colab": {
     "base_uri": "https://localhost:8080/",
     "height": 35
    },
    "executionInfo": {
     "elapsed": 572,
     "status": "ok",
     "timestamp": 1618531183031,
     "user": {
      "displayName": "Mauro Ribeiro",
      "photoUrl": "https://lh3.googleusercontent.com/a-/AOh14Gh4UCHXUwlgYaT16X3IiiIvVgOcuEx6z_La7Y9pjQ=s64",
      "userId": "06049500529385007077"
     },
     "user_tz": 180
    },
    "id": "5c8hCDHApqSP",
    "outputId": "6170641d-8461-4cfd-8e9a-6d2a743b83b2"
   },
   "outputs": [],
   "source": [
    "letra * 30"
   ]
  },
  {
   "cell_type": "markdown",
   "metadata": {
    "id": "q8IVQ6HepqSP"
   },
   "source": [
    "### Funções Built-in de Strings"
   ]
  },
  {
   "cell_type": "code",
   "execution_count": null,
   "metadata": {
    "colab": {
     "base_uri": "https://localhost:8080/",
     "height": 35
    },
    "executionInfo": {
     "elapsed": 679,
     "status": "ok",
     "timestamp": 1618531188450,
     "user": {
      "displayName": "Mauro Ribeiro",
      "photoUrl": "https://lh3.googleusercontent.com/a-/AOh14Gh4UCHXUwlgYaT16X3IiiIvVgOcuEx6z_La7Y9pjQ=s64",
      "userId": "06049500529385007077"
     },
     "user_tz": 180
    },
    "id": "ra4bBSIkpqSP",
    "outputId": "a890007c-a7a3-4989-c661-16cd5455102a"
   },
   "outputs": [],
   "source": [
    "s"
   ]
  },
  {
   "cell_type": "code",
   "execution_count": null,
   "metadata": {
    "colab": {
     "base_uri": "https://localhost:8080/",
     "height": 35
    },
    "executionInfo": {
     "elapsed": 624,
     "status": "ok",
     "timestamp": 1618531277716,
     "user": {
      "displayName": "Mauro Ribeiro",
      "photoUrl": "https://lh3.googleusercontent.com/a-/AOh14Gh4UCHXUwlgYaT16X3IiiIvVgOcuEx6z_La7Y9pjQ=s64",
      "userId": "06049500529385007077"
     },
     "user_tz": 180
    },
    "id": "CkHHsQAFpqSP",
    "outputId": "dd26f5f9-938b-4d7b-eabf-44d2a18c14b3"
   },
   "outputs": [],
   "source": [
    "# Upper Case \n",
    "s.upper()"
   ]
  },
  {
   "cell_type": "code",
   "execution_count": null,
   "metadata": {
    "colab": {
     "base_uri": "https://localhost:8080/",
     "height": 35
    },
    "executionInfo": {
     "elapsed": 746,
     "status": "ok",
     "timestamp": 1618531308795,
     "user": {
      "displayName": "Mauro Ribeiro",
      "photoUrl": "https://lh3.googleusercontent.com/a-/AOh14Gh4UCHXUwlgYaT16X3IiiIvVgOcuEx6z_La7Y9pjQ=s64",
      "userId": "06049500529385007077"
     },
     "user_tz": 180
    },
    "id": "caXY5ulBpqSP",
    "outputId": "7307b4b5-3d84-4bfb-e314-9788d51a0529"
   },
   "outputs": [],
   "source": [
    "# Lower case\n",
    "s.lower()"
   ]
  },
  {
   "cell_type": "code",
   "execution_count": null,
   "metadata": {
    "colab": {
     "base_uri": "https://localhost:8080/"
    },
    "executionInfo": {
     "elapsed": 596,
     "status": "ok",
     "timestamp": 1618531320395,
     "user": {
      "displayName": "Mauro Ribeiro",
      "photoUrl": "https://lh3.googleusercontent.com/a-/AOh14Gh4UCHXUwlgYaT16X3IiiIvVgOcuEx6z_La7Y9pjQ=s64",
      "userId": "06049500529385007077"
     },
     "user_tz": 180
    },
    "id": "Bfr-1AJ3pqSQ",
    "outputId": "f41dd15c-46a4-4f34-cfbb-d04f82a752d7"
   },
   "outputs": [],
   "source": [
    "# Dividir uma string por espaços em branco (padrão)\n",
    "s.split()"
   ]
  },
  {
   "cell_type": "code",
   "execution_count": null,
   "metadata": {
    "colab": {
     "base_uri": "https://localhost:8080/"
    },
    "executionInfo": {
     "elapsed": 607,
     "status": "ok",
     "timestamp": 1618531372786,
     "user": {
      "displayName": "Mauro Ribeiro",
      "photoUrl": "https://lh3.googleusercontent.com/a-/AOh14Gh4UCHXUwlgYaT16X3IiiIvVgOcuEx6z_La7Y9pjQ=s64",
      "userId": "06049500529385007077"
     },
     "user_tz": 180
    },
    "id": "AxyfEYZspqSQ",
    "outputId": "062a88b5-cc86-483e-f5c8-c39a7085f086"
   },
   "outputs": [],
   "source": [
    "# Dividir uma string por um elemento específico\n",
    "s.split('Brasília')"
   ]
  },
  {
   "cell_type": "markdown",
   "metadata": {
    "id": "8ZVOFkx4pqSQ"
   },
   "source": [
    "### Funções String"
   ]
  },
  {
   "cell_type": "code",
   "execution_count": null,
   "metadata": {
    "executionInfo": {
     "elapsed": 770,
     "status": "ok",
     "timestamp": 1618531603795,
     "user": {
      "displayName": "Mauro Ribeiro",
      "photoUrl": "https://lh3.googleusercontent.com/a-/AOh14Gh4UCHXUwlgYaT16X3IiiIvVgOcuEx6z_La7Y9pjQ=s64",
      "userId": "06049500529385007077"
     },
     "user_tz": 180
    },
    "id": "3x2PzWjKpqSQ"
   },
   "outputs": [],
   "source": [
    "s = 'seja bem vindo ao universo de python'"
   ]
  },
  {
   "cell_type": "code",
   "execution_count": null,
   "metadata": {
    "colab": {
     "base_uri": "https://localhost:8080/",
     "height": 35
    },
    "executionInfo": {
     "elapsed": 616,
     "status": "ok",
     "timestamp": 1618531415276,
     "user": {
      "displayName": "Mauro Ribeiro",
      "photoUrl": "https://lh3.googleusercontent.com/a-/AOh14Gh4UCHXUwlgYaT16X3IiiIvVgOcuEx6z_La7Y9pjQ=s64",
      "userId": "06049500529385007077"
     },
     "user_tz": 180
    },
    "id": "OyBRo4M3pqSQ",
    "outputId": "4626ec88-c1b1-49fa-84c2-365a5d61f8d4"
   },
   "outputs": [],
   "source": [
    "s.capitalize()"
   ]
  },
  {
   "cell_type": "code",
   "execution_count": null,
   "metadata": {
    "colab": {
     "base_uri": "https://localhost:8080/"
    },
    "executionInfo": {
     "elapsed": 666,
     "status": "ok",
     "timestamp": 1618531438798,
     "user": {
      "displayName": "Mauro Ribeiro",
      "photoUrl": "https://lh3.googleusercontent.com/a-/AOh14Gh4UCHXUwlgYaT16X3IiiIvVgOcuEx6z_La7Y9pjQ=s64",
      "userId": "06049500529385007077"
     },
     "user_tz": 180
    },
    "id": "G6QXDxeGpqSR",
    "outputId": "81b750e3-35d2-4694-b43f-ec4ba5245fdb"
   },
   "outputs": [],
   "source": [
    "s.count('a')"
   ]
  },
  {
   "cell_type": "code",
   "execution_count": null,
   "metadata": {
    "colab": {
     "base_uri": "https://localhost:8080/"
    },
    "executionInfo": {
     "elapsed": 579,
     "status": "ok",
     "timestamp": 1618531486358,
     "user": {
      "displayName": "Mauro Ribeiro",
      "photoUrl": "https://lh3.googleusercontent.com/a-/AOh14Gh4UCHXUwlgYaT16X3IiiIvVgOcuEx6z_La7Y9pjQ=s64",
      "userId": "06049500529385007077"
     },
     "user_tz": 180
    },
    "id": "2yVRsvoZpqSR",
    "outputId": "8106b248-a1c3-4d1a-d846-4d47b3d82fbb"
   },
   "outputs": [],
   "source": [
    "s.find('j')"
   ]
  },
  {
   "cell_type": "code",
   "execution_count": null,
   "metadata": {
    "colab": {
     "base_uri": "https://localhost:8080/"
    },
    "executionInfo": {
     "elapsed": 621,
     "status": "ok",
     "timestamp": 1618531526439,
     "user": {
      "displayName": "Mauro Ribeiro",
      "photoUrl": "https://lh3.googleusercontent.com/a-/AOh14Gh4UCHXUwlgYaT16X3IiiIvVgOcuEx6z_La7Y9pjQ=s64",
      "userId": "06049500529385007077"
     },
     "user_tz": 180
    },
    "id": "-VDTp1hxpqSS",
    "outputId": "89d30f20-2516-480d-ad41-3e2f764fc123"
   },
   "outputs": [],
   "source": [
    "s.islower()"
   ]
  },
  {
   "cell_type": "code",
   "execution_count": null,
   "metadata": {
    "executionInfo": {
     "elapsed": 575,
     "status": "ok",
     "timestamp": 1618531586690,
     "user": {
      "displayName": "Mauro Ribeiro",
      "photoUrl": "https://lh3.googleusercontent.com/a-/AOh14Gh4UCHXUwlgYaT16X3IiiIvVgOcuEx6z_La7Y9pjQ=s64",
      "userId": "06049500529385007077"
     },
     "user_tz": 180
    },
    "id": "Bf2xNTfv_4Kq"
   },
   "outputs": [],
   "source": [
    "var_1 = ' J   '"
   ]
  },
  {
   "cell_type": "code",
   "execution_count": null,
   "metadata": {
    "colab": {
     "base_uri": "https://localhost:8080/"
    },
    "executionInfo": {
     "elapsed": 602,
     "status": "ok",
     "timestamp": 1618531587972,
     "user": {
      "displayName": "Mauro Ribeiro",
      "photoUrl": "https://lh3.googleusercontent.com/a-/AOh14Gh4UCHXUwlgYaT16X3IiiIvVgOcuEx6z_La7Y9pjQ=s64",
      "userId": "06049500529385007077"
     },
     "user_tz": 180
    },
    "id": "pp8tShvn_8H1",
    "outputId": "71c6a0e4-c17c-40af-8cb7-74fb81acdeaf"
   },
   "outputs": [],
   "source": [
    "var_1.isspace()"
   ]
  },
  {
   "cell_type": "code",
   "execution_count": null,
   "metadata": {
    "colab": {
     "base_uri": "https://localhost:8080/"
    },
    "executionInfo": {
     "elapsed": 708,
     "status": "ok",
     "timestamp": 1618531545333,
     "user": {
      "displayName": "Mauro Ribeiro",
      "photoUrl": "https://lh3.googleusercontent.com/a-/AOh14Gh4UCHXUwlgYaT16X3IiiIvVgOcuEx6z_La7Y9pjQ=s64",
      "userId": "06049500529385007077"
     },
     "user_tz": 180
    },
    "id": "yhuBF2ZNpqSS",
    "outputId": "aa204d48-c725-4613-a1a5-809c061bd656"
   },
   "outputs": [],
   "source": [
    "s.isspace()"
   ]
  },
  {
   "cell_type": "code",
   "execution_count": null,
   "metadata": {
    "colab": {
     "base_uri": "https://localhost:8080/"
    },
    "executionInfo": {
     "elapsed": 586,
     "status": "ok",
     "timestamp": 1618531625301,
     "user": {
      "displayName": "Mauro Ribeiro",
      "photoUrl": "https://lh3.googleusercontent.com/a-/AOh14Gh4UCHXUwlgYaT16X3IiiIvVgOcuEx6z_La7Y9pjQ=s64",
      "userId": "06049500529385007077"
     },
     "user_tz": 180
    },
    "id": "L2ukytkWpqSS",
    "outputId": "57be8e2f-51a4-4b5d-e540-df0c5accfd15"
   },
   "outputs": [],
   "source": [
    "s.endswith('n')"
   ]
  },
  {
   "cell_type": "markdown",
   "metadata": {
    "id": "HHAqw0ZipqSS"
   },
   "source": [
    "### Comparando Strings"
   ]
  },
  {
   "cell_type": "code",
   "execution_count": null,
   "metadata": {
    "colab": {
     "base_uri": "https://localhost:8080/"
    },
    "executionInfo": {
     "elapsed": 577,
     "status": "ok",
     "timestamp": 1618531704288,
     "user": {
      "displayName": "Mauro Ribeiro",
      "photoUrl": "https://lh3.googleusercontent.com/a-/AOh14Gh4UCHXUwlgYaT16X3IiiIvVgOcuEx6z_La7Y9pjQ=s64",
      "userId": "06049500529385007077"
     },
     "user_tz": 180
    },
    "id": "jp36RShbpqSS",
    "outputId": "9ebaa40a-e565-4c67-9739-6c17d79034e4"
   },
   "outputs": [],
   "source": [
    "print(\"Python\" == \"R\")"
   ]
  },
  {
   "cell_type": "code",
   "execution_count": null,
   "metadata": {
    "id": "ZSduqGaWpqST"
   },
   "outputs": [],
   "source": [
    "print(\"Python\" == \"Python\")"
   ]
  },
  {
   "cell_type": "markdown",
   "metadata": {
    "id": "vTt0cRbspqST"
   },
   "source": [
    "# Fim"
   ]
  }
 ],
 "metadata": {
  "anaconda-cloud": {},
  "colab": {
   "name": "2 aula - 03 - Strings.ipynb",
   "provenance": [
    {
     "file_id": "https://github.com/dsacademybr/PythonFundamentos/blob/master/Cap02/Notebooks/DSA-Python-Cap02-03-Strings.ipynb",
     "timestamp": 1618508954186
    }
   ]
  },
  "kernelspec": {
   "display_name": "Python 3",
   "language": "python",
   "name": "python3"
  },
  "language_info": {
   "codemirror_mode": {
    "name": "ipython",
    "version": 3
   },
   "file_extension": ".py",
   "mimetype": "text/x-python",
   "name": "python",
   "nbconvert_exporter": "python",
   "pygments_lexer": "ipython3",
   "version": "3.8.5"
  }
 },
 "nbformat": 4,
 "nbformat_minor": 1
}
