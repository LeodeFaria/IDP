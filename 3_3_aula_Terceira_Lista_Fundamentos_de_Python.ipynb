{
  "nbformat": 4,
  "nbformat_minor": 0,
  "metadata": {
    "kernelspec": {
      "display_name": "Python 3",
      "language": "python",
      "name": "python3"
    },
    "language_info": {
      "codemirror_mode": {
        "name": "ipython",
        "version": 3
      },
      "file_extension": ".py",
      "mimetype": "text/x-python",
      "name": "python",
      "nbconvert_exporter": "python",
      "pygments_lexer": "ipython3",
      "version": "3.8.3"
    },
    "colab": {
      "name": "3.3 aula -  Terceira Lista - Fundamentos de Python.ipynb",
      "provenance": []
    }
  },
  "cells": [
    {
      "cell_type": "markdown",
      "metadata": {
        "id": "m3ssEJXan-9-"
      },
      "source": [
        "# Linguagem de Programação para Ciência de Dados I: Fundamentos do Python \n",
        "## Exercícios sobre Fundamentos de Python\n",
        "\n",
        "## Prof. Mauro Ribeiro \n",
        "## Monitor: Lucas Horinouchi\n",
        "\n",
        "O objetivo desse notebook é ajudar na fixação dos conteúdos que passamos nas aulas de Fundamentos de Python.\n",
        "\n",
        "Para começar a responder a lista faça uma cópia deste notebook para o seu google drive. \n",
        "\n",
        "Opcional para correção: Após terminar envie a sua lista com permissão de edição no slack para o canal #notebooks."
      ]
    },
    {
      "cell_type": "markdown",
      "metadata": {
        "id": "_epgqMlEn--D"
      },
      "source": [
        "### Variáveis\n",
        "\n",
        "[Documentação](https://docs.python.org/3/tutorial/introduction.html) inicial do python"
      ]
    },
    {
      "cell_type": "code",
      "metadata": {
        "collapsed": true,
        "id": "6jtqBmI1n--D"
      },
      "source": [
        "# Exercício 1 - Declare uma variavel chamada \"a\" e atribua o valor 10 a ela\n",
        "a = 10"
      ],
      "execution_count": null,
      "outputs": []
    },
    {
      "cell_type": "code",
      "metadata": {
        "collapsed": true,
        "id": "59Oc3Xoxn--E",
        "colab": {
          "base_uri": "https://localhost:8080/"
        },
        "outputId": "b7d67250-6e6f-4db0-d026-c9fe5290a18e"
      },
      "source": [
        "# Exercício 2 - Imprime essa variavel que você acabou de criar\n",
        "print(a)"
      ],
      "execution_count": null,
      "outputs": [
        {
          "output_type": "stream",
          "text": [
            "10\n"
          ],
          "name": "stdout"
        }
      ]
    },
    {
      "cell_type": "code",
      "metadata": {
        "collapsed": true,
        "id": "-XZbar_Mn--E",
        "colab": {
          "base_uri": "https://localhost:8080/",
          "height": 35
        },
        "outputId": "ff099820-b882-4cce-864a-9f5a75c35fb6"
      },
      "source": [
        "# Exercício 3 - Crie uma outra variavel \"b\" que recebe o valor de \"a\" so que como string\n",
        "b = str(a)"
      ],
      "execution_count": null,
      "outputs": [
        {
          "output_type": "execute_result",
          "data": {
            "application/vnd.google.colaboratory.intrinsic+json": {
              "type": "string"
            },
            "text/plain": [
              "'10'"
            ]
          },
          "metadata": {
            "tags": []
          },
          "execution_count": 4
        }
      ]
    },
    {
      "cell_type": "code",
      "metadata": {
        "collapsed": true,
        "id": "RS-CFE45n--E"
      },
      "source": [
        "# Exercício 4 - Combine sua variavel \"b\" a variavel abaixo para obter a string \"Hello 10\" em uma variavel \"d\"\n",
        "c = \"Hello \"\n",
        "d = c + \" \" + b"
      ],
      "execution_count": null,
      "outputs": []
    },
    {
      "cell_type": "code",
      "metadata": {
        "collapsed": true,
        "id": "oPlAaoeAn--E",
        "colab": {
          "base_uri": "https://localhost:8080/"
        },
        "outputId": "65e3a879-91ea-455a-cecc-72d83bb2b895"
      },
      "source": [
        "# Exercício 5 - Imprima a variável \"d\"\n",
        "print(d)"
      ],
      "execution_count": null,
      "outputs": [
        {
          "output_type": "stream",
          "text": [
            "Hello  10\n"
          ],
          "name": "stdout"
        }
      ]
    },
    {
      "cell_type": "markdown",
      "metadata": {
        "id": "5W4Fdl09n--F"
      },
      "source": [
        "### Strings"
      ]
    },
    {
      "cell_type": "code",
      "metadata": {
        "collapsed": true,
        "id": "xP6Cq_XVn--F"
      },
      "source": [
        "my_str = 'Insira uma frase aqui!'"
      ],
      "execution_count": null,
      "outputs": []
    },
    {
      "cell_type": "code",
      "metadata": {
        "collapsed": true,
        "id": "g8SSlEvZn--F",
        "colab": {
          "base_uri": "https://localhost:8080/",
          "height": 35
        },
        "outputId": "56737eaa-b1a9-49d3-8a22-c9a000ebd3d6"
      },
      "source": [
        "# Exercício 6 - Substitua a exclamação da frase por uma interrogação\n",
        "# (Dica: A funcão altera inplace ou retorna uma copia modificada?)\n",
        "outra_str = my_str.replace(\"!\",\"?\")\n",
        "outra_str #a função retorna uma cópia modificada e não modifica a string original"
      ],
      "execution_count": null,
      "outputs": [
        {
          "output_type": "execute_result",
          "data": {
            "application/vnd.google.colaboratory.intrinsic+json": {
              "type": "string"
            },
            "text/plain": [
              "'Insira uma frase aqui!'"
            ]
          },
          "metadata": {
            "tags": []
          },
          "execution_count": 12
        }
      ]
    },
    {
      "cell_type": "code",
      "metadata": {
        "collapsed": true,
        "id": "NS_-xqA2n--F",
        "colab": {
          "base_uri": "https://localhost:8080/"
        },
        "outputId": "0675e1ef-4df9-4ecb-d376-892618ebfe26"
      },
      "source": [
        "# Exercício 7 - Crie uma lista \"my_words\" com cada palavra da frase como elemento da lista\n",
        "my_words = my_str.split()\n",
        "my_words"
      ],
      "execution_count": null,
      "outputs": [
        {
          "output_type": "execute_result",
          "data": {
            "text/plain": [
              "['Insira', 'uma', 'frase', 'aqui!']"
            ]
          },
          "metadata": {
            "tags": []
          },
          "execution_count": 14
        }
      ]
    },
    {
      "cell_type": "markdown",
      "metadata": {
        "id": "K2tHMd08n--G"
      },
      "source": [
        "### Listas\n",
        "Além de olhar a documentação também faça pesquisas procurando por termos desconhecidos pesquisas em inglês costumam retornar mais resultador, porém também existem resultados em portugues. [Exemplo](https://letmegooglethat.com/?q=python+listas)"
      ]
    },
    {
      "cell_type": "code",
      "metadata": {
        "collapsed": true,
        "id": "TGejFGF-n--G"
      },
      "source": [
        "lista = [1, 23, 31, 40, 56, 16]"
      ],
      "execution_count": null,
      "outputs": []
    },
    {
      "cell_type": "code",
      "metadata": {
        "collapsed": true,
        "id": "eQvl9G6qn--G",
        "colab": {
          "base_uri": "https://localhost:8080/"
        },
        "outputId": "904b62dd-e532-4ceb-8e3b-6ab109ac673b"
      },
      "source": [
        "# Exercício 8 - Faça um for que imprima cada elemento da lista \"lista\" (Lembre-se que o for em python é um for each)\n",
        "for x in lista:\n",
        "  print(x)"
      ],
      "execution_count": null,
      "outputs": [
        {
          "output_type": "stream",
          "text": [
            "1\n",
            "23\n",
            "31\n",
            "40\n",
            "56\n",
            "16\n"
          ],
          "name": "stdout"
        }
      ]
    },
    {
      "cell_type": "code",
      "metadata": {
        "collapsed": true,
        "id": "CLbXSbosn--G",
        "colab": {
          "base_uri": "https://localhost:8080/"
        },
        "outputId": "e8f97bc3-e5bc-42d7-9456-4d0bdc38c38d"
      },
      "source": [
        "# Exercício 9 - Faça um for que imprima o dobro de cada elemento da lista \"lista\" \n",
        "for x in lista:\n",
        "  print(x*2)"
      ],
      "execution_count": null,
      "outputs": [
        {
          "output_type": "stream",
          "text": [
            "2\n",
            "46\n",
            "62\n",
            "80\n",
            "112\n",
            "32\n"
          ],
          "name": "stdout"
        }
      ]
    },
    {
      "cell_type": "code",
      "metadata": {
        "collapsed": true,
        "id": "5s3kdican--G",
        "colab": {
          "base_uri": "https://localhost:8080/"
        },
        "outputId": "7be6e1f9-e59b-4015-c1d5-d54927a4bf44"
      },
      "source": [
        "# Exercício 10 - Gere uma lista chamada \"dobro\" com o dobro de cada elemento de \"lista\" usando list comprehension\n",
        "dobro = [x*2 for x in lista]"
      ],
      "execution_count": null,
      "outputs": [
        {
          "output_type": "execute_result",
          "data": {
            "text/plain": [
              "[2, 46, 62, 80, 112, 32]"
            ]
          },
          "metadata": {
            "tags": []
          },
          "execution_count": 20
        }
      ]
    },
    {
      "cell_type": "code",
      "metadata": {
        "collapsed": true,
        "id": "b3LM2vSAn--H",
        "colab": {
          "base_uri": "https://localhost:8080/"
        },
        "outputId": "bce2bf1a-623f-450a-8c4b-52a66c3d112c"
      },
      "source": [
        "# Exercício 11 - Crie uma nova lista chamada \"pares\"\n",
        "# Faça um for que itetere sobre a lista \"lista\" e para cada elemento impar coloque ele no fim da lista \"pares\"\n",
        "# Imprima a lista \"pares\"\n",
        "pares=[]\n",
        "for x in lista:\n",
        "  if x % 2 == 0:\n",
        "    pares.insert(0,x)\n",
        "  else:\n",
        "    pares.append(x)\n",
        "pares"
      ],
      "execution_count": null,
      "outputs": [
        {
          "output_type": "execute_result",
          "data": {
            "text/plain": [
              "[16, 56, 40, 1, 23, 31]"
            ]
          },
          "metadata": {
            "tags": []
          },
          "execution_count": 22
        }
      ]
    },
    {
      "cell_type": "code",
      "metadata": {
        "collapsed": true,
        "id": "o3i0lvi2n--H"
      },
      "source": [
        "lista2 = ['oi', 2, 2.5, 'top', 'python', 45]"
      ],
      "execution_count": null,
      "outputs": []
    },
    {
      "cell_type": "code",
      "metadata": {
        "collapsed": true,
        "id": "guXgeS2Pn--H",
        "colab": {
          "base_uri": "https://localhost:8080/"
        },
        "outputId": "104cec25-0fd5-4f51-f7f4-4c7f251c78d4"
      },
      "source": [
        "# Exercício 12 - Faça um for pela \"lista2\" e imprima todos os elementos que são strings (Dica: pesquise pela função type())\n",
        "for x in lista2:\n",
        "  if type(x) == str:\n",
        "    print(x)\n",
        "  "
      ],
      "execution_count": null,
      "outputs": [
        {
          "output_type": "stream",
          "text": [
            "oi\n",
            "top\n",
            "python\n"
          ],
          "name": "stdout"
        }
      ]
    },
    {
      "cell_type": "markdown",
      "metadata": {
        "id": "ylHVmHaKn--H"
      },
      "source": [
        "#### Indexando"
      ]
    },
    {
      "cell_type": "code",
      "metadata": {
        "collapsed": true,
        "id": "cIckbm9bn--H"
      },
      "source": [
        "my_list = [0, 10, 20, 30, 40, 50, 60, 70]"
      ],
      "execution_count": null,
      "outputs": []
    },
    {
      "cell_type": "code",
      "metadata": {
        "collapsed": true,
        "id": "Vi0rJNn4n--I",
        "colab": {
          "base_uri": "https://localhost:8080/"
        },
        "outputId": "83c3d98e-5246-4952-8aef-3d50da676663"
      },
      "source": [
        "# Exercício 13 - Selecione o ultimo elemento da lista\n",
        "my_list[-1]"
      ],
      "execution_count": null,
      "outputs": [
        {
          "output_type": "execute_result",
          "data": {
            "text/plain": [
              "70"
            ]
          },
          "metadata": {
            "tags": []
          },
          "execution_count": 50
        }
      ]
    },
    {
      "cell_type": "code",
      "metadata": {
        "collapsed": true,
        "id": "JqtpIvd2n--I",
        "colab": {
          "base_uri": "https://localhost:8080/"
        },
        "outputId": "bdb812a1-d313-4536-e5d0-5fbad038079a"
      },
      "source": [
        "# Exercício 14 - Selecione do primeiro até o 4 elemento da lista\n",
        "my_list[:4]"
      ],
      "execution_count": null,
      "outputs": [
        {
          "output_type": "execute_result",
          "data": {
            "text/plain": [
              "[0, 10, 20, 30]"
            ]
          },
          "metadata": {
            "tags": []
          },
          "execution_count": 51
        }
      ]
    },
    {
      "cell_type": "code",
      "metadata": {
        "collapsed": true,
        "id": "gT6wK_C4n--I",
        "colab": {
          "base_uri": "https://localhost:8080/"
        },
        "outputId": "839b7575-957c-4e15-ff69-d581f5d4846a"
      },
      "source": [
        "# Exercício 15 - Selecione do segundo elemento da lista até o quinto\n",
        "my_list[1:5]"
      ],
      "execution_count": null,
      "outputs": [
        {
          "output_type": "execute_result",
          "data": {
            "text/plain": [
              "[10, 20, 30, 40]"
            ]
          },
          "metadata": {
            "tags": []
          },
          "execution_count": 48
        }
      ]
    },
    {
      "cell_type": "code",
      "metadata": {
        "collapsed": true,
        "id": "91edIhvsn--I",
        "colab": {
          "base_uri": "https://localhost:8080/"
        },
        "outputId": "90859119-ff66-4d21-e2d5-9909544e6899"
      },
      "source": [
        "# Exercício 16 - Selecione do primeiro elemento da lista até o penultimo\n",
        "my_list[:-1]"
      ],
      "execution_count": null,
      "outputs": [
        {
          "output_type": "execute_result",
          "data": {
            "text/plain": [
              "[0, 10, 20, 30, 40, 50, 60]"
            ]
          },
          "metadata": {
            "tags": []
          },
          "execution_count": 52
        }
      ]
    },
    {
      "cell_type": "markdown",
      "metadata": {
        "id": "lZ3OMy4en--I"
      },
      "source": [
        "### Dicionários"
      ]
    },
    {
      "cell_type": "code",
      "metadata": {
        "collapsed": true,
        "id": "kAEucsPbn--I"
      },
      "source": [
        "lista = ['a', 'a', 'b', 'a', 'c', 'd', 'e', 'b', 'b', 'c']"
      ],
      "execution_count": null,
      "outputs": []
    },
    {
      "cell_type": "code",
      "metadata": {
        "collapsed": true,
        "id": "u0d4h0k-n--J"
      },
      "source": [
        "# Exercício 17 - Crie um dicionario que contenha a contagem de cada elemento do vetor\n",
        "my_dict = {x:lista.count(x) for x in lista}\n"
      ],
      "execution_count": null,
      "outputs": []
    },
    {
      "cell_type": "code",
      "metadata": {
        "id": "5yELonzAn--J",
        "colab": {
          "base_uri": "https://localhost:8080/"
        },
        "outputId": "bbf6de23-eda0-4c8d-ed30-3f256c084e63"
      },
      "source": [
        "print(my_dict)"
      ],
      "execution_count": null,
      "outputs": [
        {
          "output_type": "stream",
          "text": [
            "{'a': 3, 'b': 3, 'c': 2, 'd': 1, 'e': 1}\n"
          ],
          "name": "stdout"
        }
      ]
    },
    {
      "cell_type": "markdown",
      "metadata": {
        "id": "omkufl_Nn--J"
      },
      "source": [
        "### Funções"
      ]
    },
    {
      "cell_type": "code",
      "metadata": {
        "collapsed": true,
        "id": "E8sslwBSn--J"
      },
      "source": [
        "# Exercício 18 - Crie uma função soma_elementos() que recebe uma lista e retorna a soma de todos os seus elementos\n",
        "def soma_elementos(lista):\n",
        "    return sum(lista)"
      ],
      "execution_count": null,
      "outputs": []
    },
    {
      "cell_type": "code",
      "metadata": {
        "id": "zYgTxeSQn--J",
        "colab": {
          "base_uri": "https://localhost:8080/"
        },
        "outputId": "e641b5b4-af78-4229-983d-9d191bfad5c1"
      },
      "source": [
        "soma_elementos([1, 2, 3, 4, 5])"
      ],
      "execution_count": null,
      "outputs": [
        {
          "output_type": "execute_result",
          "data": {
            "text/plain": [
              "15"
            ]
          },
          "metadata": {
            "tags": []
          },
          "execution_count": 66
        }
      ]
    },
    {
      "cell_type": "code",
      "metadata": {
        "id": "DkDS3nzOn--J",
        "colab": {
          "base_uri": "https://localhost:8080/"
        },
        "outputId": "e3b45693-70c9-4e4c-d8c3-acf279693ab4"
      },
      "source": [
        "soma_elementos([-1, 5, 7, -2])"
      ],
      "execution_count": null,
      "outputs": [
        {
          "output_type": "execute_result",
          "data": {
            "text/plain": [
              "9"
            ]
          },
          "metadata": {
            "tags": []
          },
          "execution_count": 67
        }
      ]
    },
    {
      "cell_type": "code",
      "metadata": {
        "collapsed": true,
        "id": "cDM8zIbQn--K"
      },
      "source": [
        "# Exercício 19 - Crie uma função produto_escalar() que recebe duas listas de tamanho igual e calcula o produto escalar entre elas\n",
        "# Dica: Utilize a função zip\n",
        "def produto_escalar(lista1,lista2):\n",
        "  return sum([x*y for x,y in zip(lista1,lista2)])"
      ],
      "execution_count": null,
      "outputs": []
    },
    {
      "cell_type": "code",
      "metadata": {
        "id": "U9AWD0Vmn--K",
        "colab": {
          "base_uri": "https://localhost:8080/"
        },
        "outputId": "14087a2c-d516-4a1b-a537-567edbd0af17"
      },
      "source": [
        "produto_escalar([1, 2, 3], [0, 4, 7])"
      ],
      "execution_count": null,
      "outputs": [
        {
          "output_type": "execute_result",
          "data": {
            "text/plain": [
              "29"
            ]
          },
          "metadata": {
            "tags": []
          },
          "execution_count": 76
        }
      ]
    },
    {
      "cell_type": "code",
      "metadata": {
        "collapsed": true,
        "id": "qDJ7EkFln--K",
        "colab": {
          "base_uri": "https://localhost:8080/"
        },
        "outputId": "f82aa6ef-70f7-4188-a094-5a0c9099e500"
      },
      "source": [
        "produto_escalar([10, 20, 40, 1], [23, 4, 2, 1])"
      ],
      "execution_count": null,
      "outputs": [
        {
          "output_type": "execute_result",
          "data": {
            "text/plain": [
              "391"
            ]
          },
          "metadata": {
            "tags": []
          },
          "execution_count": 77
        }
      ]
    },
    {
      "cell_type": "code",
      "metadata": {
        "collapsed": true,
        "id": "gF0wlUean--K"
      },
      "source": [
        "# Exercício 20 - Crie uma função par_ou_impar() que recebe um numero n é para cada numero de 1 a n imprime o numero\n",
        "# seguido de par ou impar, dependendo do que ele seja. Caso o usuário não coloque nada n deve valer 20\n",
        "# Exemplo: par_ou_impar(4)\n",
        "#   1 Impar\n",
        "#   2 Par\n",
        "#   3 Impar\n",
        "#   4 Par\n",
        "def par_ou_impar(n=20):\n",
        "  for x in range(1,n+1):\n",
        "    if x % 2 == 0:\n",
        "      print(str(x) + ' Par')\n",
        "    else:\n",
        "      print(str(x) + ' Impar')"
      ],
      "execution_count": null,
      "outputs": []
    },
    {
      "cell_type": "code",
      "metadata": {
        "collapsed": true,
        "id": "ha8O8jqfn--K",
        "colab": {
          "base_uri": "https://localhost:8080/"
        },
        "outputId": "1bb56c1a-7b43-4061-ac30-f5d766fcfb6d"
      },
      "source": [
        "par_ou_impar(15)"
      ],
      "execution_count": null,
      "outputs": [
        {
          "output_type": "stream",
          "text": [
            "1 Impar\n",
            "2 Par\n",
            "3 Impar\n",
            "4 Par\n",
            "5 Impar\n",
            "6 Par\n",
            "7 Impar\n",
            "8 Par\n",
            "9 Impar\n",
            "10 Par\n",
            "11 Impar\n",
            "12 Par\n",
            "13 Impar\n",
            "14 Par\n",
            "15 Impar\n"
          ],
          "name": "stdout"
        }
      ]
    },
    {
      "cell_type": "code",
      "metadata": {
        "collapsed": true,
        "id": "IJ0hDDC6n--L",
        "colab": {
          "base_uri": "https://localhost:8080/"
        },
        "outputId": "9c9f3cfc-3e5d-4953-8ba4-56b69a79bb6c"
      },
      "source": [
        "par_ou_impar()"
      ],
      "execution_count": null,
      "outputs": [
        {
          "output_type": "stream",
          "text": [
            "1 Impar\n",
            "2 Par\n",
            "3 Impar\n",
            "4 Par\n",
            "5 Impar\n",
            "6 Par\n",
            "7 Impar\n",
            "8 Par\n",
            "9 Impar\n",
            "10 Par\n",
            "11 Impar\n",
            "12 Par\n",
            "13 Impar\n",
            "14 Par\n",
            "15 Impar\n",
            "16 Par\n",
            "17 Impar\n",
            "18 Par\n",
            "19 Impar\n",
            "20 Par\n"
          ],
          "name": "stdout"
        }
      ]
    },
    {
      "cell_type": "code",
      "metadata": {
        "collapsed": true,
        "id": "UCMJ8dXbn--L"
      },
      "source": [
        "# Exercício 21 - Crie uma função diga_indice() que recebe uma lista e imprime o indice de cada elemento e em seguida \n",
        "# o proprio elemento\n",
        "# Exemplo: diga_indice(['oi', 'tudo', 'bem'])\n",
        "#    0 oi\n",
        "#    1 tudo\n",
        "#    2 bem\n",
        "# (DICA: Pesquise pela função enumerate)\n",
        "def diga_indice(lista):\n",
        "  for indice, elemento in enumerate(lista):\n",
        "    print(indice,elemento)"
      ],
      "execution_count": null,
      "outputs": []
    },
    {
      "cell_type": "code",
      "metadata": {
        "collapsed": true,
        "id": "DuJDAREpn--L",
        "colab": {
          "base_uri": "https://localhost:8080/"
        },
        "outputId": "a14eb6eb-e006-4cd7-924d-fff268bd8b02"
      },
      "source": [
        "diga_indice(['1', '2', '3'])"
      ],
      "execution_count": null,
      "outputs": [
        {
          "output_type": "stream",
          "text": [
            "0 1\n",
            "1 2\n",
            "2 3\n"
          ],
          "name": "stdout"
        }
      ]
    },
    {
      "cell_type": "code",
      "metadata": {
        "collapsed": true,
        "id": "t26YJqHun--L",
        "colab": {
          "base_uri": "https://localhost:8080/"
        },
        "outputId": "91d4998c-7e97-4ca9-8b30-394e3d02700f"
      },
      "source": [
        "diga_indice(['a', 'b', 'c', 'd', 'e'])"
      ],
      "execution_count": null,
      "outputs": [
        {
          "output_type": "stream",
          "text": [
            "0 a\n",
            "1 b\n",
            "2 c\n",
            "3 d\n",
            "4 e\n"
          ],
          "name": "stdout"
        }
      ]
    },
    {
      "cell_type": "markdown",
      "metadata": {
        "id": "EC7_smlWn--L"
      },
      "source": [
        "## Numpy\n",
        "\n",
        "O elemento central do numpy são os arrays, então aqui vamos treinar muitas coisas sobre eles\n",
        "\n",
        "[Documentação do numpy](https://numpy.org/devdocs/reference/index.html)\n",
        "\n",
        "Além de olhar a documentação também faça pesquisas procurando por termos desconhecidos pesquisas em inglês costumam retornar mais resultador, porém também existem resultados em portugues. [Exemplo](https://letmegooglethat.com/?q=numpy+shape)"
      ]
    },
    {
      "cell_type": "code",
      "metadata": {
        "collapsed": true,
        "id": "e7mjBkXMn--L"
      },
      "source": [
        "# Importando a biblioteca\n",
        "import numpy as np"
      ],
      "execution_count": null,
      "outputs": []
    },
    {
      "cell_type": "markdown",
      "metadata": {
        "id": "WMD_OkWIn--M"
      },
      "source": [
        "### Arrays"
      ]
    },
    {
      "cell_type": "code",
      "metadata": {
        "id": "wR2G0nKJn--M"
      },
      "source": [
        "a = np.array([1, 2, 3, 4, 5, 6, 7])\n",
        "\n",
        "b = np.array([[1, 2, 3, 4],\n",
        "              [5, 6, 7, 8]])\n",
        "\n",
        "c = np.zeros((3,4))"
      ],
      "execution_count": null,
      "outputs": []
    },
    {
      "cell_type": "code",
      "metadata": {
        "collapsed": true,
        "id": "T00h7BDen--M",
        "colab": {
          "base_uri": "https://localhost:8080/"
        },
        "outputId": "24c480c1-074a-4e6f-92db-9e4af1266207"
      },
      "source": [
        "# Exercício 22 - Pense em qual é a shape de cada um dos arrays acima\n",
        "# Depois de pensar imprima cada um deles para conferir sua resposta\n",
        "print(a.shape)\n",
        "print(b.shape)\n",
        "print(c.shape)"
      ],
      "execution_count": null,
      "outputs": [
        {
          "output_type": "stream",
          "text": [
            "(7,)\n",
            "(2, 4)\n",
            "(3, 4)\n"
          ],
          "name": "stdout"
        }
      ]
    },
    {
      "cell_type": "code",
      "metadata": {
        "collapsed": true,
        "id": "_9TUwp1Jn--M",
        "colab": {
          "base_uri": "https://localhost:8080/"
        },
        "outputId": "41a8601d-0115-4d43-b2f0-04cb1e666fbf"
      },
      "source": [
        "# Exercício 23 - Crie um array de uma dimensão com 20 elementos inteiros aletórios entre 0 e 23\n",
        "arr = np.random.randint(23, size=(20,))\n",
        "arr"
      ],
      "execution_count": null,
      "outputs": [
        {
          "output_type": "execute_result",
          "data": {
            "text/plain": [
              "array([ 3,  7,  6,  3, 10, 11,  8, 19, 20,  9, 15,  4,  5, 12, 16, 10, 20,\n",
              "       12, 10, 11])"
            ]
          },
          "metadata": {
            "tags": []
          },
          "execution_count": 36
        }
      ]
    },
    {
      "cell_type": "code",
      "metadata": {
        "collapsed": true,
        "id": "BlHN-Fj1n--M",
        "colab": {
          "base_uri": "https://localhost:8080/"
        },
        "outputId": "f72bf525-d075-4e3f-c6d5-fc888f3560b1"
      },
      "source": [
        "# Exercício 24 - Crie um array de uns com shape (4, 5)\n",
        "uns = np.ones((4,5))\n",
        "uns"
      ],
      "execution_count": null,
      "outputs": [
        {
          "output_type": "execute_result",
          "data": {
            "text/plain": [
              "array([[1., 1., 1., 1., 1.],\n",
              "       [1., 1., 1., 1., 1.],\n",
              "       [1., 1., 1., 1., 1.],\n",
              "       [1., 1., 1., 1., 1.]])"
            ]
          },
          "metadata": {
            "tags": []
          },
          "execution_count": 45
        }
      ]
    },
    {
      "cell_type": "code",
      "metadata": {
        "collapsed": true,
        "id": "I0tUlNHwn--M",
        "colab": {
          "base_uri": "https://localhost:8080/"
        },
        "outputId": "6da0bd5c-58fb-462e-e088-03f0069ca1a2"
      },
      "source": [
        "# Exercício 25 - Crie um array shape (4, 2) onde cada entrada vale 77\n",
        "# (Dica: Talvez vc tenha que usar uma multiplicação)\n",
        "arr = np.full((4, 2), 77)\n",
        "arr"
      ],
      "execution_count": null,
      "outputs": [
        {
          "output_type": "execute_result",
          "data": {
            "text/plain": [
              "array([[77, 77],\n",
              "       [77, 77],\n",
              "       [77, 77],\n",
              "       [77, 77]])"
            ]
          },
          "metadata": {
            "tags": []
          },
          "execution_count": 30
        }
      ]
    },
    {
      "cell_type": "code",
      "metadata": {
        "collapsed": true,
        "id": "WNtiavTBn--N",
        "colab": {
          "base_uri": "https://localhost:8080/"
        },
        "outputId": "aa90a74c-75d8-4fbb-8a00-1364e1bbd35b"
      },
      "source": [
        "# Exercício 26 - Gere um array chamado my_sequence com os numeros 0, 10, 20, 30, ..., 90, 100]\n",
        "my_sequence = np.arange(0,110,10)\n",
        "my_sequence"
      ],
      "execution_count": null,
      "outputs": [
        {
          "output_type": "execute_result",
          "data": {
            "text/plain": [
              "array([  0,  10,  20,  30,  40,  50,  60,  70,  80,  90, 100])"
            ]
          },
          "metadata": {
            "tags": []
          },
          "execution_count": 33
        }
      ]
    },
    {
      "cell_type": "markdown",
      "metadata": {
        "id": "9JlWxzCyn--N"
      },
      "source": [
        "### Indexando"
      ]
    },
    {
      "cell_type": "code",
      "metadata": {
        "id": "nrfHrWxAn--N",
        "colab": {
          "base_uri": "https://localhost:8080/"
        },
        "outputId": "7440a1c2-fff5-4b67-b628-bdd0681b89f9"
      },
      "source": [
        "my_array = np.random.randint(50, size=(15,))\n",
        "print(my_array)"
      ],
      "execution_count": null,
      "outputs": [
        {
          "output_type": "stream",
          "text": [
            "[34 49 43  1 19  9 20 38  4 28 38 33 28 36  6]\n"
          ],
          "name": "stdout"
        }
      ]
    },
    {
      "cell_type": "code",
      "metadata": {
        "collapsed": true,
        "id": "4OO_y1s7n--N",
        "colab": {
          "base_uri": "https://localhost:8080/"
        },
        "outputId": "df063eb6-e7af-4b7d-b6dc-cafa6fdcab6c"
      },
      "source": [
        "# Exercício 27 - Selecione todos os elementos entre o quinto e o decimo primeiro (intervalo fechado)\n",
        "my_array[4:11]"
      ],
      "execution_count": null,
      "outputs": [
        {
          "output_type": "execute_result",
          "data": {
            "text/plain": [
              "array([19,  9, 20, 38,  4, 28, 38])"
            ]
          },
          "metadata": {
            "tags": []
          },
          "execution_count": 40
        }
      ]
    },
    {
      "cell_type": "code",
      "metadata": {
        "collapsed": true,
        "id": "uyeIMaDjn--N",
        "colab": {
          "base_uri": "https://localhost:8080/"
        },
        "outputId": "03a7585e-1310-4d57-f143-0f6442f8b62c"
      },
      "source": [
        "# Exercício 28 - Selecione todos os elementos maiores que 20\n",
        "my_array[my_array>20]"
      ],
      "execution_count": null,
      "outputs": [
        {
          "output_type": "execute_result",
          "data": {
            "text/plain": [
              "array([34, 49, 43, 38, 28, 38, 33, 28, 36])"
            ]
          },
          "metadata": {
            "tags": []
          },
          "execution_count": 41
        }
      ]
    },
    {
      "cell_type": "code",
      "metadata": {
        "collapsed": true,
        "id": "3rribCLZn--N"
      },
      "source": [
        "my_matrix = np.array([[1, 2, 3, 4],\n",
        "                      [5, 6, 7, 8],\n",
        "                      [9, 10, 11, 12],\n",
        "                      [13, 14, 15, 16]])"
      ],
      "execution_count": null,
      "outputs": []
    },
    {
      "cell_type": "code",
      "metadata": {
        "collapsed": true,
        "id": "d6zbUzNPn--O",
        "colab": {
          "base_uri": "https://localhost:8080/"
        },
        "outputId": "7327cac5-5176-487e-b76b-217a92b1e9fa"
      },
      "source": [
        "# Exercício 29 - Selecione o elemento na primeira linha da terceira coluna\n",
        "my_matrix[0,2]"
      ],
      "execution_count": null,
      "outputs": [
        {
          "output_type": "execute_result",
          "data": {
            "text/plain": [
              "3"
            ]
          },
          "metadata": {
            "tags": []
          },
          "execution_count": 54
        }
      ]
    },
    {
      "cell_type": "code",
      "metadata": {
        "collapsed": true,
        "id": "vMI0UjfGn--O",
        "colab": {
          "base_uri": "https://localhost:8080/"
        },
        "outputId": "c211c680-81ef-4f13-e815-1635b0f16a03"
      },
      "source": [
        "# Exercício 30 - Selecione o elemento na primeira linha da ultima coluna\n",
        "my_matrix[0,-1]"
      ],
      "execution_count": null,
      "outputs": [
        {
          "output_type": "execute_result",
          "data": {
            "text/plain": [
              "4"
            ]
          },
          "metadata": {
            "tags": []
          },
          "execution_count": 55
        }
      ]
    },
    {
      "cell_type": "code",
      "metadata": {
        "collapsed": true,
        "id": "a2HjgVy5n--O",
        "colab": {
          "base_uri": "https://localhost:8080/"
        },
        "outputId": "d2f24b01-bfb2-49bf-ff02-bb25e4e2fdc4"
      },
      "source": [
        "# Exercício 31 - Selecione os elementos da matriz para obter o seguinte\n",
        "# [[6, 7],\n",
        "#  [10, 11]]\n",
        "my_matrix[1:3,1:3]"
      ],
      "execution_count": null,
      "outputs": [
        {
          "output_type": "execute_result",
          "data": {
            "text/plain": [
              "array([[ 6,  7],\n",
              "       [10, 11]])"
            ]
          },
          "metadata": {
            "tags": []
          },
          "execution_count": 58
        }
      ]
    },
    {
      "cell_type": "code",
      "metadata": {
        "collapsed": true,
        "id": "jA7uhfZWn--O",
        "colab": {
          "base_uri": "https://localhost:8080/"
        },
        "outputId": "e19e4061-fba0-4565-d825-bd2bf0da0e3e"
      },
      "source": [
        "# Exercício 32 - Selecione os elementos da matriz para obter o seguinte\n",
        "# [[2, 3, 4],\n",
        "#  [6, 7, 8]]\n",
        "my_matrix[0:2,1:]"
      ],
      "execution_count": null,
      "outputs": [
        {
          "output_type": "execute_result",
          "data": {
            "text/plain": [
              "array([[2, 3, 4],\n",
              "       [6, 7, 8]])"
            ]
          },
          "metadata": {
            "tags": []
          },
          "execution_count": 59
        }
      ]
    },
    {
      "cell_type": "code",
      "metadata": {
        "collapsed": true,
        "id": "3dim_w5En--O",
        "colab": {
          "base_uri": "https://localhost:8080/"
        },
        "outputId": "0f425c50-5c9e-41f6-8083-df6f4d938829"
      },
      "source": [
        "# Exercício 33 - Selecione os elementos da ultima coluna inteira\n",
        "my_matrix[:,-1]"
      ],
      "execution_count": null,
      "outputs": [
        {
          "output_type": "execute_result",
          "data": {
            "text/plain": [
              "array([ 4,  8, 12, 16])"
            ]
          },
          "metadata": {
            "tags": []
          },
          "execution_count": 65
        }
      ]
    },
    {
      "cell_type": "code",
      "metadata": {
        "collapsed": true,
        "id": "zIJcbtoTn--O",
        "colab": {
          "base_uri": "https://localhost:8080/"
        },
        "outputId": "276a1670-2fc4-4953-8c33-0ed5f814e6f6"
      },
      "source": [
        "# Exercício 34 - Selecione os elementos da 2a linha inteira\n",
        "my_matrix[1,:]"
      ],
      "execution_count": null,
      "outputs": [
        {
          "output_type": "execute_result",
          "data": {
            "text/plain": [
              "array([5, 6, 7, 8])"
            ]
          },
          "metadata": {
            "tags": []
          },
          "execution_count": 66
        }
      ]
    },
    {
      "cell_type": "markdown",
      "metadata": {
        "id": "pF-04yshIEe1"
      },
      "source": [
        "# Nova seção"
      ]
    },
    {
      "cell_type": "markdown",
      "metadata": {
        "id": "OCStsuYBn--O"
      },
      "source": [
        "### Operações"
      ]
    },
    {
      "cell_type": "code",
      "metadata": {
        "id": "YHNu99lXn--P",
        "colab": {
          "base_uri": "https://localhost:8080/"
        },
        "outputId": "81137869-1273-4bee-c97a-2f6c9983a42f"
      },
      "source": [
        "my_array = np.random.randint(10, size=(5,))\n",
        "print(my_array)"
      ],
      "execution_count": null,
      "outputs": [
        {
          "output_type": "stream",
          "text": [
            "[1 3 9 3 0]\n"
          ],
          "name": "stdout"
        }
      ]
    },
    {
      "cell_type": "code",
      "metadata": {
        "collapsed": true,
        "id": "us2z9CuRn--P",
        "colab": {
          "base_uri": "https://localhost:8080/"
        },
        "outputId": "9ccde3c3-3baa-4019-c08e-afca7e997f9e"
      },
      "source": [
        "# Exercício 35 - Some 10 a todos os elementos de my_array\n",
        "my_array + 10"
      ],
      "execution_count": null,
      "outputs": [
        {
          "output_type": "execute_result",
          "data": {
            "text/plain": [
              "array([12, 18, 11, 10, 13])"
            ]
          },
          "metadata": {
            "tags": []
          },
          "execution_count": 18
        }
      ]
    },
    {
      "cell_type": "code",
      "metadata": {
        "collapsed": true,
        "id": "gzWtL1fYn--P",
        "colab": {
          "base_uri": "https://localhost:8080/"
        },
        "outputId": "520731dd-9b33-4410-e8c3-526423ca57d9"
      },
      "source": [
        "# Exercício 36 - Multiplique todos os elementos de my_array por 4\n",
        "my_array * 4"
      ],
      "execution_count": null,
      "outputs": [
        {
          "output_type": "execute_result",
          "data": {
            "text/plain": [
              "array([ 8, 32,  4,  0, 12])"
            ]
          },
          "metadata": {
            "tags": []
          },
          "execution_count": 17
        }
      ]
    },
    {
      "cell_type": "code",
      "metadata": {
        "collapsed": true,
        "id": "ouX86I7Un--P",
        "colab": {
          "base_uri": "https://localhost:8080/"
        },
        "outputId": "cccc3414-4ad0-47c6-aa28-9d3a6228dbd3"
      },
      "source": [
        "# Exercício 37 - Obtenha a soma de todos os elementos de my_array\n",
        "np.sum(my_array)"
      ],
      "execution_count": null,
      "outputs": [
        {
          "output_type": "execute_result",
          "data": {
            "text/plain": [
              "15"
            ]
          },
          "metadata": {
            "tags": []
          },
          "execution_count": 8
        }
      ]
    },
    {
      "cell_type": "code",
      "metadata": {
        "collapsed": true,
        "id": "LMKVUppjn--P",
        "colab": {
          "base_uri": "https://localhost:8080/"
        },
        "outputId": "8d24e6ca-0511-48e5-ed00-4803b0629792"
      },
      "source": [
        "# Exercício 38 - Obtenha a média de todos os elementos de my_array\n",
        "np.mean(my_array)"
      ],
      "execution_count": null,
      "outputs": [
        {
          "output_type": "execute_result",
          "data": {
            "text/plain": [
              "3.0"
            ]
          },
          "metadata": {
            "tags": []
          },
          "execution_count": 10
        }
      ]
    },
    {
      "cell_type": "code",
      "metadata": {
        "collapsed": true,
        "id": "p1YeEkqXn--P",
        "colab": {
          "base_uri": "https://localhost:8080/"
        },
        "outputId": "e84ecb5f-624f-4804-99fd-49f4b0c035e0"
      },
      "source": [
        "# Exercício 39 - Obtenha o indice do maior elemento de my_array\n",
        "#my_array.where(max(my_array))\n",
        "np.argwhere(my_array == max(my_array))[0][0]"
      ],
      "execution_count": null,
      "outputs": [
        {
          "output_type": "execute_result",
          "data": {
            "text/plain": [
              "2"
            ]
          },
          "metadata": {
            "tags": []
          },
          "execution_count": 23
        }
      ]
    },
    {
      "cell_type": "code",
      "metadata": {
        "id": "m3zE02Uwn--P",
        "colab": {
          "base_uri": "https://localhost:8080/"
        },
        "outputId": "0d0574e7-9f62-41f5-b572-e5d2330a8202"
      },
      "source": [
        "my_array = np.random.randint(10, size=(5,))\n",
        "my_other_array = np.random.randint(10, size=(5,))\n",
        "print(my_array, '\\n')\n",
        "print(my_other_array)"
      ],
      "execution_count": null,
      "outputs": [
        {
          "output_type": "stream",
          "text": [
            "[2 2 9 2 5] \n",
            "\n",
            "[0 9 3 7 5]\n"
          ],
          "name": "stdout"
        }
      ]
    },
    {
      "cell_type": "code",
      "metadata": {
        "id": "VqbrtCQqn--Q",
        "colab": {
          "base_uri": "https://localhost:8080/"
        },
        "outputId": "3c86a364-fb9a-44b8-9f9c-6dc08ce8ebcc"
      },
      "source": [
        "my_array = np.random.randint(10, size=(5,))\n",
        "my_other_array = np.random.randint(10, size=(10,5))\n",
        "print(my_array, '\\n')\n",
        "print(my_other_array)"
      ],
      "execution_count": null,
      "outputs": [
        {
          "output_type": "stream",
          "text": [
            "[0 0 2 4 5] \n",
            "\n",
            "[[5 1 7 4 3]\n",
            " [2 3 0 4 2]\n",
            " [4 9 8 8 9]\n",
            " [4 8 3 8 1]\n",
            " [2 4 3 2 3]\n",
            " [5 1 5 0 3]\n",
            " [4 6 9 6 7]\n",
            " [0 4 9 6 5]\n",
            " [9 0 2 7 1]\n",
            " [5 9 4 7 1]]\n"
          ],
          "name": "stdout"
        }
      ]
    },
    {
      "cell_type": "code",
      "metadata": {
        "collapsed": true,
        "id": "dPcA3-Apn--Q",
        "colab": {
          "base_uri": "https://localhost:8080/"
        },
        "outputId": "3347130e-9b0b-4f51-ff08-13fa9234ba55"
      },
      "source": [
        "# Exercício 40 - Some my_array elemento por elemento em cada linha de my_other_array\n",
        "my_array + my_other_array"
      ],
      "execution_count": null,
      "outputs": [
        {
          "output_type": "execute_result",
          "data": {
            "text/plain": [
              "array([[ 5,  1,  9,  8,  8],\n",
              "       [ 2,  3,  2,  8,  7],\n",
              "       [ 4,  9, 10, 12, 14],\n",
              "       [ 4,  8,  5, 12,  6],\n",
              "       [ 2,  4,  5,  6,  8],\n",
              "       [ 5,  1,  7,  4,  8],\n",
              "       [ 4,  6, 11, 10, 12],\n",
              "       [ 0,  4, 11, 10, 10],\n",
              "       [ 9,  0,  4, 11,  6],\n",
              "       [ 5,  9,  6, 11,  6]])"
            ]
          },
          "metadata": {
            "tags": []
          },
          "execution_count": 26
        }
      ]
    },
    {
      "cell_type": "code",
      "metadata": {
        "id": "gWJW6kvyn--Q",
        "colab": {
          "base_uri": "https://localhost:8080/"
        },
        "outputId": "25ab18e9-9cb0-4fae-9f5b-3cb5bd981195"
      },
      "source": [
        "my_array = np.random.randint(10, size=(5,4))\n",
        "my_other_array = np.random.randint(10, size=(10,5))\n",
        "print(my_array, '\\n')\n",
        "print(my_other_array)"
      ],
      "execution_count": null,
      "outputs": [
        {
          "output_type": "stream",
          "text": [
            "[[7 0 2 6]\n",
            " [8 4 6 3]\n",
            " [1 3 8 4]\n",
            " [1 6 2 7]\n",
            " [7 9 7 4]] \n",
            "\n",
            "[[8 5 4 0 0]\n",
            " [8 0 9 2 7]\n",
            " [6 2 0 7 2]\n",
            " [0 9 9 2 4]\n",
            " [3 4 8 7 9]\n",
            " [8 9 8 7 2]\n",
            " [7 7 7 6 9]\n",
            " [5 0 5 8 3]\n",
            " [3 6 2 2 9]\n",
            " [3 6 5 1 2]]\n"
          ],
          "name": "stdout"
        }
      ]
    },
    {
      "cell_type": "code",
      "metadata": {
        "collapsed": true,
        "id": "jx3EDYkPn--Q",
        "colab": {
          "base_uri": "https://localhost:8080/"
        },
        "outputId": "4f8ceb8e-6567-4953-e9be-820787298636"
      },
      "source": [
        "# Exercício 41 - Faça a multiplicação entre my_other_array e my_array\n",
        "np.dot(my_other_array,my_array)"
      ],
      "execution_count": null,
      "outputs": [
        {
          "output_type": "execute_result",
          "data": {
            "text/plain": [
              "array([[100,  32,  78,  79],\n",
              "       [116, 102, 141, 126],\n",
              "       [ 79,  68,  52,  99],\n",
              "       [111, 111, 158,  93],\n",
              "       [131, 163, 171, 147],\n",
              "       [157, 120, 162, 164],\n",
              "       [181, 166, 187, 169],\n",
              "       [ 69,  90,  87, 118],\n",
              "       [136, 123, 125,  94],\n",
              "       [ 89,  63,  98,  71]])"
            ]
          },
          "metadata": {
            "tags": []
          },
          "execution_count": 35
        }
      ]
    },
    {
      "cell_type": "code",
      "metadata": {
        "collapsed": true,
        "id": "5Nhxb8Bbn--R",
        "colab": {
          "base_uri": "https://localhost:8080/"
        },
        "outputId": "7bb5b9e9-eaf5-487d-feb7-6991d2c7b398"
      },
      "source": [
        "# Exercício 42 - Descubra a soma dos valores de cada linha de my_other_array\n",
        "# (Dica: Pesquise sobre o atributo axis da função de soma)\n",
        "np.sum(my_other_array, axis=1)"
      ],
      "execution_count": null,
      "outputs": [
        {
          "output_type": "execute_result",
          "data": {
            "text/plain": [
              "array([17, 26, 17, 24, 31, 34, 36, 21, 22, 17])"
            ]
          },
          "metadata": {
            "tags": []
          },
          "execution_count": 36
        }
      ]
    },
    {
      "cell_type": "code",
      "metadata": {
        "id": "VCCEQOuSn--R",
        "colab": {
          "base_uri": "https://localhost:8080/"
        },
        "outputId": "888287d3-ff1c-4b16-8da4-033f661ac94a"
      },
      "source": [
        "my_array = np.random.randint(10, size=(5,4))\n",
        "print(my_array)"
      ],
      "execution_count": null,
      "outputs": [
        {
          "output_type": "stream",
          "text": [
            "[[6 0 5 8]\n",
            " [5 2 5 3]\n",
            " [9 5 2 7]\n",
            " [5 6 4 3]\n",
            " [9 9 2 5]]\n"
          ],
          "name": "stdout"
        }
      ]
    },
    {
      "cell_type": "code",
      "metadata": {
        "collapsed": true,
        "id": "Qb8ceHBUn--R",
        "colab": {
          "base_uri": "https://localhost:8080/"
        },
        "outputId": "313c366c-1531-497e-d606-4e100cc7398d"
      },
      "source": [
        "# Exercício 43 - Usando reshape transforme a matriz acima em um vetor (Concatendo a linha de baixo na de cima)\n",
        "np.reshape(my_array,my_array.size)"
      ],
      "execution_count": null,
      "outputs": [
        {
          "output_type": "execute_result",
          "data": {
            "text/plain": [
              "array([6, 0, 5, 8, 5, 2, 5, 3, 9, 5, 2, 7, 5, 6, 4, 3, 9, 9, 2, 5])"
            ]
          },
          "metadata": {
            "tags": []
          },
          "execution_count": 38
        }
      ]
    },
    {
      "cell_type": "code",
      "metadata": {
        "id": "pNhy3mMDn--R",
        "colab": {
          "base_uri": "https://localhost:8080/"
        },
        "outputId": "8390c095-a3b8-4562-d84d-2a4e96fcef53"
      },
      "source": [
        "np.array([[ 0,  1,  2,  3,  4,  5,  6,  7],\n",
        "          [ 8,  9, 10, 11, 12, 13, 14, 15]])"
      ],
      "execution_count": null,
      "outputs": [
        {
          "output_type": "execute_result",
          "data": {
            "text/plain": [
              "array([[ 0,  1,  2,  3,  4,  5,  6,  7],\n",
              "       [ 8,  9, 10, 11, 12, 13, 14, 15]])"
            ]
          },
          "metadata": {
            "tags": []
          },
          "execution_count": 39
        }
      ]
    },
    {
      "cell_type": "code",
      "metadata": {
        "collapsed": true,
        "id": "FxeIXLuyn--R",
        "colab": {
          "base_uri": "https://localhost:8080/"
        },
        "outputId": "dc960558-eaa3-41bf-8008-b15c5278b64e"
      },
      "source": [
        "# Exercício 44 - Gere a array anterior usando np.arange e a função reshape\n",
        "np.reshape(np.arange(0, 16, 1),(2,8))"
      ],
      "execution_count": null,
      "outputs": [
        {
          "output_type": "execute_result",
          "data": {
            "text/plain": [
              "array([[ 0,  1,  2,  3,  4,  5,  6,  7],\n",
              "       [ 8,  9, 10, 11, 12, 13, 14, 15]])"
            ]
          },
          "metadata": {
            "tags": []
          },
          "execution_count": 43
        }
      ]
    },
    {
      "cell_type": "code",
      "metadata": {
        "id": "g7qF5UGN62AL"
      },
      "source": [
        ""
      ],
      "execution_count": null,
      "outputs": []
    }
  ]
}