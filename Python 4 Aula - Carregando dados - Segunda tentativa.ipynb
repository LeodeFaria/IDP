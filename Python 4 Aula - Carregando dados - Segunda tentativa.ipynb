{
  "nbformat": 4,
  "nbformat_minor": 0,
  "metadata": {
    "kernelspec": {
      "display_name": "Python 3",
      "language": "python",
      "name": "python3"
    },
    "language_info": {
      "codemirror_mode": {
        "name": "ipython",
        "version": 3
      },
      "file_extension": ".py",
      "mimetype": "text/x-python",
      "name": "python",
      "nbconvert_exporter": "python",
      "pygments_lexer": "ipython3",
      "version": "3.8.5"
    },
    "colab": {
      "name": "4 Aula - Carregando dados.ipynb",
      "provenance": []
    }
  },
  "cells": [
    {
      "cell_type": "code",
      "metadata": {
        "id": "UXPShPcHBHaX"
      },
      "source": [
        "import pandas as pd\n",
        "\n",
        "%load_ext google.colab.data_table\n",
        "\n",
        "#!pip install unidecode\n",
        "\n",
        "from unidecode import unidecode"
      ],
      "execution_count": null,
      "outputs": []
    },
    {
      "cell_type": "code",
      "metadata": {
        "id": "lseTQdrEBLWJ"
      },
      "source": [
        "from google.colab import drive\n",
        "drive.mount('/content/drive')"
      ],
      "execution_count": null,
      "outputs": []
    },
    {
      "cell_type": "code",
      "metadata": {
        "id": "9MzR9orOBHah"
      },
      "source": [
        "#df2 = pd.read_csv('./files/pasta1.csv',\n",
        "#                delimiter=';', decimal=',',encoding='utf8')\n",
        "\n",
        "#senado = pd.read_csv('./files/SF_ConsultaRemuneracaoServidoresParlamentares_202103.csv',\n",
        "#                delimiter=';', decimal=',',encoding='ISO-8859-1')\n",
        "\n",
        "senado = pd.read_csv('/content/drive/MyDrive/IDP -BigData/SF_ConsultaRemuneracaoServidoresParlamentares_202103.csv',\n",
        "                delimiter=';', decimal=',',encoding='ISO-8859-1')\n"
      ],
      "execution_count": null,
      "outputs": []
    },
    {
      "cell_type": "code",
      "metadata": {
        "id": "4l8rCOccBHai"
      },
      "source": [
        "# df inicial\n",
        "senado = senado[['LOTAÇÃO EXERCÍCIO','REM_LIQUIDA','CATEGORIA']]\n",
        "\n",
        "senado['LOTAÇÃO EXERCÍCIO'] = senado[senado['LOTAÇÃO EXERCÍCIO'].str.contains('Senador')]\n",
        "\n",
        "senado = senado.dropna()\n",
        "\n",
        "senado['LOTAÇÃO EXERCÍCIO'] = senado['LOTAÇÃO EXERCÍCIO'].str.lower()\n",
        "\n",
        "senado['LOTAÇÃO EXERCÍCIO'] = senado['LOTAÇÃO EXERCÍCIO'].str.replace('senadora','senador')\n",
        "\n",
        "senado['LOTAÇÃO EXERCÍCIO'] = senado['LOTAÇÃO EXERCÍCIO'].replace(to_replace=r'^.*?senador', value='', regex=True)\n",
        "\n",
        "senado['LOTAÇÃO EXERCÍCIO'] = senado['LOTAÇÃO EXERCÍCIO'].apply(unidecode)\n",
        "\n",
        "senado = senado.dropna()"
      ],
      "execution_count": null,
      "outputs": []
    },
    {
      "cell_type": "code",
      "metadata": {
        "id": "mIEinKNI3lbm"
      },
      "source": [
        "# Sem senador\n",
        "lotacaoSemParlamentar = senado[~senado['CATEGORIA'].str.contains('PARLAMENTAR')]\n",
        "\n",
        "lotacaoSemParlamentar = lotacaoSemParlamentar.dropna()"
      ],
      "execution_count": null,
      "outputs": []
    },
    {
      "cell_type": "code",
      "metadata": {
        "id": "A-osDbPZvGvJ"
      },
      "source": [
        "# Só Senador\n",
        "lotacaoSenador = senado[['LOTAÇÃO EXERCÍCIO','REM_LIQUIDA','CATEGORIA']]\n",
        "\n",
        "lotacaoSenador['LOTAÇÃO EXERCÍCIO'] = lotacaoSenador[lotacaoSenador['CATEGORIA'].str.match('PARLAMENTAR')]\n",
        "\n",
        "lotacaoSenador = lotacaoSenador.dropna()"
      ],
      "execution_count": null,
      "outputs": []
    },
    {
      "cell_type": "code",
      "metadata": {
        "id": "T3VuLzDfudHg"
      },
      "source": [
        "senado_final = senado[['LOTAÇÃO EXERCÍCIO','REM_LIQUIDA']]\n",
        "\n",
        "senado_final_servidores = senado_final.groupby('LOTAÇÃO EXERCÍCIO').count()\n",
        "\n",
        "senado_final = senado_final.groupby('LOTAÇÃO EXERCÍCIO').sum()\n",
        "\n",
        "senado_final['Qtd_servidores'] = senado_final_servidores\n",
        "\n",
        "senado_final.sort_values('REM_LIQUIDA',ascending=False)"
      ],
      "execution_count": null,
      "outputs": []
    },
    {
      "cell_type": "code",
      "metadata": {
        "id": "pSR1JfiPBHaj"
      },
      "source": [
        "# consolidado = senado[['VÍNCULO','REM_LIQUIDA']].groupby('VÍNCULO').count()\n",
        "# consolidado.rename(columns = {'REM_LIQUIDA' : 'TOTAL_VINCULO'}, inplace = True)\n",
        "# consolidado['PORCENTAGEM_VINCULO'] = ((consolidado['TOTAL_VINCULO']/consolidado['TOTAL_VINCULO'].sum())*100).round(2).astype(str) + '%'\n",
        "# consolidado['REM_LIQUIDA_TOTAL'] = senado[['VÍNCULO','REM_LIQUIDA']].groupby('VÍNCULO').sum()['REM_LIQUIDA'].round(2)\n",
        "# consolidado['PORCENTAGEM_REM_LIQUIDA'] = ((consolidado['REM_LIQUIDA_TOTAL']/consolidado['REM_LIQUIDA_TOTAL'].sum())*100).round(2).astype(str) + '%'\n",
        "# consolidado"
      ],
      "execution_count": null,
      "outputs": []
    },
    {
      "cell_type": "code",
      "metadata": {
        "id": "zgQN312MBHai"
      },
      "source": [
        "# categoria = senado[['CATEGORIA','REM_LIQUIDA']]\n",
        "\n",
        "# a = categoria.groupby('CATEGORIA').sum()\n",
        "# a['Qtd_SERIDORES'] = categoria.groupby('CATEGORIA').count()\n",
        "# a['Pct_SERIDORES'] = ((a['Qtd_SERIDORES']/a['Qtd_SERIDORES'].sum())*100).round(2).astype(str) + '%'\n",
        "# a['Pct_GASTO']     = ((a['REM_LIQUIDA']/a['REM_LIQUIDA'].sum())*100).round(2).astype(str) + '%'\n",
        "# a\n",
        "# # Queria a linha de total\n"
      ],
      "execution_count": null,
      "outputs": []
    }
  ]
}